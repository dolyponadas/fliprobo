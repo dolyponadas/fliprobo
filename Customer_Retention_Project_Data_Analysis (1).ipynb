{
 "cells": [
  {
   "cell_type": "markdown",
   "metadata": {},
   "source": [
    "This dataset is a case study from Indian e-commerce customers.\n",
    "Customer satisfaction has emerged as one of the most important factors that guarantee the success of online store; it has been posited as a key stimulant of purchase, repurchase intentions and customer loyalty. \n",
    "The data is collected from the Indian online shoppers. \n",
    "\n",
    "Results indicate the e-retail success factors, which are very much critical for customer satisfaction."
   ]
  },
  {
   "cell_type": "code",
   "execution_count": 270,
   "metadata": {},
   "outputs": [],
   "source": [
    "#Importing the dataset\n",
    "import numpy as np\n",
    "import pandas as pd\n",
    "import seaborn as sns\n",
    "import matplotlib.pyplot as plt\n",
    "import sklearn\n",
    "from scipy.stats import zscore\n",
    "import warnings\n",
    "warnings.filterwarnings('ignore')"
   ]
  },
  {
   "cell_type": "code",
   "execution_count": 271,
   "metadata": {},
   "outputs": [],
   "source": [
    "#Loading the dataset\n",
    "df=pd.read_excel('customer_retention_dataset.xlsx')"
   ]
  },
  {
   "cell_type": "code",
   "execution_count": 272,
   "metadata": {},
   "outputs": [
    {
     "data": {
      "text/html": [
       "<div>\n",
       "<style scoped>\n",
       "    .dataframe tbody tr th:only-of-type {\n",
       "        vertical-align: middle;\n",
       "    }\n",
       "\n",
       "    .dataframe tbody tr th {\n",
       "        vertical-align: top;\n",
       "    }\n",
       "\n",
       "    .dataframe thead th {\n",
       "        text-align: right;\n",
       "    }\n",
       "</style>\n",
       "<table border=\"1\" class=\"dataframe\">\n",
       "  <thead>\n",
       "    <tr style=\"text-align: right;\">\n",
       "      <th></th>\n",
       "      <th>1Gender of respondent</th>\n",
       "      <th>2 How old are you?</th>\n",
       "      <th>3 Which city do you shop online from?</th>\n",
       "      <th>4 What is the Pin Code of where you shop online from?</th>\n",
       "      <th>5 Since How Long You are Shopping Online ?</th>\n",
       "      <th>6 How many times you have made an online purchase in the past 1 year?</th>\n",
       "      <th>7 How do you access the internet while shopping on-line?</th>\n",
       "      <th>8 Which device do you use to access the online shopping?</th>\n",
       "      <th>9 What is the screen size of your mobile device?\\t\\t\\t\\t\\t\\t</th>\n",
       "      <th>10 What is the operating system (OS) of your device?\\t\\t\\t\\t</th>\n",
       "      <th>...</th>\n",
       "      <th>Longer time to get logged in (promotion, sales period)</th>\n",
       "      <th>Longer time in displaying graphics and photos (promotion, sales period)</th>\n",
       "      <th>Late declaration of price (promotion, sales period)</th>\n",
       "      <th>Longer page loading time (promotion, sales period)</th>\n",
       "      <th>Limited mode of payment on most products (promotion, sales period)</th>\n",
       "      <th>Longer delivery period</th>\n",
       "      <th>Change in website/Application design</th>\n",
       "      <th>Frequent disruption when moving from one page to another</th>\n",
       "      <th>Website is as efficient as before</th>\n",
       "      <th>Which of the Indian online retailer would you recommend to a friend?</th>\n",
       "    </tr>\n",
       "  </thead>\n",
       "  <tbody>\n",
       "    <tr>\n",
       "      <th>0</th>\n",
       "      <td>Male</td>\n",
       "      <td>31-40 years</td>\n",
       "      <td>Delhi</td>\n",
       "      <td>110009</td>\n",
       "      <td>Above 4 years</td>\n",
       "      <td>31-40 times</td>\n",
       "      <td>Dial-up</td>\n",
       "      <td>Desktop</td>\n",
       "      <td>Others</td>\n",
       "      <td>Window/windows Mobile</td>\n",
       "      <td>...</td>\n",
       "      <td>Amazon.in</td>\n",
       "      <td>Amazon.in</td>\n",
       "      <td>Flipkart.com</td>\n",
       "      <td>Flipkart.com</td>\n",
       "      <td>Amazon.in</td>\n",
       "      <td>Paytm.com</td>\n",
       "      <td>Flipkart.com</td>\n",
       "      <td>Amazon.in</td>\n",
       "      <td>Amazon.in</td>\n",
       "      <td>Flipkart.com</td>\n",
       "    </tr>\n",
       "    <tr>\n",
       "      <th>1</th>\n",
       "      <td>Female</td>\n",
       "      <td>21-30 years</td>\n",
       "      <td>Delhi</td>\n",
       "      <td>110030</td>\n",
       "      <td>Above 4 years</td>\n",
       "      <td>41 times and above</td>\n",
       "      <td>Wi-Fi</td>\n",
       "      <td>Smartphone</td>\n",
       "      <td>4.7 inches</td>\n",
       "      <td>IOS/Mac</td>\n",
       "      <td>...</td>\n",
       "      <td>Amazon.in, Flipkart.com</td>\n",
       "      <td>Myntra.com</td>\n",
       "      <td>snapdeal.com</td>\n",
       "      <td>Snapdeal.com</td>\n",
       "      <td>Snapdeal.com</td>\n",
       "      <td>Snapdeal.com</td>\n",
       "      <td>Amazon.in</td>\n",
       "      <td>Myntra.com</td>\n",
       "      <td>Amazon.in, Flipkart.com</td>\n",
       "      <td>Amazon.in, Myntra.com</td>\n",
       "    </tr>\n",
       "    <tr>\n",
       "      <th>2</th>\n",
       "      <td>Female</td>\n",
       "      <td>21-30 years</td>\n",
       "      <td>Greater Noida</td>\n",
       "      <td>201308</td>\n",
       "      <td>3-4 years</td>\n",
       "      <td>41 times and above</td>\n",
       "      <td>Mobile Internet</td>\n",
       "      <td>Smartphone</td>\n",
       "      <td>5.5 inches</td>\n",
       "      <td>Android</td>\n",
       "      <td>...</td>\n",
       "      <td>Myntra.com</td>\n",
       "      <td>Myntra.com</td>\n",
       "      <td>Myntra.com</td>\n",
       "      <td>Myntra.com</td>\n",
       "      <td>Amazon.in</td>\n",
       "      <td>Paytm.com</td>\n",
       "      <td>Paytm.com</td>\n",
       "      <td>Paytm.com</td>\n",
       "      <td>Amazon.in</td>\n",
       "      <td>Amazon.in, Paytm.com, Myntra.com</td>\n",
       "    </tr>\n",
       "    <tr>\n",
       "      <th>3</th>\n",
       "      <td>Male</td>\n",
       "      <td>21-30 years</td>\n",
       "      <td>Karnal</td>\n",
       "      <td>132001</td>\n",
       "      <td>3-4 years</td>\n",
       "      <td>Less than 10 times</td>\n",
       "      <td>Mobile Internet</td>\n",
       "      <td>Smartphone</td>\n",
       "      <td>5.5 inches</td>\n",
       "      <td>IOS/Mac</td>\n",
       "      <td>...</td>\n",
       "      <td>Snapdeal.com</td>\n",
       "      <td>Myntra.com, Snapdeal.com</td>\n",
       "      <td>Myntra.com</td>\n",
       "      <td>Paytm.com</td>\n",
       "      <td>Paytm.com</td>\n",
       "      <td>Paytm.com</td>\n",
       "      <td>Amazon.in, Flipkart.com</td>\n",
       "      <td>Amazon.in, Flipkart.com</td>\n",
       "      <td>Amazon.in, Flipkart.com, Paytm.com</td>\n",
       "      <td>Amazon.in, Flipkart.com</td>\n",
       "    </tr>\n",
       "    <tr>\n",
       "      <th>4</th>\n",
       "      <td>Female</td>\n",
       "      <td>21-30 years</td>\n",
       "      <td>Bangalore</td>\n",
       "      <td>530068</td>\n",
       "      <td>2-3 years</td>\n",
       "      <td>11-20 times</td>\n",
       "      <td>Wi-Fi</td>\n",
       "      <td>Smartphone</td>\n",
       "      <td>4.7 inches</td>\n",
       "      <td>IOS/Mac</td>\n",
       "      <td>...</td>\n",
       "      <td>Flipkart.com, Paytm.com</td>\n",
       "      <td>Paytm.com</td>\n",
       "      <td>Paytm.com</td>\n",
       "      <td>Paytm.com</td>\n",
       "      <td>Snapdeal.com</td>\n",
       "      <td>Paytm.com</td>\n",
       "      <td>Amazon.in</td>\n",
       "      <td>Snapdeal.com</td>\n",
       "      <td>Paytm.com</td>\n",
       "      <td>Amazon.in, Myntra.com</td>\n",
       "    </tr>\n",
       "  </tbody>\n",
       "</table>\n",
       "<p>5 rows × 71 columns</p>\n",
       "</div>"
      ],
      "text/plain": [
       "  1Gender of respondent 2 How old are you?   \\\n",
       "0                  Male         31-40 years   \n",
       "1                Female         21-30 years   \n",
       "2                Female         21-30 years   \n",
       "3                  Male         21-30 years   \n",
       "4                Female         21-30 years   \n",
       "\n",
       "  3 Which city do you shop online from?  \\\n",
       "0                                 Delhi   \n",
       "1                                 Delhi   \n",
       "2                         Greater Noida   \n",
       "3                               Karnal    \n",
       "4                            Bangalore    \n",
       "\n",
       "   4 What is the Pin Code of where you shop online from?  \\\n",
       "0                                             110009       \n",
       "1                                             110030       \n",
       "2                                             201308       \n",
       "3                                             132001       \n",
       "4                                             530068       \n",
       "\n",
       "  5 Since How Long You are Shopping Online ?  \\\n",
       "0                              Above 4 years   \n",
       "1                              Above 4 years   \n",
       "2                                  3-4 years   \n",
       "3                                  3-4 years   \n",
       "4                                  2-3 years   \n",
       "\n",
       "  6 How many times you have made an online purchase in the past 1 year?  \\\n",
       "0                                        31-40 times                      \n",
       "1                                 41 times and above                      \n",
       "2                                 41 times and above                      \n",
       "3                                 Less than 10 times                      \n",
       "4                                        11-20 times                      \n",
       "\n",
       "  7 How do you access the internet while shopping on-line?  \\\n",
       "0                                            Dial-up         \n",
       "1                                              Wi-Fi         \n",
       "2                                    Mobile Internet         \n",
       "3                                    Mobile Internet         \n",
       "4                                              Wi-Fi         \n",
       "\n",
       "  8 Which device do you use to access the online shopping?  \\\n",
       "0                                            Desktop         \n",
       "1                                         Smartphone         \n",
       "2                                         Smartphone         \n",
       "3                                         Smartphone         \n",
       "4                                         Smartphone         \n",
       "\n",
       "  9 What is the screen size of your mobile device?\\t\\t\\t\\t\\t\\t                                          \\\n",
       "0                                             Others                                                     \n",
       "1                                         4.7 inches                                                     \n",
       "2                                         5.5 inches                                                     \n",
       "3                                         5.5 inches                                                     \n",
       "4                                         4.7 inches                                                     \n",
       "\n",
       "  10 What is the operating system (OS) of your device?\\t\\t\\t\\t                                            \\\n",
       "0                              Window/windows Mobile                                                       \n",
       "1                                            IOS/Mac                                                       \n",
       "2                                            Android                                                       \n",
       "3                                            IOS/Mac                                                       \n",
       "4                                            IOS/Mac                                                       \n",
       "\n",
       "   ... Longer time to get logged in (promotion, sales period)  \\\n",
       "0  ...                                          Amazon.in       \n",
       "1  ...                            Amazon.in, Flipkart.com       \n",
       "2  ...                                         Myntra.com       \n",
       "3  ...                                       Snapdeal.com       \n",
       "4  ...                            Flipkart.com, Paytm.com       \n",
       "\n",
       "  Longer time in displaying graphics and photos (promotion, sales period)  \\\n",
       "0                                          Amazon.in                        \n",
       "1                                         Myntra.com                        \n",
       "2                                         Myntra.com                        \n",
       "3                           Myntra.com, Snapdeal.com                        \n",
       "4                                          Paytm.com                        \n",
       "\n",
       "  Late declaration of price (promotion, sales period)  \\\n",
       "0                                       Flipkart.com    \n",
       "1                                       snapdeal.com    \n",
       "2                                         Myntra.com    \n",
       "3                                         Myntra.com    \n",
       "4                                          Paytm.com    \n",
       "\n",
       "  Longer page loading time (promotion, sales period)  \\\n",
       "0                                       Flipkart.com   \n",
       "1                                       Snapdeal.com   \n",
       "2                                         Myntra.com   \n",
       "3                                          Paytm.com   \n",
       "4                                          Paytm.com   \n",
       "\n",
       "  Limited mode of payment on most products (promotion, sales period)  \\\n",
       "0                                          Amazon.in                   \n",
       "1                                       Snapdeal.com                   \n",
       "2                                          Amazon.in                   \n",
       "3                                          Paytm.com                   \n",
       "4                                       Snapdeal.com                   \n",
       "\n",
       "  Longer delivery period Change in website/Application design  \\\n",
       "0              Paytm.com                         Flipkart.com   \n",
       "1           Snapdeal.com                            Amazon.in   \n",
       "2              Paytm.com                            Paytm.com   \n",
       "3              Paytm.com              Amazon.in, Flipkart.com   \n",
       "4              Paytm.com                            Amazon.in   \n",
       "\n",
       "  Frequent disruption when moving from one page to another  \\\n",
       "0                                          Amazon.in         \n",
       "1                                         Myntra.com         \n",
       "2                                          Paytm.com         \n",
       "3                            Amazon.in, Flipkart.com         \n",
       "4                                       Snapdeal.com         \n",
       "\n",
       "    Website is as efficient as before  \\\n",
       "0                           Amazon.in   \n",
       "1             Amazon.in, Flipkart.com   \n",
       "2                           Amazon.in   \n",
       "3  Amazon.in, Flipkart.com, Paytm.com   \n",
       "4                           Paytm.com   \n",
       "\n",
       "  Which of the Indian online retailer would you recommend to a friend?  \n",
       "0                                       Flipkart.com                    \n",
       "1                              Amazon.in, Myntra.com                    \n",
       "2                   Amazon.in, Paytm.com, Myntra.com                    \n",
       "3                            Amazon.in, Flipkart.com                    \n",
       "4                              Amazon.in, Myntra.com                    \n",
       "\n",
       "[5 rows x 71 columns]"
      ]
     },
     "execution_count": 272,
     "metadata": {},
     "output_type": "execute_result"
    }
   ],
   "source": [
    "df.head()  #Checking the first 5 rows"
   ]
  },
  {
   "cell_type": "markdown",
   "metadata": {},
   "source": [
    "# Data Analysis"
   ]
  },
  {
   "cell_type": "code",
   "execution_count": 273,
   "metadata": {},
   "outputs": [
    {
     "data": {
      "text/plain": [
       "Index(['1Gender of respondent', '2 How old are you? ',\n",
       "       '3 Which city do you shop online from?',\n",
       "       '4 What is the Pin Code of where you shop online from?',\n",
       "       '5 Since How Long You are Shopping Online ?',\n",
       "       '6 How many times you have made an online purchase in the past 1 year?',\n",
       "       '7 How do you access the internet while shopping on-line?',\n",
       "       '8 Which device do you use to access the online shopping?',\n",
       "       '9 What is the screen size of your mobile device?\\t\\t\\t\\t\\t\\t                                        ',\n",
       "       '10 What is the operating system (OS) of your device?\\t\\t\\t\\t                                          ',\n",
       "       '11 What browser do you run on your device to access the website?\\t\\t\\t                                                          ',\n",
       "       '12 Which channel did you follow to arrive at your favorite online store for the first time?                                                                   ',\n",
       "       '13 After first visit, how do you reach the online retail store?\\t\\t\\t\\t                                                   ',\n",
       "       '14 How much time do you explore the e- retail store before making a purchase decision?                                                                   ',\n",
       "       '15 What is your preferred payment Option?\\t\\t\\t\\t\\t                                                                                                                               ',\n",
       "       '16 How frequently do you abandon (selecting an items and leaving without making payment) your shopping cart?\\t\\t\\t\\t\\t\\t\\t                                                   ',\n",
       "       '17 Why did you abandon the “Bag”, “Shopping Cart”?\\t\\t\\t\\t\\t                                                                                                                                                       ',\n",
       "       '18 The content on the website must be easy to read and understand',\n",
       "       '19 Information on similar product to the one highlighted  is important for product comparison',\n",
       "       '20 Complete information on listed seller and product being offered is important for purchase decision.',\n",
       "       '21 All relevant information on listed products must be stated clearly',\n",
       "       '22 Ease of navigation in website', '23 Loading and processing speed',\n",
       "       '24 User friendly Interface of the website',\n",
       "       '25 Convenient Payment methods',\n",
       "       '26 Trust that the online retail store will fulfill its part of the transaction at the stipulated time',\n",
       "       '27 Empathy (readiness to assist with queries) towards the customers',\n",
       "       '28 Being able to guarantee the privacy of the customer',\n",
       "       '29 Responsiveness, availability of several communication channels (email, online rep, twitter, phone etc.)',\n",
       "       '30 Online shopping gives monetary benefit and discounts',\n",
       "       '31 Enjoyment is derived from shopping online',\n",
       "       '32 Shopping online is convenient and flexible',\n",
       "       '33 Return and replacement policy of the e-tailer is important for purchase decision',\n",
       "       '34 Gaining access to loyalty programs is a benefit of shopping online',\n",
       "       '35 Displaying quality Information on the website improves satisfaction of customers',\n",
       "       '36 User derive satisfaction while shopping on a good quality website or application',\n",
       "       '37 Net Benefit derived from shopping online can lead to users satisfaction',\n",
       "       '38 User satisfaction cannot exist without trust',\n",
       "       '39 Offering a wide variety of listed product in several category',\n",
       "       '40 Provision of complete and relevant product information',\n",
       "       '41 Monetary savings',\n",
       "       '42 The Convenience of patronizing the online retailer',\n",
       "       '43 Shopping on the website gives you the sense of adventure',\n",
       "       '44 Shopping on your preferred e-tailer enhances your social status',\n",
       "       '45 You feel gratification shopping on your favorite e-tailer',\n",
       "       '46 Shopping on the website helps you fulfill certain roles',\n",
       "       '47 Getting value for money spent',\n",
       "       'From the following, tick any (or all) of the online retailers you have shopped from;                                                                           ',\n",
       "       'Easy to use website or application',\n",
       "       'Visual appealing web-page layout', 'Wild variety of product on offer',\n",
       "       'Complete, relevant description information of products',\n",
       "       'Fast loading website speed of website and application',\n",
       "       'Reliability of the website or application',\n",
       "       'Quickness to complete purchase',\n",
       "       'Availability of several payment options', 'Speedy order delivery ',\n",
       "       'Privacy of customers’ information',\n",
       "       'Security of customer financial information',\n",
       "       'Perceived Trustworthiness',\n",
       "       'Presence of online assistance through multi-channel',\n",
       "       'Longer time to get logged in (promotion, sales period)',\n",
       "       'Longer time in displaying graphics and photos (promotion, sales period)',\n",
       "       'Late declaration of price (promotion, sales period)',\n",
       "       'Longer page loading time (promotion, sales period)',\n",
       "       'Limited mode of payment on most products (promotion, sales period)',\n",
       "       'Longer delivery period', 'Change in website/Application design',\n",
       "       'Frequent disruption when moving from one page to another',\n",
       "       'Website is as efficient as before',\n",
       "       'Which of the Indian online retailer would you recommend to a friend?'],\n",
       "      dtype='object')"
      ]
     },
     "execution_count": 273,
     "metadata": {},
     "output_type": "execute_result"
    }
   ],
   "source": [
    "#Checking the columns of the dataset\n",
    "df.columns"
   ]
  },
  {
   "cell_type": "code",
   "execution_count": 274,
   "metadata": {},
   "outputs": [
    {
     "data": {
      "text/plain": [
       "(269, 71)"
      ]
     },
     "execution_count": 274,
     "metadata": {},
     "output_type": "execute_result"
    }
   ],
   "source": [
    "df.shape #checking the rows and columns of the dataset"
   ]
  },
  {
   "cell_type": "code",
   "execution_count": 275,
   "metadata": {},
   "outputs": [
    {
     "data": {
      "text/plain": [
       "1Gender of respondent                                                   object\n",
       "2 How old are you?                                                      object\n",
       "3 Which city do you shop online from?                                   object\n",
       "4 What is the Pin Code of where you shop online from?                    int64\n",
       "5 Since How Long You are Shopping Online ?                              object\n",
       "                                                                         ...  \n",
       "Longer delivery period                                                  object\n",
       "Change in website/Application design                                    object\n",
       "Frequent disruption when moving from one page to another                object\n",
       "Website is as efficient as before                                       object\n",
       "Which of the Indian online retailer would you recommend to a friend?    object\n",
       "Length: 71, dtype: object"
      ]
     },
     "execution_count": 275,
     "metadata": {},
     "output_type": "execute_result"
    }
   ],
   "source": [
    "df.dtypes"
   ]
  },
  {
   "cell_type": "code",
   "execution_count": 276,
   "metadata": {},
   "outputs": [
    {
     "data": {
      "text/plain": [
       "1Gender of respondent                                                   0\n",
       "2 How old are you?                                                      0\n",
       "3 Which city do you shop online from?                                   0\n",
       "4 What is the Pin Code of where you shop online from?                   0\n",
       "5 Since How Long You are Shopping Online ?                              0\n",
       "                                                                       ..\n",
       "Longer delivery period                                                  0\n",
       "Change in website/Application design                                    0\n",
       "Frequent disruption when moving from one page to another                0\n",
       "Website is as efficient as before                                       0\n",
       "Which of the Indian online retailer would you recommend to a friend?    0\n",
       "Length: 71, dtype: int64"
      ]
     },
     "execution_count": 276,
     "metadata": {},
     "output_type": "execute_result"
    }
   ],
   "source": [
    "df.isnull().sum() #Checking if any null values are present"
   ]
  },
  {
   "cell_type": "markdown",
   "metadata": {},
   "source": [
    "These steps will be followed for all the object type columns:\n",
    "\n",
    "1.Renaming columns when the name of the column is too long\n",
    "\n",
    "1.checking the value counts \n",
    "\n",
    "2.Encoding the column using LabelEncoder\n",
    "\n",
    "3.Visualising it using graph"
   ]
  },
  {
   "cell_type": "code",
   "execution_count": 277,
   "metadata": {},
   "outputs": [],
   "source": [
    "#1st column:1Gender of respondent"
   ]
  },
  {
   "cell_type": "code",
   "execution_count": 278,
   "metadata": {},
   "outputs": [
    {
     "data": {
      "text/plain": [
       "Female    181\n",
       "Male       88\n",
       "Name: 1Gender of respondent, dtype: int64"
      ]
     },
     "execution_count": 278,
     "metadata": {},
     "output_type": "execute_result"
    }
   ],
   "source": [
    "df['1Gender of respondent'].value_counts()"
   ]
  },
  {
   "cell_type": "code",
   "execution_count": 279,
   "metadata": {},
   "outputs": [],
   "source": [
    "from sklearn.preprocessing import LabelEncoder\n",
    "df['1Gender of respondent']=LabelEncoder().fit_transform(df['1Gender of respondent'])"
   ]
  },
  {
   "cell_type": "code",
   "execution_count": 280,
   "metadata": {},
   "outputs": [
    {
     "data": {
      "text/plain": [
       "<matplotlib.axes._subplots.AxesSubplot at 0x70c2139b50>"
      ]
     },
     "execution_count": 280,
     "metadata": {},
     "output_type": "execute_result"
    },
    {
     "data": {
      "image/png": "[encoded data removed]",
      "text/plain": [
       "<Figure size 432x288 with 1 Axes>"
      ]
     },
     "metadata": {
      "needs_background": "light"
     },
     "output_type": "display_data"
    }
   ],
   "source": [
    "df[['1Gender of respondent']].plot.hist(bins = 20, title = 'Gender')"
   ]
  },
  {
   "cell_type": "markdown",
   "metadata": {},
   "source": [
    "In the graph,we can see the female and male ratio,the number of females are more than males in the case study."
   ]
  },
  {
   "cell_type": "code",
   "execution_count": 281,
   "metadata": {},
   "outputs": [],
   "source": [
    "#2nd column:2 How old are you?"
   ]
  },
  {
   "cell_type": "code",
   "execution_count": 282,
   "metadata": {},
   "outputs": [],
   "source": [
    "#renaming this particular column\n",
    "df.rename(columns = {\"2 How old are you? \": \"Age\"}, inplace = True)"
   ]
  },
  {
   "cell_type": "code",
   "execution_count": 283,
   "metadata": {},
   "outputs": [
    {
     "name": "stdout",
     "output_type": "stream",
     "text": [
      "Index(['1Gender of respondent', 'Age', '3 Which city do you shop online from?',\n",
      "       '4 What is the Pin Code of where you shop online from?',\n",
      "       '5 Since How Long You are Shopping Online ?',\n",
      "       '6 How many times you have made an online purchase in the past 1 year?',\n",
      "       '7 How do you access the internet while shopping on-line?',\n",
      "       '8 Which device do you use to access the online shopping?',\n",
      "       '9 What is the screen size of your mobile device?\\t\\t\\t\\t\\t\\t                                        ',\n",
      "       '10 What is the operating system (OS) of your device?\\t\\t\\t\\t                                          ',\n",
      "       '11 What browser do you run on your device to access the website?\\t\\t\\t                                                          ',\n",
      "       '12 Which channel did you follow to arrive at your favorite online store for the first time?                                                                   ',\n",
      "       '13 After first visit, how do you reach the online retail store?\\t\\t\\t\\t                                                   ',\n",
      "       '14 How much time do you explore the e- retail store before making a purchase decision?                                                                   ',\n",
      "       '15 What is your preferred payment Option?\\t\\t\\t\\t\\t                                                                                                                               ',\n",
      "       '16 How frequently do you abandon (selecting an items and leaving without making payment) your shopping cart?\\t\\t\\t\\t\\t\\t\\t                                                   ',\n",
      "       '17 Why did you abandon the “Bag”, “Shopping Cart”?\\t\\t\\t\\t\\t                                                                                                                                                       ',\n",
      "       '18 The content on the website must be easy to read and understand',\n",
      "       '19 Information on similar product to the one highlighted  is important for product comparison',\n",
      "       '20 Complete information on listed seller and product being offered is important for purchase decision.',\n",
      "       '21 All relevant information on listed products must be stated clearly',\n",
      "       '22 Ease of navigation in website', '23 Loading and processing speed',\n",
      "       '24 User friendly Interface of the website',\n",
      "       '25 Convenient Payment methods',\n",
      "       '26 Trust that the online retail store will fulfill its part of the transaction at the stipulated time',\n",
      "       '27 Empathy (readiness to assist with queries) towards the customers',\n",
      "       '28 Being able to guarantee the privacy of the customer',\n",
      "       '29 Responsiveness, availability of several communication channels (email, online rep, twitter, phone etc.)',\n",
      "       '30 Online shopping gives monetary benefit and discounts',\n",
      "       '31 Enjoyment is derived from shopping online',\n",
      "       '32 Shopping online is convenient and flexible',\n",
      "       '33 Return and replacement policy of the e-tailer is important for purchase decision',\n",
      "       '34 Gaining access to loyalty programs is a benefit of shopping online',\n",
      "       '35 Displaying quality Information on the website improves satisfaction of customers',\n",
      "       '36 User derive satisfaction while shopping on a good quality website or application',\n",
      "       '37 Net Benefit derived from shopping online can lead to users satisfaction',\n",
      "       '38 User satisfaction cannot exist without trust',\n",
      "       '39 Offering a wide variety of listed product in several category',\n",
      "       '40 Provision of complete and relevant product information',\n",
      "       '41 Monetary savings',\n",
      "       '42 The Convenience of patronizing the online retailer',\n",
      "       '43 Shopping on the website gives you the sense of adventure',\n",
      "       '44 Shopping on your preferred e-tailer enhances your social status',\n",
      "       '45 You feel gratification shopping on your favorite e-tailer',\n",
      "       '46 Shopping on the website helps you fulfill certain roles',\n",
      "       '47 Getting value for money spent',\n",
      "       'From the following, tick any (or all) of the online retailers you have shopped from;                                                                           ',\n",
      "       'Easy to use website or application',\n",
      "       'Visual appealing web-page layout', 'Wild variety of product on offer',\n",
      "       'Complete, relevant description information of products',\n",
      "       'Fast loading website speed of website and application',\n",
      "       'Reliability of the website or application',\n",
      "       'Quickness to complete purchase',\n",
      "       'Availability of several payment options', 'Speedy order delivery ',\n",
      "       'Privacy of customers’ information',\n",
      "       'Security of customer financial information',\n",
      "       'Perceived Trustworthiness',\n",
      "       'Presence of online assistance through multi-channel',\n",
      "       'Longer time to get logged in (promotion, sales period)',\n",
      "       'Longer time in displaying graphics and photos (promotion, sales period)',\n",
      "       'Late declaration of price (promotion, sales period)',\n",
      "       'Longer page loading time (promotion, sales period)',\n",
      "       'Limited mode of payment on most products (promotion, sales period)',\n",
      "       'Longer delivery period', 'Change in website/Application design',\n",
      "       'Frequent disruption when moving from one page to another',\n",
      "       'Website is as efficient as before',\n",
      "       'Which of the Indian online retailer would you recommend to a friend?'],\n",
      "      dtype='object')\n"
     ]
    }
   ],
   "source": [
    "# displaying the columns after renaming\n",
    "print(df.columns)"
   ]
  },
  {
   "cell_type": "code",
   "execution_count": 284,
   "metadata": {},
   "outputs": [
    {
     "data": {
      "text/plain": [
       "31-40 years           81\n",
       "21-30 years           79\n",
       "41-50 yaers           70\n",
       "Less than 20 years    20\n",
       "51 years and above    19\n",
       "Name: Age, dtype: int64"
      ]
     },
     "execution_count": 284,
     "metadata": {},
     "output_type": "execute_result"
    }
   ],
   "source": [
    "df['Age'].value_counts()"
   ]
  },
  {
   "cell_type": "code",
   "execution_count": 285,
   "metadata": {},
   "outputs": [],
   "source": [
    "df['Age']=LabelEncoder().fit_transform(df['Age'])"
   ]
  },
  {
   "cell_type": "code",
   "execution_count": 286,
   "metadata": {},
   "outputs": [
    {
     "data": {
      "text/plain": [
       "1    81\n",
       "0    79\n",
       "2    70\n",
       "4    20\n",
       "3    19\n",
       "Name: Age, dtype: int64"
      ]
     },
     "execution_count": 286,
     "metadata": {},
     "output_type": "execute_result"
    }
   ],
   "source": [
    "df['Age'].value_counts()"
   ]
  },
  {
   "cell_type": "code",
   "execution_count": 287,
   "metadata": {},
   "outputs": [
    {
     "data": {
      "text/plain": [
       "<matplotlib.axes._subplots.AxesSubplot at 0x70c3ca87c0>"
      ]
     },
     "execution_count": 287,
     "metadata": {},
     "output_type": "execute_result"
    },
    {
     "data": {
      "image/png": "[encoded data removed]",
      "text/plain": [
       "<Figure size 432x288 with 1 Axes>"
      ]
     },
     "metadata": {
      "needs_background": "light"
     },
     "output_type": "display_data"
    }
   ],
   "source": [
    "df[['Age']].plot.hist(bins = 20, title = 'Age')"
   ]
  },
  {
   "cell_type": "markdown",
   "metadata": {},
   "source": [
    "31-40 years old people are more according to the data."
   ]
  },
  {
   "cell_type": "code",
   "execution_count": 288,
   "metadata": {},
   "outputs": [],
   "source": [
    "#3rd column:3 Which city do you shop online from?"
   ]
  },
  {
   "cell_type": "code",
   "execution_count": 289,
   "metadata": {},
   "outputs": [
    {
     "data": {
      "text/plain": [
       "Delhi            58\n",
       "Greater Noida    43\n",
       "Noida            40\n",
       "Bangalore        37\n",
       "Karnal           27\n",
       "Solan            18\n",
       "Ghaziabad        18\n",
       "Gurgaon          12\n",
       "Merrut            9\n",
       "Moradabad         5\n",
       "Bulandshahr       2\n",
       "Name: 3 Which city do you shop online from?, dtype: int64"
      ]
     },
     "execution_count": 289,
     "metadata": {},
     "output_type": "execute_result"
    }
   ],
   "source": [
    "df['3 Which city do you shop online from?'].value_counts()"
   ]
  },
  {
   "cell_type": "code",
   "execution_count": 290,
   "metadata": {},
   "outputs": [],
   "source": [
    "df['3 Which city do you shop online from?']=LabelEncoder().fit_transform(df['3 Which city do you shop online from?'])"
   ]
  },
  {
   "cell_type": "code",
   "execution_count": 291,
   "metadata": {},
   "outputs": [
    {
     "data": {
      "text/plain": [
       "<matplotlib.axes._subplots.AxesSubplot at 0x70c52396d0>"
      ]
     },
     "execution_count": 291,
     "metadata": {},
     "output_type": "execute_result"
    },
    {
     "data": {
      "image/png": "[encoded data removed]",
      "text/plain": [
       "<Figure size 432x288 with 1 Axes>"
      ]
     },
     "metadata": {
      "needs_background": "light"
     },
     "output_type": "display_data"
    }
   ],
   "source": [
    "df[['3 Which city do you shop online from?']].plot.hist(bins = 20, title = 'City')"
   ]
  },
  {
   "cell_type": "markdown",
   "metadata": {},
   "source": [
    "According to the data,online shopping is done more from Delhi,then from Greater Noida."
   ]
  },
  {
   "cell_type": "code",
   "execution_count": 292,
   "metadata": {},
   "outputs": [],
   "source": [
    "#4th column:4 What is the Pin Code of where you shop online from?"
   ]
  },
  {
   "cell_type": "code",
   "execution_count": 293,
   "metadata": {},
   "outputs": [],
   "source": [
    "#renaming this particular column\n",
    "df.rename(columns = {\"4 What is the Pin Code of where you shop online from?\": \"Pin-Code\"}, inplace = True)"
   ]
  },
  {
   "cell_type": "code",
   "execution_count": 294,
   "metadata": {},
   "outputs": [
    {
     "data": {
      "text/plain": [
       "Index(['1Gender of respondent', 'Age', '3 Which city do you shop online from?',\n",
       "       'Pin-Code', '5 Since How Long You are Shopping Online ?',\n",
       "       '6 How many times you have made an online purchase in the past 1 year?',\n",
       "       '7 How do you access the internet while shopping on-line?',\n",
       "       '8 Which device do you use to access the online shopping?',\n",
       "       '9 What is the screen size of your mobile device?\\t\\t\\t\\t\\t\\t                                        ',\n",
       "       '10 What is the operating system (OS) of your device?\\t\\t\\t\\t                                          ',\n",
       "       '11 What browser do you run on your device to access the website?\\t\\t\\t                                                          ',\n",
       "       '12 Which channel did you follow to arrive at your favorite online store for the first time?                                                                   ',\n",
       "       '13 After first visit, how do you reach the online retail store?\\t\\t\\t\\t                                                   ',\n",
       "       '14 How much time do you explore the e- retail store before making a purchase decision?                                                                   ',\n",
       "       '15 What is your preferred payment Option?\\t\\t\\t\\t\\t                                                                                                                               ',\n",
       "       '16 How frequently do you abandon (selecting an items and leaving without making payment) your shopping cart?\\t\\t\\t\\t\\t\\t\\t                                                   ',\n",
       "       '17 Why did you abandon the “Bag”, “Shopping Cart”?\\t\\t\\t\\t\\t                                                                                                                                                       ',\n",
       "       '18 The content on the website must be easy to read and understand',\n",
       "       '19 Information on similar product to the one highlighted  is important for product comparison',\n",
       "       '20 Complete information on listed seller and product being offered is important for purchase decision.',\n",
       "       '21 All relevant information on listed products must be stated clearly',\n",
       "       '22 Ease of navigation in website', '23 Loading and processing speed',\n",
       "       '24 User friendly Interface of the website',\n",
       "       '25 Convenient Payment methods',\n",
       "       '26 Trust that the online retail store will fulfill its part of the transaction at the stipulated time',\n",
       "       '27 Empathy (readiness to assist with queries) towards the customers',\n",
       "       '28 Being able to guarantee the privacy of the customer',\n",
       "       '29 Responsiveness, availability of several communication channels (email, online rep, twitter, phone etc.)',\n",
       "       '30 Online shopping gives monetary benefit and discounts',\n",
       "       '31 Enjoyment is derived from shopping online',\n",
       "       '32 Shopping online is convenient and flexible',\n",
       "       '33 Return and replacement policy of the e-tailer is important for purchase decision',\n",
       "       '34 Gaining access to loyalty programs is a benefit of shopping online',\n",
       "       '35 Displaying quality Information on the website improves satisfaction of customers',\n",
       "       '36 User derive satisfaction while shopping on a good quality website or application',\n",
       "       '37 Net Benefit derived from shopping online can lead to users satisfaction',\n",
       "       '38 User satisfaction cannot exist without trust',\n",
       "       '39 Offering a wide variety of listed product in several category',\n",
       "       '40 Provision of complete and relevant product information',\n",
       "       '41 Monetary savings',\n",
       "       '42 The Convenience of patronizing the online retailer',\n",
       "       '43 Shopping on the website gives you the sense of adventure',\n",
       "       '44 Shopping on your preferred e-tailer enhances your social status',\n",
       "       '45 You feel gratification shopping on your favorite e-tailer',\n",
       "       '46 Shopping on the website helps you fulfill certain roles',\n",
       "       '47 Getting value for money spent',\n",
       "       'From the following, tick any (or all) of the online retailers you have shopped from;                                                                           ',\n",
       "       'Easy to use website or application',\n",
       "       'Visual appealing web-page layout', 'Wild variety of product on offer',\n",
       "       'Complete, relevant description information of products',\n",
       "       'Fast loading website speed of website and application',\n",
       "       'Reliability of the website or application',\n",
       "       'Quickness to complete purchase',\n",
       "       'Availability of several payment options', 'Speedy order delivery ',\n",
       "       'Privacy of customers’ information',\n",
       "       'Security of customer financial information',\n",
       "       'Perceived Trustworthiness',\n",
       "       'Presence of online assistance through multi-channel',\n",
       "       'Longer time to get logged in (promotion, sales period)',\n",
       "       'Longer time in displaying graphics and photos (promotion, sales period)',\n",
       "       'Late declaration of price (promotion, sales period)',\n",
       "       'Longer page loading time (promotion, sales period)',\n",
       "       'Limited mode of payment on most products (promotion, sales period)',\n",
       "       'Longer delivery period', 'Change in website/Application design',\n",
       "       'Frequent disruption when moving from one page to another',\n",
       "       'Website is as efficient as before',\n",
       "       'Which of the Indian online retailer would you recommend to a friend?'],\n",
       "      dtype='object')"
      ]
     },
     "execution_count": 294,
     "metadata": {},
     "output_type": "execute_result"
    }
   ],
   "source": [
    "df.columns"
   ]
  },
  {
   "cell_type": "code",
   "execution_count": 295,
   "metadata": {},
   "outputs": [
    {
     "data": {
      "text/plain": [
       "201308    38\n",
       "132001    19\n",
       "201310    18\n",
       "110044    16\n",
       "173212     9\n",
       "250001     9\n",
       "173229     9\n",
       "560037     8\n",
       "132036     8\n",
       "560010     8\n",
       "122018     8\n",
       "110011     7\n",
       "201306     7\n",
       "110008     7\n",
       "110014     6\n",
       "110018     6\n",
       "244001     5\n",
       "201312     5\n",
       "530068     5\n",
       "201305     5\n",
       "201009     5\n",
       "201008     5\n",
       "201005     4\n",
       "201001     4\n",
       "201304     4\n",
       "110039     4\n",
       "110030     4\n",
       "110009     4\n",
       "560018     4\n",
       "560003     4\n",
       "122009     4\n",
       "560002     4\n",
       "110042     4\n",
       "201303     4\n",
       "560013     3\n",
       "203001     2\n",
       "560001     1\n",
       "203207     1\n",
       "203202     1\n",
       "Name: Pin-Code, dtype: int64"
      ]
     },
     "execution_count": 295,
     "metadata": {},
     "output_type": "execute_result"
    }
   ],
   "source": [
    "df['Pin-Code'].value_counts()"
   ]
  },
  {
   "cell_type": "code",
   "execution_count": 296,
   "metadata": {},
   "outputs": [
    {
     "data": {
      "text/plain": [
       "<matplotlib.axes._subplots.AxesSubplot at 0x70c51bd400>"
      ]
     },
     "execution_count": 296,
     "metadata": {},
     "output_type": "execute_result"
    },
    {
     "data": {
      "image/png": "[encoded data removed]",
      "text/plain": [
       "<Figure size 432x288 with 1 Axes>"
      ]
     },
     "metadata": {
      "needs_background": "light"
     },
     "output_type": "display_data"
    }
   ],
   "source": [
    "df[['Pin-Code']].plot.hist(bins = 20, title = 'Pin-Code')"
   ]
  },
  {
   "cell_type": "markdown",
   "metadata": {},
   "source": [
    "We shop online more from pin-code starting with 2 as we have seen from the graph."
   ]
  },
  {
   "cell_type": "code",
   "execution_count": 297,
   "metadata": {},
   "outputs": [],
   "source": [
    "#5th column:'5 Since How Long You are Shopping Online ?'"
   ]
  },
  {
   "cell_type": "code",
   "execution_count": 298,
   "metadata": {},
   "outputs": [
    {
     "data": {
      "text/plain": [
       "Above 4 years       98\n",
       "2-3 years           65\n",
       "3-4 years           47\n",
       "Less than 1 year    43\n",
       "1-2 years           16\n",
       "Name: 5 Since How Long You are Shopping Online ?, dtype: int64"
      ]
     },
     "execution_count": 298,
     "metadata": {},
     "output_type": "execute_result"
    }
   ],
   "source": [
    "df['5 Since How Long You are Shopping Online ?'].value_counts()"
   ]
  },
  {
   "cell_type": "code",
   "execution_count": 299,
   "metadata": {},
   "outputs": [],
   "source": [
    "df['5 Since How Long You are Shopping Online ?']=LabelEncoder().fit_transform(df['5 Since How Long You are Shopping Online ?'])"
   ]
  },
  {
   "cell_type": "code",
   "execution_count": 300,
   "metadata": {},
   "outputs": [
    {
     "data": {
      "text/plain": [
       "3    98\n",
       "1    65\n",
       "2    47\n",
       "4    43\n",
       "0    16\n",
       "Name: 5 Since How Long You are Shopping Online ?, dtype: int64"
      ]
     },
     "execution_count": 300,
     "metadata": {},
     "output_type": "execute_result"
    }
   ],
   "source": [
    "df['5 Since How Long You are Shopping Online ?'].value_counts()"
   ]
  },
  {
   "cell_type": "code",
   "execution_count": 301,
   "metadata": {},
   "outputs": [
    {
     "data": {
      "text/plain": [
       "<matplotlib.axes._subplots.AxesSubplot at 0x70c53d72e0>"
      ]
     },
     "execution_count": 301,
     "metadata": {},
     "output_type": "execute_result"
    },
    {
     "data": {
      "image/png": "[encoded data removed]",
      "text/plain": [
       "<Figure size 432x288 with 1 Axes>"
      ]
     },
     "metadata": {
      "needs_background": "light"
     },
     "output_type": "display_data"
    }
   ],
   "source": [
    "df[['5 Since How Long You are Shopping Online ?']].plot.hist(bins = 20, title = 'Sonline')"
   ]
  },
  {
   "cell_type": "markdown",
   "metadata": {},
   "source": [
    "According to the graph,people are shopping online above 4 years are more."
   ]
  },
  {
   "cell_type": "code",
   "execution_count": 302,
   "metadata": {},
   "outputs": [],
   "source": [
    "#6th column:'6 How many times you have made an online purchase in the past 1 year?'"
   ]
  },
  {
   "cell_type": "code",
   "execution_count": 303,
   "metadata": {},
   "outputs": [
    {
     "data": {
      "text/plain": [
       "Less than 10 times    114\n",
       "31-40 times            63\n",
       "41 times and above     47\n",
       "11-20 times            29\n",
       "21-30 times            10\n",
       "42 times and above      6\n",
       "Name: 6 How many times you have made an online purchase in the past 1 year?, dtype: int64"
      ]
     },
     "execution_count": 303,
     "metadata": {},
     "output_type": "execute_result"
    }
   ],
   "source": [
    "df['6 How many times you have made an online purchase in the past 1 year?'].value_counts()"
   ]
  },
  {
   "cell_type": "code",
   "execution_count": 304,
   "metadata": {},
   "outputs": [],
   "source": [
    "df['6 How many times you have made an online purchase in the past 1 year?']=LabelEncoder().fit_transform(df['6 How many times you have made an online purchase in the past 1 year?'])"
   ]
  },
  {
   "cell_type": "code",
   "execution_count": 305,
   "metadata": {},
   "outputs": [
    {
     "data": {
      "text/plain": [
       "<matplotlib.axes._subplots.AxesSubplot at 0x70c546fc70>"
      ]
     },
     "execution_count": 305,
     "metadata": {},
     "output_type": "execute_result"
    },
    {
     "data": {
      "image/png": "[encoded data removed]",
      "text/plain": [
       "<Figure size 432x288 with 1 Axes>"
      ]
     },
     "metadata": {
      "needs_background": "light"
     },
     "output_type": "display_data"
    }
   ],
   "source": [
    "df[['6 How many times you have made an online purchase in the past 1 year?']].plot.hist(bins = 20, title = 'Online-purchase')"
   ]
  },
  {
   "cell_type": "markdown",
   "metadata": {},
   "source": [
    "In the past 1 year,less than 10 times people have made online purchase according to the data."
   ]
  },
  {
   "cell_type": "code",
   "execution_count": 306,
   "metadata": {},
   "outputs": [],
   "source": [
    "#7th column:'7 How do you access the internet while shopping on-line?'"
   ]
  },
  {
   "cell_type": "code",
   "execution_count": 307,
   "metadata": {},
   "outputs": [],
   "source": [
    "#renaming this particular column\n",
    "df.rename(columns = {\"7 How do you access the internet while shopping on-line?\": \"Internet-access\"}, inplace = True)"
   ]
  },
  {
   "cell_type": "code",
   "execution_count": 308,
   "metadata": {},
   "outputs": [
    {
     "data": {
      "text/plain": [
       "Mobile internet    142\n",
       "Wi-Fi               76\n",
       "Mobile Internet     47\n",
       "Dial-up              4\n",
       "Name: Internet-access, dtype: int64"
      ]
     },
     "execution_count": 308,
     "metadata": {},
     "output_type": "execute_result"
    }
   ],
   "source": [
    "df['Internet-access'].value_counts()"
   ]
  },
  {
   "cell_type": "code",
   "execution_count": 309,
   "metadata": {},
   "outputs": [],
   "source": [
    "df['Internet-access']=LabelEncoder().fit_transform(df['Internet-access'])"
   ]
  },
  {
   "cell_type": "code",
   "execution_count": 310,
   "metadata": {},
   "outputs": [
    {
     "data": {
      "text/plain": [
       "<matplotlib.axes._subplots.AxesSubplot at 0x70c54fd400>"
      ]
     },
     "execution_count": 310,
     "metadata": {},
     "output_type": "execute_result"
    },
    {
     "data": {
      "image/png": "[encoded data removed]",
      "text/plain": [
       "<Figure size 432x288 with 1 Axes>"
      ]
     },
     "metadata": {
      "needs_background": "light"
     },
     "output_type": "display_data"
    }
   ],
   "source": [
    "df[['Internet-access']].plot.hist(bins = 20, title = 'Internet-access')"
   ]
  },
  {
   "cell_type": "markdown",
   "metadata": {},
   "source": [
    "While shopping online,people have used mobile internet more than any other means according to the data."
   ]
  },
  {
   "cell_type": "code",
   "execution_count": 311,
   "metadata": {},
   "outputs": [],
   "source": [
    "#8th column:'8 Which device do you use to access the online shopping?'"
   ]
  },
  {
   "cell_type": "code",
   "execution_count": 312,
   "metadata": {},
   "outputs": [],
   "source": [
    "#renaming this particular column\n",
    "df.rename(columns = {\"8 Which device do you use to access the online shopping?\": \"Device\"}, inplace = True)"
   ]
  },
  {
   "cell_type": "code",
   "execution_count": 313,
   "metadata": {},
   "outputs": [
    {
     "data": {
      "text/plain": [
       "Smartphone    141\n",
       "Laptop         86\n",
       "Desktop        30\n",
       "Tablet         12\n",
       "Name: Device, dtype: int64"
      ]
     },
     "execution_count": 313,
     "metadata": {},
     "output_type": "execute_result"
    }
   ],
   "source": [
    "df['Device'].value_counts()"
   ]
  },
  {
   "cell_type": "code",
   "execution_count": 314,
   "metadata": {},
   "outputs": [],
   "source": [
    "df['Device']=LabelEncoder().fit_transform(df['Device'])"
   ]
  },
  {
   "cell_type": "code",
   "execution_count": 315,
   "metadata": {},
   "outputs": [
    {
     "data": {
      "text/plain": [
       "<matplotlib.axes._subplots.AxesSubplot at 0x70c558f610>"
      ]
     },
     "execution_count": 315,
     "metadata": {},
     "output_type": "execute_result"
    },
    {
     "data": {
      "image/png": "[encoded data removed]",
      "text/plain": [
       "<Figure size 432x288 with 1 Axes>"
      ]
     },
     "metadata": {
      "needs_background": "light"
     },
     "output_type": "display_data"
    }
   ],
   "source": [
    "df[['Device']].plot.hist(bins = 20, title = 'Device')"
   ]
  },
  {
   "cell_type": "markdown",
   "metadata": {},
   "source": [
    "Device used frequently to access online shopping is Smartphone according to the data."
   ]
  },
  {
   "cell_type": "code",
   "execution_count": 316,
   "metadata": {},
   "outputs": [],
   "source": [
    "#9th column:'9 What is the screen size of your mobile device?\\t\\t\\t\\t\\t\\t                                        '"
   ]
  },
  {
   "cell_type": "code",
   "execution_count": 317,
   "metadata": {},
   "outputs": [],
   "source": [
    "#renaming this particular column\n",
    "df.rename(columns = {'9 What is the screen size of your mobile device?\\t\\t\\t\\t\\t\\t                                        ': \"Screen-size\"}, inplace = True)"
   ]
  },
  {
   "cell_type": "code",
   "execution_count": 318,
   "metadata": {},
   "outputs": [
    {
     "data": {
      "text/plain": [
       "Others        134\n",
       "5.5 inches     99\n",
       "4.7 inches     29\n",
       "5 inches        7\n",
       "Name: Screen-size, dtype: int64"
      ]
     },
     "execution_count": 318,
     "metadata": {},
     "output_type": "execute_result"
    }
   ],
   "source": [
    "df['Screen-size'].value_counts()"
   ]
  },
  {
   "cell_type": "code",
   "execution_count": 319,
   "metadata": {},
   "outputs": [],
   "source": [
    "df['Screen-size']=LabelEncoder().fit_transform(df['Screen-size'])"
   ]
  },
  {
   "cell_type": "code",
   "execution_count": 320,
   "metadata": {},
   "outputs": [
    {
     "data": {
      "text/plain": [
       "<matplotlib.axes._subplots.AxesSubplot at 0x70c56215b0>"
      ]
     },
     "execution_count": 320,
     "metadata": {},
     "output_type": "execute_result"
    },
    {
     "data": {
      "image/png": "[encoded data removed]",
      "text/plain": [
       "<Figure size 432x288 with 1 Axes>"
      ]
     },
     "metadata": {
      "needs_background": "light"
     },
     "output_type": "display_data"
    }
   ],
   "source": [
    "df[['Screen-size']].plot.hist(bins = 20, title = 'Screen-size')"
   ]
  },
  {
   "cell_type": "markdown",
   "metadata": {},
   "source": [
    "4.7 inches and 5 inches are the least used screen sizes according to the data"
   ]
  },
  {
   "cell_type": "code",
   "execution_count": 321,
   "metadata": {},
   "outputs": [],
   "source": [
    "#10th column:'10 What is the operating system (OS) of your device?\\t\\t\\t\\t                                          '"
   ]
  },
  {
   "cell_type": "code",
   "execution_count": 322,
   "metadata": {},
   "outputs": [],
   "source": [
    "#renaming this particular column\n",
    "df.rename(columns = {'10 What is the operating system (OS) of your device?\\t\\t\\t\\t                                          ': \"Operating-system\"}, inplace = True)"
   ]
  },
  {
   "cell_type": "code",
   "execution_count": 323,
   "metadata": {},
   "outputs": [
    {
     "data": {
      "text/plain": [
       "Window/windows Mobile    122\n",
       "Android                   85\n",
       "IOS/Mac                   62\n",
       "Name: Operating-system, dtype: int64"
      ]
     },
     "execution_count": 323,
     "metadata": {},
     "output_type": "execute_result"
    }
   ],
   "source": [
    "df['Operating-system'].value_counts()"
   ]
  },
  {
   "cell_type": "code",
   "execution_count": 324,
   "metadata": {},
   "outputs": [],
   "source": [
    "df['Operating-system']=LabelEncoder().fit_transform(df['Operating-system'])"
   ]
  },
  {
   "cell_type": "code",
   "execution_count": 325,
   "metadata": {},
   "outputs": [
    {
     "data": {
      "text/plain": [
       "<matplotlib.axes._subplots.AxesSubplot at 0x70c56b19a0>"
      ]
     },
     "execution_count": 325,
     "metadata": {},
     "output_type": "execute_result"
    },
    {
     "data": {
      "image/png": "[encoded data removed]",
      "text/plain": [
       "<Figure size 432x288 with 1 Axes>"
      ]
     },
     "metadata": {
      "needs_background": "light"
     },
     "output_type": "display_data"
    }
   ],
   "source": [
    "df[['Operating-system']].plot.hist(bins = 20, title = 'Operating-system')"
   ]
  },
  {
   "cell_type": "markdown",
   "metadata": {},
   "source": [
    "Operating system that is used more while shopping online is windows mobile as per the data."
   ]
  },
  {
   "cell_type": "code",
   "execution_count": 326,
   "metadata": {},
   "outputs": [],
   "source": [
    "#11th column:'11 What browser do you run on your device to access the website?\\t\\t\\t                                                          '"
   ]
  },
  {
   "cell_type": "code",
   "execution_count": 327,
   "metadata": {},
   "outputs": [],
   "source": [
    "#renaming this particular column\n",
    "df.rename(columns = {'11 What browser do you run on your device to access the website?\\t\\t\\t                                                          ': \"Browser\"}, inplace = True)"
   ]
  },
  {
   "cell_type": "code",
   "execution_count": 328,
   "metadata": {},
   "outputs": [
    {
     "data": {
      "text/plain": [
       "Google chrome      216\n",
       "Safari              40\n",
       "Opera                8\n",
       "Mozilla Firefox      5\n",
       "Name: Browser, dtype: int64"
      ]
     },
     "execution_count": 328,
     "metadata": {},
     "output_type": "execute_result"
    }
   ],
   "source": [
    "df['Browser'].value_counts()"
   ]
  },
  {
   "cell_type": "code",
   "execution_count": 329,
   "metadata": {},
   "outputs": [],
   "source": [
    "df['Browser']=LabelEncoder().fit_transform(df['Browser'])"
   ]
  },
  {
   "cell_type": "code",
   "execution_count": 330,
   "metadata": {},
   "outputs": [
    {
     "data": {
      "text/plain": [
       "<matplotlib.axes._subplots.AxesSubplot at 0x70c5694d90>"
      ]
     },
     "execution_count": 330,
     "metadata": {},
     "output_type": "execute_result"
    },
    {
     "data": {
      "image/png": "[encoded data removed]",
      "text/plain": [
       "<Figure size 432x288 with 1 Axes>"
      ]
     },
     "metadata": {
      "needs_background": "light"
     },
     "output_type": "display_data"
    }
   ],
   "source": [
    "df[['Browser']].plot.hist(bins = 20, title = 'Browser')"
   ]
  },
  {
   "cell_type": "markdown",
   "metadata": {},
   "source": [
    "Google Chrome is used more for browsing as we have seen in the graph."
   ]
  },
  {
   "cell_type": "code",
   "execution_count": 331,
   "metadata": {},
   "outputs": [],
   "source": [
    "#12th column:'12 Which channel did you follow to arrive at your favorite online store for the first time?                                                                   '"
   ]
  },
  {
   "cell_type": "code",
   "execution_count": 332,
   "metadata": {},
   "outputs": [],
   "source": [
    "#renaming this particular column\n",
    "df.rename(columns = {'12 Which channel did you follow to arrive at your favorite online store for the first time?                                                                   ': \"Online-store\"}, inplace = True)"
   ]
  },
  {
   "cell_type": "code",
   "execution_count": 333,
   "metadata": {},
   "outputs": [
    {
     "data": {
      "text/plain": [
       "Search Engine        230\n",
       "Content Marketing     20\n",
       "Display Adverts       19\n",
       "Name: Online-store, dtype: int64"
      ]
     },
     "execution_count": 333,
     "metadata": {},
     "output_type": "execute_result"
    }
   ],
   "source": [
    "df['Online-store'].value_counts()"
   ]
  },
  {
   "cell_type": "code",
   "execution_count": 334,
   "metadata": {},
   "outputs": [],
   "source": [
    "df['Online-store']=LabelEncoder().fit_transform(df['Online-store'])"
   ]
  },
  {
   "cell_type": "code",
   "execution_count": 335,
   "metadata": {},
   "outputs": [
    {
     "data": {
      "text/plain": [
       "<matplotlib.axes._subplots.AxesSubplot at 0x70c57d2c40>"
      ]
     },
     "execution_count": 335,
     "metadata": {},
     "output_type": "execute_result"
    },
    {
     "data": {
      "image/png": "[encoded data removed]",
      "text/plain": [
       "<Figure size 432x288 with 1 Axes>"
      ]
     },
     "metadata": {
      "needs_background": "light"
     },
     "output_type": "display_data"
    }
   ],
   "source": [
    "df[['Online-store']].plot.hist(bins = 20, title = 'Online-store')"
   ]
  },
  {
   "cell_type": "markdown",
   "metadata": {},
   "source": [
    "Search Engine is the channel which is followed more to arrive at our favourite online store as per the data given."
   ]
  },
  {
   "cell_type": "code",
   "execution_count": 336,
   "metadata": {},
   "outputs": [],
   "source": [
    "#13th column:'13 After first visit, how do you reach the online retail store?\\t\\t\\t\\t                                                   '"
   ]
  },
  {
   "cell_type": "code",
   "execution_count": 337,
   "metadata": {},
   "outputs": [],
   "source": [
    "#renaming this particular column\n",
    "df.rename(columns = {'13 After first visit, how do you reach the online retail store?\\t\\t\\t\\t                                                   ': \"Online-retail\"}, inplace = True)"
   ]
  },
  {
   "cell_type": "code",
   "execution_count": 338,
   "metadata": {},
   "outputs": [
    {
     "data": {
      "text/plain": [
       "Search Engine      87\n",
       "Via application    86\n",
       "Direct URL         70\n",
       "E-mail             18\n",
       "Social Media        8\n",
       "Name: Online-retail, dtype: int64"
      ]
     },
     "execution_count": 338,
     "metadata": {},
     "output_type": "execute_result"
    }
   ],
   "source": [
    "df['Online-retail'].value_counts()"
   ]
  },
  {
   "cell_type": "code",
   "execution_count": 339,
   "metadata": {},
   "outputs": [],
   "source": [
    "df['Online-retail']=LabelEncoder().fit_transform(df['Online-retail'])"
   ]
  },
  {
   "cell_type": "code",
   "execution_count": 340,
   "metadata": {},
   "outputs": [
    {
     "data": {
      "text/plain": [
       "<matplotlib.axes._subplots.AxesSubplot at 0x70c5580cd0>"
      ]
     },
     "execution_count": 340,
     "metadata": {},
     "output_type": "execute_result"
    },
    {
     "data": {
      "image/png": "[encoded data removed]",
      "text/plain": [
       "<Figure size 432x288 with 1 Axes>"
      ]
     },
     "metadata": {
      "needs_background": "light"
     },
     "output_type": "display_data"
    }
   ],
   "source": [
    "df[['Online-retail']].plot.hist(bins = 20, title = 'Online-retail')"
   ]
  },
  {
   "cell_type": "markdown",
   "metadata": {},
   "source": [
    "Search-engine and Via application are the most used methods as per data. "
   ]
  },
  {
   "cell_type": "code",
   "execution_count": 341,
   "metadata": {},
   "outputs": [],
   "source": [
    "#15th column:'15 What is your preferred payment Option?\\t\\t\\t\\t\\t                                                                                                                               '"
   ]
  },
  {
   "cell_type": "code",
   "execution_count": 342,
   "metadata": {},
   "outputs": [],
   "source": [
    "#renaming this particular column\n",
    "df.rename(columns = {'15 What is your preferred payment Option?\\t\\t\\t\\t\\t                                                                                                                               ': \"Payment\"}, inplace = True)"
   ]
  },
  {
   "cell_type": "code",
   "execution_count": 343,
   "metadata": {},
   "outputs": [
    {
     "data": {
      "text/plain": [
       "Credit/Debit cards                    148\n",
       "Cash on delivery (CoD)                 76\n",
       "E-wallets (Paytm, Freecharge etc.)     45\n",
       "Name: Payment, dtype: int64"
      ]
     },
     "execution_count": 343,
     "metadata": {},
     "output_type": "execute_result"
    }
   ],
   "source": [
    "df['Payment'].value_counts()"
   ]
  },
  {
   "cell_type": "code",
   "execution_count": 344,
   "metadata": {},
   "outputs": [],
   "source": [
    "df['Payment']=LabelEncoder().fit_transform(df['Payment'])"
   ]
  },
  {
   "cell_type": "code",
   "execution_count": 345,
   "metadata": {},
   "outputs": [
    {
     "data": {
      "text/plain": [
       "<matplotlib.axes._subplots.AxesSubplot at 0x70c591e8b0>"
      ]
     },
     "execution_count": 345,
     "metadata": {},
     "output_type": "execute_result"
    },
    {
     "data": {
      "image/png": "[encoded data removed]",
      "text/plain": [
       "<Figure size 432x288 with 1 Axes>"
      ]
     },
     "metadata": {
      "needs_background": "light"
     },
     "output_type": "display_data"
    }
   ],
   "source": [
    "df[['Payment']].plot.hist(bins = 20, title = 'Payment')"
   ]
  },
  {
   "cell_type": "markdown",
   "metadata": {},
   "source": [
    "Credit cards/Debit cards are the most used payment method while doing online shopping according to the data"
   ]
  },
  {
   "cell_type": "code",
   "execution_count": 346,
   "metadata": {},
   "outputs": [],
   "source": [
    "#16th column:'16 How frequently do you abandon (selecting an items and leaving without making payment) your shopping cart?\\t\\t\\t\\t\\t\\t\\t                                                   '"
   ]
  },
  {
   "cell_type": "code",
   "execution_count": 347,
   "metadata": {},
   "outputs": [],
   "source": [
    "#renaming this particular column\n",
    "df.rename(columns = {'16 How frequently do you abandon (selecting an items and leaving without making payment) your shopping cart?\\t\\t\\t\\t\\t\\t\\t                                                   ': \"Items\"}, inplace = True)"
   ]
  },
  {
   "cell_type": "code",
   "execution_count": 348,
   "metadata": {},
   "outputs": [
    {
     "data": {
      "text/plain": [
       "Sometimes          171\n",
       "Never               48\n",
       "Frequently          35\n",
       "Very frequently     15\n",
       "Name: Items, dtype: int64"
      ]
     },
     "execution_count": 348,
     "metadata": {},
     "output_type": "execute_result"
    }
   ],
   "source": [
    "df['Items'].value_counts()"
   ]
  },
  {
   "cell_type": "code",
   "execution_count": 349,
   "metadata": {},
   "outputs": [],
   "source": [
    "df['Items']=LabelEncoder().fit_transform(df['Items'])"
   ]
  },
  {
   "cell_type": "code",
   "execution_count": 350,
   "metadata": {},
   "outputs": [
    {
     "data": {
      "text/plain": [
       "<matplotlib.axes._subplots.AxesSubplot at 0x70c59abd60>"
      ]
     },
     "execution_count": 350,
     "metadata": {},
     "output_type": "execute_result"
    },
    {
     "data": {
      "image/png": "[encoded data removed]",
      "text/plain": [
       "<Figure size 432x288 with 1 Axes>"
      ]
     },
     "metadata": {
      "needs_background": "light"
     },
     "output_type": "display_data"
    }
   ],
   "source": [
    "df[['Items']].plot.hist(bins = 20, title = 'Items_abandon')"
   ]
  },
  {
   "cell_type": "markdown",
   "metadata": {},
   "source": [
    "According to the data,people mostly buy those items kept in the shopping cart,but sometimes they do abandon their shopping cart."
   ]
  },
  {
   "cell_type": "code",
   "execution_count": 351,
   "metadata": {},
   "outputs": [],
   "source": [
    "#17th column:'17 Why did you abandon the “Bag”, “Shopping Cart”?\\t\\t\\t\\t\\t                                                                                                                                                       '"
   ]
  },
  {
   "cell_type": "code",
   "execution_count": 352,
   "metadata": {},
   "outputs": [],
   "source": [
    "#renaming this particular column\n",
    "df.rename(columns = {'17 Why did you abandon the “Bag”, “Shopping Cart”?\\t\\t\\t\\t\\t                                                                                                                                                       ': \"Why\"}, inplace = True)"
   ]
  },
  {
   "cell_type": "code",
   "execution_count": 353,
   "metadata": {},
   "outputs": [
    {
     "data": {
      "text/plain": [
       "Better alternative offer        133\n",
       "Promo code not applicable        54\n",
       "Change in price                  37\n",
       "Lack of trust                    31\n",
       "No preferred mode of payment     14\n",
       "Name: Why, dtype: int64"
      ]
     },
     "execution_count": 353,
     "metadata": {},
     "output_type": "execute_result"
    }
   ],
   "source": [
    "df['Why'].value_counts()"
   ]
  },
  {
   "cell_type": "code",
   "execution_count": 354,
   "metadata": {},
   "outputs": [],
   "source": [
    "df['Why']=LabelEncoder().fit_transform(df['Why'])"
   ]
  },
  {
   "cell_type": "code",
   "execution_count": 355,
   "metadata": {},
   "outputs": [
    {
     "data": {
      "text/plain": [
       "<matplotlib.axes._subplots.AxesSubplot at 0x70c6a0e5e0>"
      ]
     },
     "execution_count": 355,
     "metadata": {},
     "output_type": "execute_result"
    },
    {
     "data": {
      "image/png": "[encoded data removed]",
      "text/plain": [
       "<Figure size 432x288 with 1 Axes>"
      ]
     },
     "metadata": {
      "needs_background": "light"
     },
     "output_type": "display_data"
    }
   ],
   "source": [
    "df[['Why']].plot.hist(bins = 20, title = 'Why_abandon')"
   ]
  },
  {
   "cell_type": "markdown",
   "metadata": {},
   "source": [
    "People abandon the bag because most of them see for better alternative offer. "
   ]
  },
  {
   "cell_type": "code",
   "execution_count": 356,
   "metadata": {},
   "outputs": [],
   "source": [
    "#18th column:'18 The content on the website must be easy to read and understand'"
   ]
  },
  {
   "cell_type": "code",
   "execution_count": 357,
   "metadata": {},
   "outputs": [],
   "source": [
    "#renaming this particular column\n",
    "df.rename(columns = {'18 The content on the website must be easy to read and understand': \"Content\"}, inplace = True)"
   ]
  },
  {
   "cell_type": "code",
   "execution_count": 358,
   "metadata": {},
   "outputs": [
    {
     "data": {
      "text/plain": [
       "Strongly agree (5)       164\n",
       "Agree (4)                 80\n",
       "Strongly disagree (1)     18\n",
       "Indifferent (3)            7\n",
       "Name: Content, dtype: int64"
      ]
     },
     "execution_count": 358,
     "metadata": {},
     "output_type": "execute_result"
    }
   ],
   "source": [
    "df['Content'].value_counts()"
   ]
  },
  {
   "cell_type": "code",
   "execution_count": 359,
   "metadata": {},
   "outputs": [],
   "source": [
    "df['Content']=LabelEncoder().fit_transform(df['Content'])"
   ]
  },
  {
   "cell_type": "code",
   "execution_count": 360,
   "metadata": {},
   "outputs": [
    {
     "data": {
      "text/plain": [
       "<matplotlib.axes._subplots.AxesSubplot at 0x70c5580130>"
      ]
     },
     "execution_count": 360,
     "metadata": {},
     "output_type": "execute_result"
    },
    {
     "data": {
      "image/png": "[encoded data removed]",
      "text/plain": [
       "<Figure size 432x288 with 1 Axes>"
      ]
     },
     "metadata": {
      "needs_background": "light"
     },
     "output_type": "display_data"
    }
   ],
   "source": [
    "df[['Content']].plot.hist(bins = 20, title = 'Content')"
   ]
  },
  {
   "cell_type": "markdown",
   "metadata": {},
   "source": [
    "People strongly agree to the content given on the website."
   ]
  },
  {
   "cell_type": "code",
   "execution_count": 361,
   "metadata": {},
   "outputs": [],
   "source": [
    "#19th column:'19 Information on similar product to the one highlighted  is important for product comparison'"
   ]
  },
  {
   "cell_type": "code",
   "execution_count": 362,
   "metadata": {},
   "outputs": [],
   "source": [
    "#renaming this particular column\n",
    "df.rename(columns = {'19 Information on similar product to the one highlighted  is important for product comparison': \"product\"}, inplace = True)"
   ]
  },
  {
   "cell_type": "code",
   "execution_count": 363,
   "metadata": {},
   "outputs": [
    {
     "data": {
      "text/plain": [
       "Strongly agree (5)    116\n",
       "Agree (4)              92\n",
       "Indifferent (3)        43\n",
       "Dis-agree (2)          18\n",
       "Name: product, dtype: int64"
      ]
     },
     "execution_count": 363,
     "metadata": {},
     "output_type": "execute_result"
    }
   ],
   "source": [
    "df['product'].value_counts()"
   ]
  },
  {
   "cell_type": "code",
   "execution_count": 364,
   "metadata": {},
   "outputs": [],
   "source": [
    "df['product']=LabelEncoder().fit_transform(df['product'])"
   ]
  },
  {
   "cell_type": "code",
   "execution_count": 365,
   "metadata": {},
   "outputs": [
    {
     "data": {
      "text/plain": [
       "<matplotlib.axes._subplots.AxesSubplot at 0x70c53774c0>"
      ]
     },
     "execution_count": 365,
     "metadata": {},
     "output_type": "execute_result"
    },
    {
     "data": {
      "image/png": "[encoded data removed]",
      "text/plain": [
       "<Figure size 432x288 with 1 Axes>"
      ]
     },
     "metadata": {
      "needs_background": "light"
     },
     "output_type": "display_data"
    }
   ],
   "source": [
    "df[['product']].plot.hist(bins = 20, title = 'product')"
   ]
  },
  {
   "cell_type": "markdown",
   "metadata": {},
   "source": [
    "Information on similar product to the one highlighted  is important for product comparison is strongly agreed by the people according to the data."
   ]
  },
  {
   "cell_type": "code",
   "execution_count": 366,
   "metadata": {},
   "outputs": [],
   "source": [
    "#20th column:'20 Complete information on listed seller and product being offered is important for purchase decision.'"
   ]
  },
  {
   "cell_type": "code",
   "execution_count": 367,
   "metadata": {},
   "outputs": [],
   "source": [
    "#renaming this particular column\n",
    "df.rename(columns = {'20 Complete information on listed seller and product being offered is important for purchase decision.': \"Purchase-Decision\"}, inplace = True)"
   ]
  },
  {
   "cell_type": "code",
   "execution_count": 368,
   "metadata": {},
   "outputs": [
    {
     "data": {
      "text/plain": [
       "Agree (4)                101\n",
       "Strongly agree (5)        87\n",
       "Indifferent (3)           52\n",
       "Dis-agree (2)             18\n",
       "Strongly disagree (1)     11\n",
       "Name: Purchase-Decision, dtype: int64"
      ]
     },
     "execution_count": 368,
     "metadata": {},
     "output_type": "execute_result"
    }
   ],
   "source": [
    "df['Purchase-Decision'].value_counts()"
   ]
  },
  {
   "cell_type": "code",
   "execution_count": 369,
   "metadata": {},
   "outputs": [],
   "source": [
    "df['Purchase-Decision']=LabelEncoder().fit_transform(df['Purchase-Decision'])"
   ]
  },
  {
   "cell_type": "code",
   "execution_count": 370,
   "metadata": {},
   "outputs": [
    {
     "data": {
      "text/plain": [
       "<matplotlib.axes._subplots.AxesSubplot at 0x70c6a1cf10>"
      ]
     },
     "execution_count": 370,
     "metadata": {},
     "output_type": "execute_result"
    },
    {
     "data": {
      "image/png": "[encoded data removed]",
      "text/plain": [
       "<Figure size 432x288 with 1 Axes>"
      ]
     },
     "metadata": {
      "needs_background": "light"
     },
     "output_type": "display_data"
    }
   ],
   "source": [
    "df[['Purchase-Decision']].plot.hist(bins = 20, title = 'purchase-decision')"
   ]
  },
  {
   "cell_type": "markdown",
   "metadata": {},
   "source": [
    "People agreed to the complete information on listed seller and product being offered as given in the data."
   ]
  },
  {
   "cell_type": "code",
   "execution_count": 371,
   "metadata": {},
   "outputs": [],
   "source": [
    "#21th column:'21 All relevant information on listed products must be stated clearly'"
   ]
  },
  {
   "cell_type": "code",
   "execution_count": 372,
   "metadata": {},
   "outputs": [],
   "source": [
    "#renaming this particular column\n",
    "df.rename(columns = {'21 All relevant information on listed products must be stated clearly': \"Relevant\"}, inplace = True)"
   ]
  },
  {
   "cell_type": "code",
   "execution_count": 373,
   "metadata": {},
   "outputs": [
    {
     "data": {
      "text/plain": [
       "Agree (4)                132\n",
       "Strongly agree (5)       107\n",
       "Strongly disagree (1)     18\n",
       "Dis-agree (2)             12\n",
       "Name: Relevant, dtype: int64"
      ]
     },
     "execution_count": 373,
     "metadata": {},
     "output_type": "execute_result"
    }
   ],
   "source": [
    "df['Relevant'].value_counts()"
   ]
  },
  {
   "cell_type": "code",
   "execution_count": 374,
   "metadata": {},
   "outputs": [],
   "source": [
    "df['Relevant']=LabelEncoder().fit_transform(df['Relevant'])"
   ]
  },
  {
   "cell_type": "code",
   "execution_count": 375,
   "metadata": {},
   "outputs": [
    {
     "data": {
      "text/plain": [
       "<matplotlib.axes._subplots.AxesSubplot at 0x70c6aa5310>"
      ]
     },
     "execution_count": 375,
     "metadata": {},
     "output_type": "execute_result"
    },
    {
     "data": {
      "image/png": "[encoded data removed]",
      "text/plain": [
       "<Figure size 432x288 with 1 Axes>"
      ]
     },
     "metadata": {
      "needs_background": "light"
     },
     "output_type": "display_data"
    }
   ],
   "source": [
    "df[['Relevant']].plot.hist(bins = 20, title = 'relevant-info')"
   ]
  },
  {
   "cell_type": "markdown",
   "metadata": {},
   "source": [
    "According to the data,people agree to the statement'All relevant information on listed products must be stated clearly'."
   ]
  },
  {
   "cell_type": "code",
   "execution_count": 376,
   "metadata": {},
   "outputs": [],
   "source": [
    "#22nd column:'22 Ease of navigation in website'"
   ]
  },
  {
   "cell_type": "code",
   "execution_count": 377,
   "metadata": {},
   "outputs": [],
   "source": [
    "#renaming this particular column\n",
    "df.rename(columns = {'22 Ease of navigation in website': \"Navigate\"}, inplace = True)"
   ]
  },
  {
   "cell_type": "code",
   "execution_count": 378,
   "metadata": {},
   "outputs": [
    {
     "data": {
      "text/plain": [
       "Strongly agree (5)       141\n",
       "Agree (4)                105\n",
       "Strongly disagree (1)     18\n",
       "Dis-agree (2)              5\n",
       "Name: Navigate, dtype: int64"
      ]
     },
     "execution_count": 378,
     "metadata": {},
     "output_type": "execute_result"
    }
   ],
   "source": [
    "df['Navigate'].value_counts()"
   ]
  },
  {
   "cell_type": "code",
   "execution_count": 379,
   "metadata": {},
   "outputs": [],
   "source": [
    "df['Navigate']=LabelEncoder().fit_transform(df['Navigate'])"
   ]
  },
  {
   "cell_type": "code",
   "execution_count": 380,
   "metadata": {},
   "outputs": [
    {
     "data": {
      "text/plain": [
       "<matplotlib.axes._subplots.AxesSubplot at 0x70c6b6dd60>"
      ]
     },
     "execution_count": 380,
     "metadata": {},
     "output_type": "execute_result"
    },
    {
     "data": {
      "image/png": "[encoded data removed]",
      "text/plain": [
       "<Figure size 432x288 with 1 Axes>"
      ]
     },
     "metadata": {
      "needs_background": "light"
     },
     "output_type": "display_data"
    }
   ],
   "source": [
    "df[['Navigate']].plot.hist(bins = 20, title = 'easy-navigate')"
   ]
  },
  {
   "cell_type": "markdown",
   "metadata": {},
   "source": [
    "People strongly agree to the statement'Ease of navigation in website'."
   ]
  },
  {
   "cell_type": "code",
   "execution_count": 381,
   "metadata": {},
   "outputs": [],
   "source": [
    "#23rd column:'23 Loading and processing speed'"
   ]
  },
  {
   "cell_type": "code",
   "execution_count": 382,
   "metadata": {},
   "outputs": [],
   "source": [
    "#renaming this particular column\n",
    "df.rename(columns = {'23 Loading and processing speed': \"Speed\"}, inplace = True)"
   ]
  },
  {
   "cell_type": "code",
   "execution_count": 383,
   "metadata": {},
   "outputs": [
    {
     "data": {
      "text/plain": [
       "Strongly agree (5)       115\n",
       "Agree (4)                112\n",
       "Dis-agree (2)             18\n",
       "Indifferent (3)           12\n",
       "Strongly disagree (1)     12\n",
       "Name: Speed, dtype: int64"
      ]
     },
     "execution_count": 383,
     "metadata": {},
     "output_type": "execute_result"
    }
   ],
   "source": [
    "df['Speed'].value_counts()"
   ]
  },
  {
   "cell_type": "code",
   "execution_count": 384,
   "metadata": {},
   "outputs": [],
   "source": [
    "df['Speed']=LabelEncoder().fit_transform(df['Speed'])"
   ]
  },
  {
   "cell_type": "code",
   "execution_count": 385,
   "metadata": {},
   "outputs": [
    {
     "data": {
      "text/plain": [
       "<matplotlib.axes._subplots.AxesSubplot at 0x70c6bff6a0>"
      ]
     },
     "execution_count": 385,
     "metadata": {},
     "output_type": "execute_result"
    },
    {
     "data": {
      "image/png": "[encoded data removed]",
      "text/plain": [
       "<Figure size 432x288 with 1 Axes>"
      ]
     },
     "metadata": {
      "needs_background": "light"
     },
     "output_type": "display_data"
    }
   ],
   "source": [
    "df[['Speed']].plot.hist(bins = 20, title = 'process-speed')"
   ]
  },
  {
   "cell_type": "markdown",
   "metadata": {},
   "source": [
    "As per the data,the processing speed is good ,so people strongly agree to the statement'Loading and processing speed'."
   ]
  },
  {
   "cell_type": "code",
   "execution_count": 386,
   "metadata": {},
   "outputs": [
    {
     "data": {
      "text/plain": [
       "Index(['1Gender of respondent', 'Age', '3 Which city do you shop online from?',\n",
       "       'Pin-Code', '5 Since How Long You are Shopping Online ?',\n",
       "       '6 How many times you have made an online purchase in the past 1 year?',\n",
       "       'Internet-access', 'Device', 'Screen-size', 'Operating-system',\n",
       "       'Browser', 'Online-store', 'Online-retail',\n",
       "       '14 How much time do you explore the e- retail store before making a purchase decision?                                                                   ',\n",
       "       'Payment', 'Items', 'Why', 'Content', 'product', 'Purchase-Decision',\n",
       "       'Relevant', 'Navigate', 'Speed',\n",
       "       '24 User friendly Interface of the website',\n",
       "       '25 Convenient Payment methods',\n",
       "       '26 Trust that the online retail store will fulfill its part of the transaction at the stipulated time',\n",
       "       '27 Empathy (readiness to assist with queries) towards the customers',\n",
       "       '28 Being able to guarantee the privacy of the customer',\n",
       "       '29 Responsiveness, availability of several communication channels (email, online rep, twitter, phone etc.)',\n",
       "       '30 Online shopping gives monetary benefit and discounts',\n",
       "       '31 Enjoyment is derived from shopping online',\n",
       "       '32 Shopping online is convenient and flexible',\n",
       "       '33 Return and replacement policy of the e-tailer is important for purchase decision',\n",
       "       '34 Gaining access to loyalty programs is a benefit of shopping online',\n",
       "       '35 Displaying quality Information on the website improves satisfaction of customers',\n",
       "       '36 User derive satisfaction while shopping on a good quality website or application',\n",
       "       '37 Net Benefit derived from shopping online can lead to users satisfaction',\n",
       "       '38 User satisfaction cannot exist without trust',\n",
       "       '39 Offering a wide variety of listed product in several category',\n",
       "       '40 Provision of complete and relevant product information',\n",
       "       '41 Monetary savings',\n",
       "       '42 The Convenience of patronizing the online retailer',\n",
       "       '43 Shopping on the website gives you the sense of adventure',\n",
       "       '44 Shopping on your preferred e-tailer enhances your social status',\n",
       "       '45 You feel gratification shopping on your favorite e-tailer',\n",
       "       '46 Shopping on the website helps you fulfill certain roles',\n",
       "       '47 Getting value for money spent',\n",
       "       'From the following, tick any (or all) of the online retailers you have shopped from;                                                                           ',\n",
       "       'Easy to use website or application',\n",
       "       'Visual appealing web-page layout', 'Wild variety of product on offer',\n",
       "       'Complete, relevant description information of products',\n",
       "       'Fast loading website speed of website and application',\n",
       "       'Reliability of the website or application',\n",
       "       'Quickness to complete purchase',\n",
       "       'Availability of several payment options', 'Speedy order delivery ',\n",
       "       'Privacy of customers’ information',\n",
       "       'Security of customer financial information',\n",
       "       'Perceived Trustworthiness',\n",
       "       'Presence of online assistance through multi-channel',\n",
       "       'Longer time to get logged in (promotion, sales period)',\n",
       "       'Longer time in displaying graphics and photos (promotion, sales period)',\n",
       "       'Late declaration of price (promotion, sales period)',\n",
       "       'Longer page loading time (promotion, sales period)',\n",
       "       'Limited mode of payment on most products (promotion, sales period)',\n",
       "       'Longer delivery period', 'Change in website/Application design',\n",
       "       'Frequent disruption when moving from one page to another',\n",
       "       'Website is as efficient as before',\n",
       "       'Which of the Indian online retailer would you recommend to a friend?'],\n",
       "      dtype='object')"
      ]
     },
     "execution_count": 386,
     "metadata": {},
     "output_type": "execute_result"
    }
   ],
   "source": [
    "#Now lets check the columns after renaming\n",
    "df.columns"
   ]
  },
  {
   "cell_type": "code",
   "execution_count": 387,
   "metadata": {},
   "outputs": [],
   "source": [
    "#24th column:'24 User friendly Interface of the website'"
   ]
  },
  {
   "cell_type": "code",
   "execution_count": 388,
   "metadata": {},
   "outputs": [],
   "source": [
    "#renaming this particular column\n",
    "df.rename(columns = {'24 User friendly Interface of the website': \"userF\"}, inplace = True)"
   ]
  },
  {
   "cell_type": "code",
   "execution_count": 389,
   "metadata": {},
   "outputs": [
    {
     "data": {
      "text/plain": [
       "Strongly agree (5)       189\n",
       "Agree (4)                 45\n",
       "Strongly disagree (1)     18\n",
       "Dis-agree (2)             12\n",
       "Indifferent (3)            5\n",
       "Name: userF, dtype: int64"
      ]
     },
     "execution_count": 389,
     "metadata": {},
     "output_type": "execute_result"
    }
   ],
   "source": [
    "df['userF'].value_counts()"
   ]
  },
  {
   "cell_type": "code",
   "execution_count": 390,
   "metadata": {},
   "outputs": [],
   "source": [
    "df['userF']=LabelEncoder().fit_transform(df['userF'])"
   ]
  },
  {
   "cell_type": "code",
   "execution_count": 391,
   "metadata": {},
   "outputs": [
    {
     "data": {
      "text/plain": [
       "<matplotlib.axes._subplots.AxesSubplot at 0x70c6ca0ca0>"
      ]
     },
     "execution_count": 391,
     "metadata": {},
     "output_type": "execute_result"
    },
    {
     "data": {
      "image/png": "[encoded data removed]",
      "text/plain": [
       "<Figure size 432x288 with 1 Axes>"
      ]
     },
     "metadata": {
      "needs_background": "light"
     },
     "output_type": "display_data"
    }
   ],
   "source": [
    "df[['userF']].plot.hist(bins = 20, title = 'user-friendly')"
   ]
  },
  {
   "cell_type": "markdown",
   "metadata": {},
   "source": [
    "People strongly agree to the statement given in the 24th column as given in the dataset."
   ]
  },
  {
   "cell_type": "code",
   "execution_count": 392,
   "metadata": {},
   "outputs": [],
   "source": [
    "#25th column:'25 Convenient Payment methods'"
   ]
  },
  {
   "cell_type": "code",
   "execution_count": 393,
   "metadata": {},
   "outputs": [],
   "source": [
    "#renaming this particular column\n",
    "df.rename(columns = {'25 Convenient Payment methods': \"method\"}, inplace = True)"
   ]
  },
  {
   "cell_type": "code",
   "execution_count": 394,
   "metadata": {},
   "outputs": [
    {
     "data": {
      "text/plain": [
       "Strongly agree (5)    159\n",
       "Agree (4)              80\n",
       "Dis-agree (2)          30\n",
       "Name: method, dtype: int64"
      ]
     },
     "execution_count": 394,
     "metadata": {},
     "output_type": "execute_result"
    }
   ],
   "source": [
    "df['method'].value_counts()"
   ]
  },
  {
   "cell_type": "markdown",
   "metadata": {},
   "source": [
    "Payment methods are convenient for the people,so they strongly agree to the statement."
   ]
  },
  {
   "cell_type": "code",
   "execution_count": 395,
   "metadata": {},
   "outputs": [],
   "source": [
    "#26th column:'26 Trust that the online retail store will fulfill its part of the transaction at the stipulated time'"
   ]
  },
  {
   "cell_type": "code",
   "execution_count": 396,
   "metadata": {},
   "outputs": [],
   "source": [
    "#renaming this particular column\n",
    "df.rename(columns = {'26 Trust that the online retail store will fulfill its part of the transaction at the stipulated time': \"transaction\"}, inplace = True)"
   ]
  },
  {
   "cell_type": "code",
   "execution_count": 397,
   "metadata": {},
   "outputs": [
    {
     "data": {
      "text/plain": [
       "Strongly agree (5)    141\n",
       "Agree (4)              86\n",
       "Disagree (2)           30\n",
       "indifferent  (3)       12\n",
       "Name: transaction, dtype: int64"
      ]
     },
     "execution_count": 397,
     "metadata": {},
     "output_type": "execute_result"
    }
   ],
   "source": [
    "df['transaction'].value_counts()"
   ]
  },
  {
   "cell_type": "markdown",
   "metadata": {},
   "source": [
    "People strongly agree to the statement made in the 26th column of the dataset."
   ]
  },
  {
   "cell_type": "code",
   "execution_count": 398,
   "metadata": {},
   "outputs": [],
   "source": [
    "#27th column:'27 Empathy (readiness to assist with queries) towards the customers'"
   ]
  },
  {
   "cell_type": "code",
   "execution_count": 399,
   "metadata": {},
   "outputs": [],
   "source": [
    "#renaming this particular column\n",
    "df.rename(columns = {'27 Empathy (readiness to assist with queries) towards the customers': \"queries\"}, inplace = True)"
   ]
  },
  {
   "cell_type": "code",
   "execution_count": 400,
   "metadata": {},
   "outputs": [
    {
     "data": {
      "text/plain": [
       "Strongly agree (5)       194\n",
       "Agree (4)                 42\n",
       "Strongly disagree (1)     18\n",
       "indifferent (3)           15\n",
       "Name: queries, dtype: int64"
      ]
     },
     "execution_count": 400,
     "metadata": {},
     "output_type": "execute_result"
    }
   ],
   "source": [
    "df['queries'].value_counts()"
   ]
  },
  {
   "cell_type": "markdown",
   "metadata": {},
   "source": [
    "People strongly agree to the statement."
   ]
  },
  {
   "cell_type": "code",
   "execution_count": 401,
   "metadata": {},
   "outputs": [],
   "source": [
    "#28th column:'28 Being able to guarantee the privacy of the customer'"
   ]
  },
  {
   "cell_type": "code",
   "execution_count": 402,
   "metadata": {},
   "outputs": [],
   "source": [
    "#renaming this particular column\n",
    "df.rename(columns = {'28 Being able to guarantee the privacy of the customer': \"privacy\"}, inplace = True)"
   ]
  },
  {
   "cell_type": "code",
   "execution_count": 403,
   "metadata": {},
   "outputs": [
    {
     "data": {
      "text/plain": [
       "Strongly agree (5)    185\n",
       "Agree (4)              58\n",
       "indifferent (3)        26\n",
       "Name: privacy, dtype: int64"
      ]
     },
     "execution_count": 403,
     "metadata": {},
     "output_type": "execute_result"
    }
   ],
   "source": [
    "df['privacy'].value_counts()"
   ]
  },
  {
   "cell_type": "markdown",
   "metadata": {},
   "source": [
    "Privacy of the customer is maintained during shopping online ,so people strongly agree to the above statement in the 28th column of the dataset."
   ]
  },
  {
   "cell_type": "code",
   "execution_count": 404,
   "metadata": {},
   "outputs": [],
   "source": [
    "#29th column:'29 Responsiveness, availability of several communication channels (email, online rep, twitter, phone etc.)'"
   ]
  },
  {
   "cell_type": "code",
   "execution_count": 405,
   "metadata": {},
   "outputs": [],
   "source": [
    "#renaming this particular column\n",
    "df.rename(columns = {'29 Responsiveness, availability of several communication channels (email, online rep, twitter, phone etc.)': \"email\"}, inplace = True)"
   ]
  },
  {
   "cell_type": "code",
   "execution_count": 406,
   "metadata": {},
   "outputs": [
    {
     "data": {
      "text/plain": [
       "Strongly agree (5)       149\n",
       "Agree (4)                 94\n",
       "indifferent (3)           15\n",
       "Strongly disagree (1)     11\n",
       "Name: email, dtype: int64"
      ]
     },
     "execution_count": 406,
     "metadata": {},
     "output_type": "execute_result"
    }
   ],
   "source": [
    "df['email'].value_counts()"
   ]
  },
  {
   "cell_type": "markdown",
   "metadata": {},
   "source": [
    "If customer have any query regarding any issue,it gets solved very quickly,means responsiveness is good,so people strongly agree to the statement according to the data."
   ]
  },
  {
   "cell_type": "code",
   "execution_count": 407,
   "metadata": {},
   "outputs": [],
   "source": [
    "#30th column:'30 Online shopping gives monetary benefit and discounts'"
   ]
  },
  {
   "cell_type": "code",
   "execution_count": 408,
   "metadata": {},
   "outputs": [],
   "source": [
    "#renaming this particular column\n",
    "df.rename(columns = {'30 Online shopping gives monetary benefit and discounts': \"benefit\"}, inplace = True)"
   ]
  },
  {
   "cell_type": "code",
   "execution_count": 409,
   "metadata": {},
   "outputs": [
    {
     "data": {
      "text/plain": [
       "Strongly agree (5)       105\n",
       "Agree (4)                 85\n",
       "indifferent (3)           50\n",
       "Strongly disagree (1)     18\n",
       "Dis-agree (2)             11\n",
       "Name: benefit, dtype: int64"
      ]
     },
     "execution_count": 409,
     "metadata": {},
     "output_type": "execute_result"
    }
   ],
   "source": [
    "df['benefit'].value_counts()"
   ]
  },
  {
   "cell_type": "markdown",
   "metadata": {},
   "source": [
    "Online shopping gives monetary benefit and discounts during shopping online,so people strongly agreed to the statement."
   ]
  },
  {
   "cell_type": "code",
   "execution_count": 410,
   "metadata": {},
   "outputs": [],
   "source": [
    "#31th column:'31 Enjoyment is derived from shopping online'"
   ]
  },
  {
   "cell_type": "code",
   "execution_count": 411,
   "metadata": {},
   "outputs": [],
   "source": [
    "#renaming this particular column\n",
    "df.rename(columns = {'31 Enjoyment is derived from shopping online': \"enjoy\"}, inplace = True)"
   ]
  },
  {
   "cell_type": "code",
   "execution_count": 412,
   "metadata": {},
   "outputs": [
    {
     "data": {
      "text/plain": [
       "Strongly agree (5)       86\n",
       "indifferent (3)          75\n",
       "Agree (4)                59\n",
       "Strongly disagree (1)    30\n",
       "Dis-agree (2)            19\n",
       "Name: enjoy, dtype: int64"
      ]
     },
     "execution_count": 412,
     "metadata": {},
     "output_type": "execute_result"
    }
   ],
   "source": [
    "df['enjoy'].value_counts()"
   ]
  },
  {
   "cell_type": "code",
   "execution_count": 413,
   "metadata": {},
   "outputs": [],
   "source": [
    "df['enjoy']=LabelEncoder().fit_transform(df['enjoy'])"
   ]
  },
  {
   "cell_type": "code",
   "execution_count": 414,
   "metadata": {},
   "outputs": [
    {
     "data": {
      "text/plain": [
       "<matplotlib.axes._subplots.AxesSubplot at 0x70c6d2e430>"
      ]
     },
     "execution_count": 414,
     "metadata": {},
     "output_type": "execute_result"
    },
    {
     "data": {
      "image/png": "[encoded data removed]",
      "text/plain": [
       "<Figure size 432x288 with 1 Axes>"
      ]
     },
     "metadata": {
      "needs_background": "light"
     },
     "output_type": "display_data"
    }
   ],
   "source": [
    "df[['enjoy']].plot.hist(bins = 20, title = 'enjoyment')"
   ]
  },
  {
   "cell_type": "markdown",
   "metadata": {},
   "source": [
    "Customers enjoy shopping online ,so the statement is strongly agreed by the people as seen in the graph."
   ]
  },
  {
   "cell_type": "code",
   "execution_count": 415,
   "metadata": {},
   "outputs": [],
   "source": [
    "#32th column:'32 Shopping online is convenient and flexible'"
   ]
  },
  {
   "cell_type": "code",
   "execution_count": 416,
   "metadata": {},
   "outputs": [],
   "source": [
    "#renaming this particular column\n",
    "df.rename(columns = {'32 Shopping online is convenient and flexible': \"convenient\"}, inplace = True)"
   ]
  },
  {
   "cell_type": "code",
   "execution_count": 417,
   "metadata": {},
   "outputs": [
    {
     "data": {
      "text/plain": [
       "Strongly agree (5)    146\n",
       "Agree (4)              78\n",
       "indifferent (3)        33\n",
       "Dis-agree (2)          12\n",
       "Name: convenient, dtype: int64"
      ]
     },
     "execution_count": 417,
     "metadata": {},
     "output_type": "execute_result"
    }
   ],
   "source": [
    "df['convenient'].value_counts()"
   ]
  },
  {
   "cell_type": "code",
   "execution_count": 418,
   "metadata": {},
   "outputs": [],
   "source": [
    "df['convenient']=LabelEncoder().fit_transform(df['convenient'])"
   ]
  },
  {
   "cell_type": "code",
   "execution_count": 419,
   "metadata": {},
   "outputs": [
    {
     "data": {
      "text/plain": [
       "<matplotlib.axes._subplots.AxesSubplot at 0x70c6de8f70>"
      ]
     },
     "execution_count": 419,
     "metadata": {},
     "output_type": "execute_result"
    },
    {
     "data": {
      "image/png": "[encoded data removed]",
      "text/plain": [
       "<Figure size 432x288 with 1 Axes>"
      ]
     },
     "metadata": {
      "needs_background": "light"
     },
     "output_type": "display_data"
    }
   ],
   "source": [
    "df[['convenient']].plot.hist(bins = 20, title = 'convenient')"
   ]
  },
  {
   "cell_type": "markdown",
   "metadata": {},
   "source": [
    "Customers strongly agree to the statement as per data."
   ]
  },
  {
   "cell_type": "code",
   "execution_count": 420,
   "metadata": {},
   "outputs": [],
   "source": [
    "#33rd column:'33 Return and replacement policy of the e-tailer is important for purchase decision'"
   ]
  },
  {
   "cell_type": "code",
   "execution_count": 421,
   "metadata": {},
   "outputs": [],
   "source": [
    "#renaming this particular column\n",
    "df.rename(columns = {'33 Return and replacement policy of the e-tailer is important for purchase decision': \"return\"}, inplace = True)"
   ]
  },
  {
   "cell_type": "code",
   "execution_count": 422,
   "metadata": {},
   "outputs": [
    {
     "data": {
      "text/plain": [
       "Strongly agree (5)    198\n",
       "Agree (4)              51\n",
       "Dis-agree (2)          20\n",
       "Name: return, dtype: int64"
      ]
     },
     "execution_count": 422,
     "metadata": {},
     "output_type": "execute_result"
    }
   ],
   "source": [
    "df['return'].value_counts()"
   ]
  },
  {
   "cell_type": "code",
   "execution_count": 423,
   "metadata": {},
   "outputs": [],
   "source": [
    "df['return']=LabelEncoder().fit_transform(df['return'])"
   ]
  },
  {
   "cell_type": "code",
   "execution_count": 424,
   "metadata": {},
   "outputs": [
    {
     "data": {
      "text/plain": [
       "<matplotlib.axes._subplots.AxesSubplot at 0x70c6e67c10>"
      ]
     },
     "execution_count": 424,
     "metadata": {},
     "output_type": "execute_result"
    },
    {
     "data": {
      "image/png": "[encoded data removed]",
      "text/plain": [
       "<Figure size 432x288 with 1 Axes>"
      ]
     },
     "metadata": {
      "needs_background": "light"
     },
     "output_type": "display_data"
    }
   ],
   "source": [
    "df[['return']].plot.hist(bins = 20, title = 'replacement_policy')"
   ]
  },
  {
   "cell_type": "markdown",
   "metadata": {},
   "source": [
    "Customers strongly agree to the statement."
   ]
  },
  {
   "cell_type": "code",
   "execution_count": 425,
   "metadata": {},
   "outputs": [],
   "source": [
    "#34th column:'34 Gaining access to loyalty programs is a benefit of shopping online'"
   ]
  },
  {
   "cell_type": "code",
   "execution_count": 426,
   "metadata": {},
   "outputs": [],
   "source": [
    "#renaming this particular column\n",
    "df.rename(columns = {'34 Gaining access to loyalty programs is a benefit of shopping online': \"loyal\"}, inplace = True)"
   ]
  },
  {
   "cell_type": "code",
   "execution_count": 427,
   "metadata": {},
   "outputs": [
    {
     "data": {
      "text/plain": [
       "Strongly agree (5)       115\n",
       "Agree (4)                 64\n",
       "indifferent (3)           64\n",
       "Dis-agree (2)             15\n",
       "Strongly disagree (1)     11\n",
       "Name: loyal, dtype: int64"
      ]
     },
     "execution_count": 427,
     "metadata": {},
     "output_type": "execute_result"
    }
   ],
   "source": [
    "df['loyal'].value_counts()"
   ]
  },
  {
   "cell_type": "code",
   "execution_count": 428,
   "metadata": {},
   "outputs": [],
   "source": [
    "df['loyal']=LabelEncoder().fit_transform(df['loyal'])"
   ]
  },
  {
   "cell_type": "code",
   "execution_count": 429,
   "metadata": {},
   "outputs": [
    {
     "data": {
      "text/plain": [
       "<matplotlib.axes._subplots.AxesSubplot at 0x70c6ef4ee0>"
      ]
     },
     "execution_count": 429,
     "metadata": {},
     "output_type": "execute_result"
    },
    {
     "data": {
      "image/png": "[encoded data removed]",
      "text/plain": [
       "<Figure size 432x288 with 1 Axes>"
      ]
     },
     "metadata": {
      "needs_background": "light"
     },
     "output_type": "display_data"
    }
   ],
   "source": [
    "df[['loyal']].plot.hist(bins = 20, title = 'loyalty')"
   ]
  },
  {
   "cell_type": "markdown",
   "metadata": {},
   "source": [
    "Customers strongly agree to the statement'Gaining access to loyalty programs is a benefit of shopping online'."
   ]
  },
  {
   "cell_type": "code",
   "execution_count": 430,
   "metadata": {},
   "outputs": [],
   "source": [
    "#35th column:'35 Displaying quality Information on the website improves satisfaction of customers'"
   ]
  },
  {
   "cell_type": "code",
   "execution_count": 431,
   "metadata": {},
   "outputs": [],
   "source": [
    "#renaming this particular column\n",
    "df.rename(columns = {'35 Displaying quality Information on the website improves satisfaction of customers': \"satisfy\"}, inplace = True)"
   ]
  },
  {
   "cell_type": "code",
   "execution_count": 432,
   "metadata": {},
   "outputs": [
    {
     "data": {
      "text/plain": [
       "Strongly agree (5)    133\n",
       "Agree (4)              80\n",
       "indifferent (3)        56\n",
       "Name: satisfy, dtype: int64"
      ]
     },
     "execution_count": 432,
     "metadata": {},
     "output_type": "execute_result"
    }
   ],
   "source": [
    "df['satisfy'].value_counts()"
   ]
  },
  {
   "cell_type": "code",
   "execution_count": 433,
   "metadata": {},
   "outputs": [],
   "source": [
    "df['satisfy']=LabelEncoder().fit_transform(df['satisfy'])"
   ]
  },
  {
   "cell_type": "code",
   "execution_count": 434,
   "metadata": {},
   "outputs": [
    {
     "data": {
      "text/plain": [
       "<matplotlib.axes._subplots.AxesSubplot at 0x70c6faad60>"
      ]
     },
     "execution_count": 434,
     "metadata": {},
     "output_type": "execute_result"
    },
    {
     "data": {
      "image/png": "[encoded data removed]",
      "text/plain": [
       "<Figure size 432x288 with 1 Axes>"
      ]
     },
     "metadata": {
      "needs_background": "light"
     },
     "output_type": "display_data"
    }
   ],
   "source": [
    "df[['satisfy']].plot.hist(bins = 20, title = 'displaying_quality')"
   ]
  },
  {
   "cell_type": "markdown",
   "metadata": {},
   "source": [
    "'Displaying quality Information on the website improves satisfaction of customers'-Customers strongly agree to this statement"
   ]
  },
  {
   "cell_type": "code",
   "execution_count": 435,
   "metadata": {},
   "outputs": [],
   "source": [
    "#36th column:'36 User derive satisfaction while shopping on a good quality website or application'"
   ]
  },
  {
   "cell_type": "code",
   "execution_count": 436,
   "metadata": {},
   "outputs": [],
   "source": [
    "#renaming this particular column\n",
    "df.rename(columns = {'36 User derive satisfaction while shopping on a good quality website or application': \"user\"}, inplace = True)"
   ]
  },
  {
   "cell_type": "code",
   "execution_count": 437,
   "metadata": {},
   "outputs": [
    {
     "data": {
      "text/plain": [
       "Strongly agree (5)    175\n",
       "Agree (4)              86\n",
       "Dis-agree (2)           8\n",
       "Name: user, dtype: int64"
      ]
     },
     "execution_count": 437,
     "metadata": {},
     "output_type": "execute_result"
    }
   ],
   "source": [
    "df['user'].value_counts()"
   ]
  },
  {
   "cell_type": "markdown",
   "metadata": {},
   "source": [
    "Customers strongly agree to the statement."
   ]
  },
  {
   "cell_type": "code",
   "execution_count": 438,
   "metadata": {},
   "outputs": [],
   "source": [
    "#37th column:'37 Net Benefit derived from shopping online can lead to users satisfaction'"
   ]
  },
  {
   "cell_type": "code",
   "execution_count": 439,
   "metadata": {},
   "outputs": [],
   "source": [
    "#renaming this particular column\n",
    "df.rename(columns = {'37 Net Benefit derived from shopping online can lead to users satisfaction': \"Net_Benefit\"}, inplace = True)"
   ]
  },
  {
   "cell_type": "code",
   "execution_count": 440,
   "metadata": {},
   "outputs": [
    {
     "data": {
      "text/plain": [
       "Strongly agree (5)    164\n",
       "Agree (4)              54\n",
       "indifferent (3)        40\n",
       "Dis-agree (2)          11\n",
       "Name: Net_Benefit, dtype: int64"
      ]
     },
     "execution_count": 440,
     "metadata": {},
     "output_type": "execute_result"
    }
   ],
   "source": [
    "df['Net_Benefit'].value_counts()"
   ]
  },
  {
   "cell_type": "markdown",
   "metadata": {},
   "source": [
    "Customers strongly agree to this statement."
   ]
  },
  {
   "cell_type": "code",
   "execution_count": 441,
   "metadata": {},
   "outputs": [],
   "source": [
    "#38th column:'38 User satisfaction cannot exist without trust'"
   ]
  },
  {
   "cell_type": "code",
   "execution_count": 442,
   "metadata": {},
   "outputs": [],
   "source": [
    "#renaming this particular column\n",
    "df.rename(columns = {'38 User satisfaction cannot exist without trust': \"trust\"}, inplace = True)"
   ]
  },
  {
   "cell_type": "code",
   "execution_count": 443,
   "metadata": {},
   "outputs": [
    {
     "data": {
      "text/plain": [
       "Strongly agree (5)       122\n",
       "Agree (4)                117\n",
       "Strongly disagree (1)     18\n",
       "Dis-agree (2)              7\n",
       "indifferent (3)            5\n",
       "Name: trust, dtype: int64"
      ]
     },
     "execution_count": 443,
     "metadata": {},
     "output_type": "execute_result"
    }
   ],
   "source": [
    "df['trust'].value_counts()"
   ]
  },
  {
   "cell_type": "markdown",
   "metadata": {},
   "source": [
    "Customers strongly agree to the statement."
   ]
  },
  {
   "cell_type": "code",
   "execution_count": 444,
   "metadata": {},
   "outputs": [],
   "source": [
    "#39th column:'39 Offering a wide variety of listed product in several category'"
   ]
  },
  {
   "cell_type": "code",
   "execution_count": 445,
   "metadata": {},
   "outputs": [],
   "source": [
    "#renaming this particular column\n",
    "df.rename(columns = {'39 Offering a wide variety of listed product in several category': \"wide_variety\"}, inplace = True)"
   ]
  },
  {
   "cell_type": "code",
   "execution_count": 446,
   "metadata": {},
   "outputs": [
    {
     "data": {
      "text/plain": [
       "Strongly agree (5)    111\n",
       "Agree (4)              94\n",
       "indifferent (3)        57\n",
       "Dis-agree (2)           7\n",
       "Name: wide_variety, dtype: int64"
      ]
     },
     "execution_count": 446,
     "metadata": {},
     "output_type": "execute_result"
    }
   ],
   "source": [
    "df['wide_variety'].value_counts()"
   ]
  },
  {
   "cell_type": "markdown",
   "metadata": {},
   "source": [
    "Statement is strongly agreed by the customers"
   ]
  },
  {
   "cell_type": "code",
   "execution_count": 447,
   "metadata": {},
   "outputs": [],
   "source": [
    "#40th column:'40 Provision of complete and relevant product information'"
   ]
  },
  {
   "cell_type": "code",
   "execution_count": 448,
   "metadata": {},
   "outputs": [],
   "source": [
    "#renaming this particular column\n",
    "df.rename(columns = {'40 Provision of complete and relevant product information': \"complete_relevant\"}, inplace = True)"
   ]
  },
  {
   "cell_type": "code",
   "execution_count": 449,
   "metadata": {},
   "outputs": [
    {
     "data": {
      "text/plain": [
       "Strongly agree (5)    135\n",
       "Agree (4)              98\n",
       "indifferent (3)        31\n",
       "Disagree (2)            5\n",
       "Name: complete_relevant, dtype: int64"
      ]
     },
     "execution_count": 449,
     "metadata": {},
     "output_type": "execute_result"
    }
   ],
   "source": [
    "df['complete_relevant'].value_counts()"
   ]
  },
  {
   "cell_type": "markdown",
   "metadata": {},
   "source": [
    "Yes,customers strongly agree to the statement."
   ]
  },
  {
   "cell_type": "code",
   "execution_count": 450,
   "metadata": {},
   "outputs": [],
   "source": [
    "#41th column:'41 Monetary savings'"
   ]
  },
  {
   "cell_type": "code",
   "execution_count": 451,
   "metadata": {},
   "outputs": [],
   "source": [
    "#renaming this particular column\n",
    "df.rename(columns = {'41 Monetary savings': \"monetary\"}, inplace = True)"
   ]
  },
  {
   "cell_type": "code",
   "execution_count": 452,
   "metadata": {},
   "outputs": [
    {
     "data": {
      "text/plain": [
       "Strongly agree (5)    148\n",
       "Agree (4)              75\n",
       "Disagree (2)           31\n",
       "indifferent (3)        15\n",
       "Name: monetary, dtype: int64"
      ]
     },
     "execution_count": 452,
     "metadata": {},
     "output_type": "execute_result"
    }
   ],
   "source": [
    "df['monetary'].value_counts()"
   ]
  },
  {
   "cell_type": "markdown",
   "metadata": {},
   "source": [
    "Customers strongly agree to the statement 'Monetary savings'."
   ]
  },
  {
   "cell_type": "code",
   "execution_count": 453,
   "metadata": {},
   "outputs": [],
   "source": [
    "#42nd column:'42 The Convenience of patronizing the online retailer'"
   ]
  },
  {
   "cell_type": "code",
   "execution_count": 454,
   "metadata": {},
   "outputs": [],
   "source": [
    "#renaming this particular column\n",
    "df.rename(columns = {'42 The Convenience of patronizing the online retailer': \"retail\"}, inplace = True)"
   ]
  },
  {
   "cell_type": "code",
   "execution_count": 455,
   "metadata": {},
   "outputs": [
    {
     "data": {
      "text/plain": [
       "Agree (4)             138\n",
       "indifferent (3)        77\n",
       "Strongly agree (5)     54\n",
       "Name: retail, dtype: int64"
      ]
     },
     "execution_count": 455,
     "metadata": {},
     "output_type": "execute_result"
    }
   ],
   "source": [
    "df['retail'].value_counts()"
   ]
  },
  {
   "cell_type": "code",
   "execution_count": 456,
   "metadata": {},
   "outputs": [],
   "source": [
    "df['retail']=LabelEncoder().fit_transform(df['retail'])"
   ]
  },
  {
   "cell_type": "code",
   "execution_count": 457,
   "metadata": {},
   "outputs": [
    {
     "data": {
      "text/plain": [
       "<matplotlib.axes._subplots.AxesSubplot at 0x70c704a670>"
      ]
     },
     "execution_count": 457,
     "metadata": {},
     "output_type": "execute_result"
    },
    {
     "data": {
      "image/png": "[encoded data removed]",
      "text/plain": [
       "<Figure size 432x288 with 1 Axes>"
      ]
     },
     "metadata": {
      "needs_background": "light"
     },
     "output_type": "display_data"
    }
   ],
   "source": [
    "df[['retail']].plot.hist(bins = 20, title = 'online_retailer')"
   ]
  },
  {
   "cell_type": "markdown",
   "metadata": {},
   "source": [
    "Customers agree to the statement."
   ]
  },
  {
   "cell_type": "code",
   "execution_count": 458,
   "metadata": {},
   "outputs": [],
   "source": [
    "#43rd column:'43 Shopping on the website gives you the sense of adventure'"
   ]
  },
  {
   "cell_type": "code",
   "execution_count": 459,
   "metadata": {},
   "outputs": [],
   "source": [
    "#renaming this particular column\n",
    "df.rename(columns = {'43 Shopping on the website gives you the sense of adventure': \"adventure\"}, inplace = True)"
   ]
  },
  {
   "cell_type": "code",
   "execution_count": 460,
   "metadata": {},
   "outputs": [
    {
     "data": {
      "text/plain": [
       "Agree (4)                101\n",
       "indifferent (3)           59\n",
       "Strongly agree (5)        54\n",
       "Dis-agree (2)             50\n",
       "Strongly disagree (1)      5\n",
       "Name: adventure, dtype: int64"
      ]
     },
     "execution_count": 460,
     "metadata": {},
     "output_type": "execute_result"
    }
   ],
   "source": [
    "df['adventure'].value_counts()"
   ]
  },
  {
   "cell_type": "code",
   "execution_count": 461,
   "metadata": {},
   "outputs": [],
   "source": [
    "df['adventure']=LabelEncoder().fit_transform(df['adventure'])"
   ]
  },
  {
   "cell_type": "code",
   "execution_count": 462,
   "metadata": {},
   "outputs": [
    {
     "data": {
      "text/plain": [
       "<matplotlib.axes._subplots.AxesSubplot at 0x70c70bf280>"
      ]
     },
     "execution_count": 462,
     "metadata": {},
     "output_type": "execute_result"
    },
    {
     "data": {
      "image/png": "[encoded data removed]",
      "text/plain": [
       "<Figure size 432x288 with 1 Axes>"
      ]
     },
     "metadata": {
      "needs_background": "light"
     },
     "output_type": "display_data"
    }
   ],
   "source": [
    "df[['adventure']].plot.hist(bins = 20, title = 'sense_of_adventure')"
   ]
  },
  {
   "cell_type": "markdown",
   "metadata": {},
   "source": [
    "Customers agree to the statement 'Shopping on the website gives you the sense of adventure'."
   ]
  },
  {
   "cell_type": "code",
   "execution_count": 463,
   "metadata": {},
   "outputs": [],
   "source": [
    "#44th clumn:'44 Shopping on your preferred e-tailer enhances your social status'"
   ]
  },
  {
   "cell_type": "code",
   "execution_count": 464,
   "metadata": {},
   "outputs": [],
   "source": [
    "#renaming this particular column\n",
    "df.rename(columns = {'44 Shopping on your preferred e-tailer enhances your social status': \"social_status\"}, inplace = True)"
   ]
  },
  {
   "cell_type": "code",
   "execution_count": 465,
   "metadata": {},
   "outputs": [
    {
     "data": {
      "text/plain": [
       "indifferent (3)          100\n",
       "Agree (4)                 59\n",
       "Strongly agree (5)        48\n",
       "Strongly disagree (1)     33\n",
       "Dis-agree (2)             29\n",
       "Name: social_status, dtype: int64"
      ]
     },
     "execution_count": 465,
     "metadata": {},
     "output_type": "execute_result"
    }
   ],
   "source": [
    "df['social_status'].value_counts()"
   ]
  },
  {
   "cell_type": "markdown",
   "metadata": {},
   "source": [
    " Majority of customers clicked indifferent to the statement."
   ]
  },
  {
   "cell_type": "code",
   "execution_count": 466,
   "metadata": {},
   "outputs": [],
   "source": [
    "#45th column:'45 You feel gratification shopping on your favorite e-tailer'"
   ]
  },
  {
   "cell_type": "code",
   "execution_count": 467,
   "metadata": {},
   "outputs": [],
   "source": [
    "#renaming this particular column\n",
    "df.rename(columns = {'45 You feel gratification shopping on your favorite e-tailer': \"gratify\"}, inplace = True)"
   ]
  },
  {
   "cell_type": "code",
   "execution_count": 468,
   "metadata": {},
   "outputs": [
    {
     "data": {
      "text/plain": [
       "indifferent (3)          101\n",
       "Strongly agree (5)        65\n",
       "Agree (4)                 63\n",
       "Disagree (2)              22\n",
       "Strongly disagree (1)     18\n",
       "Name: gratify, dtype: int64"
      ]
     },
     "execution_count": 468,
     "metadata": {},
     "output_type": "execute_result"
    }
   ],
   "source": [
    "df['gratify'].value_counts()"
   ]
  },
  {
   "cell_type": "markdown",
   "metadata": {},
   "source": [
    "Majority of customers clicked indifferent to the statement."
   ]
  },
  {
   "cell_type": "code",
   "execution_count": 469,
   "metadata": {},
   "outputs": [],
   "source": [
    "#46th column:'46 Shopping on the website helps you fulfill certain roles'"
   ]
  },
  {
   "cell_type": "code",
   "execution_count": 470,
   "metadata": {},
   "outputs": [],
   "source": [
    "#renaming this particular column\n",
    "df.rename(columns = {'46 Shopping on the website helps you fulfill certain roles': \"role\"}, inplace = True)"
   ]
  },
  {
   "cell_type": "code",
   "execution_count": 471,
   "metadata": {},
   "outputs": [
    {
     "data": {
      "text/plain": [
       "Agree (4)                88\n",
       "indifferent (3)          88\n",
       "Strongly agree (5)       38\n",
       "Strongly disagree (1)    33\n",
       "Dis-agree (2)            22\n",
       "Name: role, dtype: int64"
      ]
     },
     "execution_count": 471,
     "metadata": {},
     "output_type": "execute_result"
    }
   ],
   "source": [
    "df['role'].value_counts()"
   ]
  },
  {
   "cell_type": "markdown",
   "metadata": {},
   "source": [
    "customers clicked on both indifferent and agree for the above statement."
   ]
  },
  {
   "cell_type": "code",
   "execution_count": 472,
   "metadata": {},
   "outputs": [],
   "source": [
    "#47th column:'47 Getting value for money spent'"
   ]
  },
  {
   "cell_type": "code",
   "execution_count": 473,
   "metadata": {},
   "outputs": [],
   "source": [
    "#renaming this particular column\n",
    "df.rename(columns = {'47 Getting value for money spent': \"value\"}, inplace = True)"
   ]
  },
  {
   "cell_type": "code",
   "execution_count": 474,
   "metadata": {},
   "outputs": [
    {
     "data": {
      "text/plain": [
       "Agree (4)             149\n",
       "Strongly agree (5)     82\n",
       "indifferent (3)        38\n",
       "Name: value, dtype: int64"
      ]
     },
     "execution_count": 474,
     "metadata": {},
     "output_type": "execute_result"
    }
   ],
   "source": [
    "df['value'].value_counts()"
   ]
  },
  {
   "cell_type": "code",
   "execution_count": 475,
   "metadata": {},
   "outputs": [],
   "source": [
    "df['value']=LabelEncoder().fit_transform(df['value'])"
   ]
  },
  {
   "cell_type": "code",
   "execution_count": 476,
   "metadata": {},
   "outputs": [
    {
     "data": {
      "text/plain": [
       "<matplotlib.axes._subplots.AxesSubplot at 0x70c57dd790>"
      ]
     },
     "execution_count": 476,
     "metadata": {},
     "output_type": "execute_result"
    },
    {
     "data": {
      "image/png": "[encoded data removed]",
      "text/plain": [
       "<Figure size 432x288 with 1 Axes>"
      ]
     },
     "metadata": {
      "needs_background": "light"
     },
     "output_type": "display_data"
    }
   ],
   "source": [
    "df[['value']].plot.hist(bins = 20, title = 'money_spent')"
   ]
  },
  {
   "cell_type": "markdown",
   "metadata": {},
   "source": [
    "Customers agree to the statement 'Getting value for money spent',majority clicked on the button'agree'."
   ]
  },
  {
   "cell_type": "code",
   "execution_count": 477,
   "metadata": {},
   "outputs": [
    {
     "data": {
      "text/plain": [
       "Index(['1Gender of respondent', 'Age', '3 Which city do you shop online from?',\n",
       "       'Pin-Code', '5 Since How Long You are Shopping Online ?',\n",
       "       '6 How many times you have made an online purchase in the past 1 year?',\n",
       "       'Internet-access', 'Device', 'Screen-size', 'Operating-system',\n",
       "       'Browser', 'Online-store', 'Online-retail',\n",
       "       '14 How much time do you explore the e- retail store before making a purchase decision?                                                                   ',\n",
       "       'Payment', 'Items', 'Why', 'Content', 'product', 'Purchase-Decision',\n",
       "       'Relevant', 'Navigate', 'Speed', 'userF', 'method', 'transaction',\n",
       "       'queries', 'privacy', 'email', 'benefit', 'enjoy', 'convenient',\n",
       "       'return', 'loyal', 'satisfy', 'user', 'Net_Benefit', 'trust',\n",
       "       'wide_variety', 'complete_relevant', 'monetary', 'retail', 'adventure',\n",
       "       'social_status', 'gratify', 'role', 'value',\n",
       "       'From the following, tick any (or all) of the online retailers you have shopped from;                                                                           ',\n",
       "       'Easy to use website or application',\n",
       "       'Visual appealing web-page layout', 'Wild variety of product on offer',\n",
       "       'Complete, relevant description information of products',\n",
       "       'Fast loading website speed of website and application',\n",
       "       'Reliability of the website or application',\n",
       "       'Quickness to complete purchase',\n",
       "       'Availability of several payment options', 'Speedy order delivery ',\n",
       "       'Privacy of customers’ information',\n",
       "       'Security of customer financial information',\n",
       "       'Perceived Trustworthiness',\n",
       "       'Presence of online assistance through multi-channel',\n",
       "       'Longer time to get logged in (promotion, sales period)',\n",
       "       'Longer time in displaying graphics and photos (promotion, sales period)',\n",
       "       'Late declaration of price (promotion, sales period)',\n",
       "       'Longer page loading time (promotion, sales period)',\n",
       "       'Limited mode of payment on most products (promotion, sales period)',\n",
       "       'Longer delivery period', 'Change in website/Application design',\n",
       "       'Frequent disruption when moving from one page to another',\n",
       "       'Website is as efficient as before',\n",
       "       'Which of the Indian online retailer would you recommend to a friend?'],\n",
       "      dtype='object')"
      ]
     },
     "execution_count": 477,
     "metadata": {},
     "output_type": "execute_result"
    }
   ],
   "source": [
    "#Lets check the columns again after renaming\n",
    "df.columns"
   ]
  },
  {
   "cell_type": "code",
   "execution_count": 478,
   "metadata": {},
   "outputs": [],
   "source": [
    "#48th column:'From the following, tick any (or all) of the online retailers you have shopped from;                                                                           '"
   ]
  },
  {
   "cell_type": "code",
   "execution_count": 479,
   "metadata": {},
   "outputs": [],
   "source": [
    "#renaming this particular column\n",
    "df.rename(columns = {'From the following, tick any (or all) of the online retailers you have shopped from;                                                                           ': \"tick\"}, inplace = True)"
   ]
  },
  {
   "cell_type": "code",
   "execution_count": 480,
   "metadata": {},
   "outputs": [
    {
     "data": {
      "text/plain": [
       "Amazon.in, Flipkart.com, Paytm.com, Myntra.com, Snapdeal.com    82\n",
       "Amazon.in, Flipkart.com, Myntra.com, Snapdeal.com               44\n",
       "Amazon.in, Flipkart.com                                         32\n",
       "Amazon.in, Flipkart.com, Paytm.com, Snapdeal.com                29\n",
       "Amazon.in, Flipkart.com, Snapdeal.com                           27\n",
       "Amazon.in, Paytm.com, Myntra.com                                20\n",
       "Amazon.in                                                       16\n",
       "Amazon.in, Paytm.com                                            12\n",
       "Amazon.in, Flipkart.com, Paytm.com                               7\n",
       "Name: tick, dtype: int64"
      ]
     },
     "execution_count": 480,
     "metadata": {},
     "output_type": "execute_result"
    }
   ],
   "source": [
    "df['tick'].value_counts()"
   ]
  },
  {
   "cell_type": "code",
   "execution_count": 481,
   "metadata": {},
   "outputs": [],
   "source": [
    "df['tick']=LabelEncoder().fit_transform(df['tick'])"
   ]
  },
  {
   "cell_type": "code",
   "execution_count": 482,
   "metadata": {},
   "outputs": [
    {
     "data": {
      "text/plain": [
       "<matplotlib.axes._subplots.AxesSubplot at 0x70c6ede5e0>"
      ]
     },
     "execution_count": 482,
     "metadata": {},
     "output_type": "execute_result"
    },
    {
     "data": {
      "image/png": "[encoded data removed]",
      "text/plain": [
       "<Figure size 432x288 with 1 Axes>"
      ]
     },
     "metadata": {
      "needs_background": "light"
     },
     "output_type": "display_data"
    }
   ],
   "source": [
    "df[['tick']].plot.hist(bins = 20, title = 'tick_the_right')"
   ]
  },
  {
   "cell_type": "markdown",
   "metadata": {},
   "source": [
    "Amazon.in, Flipkart.com, Paytm.com, Myntra.com, Snapdeal.com are the most visited online retailers customers have shopped from."
   ]
  },
  {
   "cell_type": "code",
   "execution_count": 483,
   "metadata": {},
   "outputs": [],
   "source": [
    "#49:'Easy to use website or application'"
   ]
  },
  {
   "cell_type": "code",
   "execution_count": 484,
   "metadata": {},
   "outputs": [],
   "source": [
    "#renaming this particular column\n",
    "df.rename(columns = {'Easy to use website or application': \"easy\"}, inplace = True)"
   ]
  },
  {
   "cell_type": "code",
   "execution_count": 485,
   "metadata": {},
   "outputs": [
    {
     "data": {
      "text/plain": [
       "Amazon.in, Flipkart.com, Paytm.com, Myntra.com, Snapdeal.com    64\n",
       "Amazon.in, Flipkart.com                                         44\n",
       "Amazon.in, Flipkart.com, Myntra.com, Snapdeal.com               44\n",
       "Amazon.in                                                       29\n",
       "Amazon.in, Flipkart.com, Paytm.com, Snapdeal.com                22\n",
       "Amazon.in, Paytm.com, Myntra.com                                20\n",
       "Amazon.in, Flipkart.com, Myntra.com                             19\n",
       "Paytm.com                                                       12\n",
       "Flipkart.com                                                     8\n",
       "Amazon.in, Paytm.com                                             7\n",
       "Name: easy, dtype: int64"
      ]
     },
     "execution_count": 485,
     "metadata": {},
     "output_type": "execute_result"
    }
   ],
   "source": [
    "df['easy'].value_counts()"
   ]
  },
  {
   "cell_type": "markdown",
   "metadata": {},
   "source": [
    "Amazon.in, Flipkart.com, Paytm.com, Myntra.com, Snapdeal.com are easy for the customers to use."
   ]
  },
  {
   "cell_type": "code",
   "execution_count": 486,
   "metadata": {},
   "outputs": [],
   "source": [
    "#50:'Visual appealing web-page layout' "
   ]
  },
  {
   "cell_type": "code",
   "execution_count": 487,
   "metadata": {},
   "outputs": [],
   "source": [
    "#renaming this particular column\n",
    "df.rename(columns = {'Visual appealing web-page layout': \"visual\"}, inplace = True)"
   ]
  },
  {
   "cell_type": "code",
   "execution_count": 488,
   "metadata": {},
   "outputs": [
    {
     "data": {
      "text/plain": [
       "Amazon.in, Flipkart.com                                         87\n",
       "Amazon.in                                                       44\n",
       "Amazon.in, Flipkart.com, Paytm.com, Myntra.com, Snapdeal.com    36\n",
       "Amazon.in, Paytm.com, Myntra.com                                20\n",
       "Flipkart.com, Myntra.com                                        15\n",
       "Amazon.in, Myntra.com                                           15\n",
       "Myntra.com                                                      15\n",
       "Amazon.in, Flipkart.com, Myntra.com, Snapdeal.com               14\n",
       "Flipkart.com                                                    12\n",
       "Amazon.in, Flipkart.com, Paytm.com, Snapdeal.com                11\n",
       "Name: visual, dtype: int64"
      ]
     },
     "execution_count": 488,
     "metadata": {},
     "output_type": "execute_result"
    }
   ],
   "source": [
    "df['visual'].value_counts()"
   ]
  },
  {
   "cell_type": "markdown",
   "metadata": {},
   "source": [
    "Amazon.in, Flipkart.com are the most visual appealing web-page as per data."
   ]
  },
  {
   "cell_type": "code",
   "execution_count": 489,
   "metadata": {},
   "outputs": [],
   "source": [
    "#51:'Wild variety of product on offer'"
   ]
  },
  {
   "cell_type": "code",
   "execution_count": 490,
   "metadata": {},
   "outputs": [],
   "source": [
    "#renaming this particular column\n",
    "df.rename(columns = {'Wild variety of product on offer': \"offer\"}, inplace = True)"
   ]
  },
  {
   "cell_type": "code",
   "execution_count": 491,
   "metadata": {},
   "outputs": [
    {
     "data": {
      "text/plain": [
       "Amazon.in, Flipkart.com                              130\n",
       "Amazon.in                                             43\n",
       "Amazon.in, Myntra.com                                 20\n",
       "Flipkart.com, Myntra.com                              15\n",
       "Myntra.com                                            15\n",
       "Amazon.in, Flipkart.com, Myntra.com, Snapdeal.com     14\n",
       "Amazon.in, Flipkart.com, Paytm.com                    13\n",
       "Flipkart.com                                          12\n",
       "Paytm.com                                              7\n",
       "Name: offer, dtype: int64"
      ]
     },
     "execution_count": 491,
     "metadata": {},
     "output_type": "execute_result"
    }
   ],
   "source": [
    "df['offer'].value_counts()"
   ]
  },
  {
   "cell_type": "markdown",
   "metadata": {},
   "source": [
    "Amazon.in, Flipkart.com have wild variety of product on offer. "
   ]
  },
  {
   "cell_type": "code",
   "execution_count": 492,
   "metadata": {},
   "outputs": [],
   "source": [
    "#52:'Complete, relevant description information of products'"
   ]
  },
  {
   "cell_type": "code",
   "execution_count": 493,
   "metadata": {},
   "outputs": [],
   "source": [
    "#renaming this particular column\n",
    "df.rename(columns = {'Complete, relevant description information of products': \"description\"}, inplace = True)"
   ]
  },
  {
   "cell_type": "code",
   "execution_count": 494,
   "metadata": {},
   "outputs": [
    {
     "data": {
      "text/plain": [
       "Amazon.in, Flipkart.com                                         100\n",
       "Amazon.in                                                        43\n",
       "Amazon.in, Flipkart.com, Paytm.com                               24\n",
       "Amazon.in, Paytm.com, Myntra.com                                 20\n",
       "Amazon.in, Flipkart.com, Paytm.com, Myntra.com, Snapdeal.com     15\n",
       "Amazon.in, Flipkart.com, Myntra.com                              15\n",
       "Amazon.in, Flipkart.com, Myntra.com, Snapdeal.com                14\n",
       "Snapdeal.com                                                     12\n",
       "Flipkart.com, Snapdeal.com                                       11\n",
       "Flipkart.com                                                      8\n",
       "Amazon.in, Flipkart.com, Snapdeal.com                             7\n",
       "Name: description, dtype: int64"
      ]
     },
     "execution_count": 494,
     "metadata": {},
     "output_type": "execute_result"
    }
   ],
   "source": [
    "df['description'].value_counts()"
   ]
  },
  {
   "cell_type": "markdown",
   "metadata": {},
   "source": [
    "Amazon.in, Flipkart.com have complete,relevant information of products."
   ]
  },
  {
   "cell_type": "code",
   "execution_count": 495,
   "metadata": {},
   "outputs": [],
   "source": [
    "#53:'Fast loading website speed of website and application'"
   ]
  },
  {
   "cell_type": "code",
   "execution_count": 496,
   "metadata": {},
   "outputs": [],
   "source": [
    "#renaming this particular column\n",
    "df.rename(columns = {'Fast loading website speed of website and application': \"fast\"}, inplace = True)"
   ]
  },
  {
   "cell_type": "code",
   "execution_count": 497,
   "metadata": {},
   "outputs": [
    {
     "data": {
      "text/plain": [
       "Amazon.in                                                       51\n",
       "Amazon.in, Paytm.com                                            44\n",
       "Amazon.in, Flipkart.com, Paytm.com, Myntra.com, Snapdeal.com    30\n",
       "Amazon.in, Flipkart.com                                         30\n",
       "Amazon.in, Flipkart.com, Myntra.com                             30\n",
       "Amazon.in, Flipkart.com, Snapdeal.com                           25\n",
       "Amazon.in, Flipkart.com, Paytm.com                              25\n",
       "Amazon.in, Flipkart.com, Myntra.com, Snapdeal.com               14\n",
       "Snapdeal.com                                                    12\n",
       "Flipkart.com                                                     8\n",
       "Name: fast, dtype: int64"
      ]
     },
     "execution_count": 497,
     "metadata": {},
     "output_type": "execute_result"
    }
   ],
   "source": [
    "df['fast'].value_counts()"
   ]
  },
  {
   "cell_type": "markdown",
   "metadata": {},
   "source": [
    "Amazon.in has the fast loading website speed as per data."
   ]
  },
  {
   "cell_type": "code",
   "execution_count": 498,
   "metadata": {},
   "outputs": [],
   "source": [
    "#54:'Reliability of the website or application'"
   ]
  },
  {
   "cell_type": "code",
   "execution_count": 499,
   "metadata": {},
   "outputs": [],
   "source": [
    "#renaming this particular column\n",
    "df.rename(columns = {'Reliability of the website or application': \"reliability\"}, inplace = True)"
   ]
  },
  {
   "cell_type": "code",
   "execution_count": 500,
   "metadata": {},
   "outputs": [
    {
     "data": {
      "text/plain": [
       "Amazon.in                                            61\n",
       "Amazon.in, Flipkart.com                              50\n",
       "Amazon.in, Flipkart.com, Paytm.com                   36\n",
       "Amazon.in, Paytm.com, Myntra.com                     35\n",
       "Amazon.in, Flipkart.com, Snapdeal.com                18\n",
       "Myntra.com                                           15\n",
       "Flipkart.com                                         15\n",
       "Amazon.in, Flipkart.com, Myntra.com, Snapdeal.com    14\n",
       "Amazon.in, Flipkart.com, Paytm.com, Snapdeal.com     13\n",
       "Paytm.com                                            12\n",
       "Name: reliability, dtype: int64"
      ]
     },
     "execution_count": 500,
     "metadata": {},
     "output_type": "execute_result"
    }
   ],
   "source": [
    "df['reliability'].value_counts()"
   ]
  },
  {
   "cell_type": "markdown",
   "metadata": {},
   "source": [
    "Amazon.in has the highest reliability according to the data"
   ]
  },
  {
   "cell_type": "code",
   "execution_count": 501,
   "metadata": {},
   "outputs": [],
   "source": [
    "#55: 'Quickness to complete purchase'"
   ]
  },
  {
   "cell_type": "code",
   "execution_count": 502,
   "metadata": {},
   "outputs": [],
   "source": [
    "#renaming this particular column\n",
    "df.rename(columns = {'Quickness to complete purchase': \"Quick\"}, inplace = True)"
   ]
  },
  {
   "cell_type": "code",
   "execution_count": 503,
   "metadata": {},
   "outputs": [
    {
     "data": {
      "text/plain": [
       "Amazon.com                                                   66\n",
       "Amazon.com, Flipkart.com, Paytm.com                          47\n",
       "Amazon.com, Flipkart.com                                     37\n",
       "Amazon.com, Flipkart.com, Myntra.com                         30\n",
       "Paytm.com                                                    25\n",
       "Amazon.com, Paytm.com, Myntra.com                            20\n",
       "Amazon.com, Flipkart.com, Paytm.com, Myntra.com, Snapdeal    15\n",
       "Flipkart.com                                                 15\n",
       "Flipkart.com, Myntra.com, Snapdeal                           14\n",
       "Name: Quick, dtype: int64"
      ]
     },
     "execution_count": 503,
     "metadata": {},
     "output_type": "execute_result"
    }
   ],
   "source": [
    "df['Quick'].value_counts()"
   ]
  },
  {
   "cell_type": "markdown",
   "metadata": {},
   "source": [
    "Amazon.com is in the highest priority."
   ]
  },
  {
   "cell_type": "code",
   "execution_count": 504,
   "metadata": {},
   "outputs": [],
   "source": [
    "#56:'Availability of several payment options' "
   ]
  },
  {
   "cell_type": "code",
   "execution_count": 505,
   "metadata": {},
   "outputs": [],
   "source": [
    "#renaming this particular column\n",
    "df.rename(columns = {'Availability of several payment options': \"Available\"}, inplace = True)"
   ]
  },
  {
   "cell_type": "code",
   "execution_count": 506,
   "metadata": {},
   "outputs": [
    {
     "data": {
      "text/plain": [
       "Amazon.in, Flipkart.com                                         65\n",
       "Amazon.in, Flipkart.com, Myntra.com                             40\n",
       "Amazon.in, Flipkart.com, Patym.com, Myntra.com, Snapdeal.com    39\n",
       "Amazon.in                                                       23\n",
       "Patym.com, Myntra.com                                           20\n",
       "Amazon.in, Flipkart.com, Myntra.com, Snapdeal.com               19\n",
       "Amazon.in, Flipkart.com, Snapdeal.com                           18\n",
       "Flipkart.com, Myntra.com, Snapdeal.com                          14\n",
       "Patym.com                                                       12\n",
       "Amazon.in, Patym.com                                            11\n",
       "Flipkart.com                                                     8\n",
       "Name: Available, dtype: int64"
      ]
     },
     "execution_count": 506,
     "metadata": {},
     "output_type": "execute_result"
    }
   ],
   "source": [
    "df['Available'].value_counts()"
   ]
  },
  {
   "cell_type": "markdown",
   "metadata": {},
   "source": [
    "Amazon.in, Flipkart.com has several payment options."
   ]
  },
  {
   "cell_type": "code",
   "execution_count": 507,
   "metadata": {},
   "outputs": [],
   "source": [
    "#57:'Speedy order delivery '"
   ]
  },
  {
   "cell_type": "code",
   "execution_count": 508,
   "metadata": {},
   "outputs": [],
   "source": [
    "#renaming this particular column\n",
    "df.rename(columns = {'Speedy order delivery ': \"speedy\"}, inplace = True)"
   ]
  },
  {
   "cell_type": "code",
   "execution_count": 509,
   "metadata": {},
   "outputs": [
    {
     "data": {
      "text/plain": [
       "Amazon.in                                 107\n",
       "Amazon.in, Flipkart.com                    82\n",
       "Amazon.in, Flipkart.com, Snapdeal.com      36\n",
       "Amazon.in, Flipkart.com, Myntra.com        15\n",
       "Flipkart.com                               15\n",
       "Flipkart.com, Myntra.com, Snapdeal.com     14\n",
       "Name: speedy, dtype: int64"
      ]
     },
     "execution_count": 509,
     "metadata": {},
     "output_type": "execute_result"
    }
   ],
   "source": [
    "df['speedy'].value_counts()"
   ]
  },
  {
   "cell_type": "markdown",
   "metadata": {},
   "source": [
    "Amazon.in has speedy order delivery."
   ]
  },
  {
   "cell_type": "code",
   "execution_count": 510,
   "metadata": {},
   "outputs": [],
   "source": [
    "#58:'Privacy of customers’ information'"
   ]
  },
  {
   "cell_type": "code",
   "execution_count": 511,
   "metadata": {},
   "outputs": [],
   "source": [
    "#renaming this particular column\n",
    "df.rename(columns = {'Privacy of customers’ information': \"privacy_customer\"}, inplace = True)"
   ]
  },
  {
   "cell_type": "code",
   "execution_count": 512,
   "metadata": {},
   "outputs": [
    {
     "data": {
      "text/plain": [
       "Amazon.in                                                       71\n",
       "Amazon.in, Flipkart.com                                         54\n",
       "Amazon.in, Flipkart.com, Myntra.com                             25\n",
       "Amazon.in, Flipkart.com, Paytm.com, Myntra.com, Snapdeal.com    24\n",
       "Paytm.com                                                       18\n",
       "Myntra.com                                                      15\n",
       "Amazon.in, Paytm.com                                            15\n",
       "Flipkart.com                                                    15\n",
       "Amazon.in, Flipkart.com, Myntra.com, Snapdeal.com               14\n",
       "Amazon.in, Flipkart.com, Paytm.com                              11\n",
       "Amazon.in, Flipkart.com, Snapdeal.com                            7\n",
       "Name: privacy_customer, dtype: int64"
      ]
     },
     "execution_count": 512,
     "metadata": {},
     "output_type": "execute_result"
    }
   ],
   "source": [
    "df['privacy_customer'].value_counts()"
   ]
  },
  {
   "cell_type": "markdown",
   "metadata": {},
   "source": [
    "Amazon.in maintained privacy of customers' information."
   ]
  },
  {
   "cell_type": "code",
   "execution_count": 513,
   "metadata": {},
   "outputs": [],
   "source": [
    "#59:'Security of customer financial information'"
   ]
  },
  {
   "cell_type": "code",
   "execution_count": 514,
   "metadata": {},
   "outputs": [],
   "source": [
    "#renaming this particular column\n",
    "df.rename(columns = {'Security of customer financial information': \"security\"}, inplace = True)"
   ]
  },
  {
   "cell_type": "code",
   "execution_count": 515,
   "metadata": {},
   "outputs": [
    {
     "data": {
      "text/plain": [
       "Amazon.in                                                       51\n",
       "Amazon.in, Flipkart.com, Paytm.com, Myntra.com, Snapdeal.com    42\n",
       "Flipkart.com                                                    33\n",
       "Amazon.in, Flipkart.com, Snapdeal.com                           25\n",
       "Amazon.in, Flipkart.com                                         24\n",
       "Amazon.in, Paytm.com, Myntra.com                                20\n",
       "Amazon.in, Snapdeal.com                                         19\n",
       "Myntra.com                                                      15\n",
       "Paytm.com                                                       15\n",
       "Amazon.in, Flipkart.com, Myntra.com, Snapdeal.com               14\n",
       "Amazon.in, Flipkart.com, Paytm.com                              11\n",
       "Name: security, dtype: int64"
      ]
     },
     "execution_count": 515,
     "metadata": {},
     "output_type": "execute_result"
    }
   ],
   "source": [
    "df['security'].value_counts()"
   ]
  },
  {
   "cell_type": "markdown",
   "metadata": {},
   "source": [
    "Amazon.in has the highest security of customer financial information."
   ]
  },
  {
   "cell_type": "code",
   "execution_count": 516,
   "metadata": {},
   "outputs": [],
   "source": [
    "#58:'Perceived Trustworthiness'"
   ]
  },
  {
   "cell_type": "code",
   "execution_count": 517,
   "metadata": {},
   "outputs": [],
   "source": [
    "#renaming this particular column\n",
    "df.rename(columns = {'Perceived Trustworthiness': \"trustworth\"}, inplace = True)"
   ]
  },
  {
   "cell_type": "code",
   "execution_count": 518,
   "metadata": {},
   "outputs": [
    {
     "data": {
      "text/plain": [
       "Amazon.in                                                       76\n",
       "Amazon.in, Flipkart.com, Snapdeal.com                           36\n",
       "Amazon.in, Myntra.com                                           35\n",
       "Amazon.in, Flipkart.com                                         31\n",
       "Flipkart.com                                                    27\n",
       "Amazon.in, Flipkart.com, Myntra.com, Snapdeal.com               25\n",
       "Myntra.com                                                      15\n",
       "Amazon.in, Flipkart.com, Paytm.com, Myntra.com, Snapdeal.com    13\n",
       "Amazon.in, Flipkart.com, Paytm.com                              11\n",
       "Name: trustworth, dtype: int64"
      ]
     },
     "execution_count": 518,
     "metadata": {},
     "output_type": "execute_result"
    }
   ],
   "source": [
    "df['trustworth'].value_counts()"
   ]
  },
  {
   "cell_type": "markdown",
   "metadata": {},
   "source": [
    "Amazon.in is in the highest priority"
   ]
  },
  {
   "cell_type": "code",
   "execution_count": 519,
   "metadata": {},
   "outputs": [],
   "source": [
    "#59:'Presence of online assistance through multi-channel'"
   ]
  },
  {
   "cell_type": "code",
   "execution_count": 534,
   "metadata": {},
   "outputs": [],
   "source": [
    "#renaming this particular column\n",
    "df.rename(columns = {'Presence of online assistance through multi-channel': \"assistance\"}, inplace = True)"
   ]
  },
  {
   "cell_type": "code",
   "execution_count": 535,
   "metadata": {},
   "outputs": [
    {
     "data": {
      "text/plain": [
       "Amazon.in, Flipkart.com, Myntra.com, Snapdeal    61\n",
       "Amazon.in                                        60\n",
       "Amazon.in, Flipkart.com                          39\n",
       "Amazon.in, Snapdeal                              26\n",
       "Myntra.com                                       20\n",
       "Amazon.in, Myntra.com                            15\n",
       "Amazon.in, Flipkart.com, Myntra.com              15\n",
       "Amazon.in, Flipkart.com, Paytm.com               13\n",
       "Paytm.com                                        12\n",
       "Flipkart.com                                      8\n",
       "Name: assistance, dtype: int64"
      ]
     },
     "execution_count": 535,
     "metadata": {},
     "output_type": "execute_result"
    }
   ],
   "source": [
    "df['assistance'].value_counts()"
   ]
  },
  {
   "cell_type": "markdown",
   "metadata": {},
   "source": [
    "Amazon.in, Flipkart.com, Myntra.com, Snapdeal is providing highest online assistance as per our data."
   ]
  },
  {
   "cell_type": "code",
   "execution_count": 520,
   "metadata": {},
   "outputs": [],
   "source": [
    "#60:'Longer time to get logged in (promotion, sales period)'"
   ]
  },
  {
   "cell_type": "code",
   "execution_count": 536,
   "metadata": {},
   "outputs": [],
   "source": [
    "#renaming this particular column\n",
    "df.rename(columns = {'Longer time to get logged in (promotion, sales period)': \"promotion\"}, inplace = True)"
   ]
  },
  {
   "cell_type": "code",
   "execution_count": 537,
   "metadata": {},
   "outputs": [
    {
     "data": {
      "text/plain": [
       "Amazon.in                                57\n",
       "Amazon.in, Flipkart.com                  38\n",
       "Paytm.com                                38\n",
       "Myntra.com                               35\n",
       "Amazon.in, Flipkart.com, Snapdeal.com    29\n",
       "Snapdeal.com                             25\n",
       "Flipkart.com, Paytm.com                  15\n",
       "Flipkart.com, Paytm.com, Snapdeal.com    13\n",
       "Amazon.in, Paytm.com                     11\n",
       "Flipkart.com                              8\n",
       "Name: promotion, dtype: int64"
      ]
     },
     "execution_count": 537,
     "metadata": {},
     "output_type": "execute_result"
    }
   ],
   "source": [
    "df['promotion'].value_counts()"
   ]
  },
  {
   "cell_type": "markdown",
   "metadata": {},
   "source": [
    "Amazon.in has the longer time to get logged in as per the data."
   ]
  },
  {
   "cell_type": "code",
   "execution_count": 521,
   "metadata": {},
   "outputs": [],
   "source": [
    "#61:'Longer time in displaying graphics and photos (promotion, sales period)'"
   ]
  },
  {
   "cell_type": "code",
   "execution_count": 538,
   "metadata": {},
   "outputs": [],
   "source": [
    "#renaming this particular column\n",
    "df.rename(columns = {'Longer time in displaying graphics and photos (promotion, sales period)': \"graphics\"}, inplace = True)"
   ]
  },
  {
   "cell_type": "code",
   "execution_count": 539,
   "metadata": {},
   "outputs": [
    {
     "data": {
      "text/plain": [
       "Amazon.in, Flipkart.com                60\n",
       "Amazon.in                              39\n",
       "Myntra.com                             35\n",
       "Snapdeal.com                           34\n",
       "Myntra.com, Snapdeal.com               25\n",
       "Flipkart.com, Snapdeal.com             19\n",
       "Flipkart.com                           15\n",
       "Paytm.com                              15\n",
       "Amazon.in, Myntra.com, Snapdeal.com    14\n",
       "Amazon.in, Paytm.com                   13\n",
       "Name: graphics, dtype: int64"
      ]
     },
     "execution_count": 539,
     "metadata": {},
     "output_type": "execute_result"
    }
   ],
   "source": [
    "df['graphics'].value_counts()"
   ]
  },
  {
   "cell_type": "markdown",
   "metadata": {},
   "source": [
    "Amazon.in, Flipkart.com is taking longer time to display graphics and photos."
   ]
  },
  {
   "cell_type": "code",
   "execution_count": 522,
   "metadata": {},
   "outputs": [],
   "source": [
    "#62:'Late declaration of price (promotion, sales period)'"
   ]
  },
  {
   "cell_type": "code",
   "execution_count": 540,
   "metadata": {},
   "outputs": [],
   "source": [
    "#renaming this particular column\n",
    "df.rename(columns = {'Late declaration of price (promotion, sales period)': \"late\"}, inplace = True)"
   ]
  },
  {
   "cell_type": "code",
   "execution_count": 541,
   "metadata": {},
   "outputs": [
    {
     "data": {
      "text/plain": [
       "Myntra.com                 75\n",
       "Paytm.com                  52\n",
       "snapdeal.com               41\n",
       "Amazon.in                  38\n",
       "Flipkart.com               38\n",
       "Amazon.in, Paytm.com       13\n",
       "Paytm.com, snapdeal.com     7\n",
       "Amazon.in, Flipkart.com     5\n",
       "Name: late, dtype: int64"
      ]
     },
     "execution_count": 541,
     "metadata": {},
     "output_type": "execute_result"
    }
   ],
   "source": [
    "df['late'].value_counts()"
   ]
  },
  {
   "cell_type": "markdown",
   "metadata": {},
   "source": [
    "In Myntra.com price is declared lately than other websites. "
   ]
  },
  {
   "cell_type": "code",
   "execution_count": 523,
   "metadata": {},
   "outputs": [],
   "source": [
    "#63:'Longer page loading time (promotion, sales period)'"
   ]
  },
  {
   "cell_type": "code",
   "execution_count": 542,
   "metadata": {},
   "outputs": [],
   "source": [
    "#renaming this particular column\n",
    "df.rename(columns = {'Longer page loading time (promotion, sales period)': \"loading_time\"}, inplace = True)"
   ]
  },
  {
   "cell_type": "code",
   "execution_count": 543,
   "metadata": {},
   "outputs": [
    {
     "data": {
      "text/plain": [
       "Myntra.com                          61\n",
       "Paytm.com                           59\n",
       "Flipkart.com                        32\n",
       "Snapdeal.com                        23\n",
       "Amazon.in, Flipkart.com             18\n",
       "Amazon.in                           16\n",
       "Paytm.com, Snapdeal.com             15\n",
       "Amazon.in, Snapdeal.com             14\n",
       "Amazon.in, Paytm.com                13\n",
       "Flipkart.com, Snapdeal.com          11\n",
       "Amazon.in, Paytm.com, Myntra.com     7\n",
       "Name: loading_time, dtype: int64"
      ]
     },
     "execution_count": 543,
     "metadata": {},
     "output_type": "execute_result"
    }
   ],
   "source": [
    "df['loading_time'].value_counts()"
   ]
  },
  {
   "cell_type": "markdown",
   "metadata": {},
   "source": [
    "Myntra.com is taking longer time in loading page as per data."
   ]
  },
  {
   "cell_type": "code",
   "execution_count": 524,
   "metadata": {},
   "outputs": [],
   "source": [
    "#64:'Limited mode of payment on most products (promotion, sales period)'"
   ]
  },
  {
   "cell_type": "code",
   "execution_count": 544,
   "metadata": {},
   "outputs": [],
   "source": [
    "#renaming this particular column\n",
    "df.rename(columns = {'Limited mode of payment on most products (promotion, sales period)': \"mode\"}, inplace = True)"
   ]
  },
  {
   "cell_type": "code",
   "execution_count": 545,
   "metadata": {},
   "outputs": [
    {
     "data": {
      "text/plain": [
       "Snapdeal.com                87\n",
       "Amazon.in                   62\n",
       "Flipkart.com                31\n",
       "Amazon.in, Flipkart.com     29\n",
       "Paytm.com                   25\n",
       "Paytm.com, Snapdeal.com     15\n",
       "Amazon.in, Paytm.com        13\n",
       "Myntra.com, Snapdeal.com     7\n",
       "Name: mode, dtype: int64"
      ]
     },
     "execution_count": 545,
     "metadata": {},
     "output_type": "execute_result"
    }
   ],
   "source": [
    "df['mode'].value_counts()"
   ]
  },
  {
   "cell_type": "markdown",
   "metadata": {},
   "source": [
    "Snapdeal.com has limited mode of payments on most products."
   ]
  },
  {
   "cell_type": "code",
   "execution_count": 525,
   "metadata": {},
   "outputs": [],
   "source": [
    "#65:'Longer delivery period' "
   ]
  },
  {
   "cell_type": "code",
   "execution_count": 546,
   "metadata": {},
   "outputs": [],
   "source": [
    "#renaming this particular column\n",
    "df.rename(columns = {'Longer delivery period': \"long_delivery\"}, inplace = True)"
   ]
  },
  {
   "cell_type": "code",
   "execution_count": 547,
   "metadata": {},
   "outputs": [
    {
     "data": {
      "text/plain": [
       "Paytm.com                  72\n",
       "Snapdeal.com               64\n",
       "Flipkart.com               44\n",
       "Amazon.in                  37\n",
       "Myntra.com                 26\n",
       "Paytm.com, Snapdeal.com    26\n",
       "Name: long_delivery, dtype: int64"
      ]
     },
     "execution_count": 547,
     "metadata": {},
     "output_type": "execute_result"
    }
   ],
   "source": [
    "df['long_delivery'].value_counts()"
   ]
  },
  {
   "cell_type": "markdown",
   "metadata": {},
   "source": [
    "Paytm.com has a longer delivery period as given in the data."
   ]
  },
  {
   "cell_type": "code",
   "execution_count": 526,
   "metadata": {},
   "outputs": [],
   "source": [
    "#66:'Change in website/Application design'"
   ]
  },
  {
   "cell_type": "code",
   "execution_count": 548,
   "metadata": {},
   "outputs": [],
   "source": [
    "#renaming this particular column\n",
    "df.rename(columns = {'Change in website/Application design': \"website_design\"}, inplace = True)"
   ]
  },
  {
   "cell_type": "code",
   "execution_count": 549,
   "metadata": {},
   "outputs": [
    {
     "data": {
      "text/plain": [
       "Amazon.in                   96\n",
       "Paytm.com                   63\n",
       "Amazon.in, Flipkart.com     45\n",
       "Myntra.com                  30\n",
       "Flipkart.com                20\n",
       "Snapdeal.com                 8\n",
       "Flipkart.com, Myntra.com     7\n",
       "Name: website_design, dtype: int64"
      ]
     },
     "execution_count": 549,
     "metadata": {},
     "output_type": "execute_result"
    }
   ],
   "source": [
    "df['website_design'].value_counts()"
   ]
  },
  {
   "cell_type": "markdown",
   "metadata": {},
   "source": [
    "Amazon.in is in the highest priority."
   ]
  },
  {
   "cell_type": "code",
   "execution_count": 527,
   "metadata": {},
   "outputs": [],
   "source": [
    "#67:'Frequent disruption when moving from one page to another'"
   ]
  },
  {
   "cell_type": "code",
   "execution_count": 550,
   "metadata": {},
   "outputs": [],
   "source": [
    "#renaming this particular column\n",
    "df.rename(columns = {'Frequent disruption when moving from one page to another': \"one_page\"}, inplace = True)"
   ]
  },
  {
   "cell_type": "code",
   "execution_count": 551,
   "metadata": {},
   "outputs": [
    {
     "data": {
      "text/plain": [
       "Amazon.in                     53\n",
       "Myntra.com                    52\n",
       "Snapdeal.com                  49\n",
       "Paytm.com                     39\n",
       "Flipkart.com                  26\n",
       "Amazon.in, Flipkart.com       25\n",
       "Myntra.com, Snapdeal.com      14\n",
       "Flipkart.com, Snapdeal.com    11\n",
       "Name: one_page, dtype: int64"
      ]
     },
     "execution_count": 551,
     "metadata": {},
     "output_type": "execute_result"
    }
   ],
   "source": [
    "df['one_page'].value_counts()"
   ]
  },
  {
   "cell_type": "markdown",
   "metadata": {},
   "source": [
    "Amazon.in is showing frequent disruption when moving from one page to another."
   ]
  },
  {
   "cell_type": "code",
   "execution_count": 528,
   "metadata": {},
   "outputs": [],
   "source": [
    "#68: 'Website is as efficient as before'"
   ]
  },
  {
   "cell_type": "code",
   "execution_count": 552,
   "metadata": {},
   "outputs": [],
   "source": [
    "#renaming this particular column\n",
    "df.rename(columns = {'Website is as efficient as before': \"efficient\"}, inplace = True)"
   ]
  },
  {
   "cell_type": "code",
   "execution_count": 553,
   "metadata": {},
   "outputs": [
    {
     "data": {
      "text/plain": [
       "Amazon.in                             94\n",
       "Flipkart.com                          47\n",
       "Amazon.in, Flipkart.com               45\n",
       "Amazon.in, Flipkart.com, Paytm.com    25\n",
       "Amazon.in, Paytm.com                  18\n",
       "Paytm.com                             15\n",
       "Myntra.com, Snapdeal.com              14\n",
       "Snapdeal.com                          11\n",
       "Name: efficient, dtype: int64"
      ]
     },
     "execution_count": 553,
     "metadata": {},
     "output_type": "execute_result"
    }
   ],
   "source": [
    "df['efficient'].value_counts()"
   ]
  },
  {
   "cell_type": "markdown",
   "metadata": {},
   "source": [
    "Amazon.in- website is  more efficient as per data."
   ]
  },
  {
   "cell_type": "code",
   "execution_count": 529,
   "metadata": {},
   "outputs": [],
   "source": [
    "#69:'Which of the Indian online retailer would you recommend to a friend?'"
   ]
  },
  {
   "cell_type": "code",
   "execution_count": 530,
   "metadata": {},
   "outputs": [],
   "source": [
    "#renaming this particular column\n",
    "df.rename(columns = {'Which of the Indian online retailer would you recommend to a friend?': \"recommend\"}, inplace = True)"
   ]
  },
  {
   "cell_type": "code",
   "execution_count": 531,
   "metadata": {},
   "outputs": [
    {
     "data": {
      "text/plain": [
       "Amazon.in                                            79\n",
       "Amazon.in, Flipkart.com                              62\n",
       "Flipkart.com                                         39\n",
       "Amazon.in, Myntra.com                                30\n",
       "Amazon.in, Paytm.com, Myntra.com                     20\n",
       "Amazon.in, Flipkart.com, Myntra.com                  15\n",
       "Amazon.in, Paytm.com                                 13\n",
       "Flipkart.com, Paytm.com, Myntra.com, snapdeal.com    11\n",
       "Name: recommend, dtype: int64"
      ]
     },
     "execution_count": 531,
     "metadata": {},
     "output_type": "execute_result"
    }
   ],
   "source": [
    "df['recommend'].value_counts()"
   ]
  },
  {
   "cell_type": "code",
   "execution_count": 532,
   "metadata": {},
   "outputs": [],
   "source": [
    "df['recommend']=LabelEncoder().fit_transform(df['recommend'])"
   ]
  },
  {
   "cell_type": "code",
   "execution_count": 533,
   "metadata": {},
   "outputs": [
    {
     "data": {
      "text/plain": [
       "<matplotlib.axes._subplots.AxesSubplot at 0x70c7276dc0>"
      ]
     },
     "execution_count": 533,
     "metadata": {},
     "output_type": "execute_result"
    },
    {
     "data": {
      "image/png": "[encoded data removed]",
      "text/plain": [
       "<Figure size 432x288 with 1 Axes>"
      ]
     },
     "metadata": {
      "needs_background": "light"
     },
     "output_type": "display_data"
    }
   ],
   "source": [
    "df[['recommend']].plot.hist(bins = 20, title = 'recommendation')"
   ]
  },
  {
   "cell_type": "markdown",
   "metadata": {},
   "source": [
    "Amazon.in is highly recommended."
   ]
  },
  {
   "cell_type": "code",
   "execution_count": 554,
   "metadata": {},
   "outputs": [
    {
     "data": {
      "text/plain": [
       "Index(['1Gender of respondent', 'Age', '3 Which city do you shop online from?',\n",
       "       'Pin-Code', '5 Since How Long You are Shopping Online ?',\n",
       "       '6 How many times you have made an online purchase in the past 1 year?',\n",
       "       'Internet-access', 'Device', 'Screen-size', 'Operating-system',\n",
       "       'Browser', 'Online-store', 'Online-retail',\n",
       "       '14 How much time do you explore the e- retail store before making a purchase decision?                                                                   ',\n",
       "       'Payment', 'Items', 'Why', 'Content', 'product', 'Purchase-Decision',\n",
       "       'Relevant', 'Navigate', 'Speed', 'userF', 'method', 'transaction',\n",
       "       'queries', 'privacy', 'email', 'benefit', 'enjoy', 'convenient',\n",
       "       'return', 'loyal', 'satisfy', 'user', 'Net_Benefit', 'trust',\n",
       "       'wide_variety', 'complete_relevant', 'monetary', 'retail', 'adventure',\n",
       "       'social_status', 'gratify', 'role', 'value', 'tick', 'easy', 'visual',\n",
       "       'offer', 'description', 'fast', 'reliability', 'Quick', 'Available',\n",
       "       'speedy', 'privacy_customer', 'security', 'trustworth', 'assistance',\n",
       "       'promotion', 'graphics', 'late', 'loading_time', 'mode',\n",
       "       'long_delivery', 'website_design', 'one_page', 'efficient',\n",
       "       'recommend'],\n",
       "      dtype='object')"
      ]
     },
     "execution_count": 554,
     "metadata": {},
     "output_type": "execute_result"
    }
   ],
   "source": [
    "#checking the columns again after renaming\n",
    "df.columns"
   ]
  },
  {
   "cell_type": "code",
   "execution_count": 557,
   "metadata": {},
   "outputs": [],
   "source": [
    "#14th column:'14 How much time do you explore the e- retail store before making a purchase decision?                                                                   '"
   ]
  },
  {
   "cell_type": "code",
   "execution_count": 555,
   "metadata": {},
   "outputs": [],
   "source": [
    "#renaming this particular column\n",
    "df.rename(columns = {'14 How much time do you explore the e- retail store before making a purchase decision?                                                                   ': \"explore_purchase\"}, inplace = True)"
   ]
  },
  {
   "cell_type": "code",
   "execution_count": 556,
   "metadata": {},
   "outputs": [
    {
     "data": {
      "text/plain": [
       "more than 15 mins    123\n",
       "6-10 mins             71\n",
       "11-15 mins            46\n",
       "Less than 1 min       15\n",
       "1-5 mins              14\n",
       "Name: explore_purchase, dtype: int64"
      ]
     },
     "execution_count": 556,
     "metadata": {},
     "output_type": "execute_result"
    }
   ],
   "source": [
    "df['explore_purchase'].value_counts()"
   ]
  },
  {
   "cell_type": "code",
   "execution_count": 559,
   "metadata": {},
   "outputs": [],
   "source": [
    "df['explore_purchase']=LabelEncoder().fit_transform(df['explore_purchase'])"
   ]
  },
  {
   "cell_type": "code",
   "execution_count": 560,
   "metadata": {},
   "outputs": [
    {
     "data": {
      "text/plain": [
       "<matplotlib.axes._subplots.AxesSubplot at 0x70c5377b80>"
      ]
     },
     "execution_count": 560,
     "metadata": {},
     "output_type": "execute_result"
    },
    {
     "data": {
      "image/png": "[encoded data removed]",
      "text/plain": [
       "<Figure size 432x288 with 1 Axes>"
      ]
     },
     "metadata": {
      "needs_background": "light"
     },
     "output_type": "display_data"
    }
   ],
   "source": [
    "df[['explore_purchase']].plot.hist(bins = 20, title = 'time_explore')"
   ]
  },
  {
   "cell_type": "markdown",
   "metadata": {},
   "source": [
    "explore the e- retail store before making a purchase decision---more than 15 minutes is in the highest priority"
   ]
  },
  {
   "cell_type": "code",
   "execution_count": 562,
   "metadata": {},
   "outputs": [
    {
     "data": {
      "text/plain": [
       "Index(['1Gender of respondent', 'Age', '3 Which city do you shop online from?',\n",
       "       'Pin-Code', '5 Since How Long You are Shopping Online ?',\n",
       "       '6 How many times you have made an online purchase in the past 1 year?',\n",
       "       'Internet-access', 'Device', 'Screen-size', 'Operating-system',\n",
       "       'Browser', 'Online-store', 'Online-retail', 'explore_purchase',\n",
       "       'Payment', 'Items', 'Why', 'Content', 'product', 'Purchase-Decision',\n",
       "       'Relevant', 'Navigate', 'Speed', 'userF', 'method', 'transaction',\n",
       "       'queries', 'privacy', 'email', 'benefit', 'enjoy', 'convenient',\n",
       "       'return', 'loyal', 'satisfy', 'user', 'Net_Benefit', 'trust',\n",
       "       'wide_variety', 'complete_relevant', 'monetary', 'retail', 'adventure',\n",
       "       'social_status', 'gratify', 'role', 'value', 'tick', 'easy', 'visual',\n",
       "       'offer', 'description', 'fast', 'reliability', 'Quick', 'Available',\n",
       "       'speedy', 'privacy_customer', 'security', 'trustworth', 'assistance',\n",
       "       'promotion', 'graphics', 'late', 'loading_time', 'mode',\n",
       "       'long_delivery', 'website_design', 'one_page', 'efficient',\n",
       "       'recommend'],\n",
       "      dtype='object')"
      ]
     },
     "execution_count": 562,
     "metadata": {},
     "output_type": "execute_result"
    }
   ],
   "source": [
    "df.columns #columns after renaming"
   ]
  },
  {
   "cell_type": "code",
   "execution_count": null,
   "metadata": {},
   "outputs": [],
   "source": []
  }
 ],
 "metadata": {
  "kernelspec": {
   "display_name": "Python 3",
   "language": "python",
   "name": "python3"
  },
  "language_info": {
   "codemirror_mode": {
    "name": "ipython",
    "version": 3
   },
   "file_extension": ".py",
   "mimetype": "text/x-python",
   "name": "python",
   "nbconvert_exporter": "python",
   "pygments_lexer": "ipython3",
   "version": "3.8.3"
  }
 },
 "nbformat": 4,
 "nbformat_minor": 4
}
