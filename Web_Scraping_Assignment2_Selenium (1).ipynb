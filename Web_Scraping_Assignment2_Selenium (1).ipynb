{
 "cells": [
  {
   "cell_type": "markdown",
   "metadata": {},
   "source": [
    "#   Q                                         1."
   ]
  },
  {
   "cell_type": "code",
   "execution_count": 1,
   "metadata": {},
   "outputs": [
    {
     "name": "stdout",
     "output_type": "stream",
     "text": [
      "Collecting selenium\n",
      "  Downloading selenium-3.141.0-py2.py3-none-any.whl (904 kB)\n",
      "Requirement already satisfied: urllib3 in c:\\users\\neeti\\anaconda3\\lib\\site-packages (from selenium) (1.25.9)\n",
      "Installing collected packages: selenium\n",
      "Successfully installed selenium-3.141.0\n"
     ]
    }
   ],
   "source": [
    "#Installing the selenium library\n",
    "!pip install selenium"
   ]
  },
  {
   "cell_type": "code",
   "execution_count": 2,
   "metadata": {},
   "outputs": [],
   "source": [
    "#Now we will download the webdriver for the web browser\n",
    "#Lets now import all the required libraries\n",
    "import selenium\n",
    "import pandas as pd\n",
    "from selenium import webdriver"
   ]
  },
  {
   "cell_type": "code",
   "execution_count": 6,
   "metadata": {},
   "outputs": [],
   "source": [
    "#Lets first connect to the webdriver\n",
    "driver=webdriver.Chrome(\"chromedriver.exe\")"
   ]
  },
  {
   "cell_type": "code",
   "execution_count": 7,
   "metadata": {},
   "outputs": [],
   "source": [
    "#Now we have to scrape data for “Data Analyst” Job position in “Bangalore” location. \n",
    "#We have to scrape the job-title, job-location, company_name,experience_required. \n",
    "#We have to first get the webpage of https://www.naukri.com/\n",
    "\n",
    "url='https://www.naukri.com/'\n",
    "driver.get(url)"
   ]
  },
  {
   "cell_type": "code",
   "execution_count": 9,
   "metadata": {},
   "outputs": [
    {
     "data": {
      "text/plain": [
       "<selenium.webdriver.remote.webelement.WebElement (session=\"ec47c7131eb6691571f0d459f44aea53\", element=\"64fb06e3-4ec2-43fe-ac9c-2b003131eefd\")>"
      ]
     },
     "execution_count": 9,
     "metadata": {},
     "output_type": "execute_result"
    }
   ],
   "source": [
    "#find_element for job search bar\n",
    "search_job=driver.find_element_by_id('qsb-keyword-sugg')\n",
    "search_job"
   ]
  },
  {
   "cell_type": "code",
   "execution_count": 10,
   "metadata": {},
   "outputs": [],
   "source": [
    "#write on search bar\n",
    "search_job.send_keys(\"Data Analyst\")"
   ]
  },
  {
   "cell_type": "code",
   "execution_count": 11,
   "metadata": {},
   "outputs": [],
   "source": [
    "#finding element for the job location bar\n",
    "search_loc=driver.find_element_by_id(\"qsb-location-sugg\")\n",
    "search_loc.send_keys(\"Bangalore\")"
   ]
  },
  {
   "cell_type": "code",
   "execution_count": 12,
   "metadata": {},
   "outputs": [],
   "source": [
    "#do click using class_name function\n",
    "search_btn=driver.find_element_by_class_name('btn')\n",
    "search_btn.click()"
   ]
  },
  {
   "cell_type": "code",
   "execution_count": 13,
   "metadata": {},
   "outputs": [
    {
     "data": {
      "text/plain": [
       "[<selenium.webdriver.remote.webelement.WebElement (session=\"ec47c7131eb6691571f0d459f44aea53\", element=\"7ba20162-accb-4543-96d1-bd580a4aab27\")>,\n",
       " <selenium.webdriver.remote.webelement.WebElement (session=\"ec47c7131eb6691571f0d459f44aea53\", element=\"6f029ec8-daab-405c-b8c7-28ad32633081\")>,\n",
       " <selenium.webdriver.remote.webelement.WebElement (session=\"ec47c7131eb6691571f0d459f44aea53\", element=\"6cec0298-9e6f-4b97-90c6-05960d6ae85a\")>,\n",
       " <selenium.webdriver.remote.webelement.WebElement (session=\"ec47c7131eb6691571f0d459f44aea53\", element=\"678222bb-4c27-4066-8b47-d49a84934108\")>,\n",
       " <selenium.webdriver.remote.webelement.WebElement (session=\"ec47c7131eb6691571f0d459f44aea53\", element=\"9d8178e9-03df-48e9-af0d-a6965316213a\")>,\n",
       " <selenium.webdriver.remote.webelement.WebElement (session=\"ec47c7131eb6691571f0d459f44aea53\", element=\"90f83323-d979-46e6-be02-81bc6bbe47d3\")>,\n",
       " <selenium.webdriver.remote.webelement.WebElement (session=\"ec47c7131eb6691571f0d459f44aea53\", element=\"a329b72f-a8e0-4088-ae8a-c333a53d1e91\")>,\n",
       " <selenium.webdriver.remote.webelement.WebElement (session=\"ec47c7131eb6691571f0d459f44aea53\", element=\"2f8cd0fe-61f7-4a13-9b74-944fb35d81c5\")>,\n",
       " <selenium.webdriver.remote.webelement.WebElement (session=\"ec47c7131eb6691571f0d459f44aea53\", element=\"30dedfd2-73e8-488e-893c-d3a23c9bf159\")>,\n",
       " <selenium.webdriver.remote.webelement.WebElement (session=\"ec47c7131eb6691571f0d459f44aea53\", element=\"498426e0-80fe-41f8-8c9a-4923b2b9e49e\")>,\n",
       " <selenium.webdriver.remote.webelement.WebElement (session=\"ec47c7131eb6691571f0d459f44aea53\", element=\"6e81fcdc-88a9-44ea-9c00-ed4376c3fc00\")>,\n",
       " <selenium.webdriver.remote.webelement.WebElement (session=\"ec47c7131eb6691571f0d459f44aea53\", element=\"965a5112-7182-4877-89ab-b8365bd23b49\")>,\n",
       " <selenium.webdriver.remote.webelement.WebElement (session=\"ec47c7131eb6691571f0d459f44aea53\", element=\"1bd3d67d-8af4-40ad-8501-3d560cd75404\")>,\n",
       " <selenium.webdriver.remote.webelement.WebElement (session=\"ec47c7131eb6691571f0d459f44aea53\", element=\"2ba4d139-c98e-4af0-b449-f268fa1039b7\")>,\n",
       " <selenium.webdriver.remote.webelement.WebElement (session=\"ec47c7131eb6691571f0d459f44aea53\", element=\"307370fd-bd52-4d54-b085-a55bd39d1ee6\")>,\n",
       " <selenium.webdriver.remote.webelement.WebElement (session=\"ec47c7131eb6691571f0d459f44aea53\", element=\"6d1c9f64-33c4-4603-8ab0-e7c3a8def7fd\")>,\n",
       " <selenium.webdriver.remote.webelement.WebElement (session=\"ec47c7131eb6691571f0d459f44aea53\", element=\"48ec3d18-c547-4a8e-b55b-f9b3b999a682\")>,\n",
       " <selenium.webdriver.remote.webelement.WebElement (session=\"ec47c7131eb6691571f0d459f44aea53\", element=\"dbe3fc39-a310-444f-ad35-f536868cbed3\")>,\n",
       " <selenium.webdriver.remote.webelement.WebElement (session=\"ec47c7131eb6691571f0d459f44aea53\", element=\"97ced222-90e5-4062-8b15-0ae528c20c74\")>,\n",
       " <selenium.webdriver.remote.webelement.WebElement (session=\"ec47c7131eb6691571f0d459f44aea53\", element=\"24fc187f-a86d-4ece-90c1-a9366076a158\")>]"
      ]
     },
     "execution_count": 13,
     "metadata": {},
     "output_type": "execute_result"
    }
   ],
   "source": [
    "#Lets extract all the tags having the job-titles\n",
    "titles_tags=driver.find_elements_by_xpath(\"//a[@class='title fw500 ellipsis']\")\n",
    "titles_tags"
   ]
  },
  {
   "cell_type": "code",
   "execution_count": 15,
   "metadata": {},
   "outputs": [
    {
     "data": {
      "text/plain": [
       "['Data Scientist / Data Analyst -Business Analyst',\n",
       " 'Hiring Data Analysts For E commerce Platform || WFH',\n",
       " 'Data Analyst',\n",
       " 'Hiring For Data Analyst/ MIS Reporting Analyst - Bangalore',\n",
       " 'DA - Urgent Opening For Data Analyst BFSI Domain - Pan India',\n",
       " 'Data Analyst - Informatica MDM',\n",
       " 'Assistant Vice President - MIS & Reporting ( Business Data Analyst)',\n",
       " 'Data Analyst',\n",
       " 'Data Analyst',\n",
       " 'Data Analyst']"
      ]
     },
     "execution_count": 15,
     "metadata": {},
     "output_type": "execute_result"
    }
   ],
   "source": [
    "#Extracting the text from these tags one by one by looping over these tags\n",
    "job_titles=[]\n",
    "for i in titles_tags:\n",
    "    job_titles.append(i.text)\n",
    "job_titles[:10]"
   ]
  },
  {
   "cell_type": "code",
   "execution_count": 16,
   "metadata": {},
   "outputs": [
    {
     "data": {
      "text/plain": [
       "[<selenium.webdriver.remote.webelement.WebElement (session=\"ec47c7131eb6691571f0d459f44aea53\", element=\"121955a3-65c3-4141-99ef-c71e64b1ee85\")>,\n",
       " <selenium.webdriver.remote.webelement.WebElement (session=\"ec47c7131eb6691571f0d459f44aea53\", element=\"4f55b902-d11c-4c10-ad1b-eaea69fbe6ea\")>,\n",
       " <selenium.webdriver.remote.webelement.WebElement (session=\"ec47c7131eb6691571f0d459f44aea53\", element=\"b0795085-3634-4b83-b051-5d08feaebacc\")>,\n",
       " <selenium.webdriver.remote.webelement.WebElement (session=\"ec47c7131eb6691571f0d459f44aea53\", element=\"d2881e6d-e744-45d0-9cc0-cd5fbab1a1b4\")>,\n",
       " <selenium.webdriver.remote.webelement.WebElement (session=\"ec47c7131eb6691571f0d459f44aea53\", element=\"05e74bc0-f001-4aee-bdd1-d09142afb5c9\")>,\n",
       " <selenium.webdriver.remote.webelement.WebElement (session=\"ec47c7131eb6691571f0d459f44aea53\", element=\"4a427948-b8e8-4e73-9bef-f82c61bdbce8\")>,\n",
       " <selenium.webdriver.remote.webelement.WebElement (session=\"ec47c7131eb6691571f0d459f44aea53\", element=\"51df6337-9cd0-44d9-9fc2-3557661ec0e1\")>,\n",
       " <selenium.webdriver.remote.webelement.WebElement (session=\"ec47c7131eb6691571f0d459f44aea53\", element=\"b112868a-7645-4b74-86d1-d66c81642345\")>,\n",
       " <selenium.webdriver.remote.webelement.WebElement (session=\"ec47c7131eb6691571f0d459f44aea53\", element=\"6a41b5d4-c1a9-4a71-b40f-cc5505e532cb\")>,\n",
       " <selenium.webdriver.remote.webelement.WebElement (session=\"ec47c7131eb6691571f0d459f44aea53\", element=\"5fe1ef39-c2d7-416b-9e2e-da98f492b524\")>,\n",
       " <selenium.webdriver.remote.webelement.WebElement (session=\"ec47c7131eb6691571f0d459f44aea53\", element=\"221cf3fb-367b-4c0a-9904-ed3c5498c949\")>,\n",
       " <selenium.webdriver.remote.webelement.WebElement (session=\"ec47c7131eb6691571f0d459f44aea53\", element=\"9a83bab2-b9a6-44dd-bd48-2654e1775b14\")>,\n",
       " <selenium.webdriver.remote.webelement.WebElement (session=\"ec47c7131eb6691571f0d459f44aea53\", element=\"a1c3bd10-fc08-42eb-b187-56f481bb8e43\")>,\n",
       " <selenium.webdriver.remote.webelement.WebElement (session=\"ec47c7131eb6691571f0d459f44aea53\", element=\"810cd093-7560-4984-b8b3-083dd2decb93\")>,\n",
       " <selenium.webdriver.remote.webelement.WebElement (session=\"ec47c7131eb6691571f0d459f44aea53\", element=\"c233d62b-4d6f-45cf-b2db-e0132bc576ac\")>,\n",
       " <selenium.webdriver.remote.webelement.WebElement (session=\"ec47c7131eb6691571f0d459f44aea53\", element=\"91c674d4-6f94-4e1d-a77b-731ae377690c\")>,\n",
       " <selenium.webdriver.remote.webelement.WebElement (session=\"ec47c7131eb6691571f0d459f44aea53\", element=\"b2857224-136a-46a8-af0d-a8f811ed8bd5\")>,\n",
       " <selenium.webdriver.remote.webelement.WebElement (session=\"ec47c7131eb6691571f0d459f44aea53\", element=\"6c01e641-4f7a-4c6a-a9b7-035c5a329211\")>,\n",
       " <selenium.webdriver.remote.webelement.WebElement (session=\"ec47c7131eb6691571f0d459f44aea53\", element=\"da65bfbd-1439-477d-8d09-cd5c5b01b27b\")>,\n",
       " <selenium.webdriver.remote.webelement.WebElement (session=\"ec47c7131eb6691571f0d459f44aea53\", element=\"79ac1906-3b1c-477b-9cf4-25789cd5fb25\")>]"
      ]
     },
     "execution_count": 16,
     "metadata": {},
     "output_type": "execute_result"
    }
   ],
   "source": [
    "#lets extract all the tags having the company names\n",
    "companies_tags=driver.find_elements_by_xpath(\"//a[@class='subTitle ellipsis fleft']\")\n",
    "companies_tags"
   ]
  },
  {
   "cell_type": "code",
   "execution_count": 17,
   "metadata": {},
   "outputs": [
    {
     "data": {
      "text/plain": [
       "['Inflexion Analytix Private Limited',\n",
       " 'Allegis Services India Pvt. Ltd.',\n",
       " 'Applied Materials',\n",
       " 'PHARMACEUTICAL RESEARCH ASSOCIATES INDIA Pvt Ltd',\n",
       " 'Tata Consultancy Services Ltd.',\n",
       " 'Shell India Markets Private Limited',\n",
       " 'INTERTRUSTVITEOS CORPORATE AND FUND SERVICES PVT. LTD.',\n",
       " 'Myntra Designs Pvt. Ltd.',\n",
       " 'Myntra Designs Pvt. Ltd.',\n",
       " 'Myntra Designs Pvt. Ltd.']"
      ]
     },
     "execution_count": 17,
     "metadata": {},
     "output_type": "execute_result"
    }
   ],
   "source": [
    "#Extracting the text from these tags one by one by looping over these tags\n",
    "company_names=[]\n",
    "for i in companies_tags:\n",
    "    company_names.append(i.text)\n",
    "company_names[:10]"
   ]
  },
  {
   "cell_type": "code",
   "execution_count": 24,
   "metadata": {},
   "outputs": [
    {
     "data": {
      "text/plain": [
       "[<selenium.webdriver.remote.webelement.WebElement (session=\"ec47c7131eb6691571f0d459f44aea53\", element=\"559d5e29-a99c-430f-8f10-4fbbc1a7649a\")>,\n",
       " <selenium.webdriver.remote.webelement.WebElement (session=\"ec47c7131eb6691571f0d459f44aea53\", element=\"a1d27220-6908-42c3-8a16-4afae6551443\")>,\n",
       " <selenium.webdriver.remote.webelement.WebElement (session=\"ec47c7131eb6691571f0d459f44aea53\", element=\"f80f0bc3-8793-4ac8-99cd-4a7a38d50003\")>,\n",
       " <selenium.webdriver.remote.webelement.WebElement (session=\"ec47c7131eb6691571f0d459f44aea53\", element=\"344e2b51-fe46-428b-a620-cfa8f05dac0a\")>,\n",
       " <selenium.webdriver.remote.webelement.WebElement (session=\"ec47c7131eb6691571f0d459f44aea53\", element=\"a7f90e1e-d2e4-4145-8c63-71d55f843a0e\")>,\n",
       " <selenium.webdriver.remote.webelement.WebElement (session=\"ec47c7131eb6691571f0d459f44aea53\", element=\"3ba53402-8135-4fc4-9929-47d9893d2b77\")>,\n",
       " <selenium.webdriver.remote.webelement.WebElement (session=\"ec47c7131eb6691571f0d459f44aea53\", element=\"13df0ab0-6be9-46e6-a3e2-9bc02fa0d7b2\")>,\n",
       " <selenium.webdriver.remote.webelement.WebElement (session=\"ec47c7131eb6691571f0d459f44aea53\", element=\"5e5db400-e6ef-42dc-bb01-a405188e8ad6\")>,\n",
       " <selenium.webdriver.remote.webelement.WebElement (session=\"ec47c7131eb6691571f0d459f44aea53\", element=\"8f29351b-585d-47f4-bde1-5c04c1cc1ff2\")>,\n",
       " <selenium.webdriver.remote.webelement.WebElement (session=\"ec47c7131eb6691571f0d459f44aea53\", element=\"c15085d9-bcdf-4a66-b10f-a726f1c46938\")>,\n",
       " <selenium.webdriver.remote.webelement.WebElement (session=\"ec47c7131eb6691571f0d459f44aea53\", element=\"f546bf78-6f45-476c-83fe-353ca324fda2\")>,\n",
       " <selenium.webdriver.remote.webelement.WebElement (session=\"ec47c7131eb6691571f0d459f44aea53\", element=\"fb23ce1b-16fc-4e7c-8661-f01ed6885235\")>,\n",
       " <selenium.webdriver.remote.webelement.WebElement (session=\"ec47c7131eb6691571f0d459f44aea53\", element=\"e5f313f1-fffb-4591-9641-de0d45b30fb4\")>,\n",
       " <selenium.webdriver.remote.webelement.WebElement (session=\"ec47c7131eb6691571f0d459f44aea53\", element=\"c0bd6aa2-f29a-438d-99e9-9466733819ff\")>,\n",
       " <selenium.webdriver.remote.webelement.WebElement (session=\"ec47c7131eb6691571f0d459f44aea53\", element=\"77e172dd-8067-4ca3-bee9-589e20530bf2\")>,\n",
       " <selenium.webdriver.remote.webelement.WebElement (session=\"ec47c7131eb6691571f0d459f44aea53\", element=\"a91de710-e686-480c-8051-a6f15078e7d4\")>,\n",
       " <selenium.webdriver.remote.webelement.WebElement (session=\"ec47c7131eb6691571f0d459f44aea53\", element=\"992b8307-d5cf-43f4-b203-0d2e1dcae746\")>,\n",
       " <selenium.webdriver.remote.webelement.WebElement (session=\"ec47c7131eb6691571f0d459f44aea53\", element=\"a5166e10-4276-45e1-a2bb-a5c49fbcbb87\")>,\n",
       " <selenium.webdriver.remote.webelement.WebElement (session=\"ec47c7131eb6691571f0d459f44aea53\", element=\"aebffef8-dd4f-4b1d-bd58-d569be4aedac\")>,\n",
       " <selenium.webdriver.remote.webelement.WebElement (session=\"ec47c7131eb6691571f0d459f44aea53\", element=\"3f9550a8-9e9c-4683-b348-417ad7c9a234\")>]"
      ]
     },
     "execution_count": 24,
     "metadata": {},
     "output_type": "execute_result"
    }
   ],
   "source": [
    "#lets extract all the tags having the experience required data\n",
    "experience_tags=driver.find_elements_by_xpath(\"//li[@class='fleft grey-text br2 placeHolderLi experience']\")\n",
    "experience_tags"
   ]
  },
  {
   "cell_type": "code",
   "execution_count": 25,
   "metadata": {},
   "outputs": [
    {
     "data": {
      "text/plain": [
       "['0-3 Yrs',\n",
       " '0-5 Yrs',\n",
       " '7-10 Yrs',\n",
       " '2-4 Yrs',\n",
       " '4-9 Yrs',\n",
       " '6-9 Yrs',\n",
       " '12-18 Yrs',\n",
       " '3-6 Yrs',\n",
       " '3-6 Yrs',\n",
       " '4-9 Yrs']"
      ]
     },
     "execution_count": 25,
     "metadata": {},
     "output_type": "execute_result"
    }
   ],
   "source": [
    "#Extracting the text from these tags one by one by looping over these tags\n",
    "experience_list=[]\n",
    "for i in experience_tags:\n",
    "    experience_list.append(i.text)\n",
    "experience_list[:10]"
   ]
  },
  {
   "cell_type": "code",
   "execution_count": 28,
   "metadata": {},
   "outputs": [
    {
     "data": {
      "text/plain": [
       "[<selenium.webdriver.remote.webelement.WebElement (session=\"ec47c7131eb6691571f0d459f44aea53\", element=\"89a970ed-5a89-42e7-acd1-5091739f789e\")>,\n",
       " <selenium.webdriver.remote.webelement.WebElement (session=\"ec47c7131eb6691571f0d459f44aea53\", element=\"5e6a7493-4cf3-4bf9-8572-1115d779c199\")>,\n",
       " <selenium.webdriver.remote.webelement.WebElement (session=\"ec47c7131eb6691571f0d459f44aea53\", element=\"87d8b019-dbad-4617-8f82-0259d504a18a\")>,\n",
       " <selenium.webdriver.remote.webelement.WebElement (session=\"ec47c7131eb6691571f0d459f44aea53\", element=\"13a9ced6-ea0f-42b5-8e64-faaacfc46529\")>,\n",
       " <selenium.webdriver.remote.webelement.WebElement (session=\"ec47c7131eb6691571f0d459f44aea53\", element=\"5680f279-76ea-4070-93ad-b1864662fd9c\")>,\n",
       " <selenium.webdriver.remote.webelement.WebElement (session=\"ec47c7131eb6691571f0d459f44aea53\", element=\"594b86ff-7ece-4ff2-83be-f2467e20d8cb\")>,\n",
       " <selenium.webdriver.remote.webelement.WebElement (session=\"ec47c7131eb6691571f0d459f44aea53\", element=\"aa4a2b0d-f3cb-4643-a565-671a708406df\")>,\n",
       " <selenium.webdriver.remote.webelement.WebElement (session=\"ec47c7131eb6691571f0d459f44aea53\", element=\"504155fc-0e6c-4bd9-bdb1-28fd6563da6e\")>,\n",
       " <selenium.webdriver.remote.webelement.WebElement (session=\"ec47c7131eb6691571f0d459f44aea53\", element=\"98827f16-d556-4cc8-b7c7-f884229f1294\")>,\n",
       " <selenium.webdriver.remote.webelement.WebElement (session=\"ec47c7131eb6691571f0d459f44aea53\", element=\"d1e652dc-cd7c-4f4c-9388-f44285a236d8\")>,\n",
       " <selenium.webdriver.remote.webelement.WebElement (session=\"ec47c7131eb6691571f0d459f44aea53\", element=\"812c8f5b-0eaa-45d3-b956-f76cfa7fffb6\")>,\n",
       " <selenium.webdriver.remote.webelement.WebElement (session=\"ec47c7131eb6691571f0d459f44aea53\", element=\"36731543-eec1-4a40-ac15-dd76337910c3\")>,\n",
       " <selenium.webdriver.remote.webelement.WebElement (session=\"ec47c7131eb6691571f0d459f44aea53\", element=\"7ae3e466-5279-47be-b952-b96274d18e87\")>,\n",
       " <selenium.webdriver.remote.webelement.WebElement (session=\"ec47c7131eb6691571f0d459f44aea53\", element=\"c9fcebc0-a9a1-4ef0-8d5e-4044d5dfeeaf\")>,\n",
       " <selenium.webdriver.remote.webelement.WebElement (session=\"ec47c7131eb6691571f0d459f44aea53\", element=\"6ef347e6-1f90-4720-a0ab-e1ac40dfc698\")>,\n",
       " <selenium.webdriver.remote.webelement.WebElement (session=\"ec47c7131eb6691571f0d459f44aea53\", element=\"f5811a6d-3875-48d5-b42f-80cce86e8943\")>,\n",
       " <selenium.webdriver.remote.webelement.WebElement (session=\"ec47c7131eb6691571f0d459f44aea53\", element=\"bdc17a39-5fa8-4d49-8c15-58cf32b9ebd9\")>,\n",
       " <selenium.webdriver.remote.webelement.WebElement (session=\"ec47c7131eb6691571f0d459f44aea53\", element=\"9013b594-a2e9-4bde-bba2-92a0d85b3959\")>,\n",
       " <selenium.webdriver.remote.webelement.WebElement (session=\"ec47c7131eb6691571f0d459f44aea53\", element=\"b05d0c94-778b-4841-8a90-dcd30c29f210\")>,\n",
       " <selenium.webdriver.remote.webelement.WebElement (session=\"ec47c7131eb6691571f0d459f44aea53\", element=\"3be26a7a-cffe-46f4-98be-32bb3da3ef51\")>]"
      ]
     },
     "execution_count": 28,
     "metadata": {},
     "output_type": "execute_result"
    }
   ],
   "source": [
    "#lets extract all the tags having the location of the job\n",
    "locations_tags=driver.find_elements_by_xpath(\"//li[@class='fleft grey-text br2 placeHolderLi location']\")\n",
    "locations_tags"
   ]
  },
  {
   "cell_type": "code",
   "execution_count": 29,
   "metadata": {},
   "outputs": [
    {
     "data": {
      "text/plain": [
       "['Mumbai, Hyderabad/Secunderabad, Pune, Gurgaon/Gurugram, Chennai, Bangalore/Bengaluru',\n",
       " 'Bangalore/Bengaluru',\n",
       " 'Bangalore/Bengaluru',\n",
       " 'Bangalore/Bengaluru',\n",
       " 'Kolkata, Hyderabad/Secunderabad, Pune, Ahmedabad, Chennai, Bangalore/Bengaluru, Delhi / NCR, Mumbai (All Areas)',\n",
       " 'Bangalore/Bengaluru',\n",
       " 'Mumbai, Bangalore/Bengaluru',\n",
       " 'Bangalore/Bengaluru',\n",
       " 'Bangalore/Bengaluru',\n",
       " 'Bangalore/Bengaluru']"
      ]
     },
     "execution_count": 29,
     "metadata": {},
     "output_type": "execute_result"
    }
   ],
   "source": [
    "#Extracting the text from these tags one by one by looping over these tags\n",
    "locations_list=[]\n",
    "for i in locations_tags:\n",
    "    locations_list.append(i.text)\n",
    "locations_list[:10]"
   ]
  },
  {
   "cell_type": "code",
   "execution_count": 30,
   "metadata": {},
   "outputs": [
    {
     "name": "stdout",
     "output_type": "stream",
     "text": [
      "20 20 20 20\n"
     ]
    }
   ],
   "source": [
    "#Now we will create a dataframe,so we will check the length of each of the list\n",
    "print(len(job_titles),len(company_names),len(experience_list),len(locations_list))"
   ]
  },
  {
   "cell_type": "code",
   "execution_count": 31,
   "metadata": {},
   "outputs": [],
   "source": [
    "jobs=pd.DataFrame({})\n",
    "jobs['title']=job_titles\n",
    "jobs['company']=company_names\n",
    "jobs['experience_required']=experience_list\n",
    "jobs['location']=locations_list"
   ]
  },
  {
   "cell_type": "code",
   "execution_count": 33,
   "metadata": {},
   "outputs": [
    {
     "data": {
      "text/html": [
       "<div>\n",
       "<style scoped>\n",
       "    .dataframe tbody tr th:only-of-type {\n",
       "        vertical-align: middle;\n",
       "    }\n",
       "\n",
       "    .dataframe tbody tr th {\n",
       "        vertical-align: top;\n",
       "    }\n",
       "\n",
       "    .dataframe thead th {\n",
       "        text-align: right;\n",
       "    }\n",
       "</style>\n",
       "<table border=\"1\" class=\"dataframe\">\n",
       "  <thead>\n",
       "    <tr style=\"text-align: right;\">\n",
       "      <th></th>\n",
       "      <th>title</th>\n",
       "      <th>company</th>\n",
       "      <th>experience_required</th>\n",
       "      <th>location</th>\n",
       "    </tr>\n",
       "  </thead>\n",
       "  <tbody>\n",
       "    <tr>\n",
       "      <th>0</th>\n",
       "      <td>Data Scientist / Data Analyst -Business Analyst</td>\n",
       "      <td>Inflexion Analytix Private Limited</td>\n",
       "      <td>0-3 Yrs</td>\n",
       "      <td>Mumbai, Hyderabad/Secunderabad, Pune, Gurgaon/...</td>\n",
       "    </tr>\n",
       "    <tr>\n",
       "      <th>1</th>\n",
       "      <td>Hiring Data Analysts For E commerce Platform |...</td>\n",
       "      <td>Allegis Services India Pvt. Ltd.</td>\n",
       "      <td>0-5 Yrs</td>\n",
       "      <td>Bangalore/Bengaluru</td>\n",
       "    </tr>\n",
       "    <tr>\n",
       "      <th>2</th>\n",
       "      <td>Data Analyst</td>\n",
       "      <td>Applied Materials</td>\n",
       "      <td>7-10 Yrs</td>\n",
       "      <td>Bangalore/Bengaluru</td>\n",
       "    </tr>\n",
       "    <tr>\n",
       "      <th>3</th>\n",
       "      <td>Hiring For Data Analyst/ MIS Reporting Analyst...</td>\n",
       "      <td>PHARMACEUTICAL RESEARCH ASSOCIATES INDIA Pvt Ltd</td>\n",
       "      <td>2-4 Yrs</td>\n",
       "      <td>Bangalore/Bengaluru</td>\n",
       "    </tr>\n",
       "    <tr>\n",
       "      <th>4</th>\n",
       "      <td>DA - Urgent Opening For Data Analyst BFSI Doma...</td>\n",
       "      <td>Tata Consultancy Services Ltd.</td>\n",
       "      <td>4-9 Yrs</td>\n",
       "      <td>Kolkata, Hyderabad/Secunderabad, Pune, Ahmedab...</td>\n",
       "    </tr>\n",
       "    <tr>\n",
       "      <th>5</th>\n",
       "      <td>Data Analyst - Informatica MDM</td>\n",
       "      <td>Shell India Markets Private Limited</td>\n",
       "      <td>6-9 Yrs</td>\n",
       "      <td>Bangalore/Bengaluru</td>\n",
       "    </tr>\n",
       "    <tr>\n",
       "      <th>6</th>\n",
       "      <td>Assistant Vice President - MIS &amp; Reporting ( B...</td>\n",
       "      <td>INTERTRUSTVITEOS CORPORATE AND FUND SERVICES P...</td>\n",
       "      <td>12-18 Yrs</td>\n",
       "      <td>Mumbai, Bangalore/Bengaluru</td>\n",
       "    </tr>\n",
       "    <tr>\n",
       "      <th>7</th>\n",
       "      <td>Data Analyst</td>\n",
       "      <td>Myntra Designs Pvt. Ltd.</td>\n",
       "      <td>3-6 Yrs</td>\n",
       "      <td>Bangalore/Bengaluru</td>\n",
       "    </tr>\n",
       "    <tr>\n",
       "      <th>8</th>\n",
       "      <td>Data Analyst</td>\n",
       "      <td>Myntra Designs Pvt. Ltd.</td>\n",
       "      <td>3-6 Yrs</td>\n",
       "      <td>Bangalore/Bengaluru</td>\n",
       "    </tr>\n",
       "    <tr>\n",
       "      <th>9</th>\n",
       "      <td>Data Analyst</td>\n",
       "      <td>Myntra Designs Pvt. Ltd.</td>\n",
       "      <td>4-9 Yrs</td>\n",
       "      <td>Bangalore/Bengaluru</td>\n",
       "    </tr>\n",
       "  </tbody>\n",
       "</table>\n",
       "</div>"
      ],
      "text/plain": [
       "                                               title  \\\n",
       "0    Data Scientist / Data Analyst -Business Analyst   \n",
       "1  Hiring Data Analysts For E commerce Platform |...   \n",
       "2                                       Data Analyst   \n",
       "3  Hiring For Data Analyst/ MIS Reporting Analyst...   \n",
       "4  DA - Urgent Opening For Data Analyst BFSI Doma...   \n",
       "5                     Data Analyst - Informatica MDM   \n",
       "6  Assistant Vice President - MIS & Reporting ( B...   \n",
       "7                                       Data Analyst   \n",
       "8                                       Data Analyst   \n",
       "9                                       Data Analyst   \n",
       "\n",
       "                                             company experience_required  \\\n",
       "0                 Inflexion Analytix Private Limited             0-3 Yrs   \n",
       "1                   Allegis Services India Pvt. Ltd.             0-5 Yrs   \n",
       "2                                  Applied Materials            7-10 Yrs   \n",
       "3   PHARMACEUTICAL RESEARCH ASSOCIATES INDIA Pvt Ltd             2-4 Yrs   \n",
       "4                     Tata Consultancy Services Ltd.             4-9 Yrs   \n",
       "5                Shell India Markets Private Limited             6-9 Yrs   \n",
       "6  INTERTRUSTVITEOS CORPORATE AND FUND SERVICES P...           12-18 Yrs   \n",
       "7                           Myntra Designs Pvt. Ltd.             3-6 Yrs   \n",
       "8                           Myntra Designs Pvt. Ltd.             3-6 Yrs   \n",
       "9                           Myntra Designs Pvt. Ltd.             4-9 Yrs   \n",
       "\n",
       "                                            location  \n",
       "0  Mumbai, Hyderabad/Secunderabad, Pune, Gurgaon/...  \n",
       "1                                Bangalore/Bengaluru  \n",
       "2                                Bangalore/Bengaluru  \n",
       "3                                Bangalore/Bengaluru  \n",
       "4  Kolkata, Hyderabad/Secunderabad, Pune, Ahmedab...  \n",
       "5                                Bangalore/Bengaluru  \n",
       "6                        Mumbai, Bangalore/Bengaluru  \n",
       "7                                Bangalore/Bengaluru  \n",
       "8                                Bangalore/Bengaluru  \n",
       "9                                Bangalore/Bengaluru  "
      ]
     },
     "execution_count": 33,
     "metadata": {},
     "output_type": "execute_result"
    }
   ],
   "source": [
    "jobs[:10]"
   ]
  },
  {
   "cell_type": "markdown",
   "metadata": {},
   "source": []
  },
  {
   "cell_type": "markdown",
   "metadata": {},
   "source": [
    "# Q2."
   ]
  },
  {
   "cell_type": "code",
   "execution_count": 470,
   "metadata": {},
   "outputs": [],
   "source": [
    "#importing all the required libraries\n",
    "import selenium\n",
    "import pandas as pd\n",
    "from selenium import webdriver\n",
    "import time"
   ]
  },
  {
   "cell_type": "code",
   "execution_count": 471,
   "metadata": {},
   "outputs": [],
   "source": [
    "#connecting to the webdriver\n",
    "driver=webdriver.Chrome(\"chromedriver.exe\")"
   ]
  },
  {
   "cell_type": "code",
   "execution_count": 472,
   "metadata": {},
   "outputs": [],
   "source": [
    "#Now we have to scrape data for “Data Scientist” Job position in “Bangalore” location. \n",
    "#We have to scrape the job-title, job-location, company_name,full-job-description. \n",
    "#We have to first get the webpage of https://www.naukri.com/\n",
    "\n",
    "url='https://www.naukri.com/'\n",
    "driver.get(url)"
   ]
  },
  {
   "cell_type": "code",
   "execution_count": 473,
   "metadata": {},
   "outputs": [
    {
     "data": {
      "text/plain": [
       "<selenium.webdriver.remote.webelement.WebElement (session=\"69e49a9557005e0f847d89376f4efd89\", element=\"ba821573-9361-4937-b09e-924d9a8434d8\")>"
      ]
     },
     "execution_count": 473,
     "metadata": {},
     "output_type": "execute_result"
    }
   ],
   "source": [
    "#find_element for job search bar\n",
    "search_job=driver.find_element_by_id('qsb-keyword-sugg')\n",
    "search_job"
   ]
  },
  {
   "cell_type": "code",
   "execution_count": 474,
   "metadata": {},
   "outputs": [],
   "source": [
    "#write on search bar\n",
    "search_job.send_keys(\"Data Scientist\")"
   ]
  },
  {
   "cell_type": "code",
   "execution_count": 475,
   "metadata": {},
   "outputs": [],
   "source": [
    "#finding element for the job location bar\n",
    "search_loc=driver.find_element_by_id(\"qsb-location-sugg\")\n",
    "search_loc.send_keys(\"Bangalore\")"
   ]
  },
  {
   "cell_type": "code",
   "execution_count": 476,
   "metadata": {},
   "outputs": [],
   "source": [
    "#do click using class_name function\n",
    "search_btn=driver.find_element_by_class_name('btn')\n",
    "search_btn.click()"
   ]
  },
  {
   "cell_type": "code",
   "execution_count": 479,
   "metadata": {},
   "outputs": [
    {
     "data": {
      "text/plain": [
       "[<selenium.webdriver.remote.webelement.WebElement (session=\"69e49a9557005e0f847d89376f4efd89\", element=\"4e7f27e8-9759-4004-a732-af64ece788e3\")>,\n",
       " <selenium.webdriver.remote.webelement.WebElement (session=\"69e49a9557005e0f847d89376f4efd89\", element=\"00b9bcb3-8012-4852-8705-7d8fdb9cb6ef\")>,\n",
       " <selenium.webdriver.remote.webelement.WebElement (session=\"69e49a9557005e0f847d89376f4efd89\", element=\"20c66949-b7ba-4619-bbe0-639ffa692dcf\")>,\n",
       " <selenium.webdriver.remote.webelement.WebElement (session=\"69e49a9557005e0f847d89376f4efd89\", element=\"3e060b7b-bdab-46b0-ac55-f642fa737d86\")>,\n",
       " <selenium.webdriver.remote.webelement.WebElement (session=\"69e49a9557005e0f847d89376f4efd89\", element=\"0d7d5565-b129-4605-99df-0e1187443e95\")>,\n",
       " <selenium.webdriver.remote.webelement.WebElement (session=\"69e49a9557005e0f847d89376f4efd89\", element=\"e590fb67-586b-4937-96db-eb0d1e599bbd\")>,\n",
       " <selenium.webdriver.remote.webelement.WebElement (session=\"69e49a9557005e0f847d89376f4efd89\", element=\"f369f976-0cf5-4dad-bff0-51c30bf86a2b\")>,\n",
       " <selenium.webdriver.remote.webelement.WebElement (session=\"69e49a9557005e0f847d89376f4efd89\", element=\"5f663b01-76ce-4f8e-a79f-2f42eadd6a85\")>,\n",
       " <selenium.webdriver.remote.webelement.WebElement (session=\"69e49a9557005e0f847d89376f4efd89\", element=\"d2a4a51d-9c1f-4e55-a958-0f3f05293fc4\")>,\n",
       " <selenium.webdriver.remote.webelement.WebElement (session=\"69e49a9557005e0f847d89376f4efd89\", element=\"2d21e275-9b8b-4507-8ad1-c321c4e86afe\")>,\n",
       " <selenium.webdriver.remote.webelement.WebElement (session=\"69e49a9557005e0f847d89376f4efd89\", element=\"ae2baef0-3ac5-4614-9f81-34ef92666eae\")>,\n",
       " <selenium.webdriver.remote.webelement.WebElement (session=\"69e49a9557005e0f847d89376f4efd89\", element=\"ecf8a29a-d0d3-4413-a6c4-1c5ef0caed6b\")>,\n",
       " <selenium.webdriver.remote.webelement.WebElement (session=\"69e49a9557005e0f847d89376f4efd89\", element=\"8b16ab53-3d6b-4606-9259-8916da72b1f6\")>,\n",
       " <selenium.webdriver.remote.webelement.WebElement (session=\"69e49a9557005e0f847d89376f4efd89\", element=\"c878640b-cc3b-437f-a6f6-bf039e324501\")>,\n",
       " <selenium.webdriver.remote.webelement.WebElement (session=\"69e49a9557005e0f847d89376f4efd89\", element=\"8bf197c3-97e5-472d-adc9-de6317ccdb9f\")>,\n",
       " <selenium.webdriver.remote.webelement.WebElement (session=\"69e49a9557005e0f847d89376f4efd89\", element=\"ab6b9c5e-717a-4f0f-8bfc-bfe3c107c301\")>,\n",
       " <selenium.webdriver.remote.webelement.WebElement (session=\"69e49a9557005e0f847d89376f4efd89\", element=\"bc189c2a-b167-4410-9aca-9e5ec8d9328b\")>,\n",
       " <selenium.webdriver.remote.webelement.WebElement (session=\"69e49a9557005e0f847d89376f4efd89\", element=\"d5f2d180-5218-43cb-8046-f59974c1e1a3\")>,\n",
       " <selenium.webdriver.remote.webelement.WebElement (session=\"69e49a9557005e0f847d89376f4efd89\", element=\"0a1d9af7-f410-4260-9cd5-2c92c9b0b318\")>,\n",
       " <selenium.webdriver.remote.webelement.WebElement (session=\"69e49a9557005e0f847d89376f4efd89\", element=\"49494273-f0c7-492f-a5ec-6fcd1e8eb7fc\")>]"
      ]
     },
     "execution_count": 479,
     "metadata": {},
     "output_type": "execute_result"
    }
   ],
   "source": [
    "#Lets extract all the tags having the job-titles\n",
    "titles_tags=driver.find_elements_by_xpath(\"//a[@class='title fw500 ellipsis']\")\n",
    "titles_tags"
   ]
  },
  {
   "cell_type": "code",
   "execution_count": 480,
   "metadata": {},
   "outputs": [
    {
     "data": {
      "text/plain": [
       "['Data Scientist / Data Analyst -Business Analyst',\n",
       " 'Senior Data Scientist, Modeling',\n",
       " 'Big Data - Data Scientist',\n",
       " 'Specialist I - Data Scientist',\n",
       " 'Lead Data Scientist',\n",
       " 'Data Scientist',\n",
       " 'SDE Lead Data Scientist-L3',\n",
       " 'Computational Design Lead Data Scientist-L3',\n",
       " 'Hiring For DATA Scientist - ON Contract Basis (3-6 Months)',\n",
       " 'Senior Data Scientist']"
      ]
     },
     "execution_count": 480,
     "metadata": {},
     "output_type": "execute_result"
    }
   ],
   "source": [
    "#Extracting the text from these tags one by one by looping over these tags\n",
    "job_titles=[]\n",
    "for i in titles_tags:\n",
    "    job_titles.append(i.text)\n",
    "job_titles[:10]"
   ]
  },
  {
   "cell_type": "code",
   "execution_count": 481,
   "metadata": {},
   "outputs": [
    {
     "data": {
      "text/plain": [
       "[<selenium.webdriver.remote.webelement.WebElement (session=\"69e49a9557005e0f847d89376f4efd89\", element=\"9dadf65a-cb9a-4fde-8ae5-2989558a0da7\")>,\n",
       " <selenium.webdriver.remote.webelement.WebElement (session=\"69e49a9557005e0f847d89376f4efd89\", element=\"7845a367-52e7-42f8-ab6e-bb097a6ef07e\")>,\n",
       " <selenium.webdriver.remote.webelement.WebElement (session=\"69e49a9557005e0f847d89376f4efd89\", element=\"6c34d690-84b5-40cb-bb2a-a97ff047f61a\")>,\n",
       " <selenium.webdriver.remote.webelement.WebElement (session=\"69e49a9557005e0f847d89376f4efd89\", element=\"fb6f816c-a79b-47f6-9d46-944c769db4fa\")>,\n",
       " <selenium.webdriver.remote.webelement.WebElement (session=\"69e49a9557005e0f847d89376f4efd89\", element=\"02c4d87c-fc89-4da4-8ef4-df170fd712da\")>,\n",
       " <selenium.webdriver.remote.webelement.WebElement (session=\"69e49a9557005e0f847d89376f4efd89\", element=\"9b27d1be-a266-4dd7-b121-af035fb736bf\")>,\n",
       " <selenium.webdriver.remote.webelement.WebElement (session=\"69e49a9557005e0f847d89376f4efd89\", element=\"5cfecad4-0e67-42ba-9b44-717540244ccc\")>,\n",
       " <selenium.webdriver.remote.webelement.WebElement (session=\"69e49a9557005e0f847d89376f4efd89\", element=\"4e44cc0d-96cf-4818-9cb7-166af4fe15ea\")>,\n",
       " <selenium.webdriver.remote.webelement.WebElement (session=\"69e49a9557005e0f847d89376f4efd89\", element=\"1d680265-8354-4b32-8e5d-565c27f0e63e\")>,\n",
       " <selenium.webdriver.remote.webelement.WebElement (session=\"69e49a9557005e0f847d89376f4efd89\", element=\"d40a42a8-4d3f-4e13-a389-72ff38079d16\")>,\n",
       " <selenium.webdriver.remote.webelement.WebElement (session=\"69e49a9557005e0f847d89376f4efd89\", element=\"0ff54d6c-837c-41d9-a412-d5f94ebd40cf\")>,\n",
       " <selenium.webdriver.remote.webelement.WebElement (session=\"69e49a9557005e0f847d89376f4efd89\", element=\"1c43b7f7-4d36-4420-9ed0-920b7585637e\")>,\n",
       " <selenium.webdriver.remote.webelement.WebElement (session=\"69e49a9557005e0f847d89376f4efd89\", element=\"78cfb914-483d-4f74-bfe5-370b96e363cf\")>,\n",
       " <selenium.webdriver.remote.webelement.WebElement (session=\"69e49a9557005e0f847d89376f4efd89\", element=\"25a02ebe-8a8b-4972-8a59-3815f96db8fb\")>,\n",
       " <selenium.webdriver.remote.webelement.WebElement (session=\"69e49a9557005e0f847d89376f4efd89\", element=\"7a6deff7-5445-4f0d-9d52-dfddaad43f2c\")>,\n",
       " <selenium.webdriver.remote.webelement.WebElement (session=\"69e49a9557005e0f847d89376f4efd89\", element=\"fe166508-65e5-477a-a557-b8b2830fcc7b\")>,\n",
       " <selenium.webdriver.remote.webelement.WebElement (session=\"69e49a9557005e0f847d89376f4efd89\", element=\"d5590f8c-b133-4a66-8635-26512ff8668e\")>,\n",
       " <selenium.webdriver.remote.webelement.WebElement (session=\"69e49a9557005e0f847d89376f4efd89\", element=\"065881db-a083-4a5c-bd25-3f8658a969aa\")>,\n",
       " <selenium.webdriver.remote.webelement.WebElement (session=\"69e49a9557005e0f847d89376f4efd89\", element=\"75b8c5f2-4c97-4b39-b1a1-10b2489e297f\")>,\n",
       " <selenium.webdriver.remote.webelement.WebElement (session=\"69e49a9557005e0f847d89376f4efd89\", element=\"71982c3f-36b5-4362-9448-62441fd813de\")>]"
      ]
     },
     "execution_count": 481,
     "metadata": {},
     "output_type": "execute_result"
    }
   ],
   "source": [
    "#lets extract all the tags having the location of the job\n",
    "locations_tags=driver.find_elements_by_xpath(\"//li[@class='fleft grey-text br2 placeHolderLi location']\")\n",
    "locations_tags"
   ]
  },
  {
   "cell_type": "code",
   "execution_count": 482,
   "metadata": {},
   "outputs": [
    {
     "data": {
      "text/plain": [
       "['Mumbai, Hyderabad/Secunderabad, Pune, Gurgaon/Gurugram, Chennai, Bangalore/Bengaluru',\n",
       " 'Kolkata, Gurgaon/Gurugram, Bangalore/Bengaluru, Vadodara, Mumbai (All Areas)',\n",
       " 'Kochi/Cochin, Indore, Hyderabad/Secunderabad, Pune, Ahmedabad, Bangalore/Bengaluru, Mumbai (All Areas)',\n",
       " 'Bangalore/Bengaluru',\n",
       " 'Bangalore/Bengaluru',\n",
       " 'Bangalore/Bengaluru',\n",
       " 'Bangalore/Bengaluru',\n",
       " 'Bangalore/Bengaluru',\n",
       " 'Hyderabad/Secunderabad, Bangalore/Bengaluru, Mumbai (All Areas)',\n",
       " 'Bangalore/Bengaluru']"
      ]
     },
     "execution_count": 482,
     "metadata": {},
     "output_type": "execute_result"
    }
   ],
   "source": [
    "#Extracting the text from these tags one by one by looping over these tags\n",
    "locations_list=[]\n",
    "for i in locations_tags:\n",
    "    locations_list.append(i.text)\n",
    "locations_list[:10]"
   ]
  },
  {
   "cell_type": "code",
   "execution_count": 483,
   "metadata": {},
   "outputs": [
    {
     "data": {
      "text/plain": [
       "[<selenium.webdriver.remote.webelement.WebElement (session=\"69e49a9557005e0f847d89376f4efd89\", element=\"24bf3ee5-47c6-4bf4-99f1-14eaab73618d\")>,\n",
       " <selenium.webdriver.remote.webelement.WebElement (session=\"69e49a9557005e0f847d89376f4efd89\", element=\"a5838e32-5bf7-4c77-baa5-02c0410db6d4\")>,\n",
       " <selenium.webdriver.remote.webelement.WebElement (session=\"69e49a9557005e0f847d89376f4efd89\", element=\"550bdb4d-84df-4b87-9fcc-1389fc8b4492\")>,\n",
       " <selenium.webdriver.remote.webelement.WebElement (session=\"69e49a9557005e0f847d89376f4efd89\", element=\"4fa131a5-5fd0-4b66-9f85-5189bd77f93c\")>,\n",
       " <selenium.webdriver.remote.webelement.WebElement (session=\"69e49a9557005e0f847d89376f4efd89\", element=\"66e561fd-5118-476b-a0fc-44ce4ef95b29\")>,\n",
       " <selenium.webdriver.remote.webelement.WebElement (session=\"69e49a9557005e0f847d89376f4efd89\", element=\"5acdbf71-7817-4851-870a-be719185754f\")>,\n",
       " <selenium.webdriver.remote.webelement.WebElement (session=\"69e49a9557005e0f847d89376f4efd89\", element=\"d1fee1da-d5c8-4bf7-a433-185c5466a08c\")>,\n",
       " <selenium.webdriver.remote.webelement.WebElement (session=\"69e49a9557005e0f847d89376f4efd89\", element=\"62f620b1-69f7-4f21-ba43-e25568d1767d\")>,\n",
       " <selenium.webdriver.remote.webelement.WebElement (session=\"69e49a9557005e0f847d89376f4efd89\", element=\"84b71a8c-77fd-44d5-95fa-8666ba39bfc8\")>,\n",
       " <selenium.webdriver.remote.webelement.WebElement (session=\"69e49a9557005e0f847d89376f4efd89\", element=\"a17f1d08-ed21-487f-a8f4-76532f04c9bb\")>,\n",
       " <selenium.webdriver.remote.webelement.WebElement (session=\"69e49a9557005e0f847d89376f4efd89\", element=\"8a1cd8aa-1648-4ba6-99a4-bb4ace5b636a\")>,\n",
       " <selenium.webdriver.remote.webelement.WebElement (session=\"69e49a9557005e0f847d89376f4efd89\", element=\"005036dc-5236-43a6-be2e-ea8aeaa2aa23\")>,\n",
       " <selenium.webdriver.remote.webelement.WebElement (session=\"69e49a9557005e0f847d89376f4efd89\", element=\"86f56c59-1c6f-4bbf-9b80-df83fcf5d0fb\")>,\n",
       " <selenium.webdriver.remote.webelement.WebElement (session=\"69e49a9557005e0f847d89376f4efd89\", element=\"1bab599e-6caa-46e4-8927-4c30ad035252\")>,\n",
       " <selenium.webdriver.remote.webelement.WebElement (session=\"69e49a9557005e0f847d89376f4efd89\", element=\"31196ffb-978c-460e-92da-517bad19fd54\")>,\n",
       " <selenium.webdriver.remote.webelement.WebElement (session=\"69e49a9557005e0f847d89376f4efd89\", element=\"677c097d-eff3-4872-acd2-681a231d6e05\")>,\n",
       " <selenium.webdriver.remote.webelement.WebElement (session=\"69e49a9557005e0f847d89376f4efd89\", element=\"8f31c9cc-ddd8-453c-a14d-192b93454c8e\")>,\n",
       " <selenium.webdriver.remote.webelement.WebElement (session=\"69e49a9557005e0f847d89376f4efd89\", element=\"7d08747f-9152-4dab-a701-4a68ec254f90\")>,\n",
       " <selenium.webdriver.remote.webelement.WebElement (session=\"69e49a9557005e0f847d89376f4efd89\", element=\"c21d564e-bea7-4277-84da-3e014203c28b\")>,\n",
       " <selenium.webdriver.remote.webelement.WebElement (session=\"69e49a9557005e0f847d89376f4efd89\", element=\"890f43d1-a2ca-4269-bd8b-6f211fa8976f\")>]"
      ]
     },
     "execution_count": 483,
     "metadata": {},
     "output_type": "execute_result"
    }
   ],
   "source": [
    "#lets extract all the tags having the company names\n",
    "companies_tags=driver.find_elements_by_xpath(\"//a[@class='subTitle ellipsis fleft']\")\n",
    "companies_tags"
   ]
  },
  {
   "cell_type": "code",
   "execution_count": 484,
   "metadata": {},
   "outputs": [
    {
     "data": {
      "text/plain": [
       "['Inflexion Analytix Private Limited',\n",
       " 'Nielsen',\n",
       " 'Xoriant Solutions Pvt Ltd',\n",
       " 'Philips India Limited',\n",
       " 'Intel Technology India Pvt Ltd',\n",
       " 'Oracle India Pvt. Ltd.',\n",
       " 'Huawei Technologies India Pvt Ltd',\n",
       " 'Huawei Technologies India Pvt Ltd',\n",
       " 'GlobalEdx Learning and Technology Solution Pvt Ltd',\n",
       " 'GO-JEK India']"
      ]
     },
     "execution_count": 484,
     "metadata": {},
     "output_type": "execute_result"
    }
   ],
   "source": [
    "#Extracting the text from these tags one by one by looping over these tags\n",
    "company_names=[]\n",
    "for i in companies_tags:\n",
    "    company_names.append(i.text)\n",
    "company_names[:10]"
   ]
  },
  {
   "cell_type": "code",
   "execution_count": 485,
   "metadata": {},
   "outputs": [],
   "source": [
    "#fetching urls\n",
    "urls=[]\n",
    "for i in driver.find_elements_by_xpath(\"//a[@class='title fw500 ellipsis']\"):\n",
    "    urls.append(i.get_attribute(\"href\"))"
   ]
  },
  {
   "cell_type": "code",
   "execution_count": 486,
   "metadata": {},
   "outputs": [
    {
     "data": {
      "text/plain": [
       "['https://www.naukri.com/job-listings-data-scientist-data-analyst-business-analyst-inflexion-analytix-private-limited-mumbai-hyderabad-secunderabad-pune-gurgaon-gurugram-chennai-bangalore-bengaluru-0-to-3-years-100521000368?src=jobsearchDesk&sid=16216066870391631&xp=1&px=1',\n",
       " 'https://www.naukri.com/job-listings-senior-data-scientist-modeling-nielsen-kolkata-gurgaon-gurugram-bangalore-bengaluru-vadodara-baroda-mumbai-all-areas-3-to-7-years-280421003878?src=jobsearchDesk&sid=16216066870391631&xp=2&px=1',\n",
       " 'https://www.naukri.com/job-listings-big-data-data-scientist-xoriant-solutions-pvt-ltd-kochi-cochin-indore-hyderabad-secunderabad-pune-ahmedabad-bangalore-bengaluru-mumbai-all-areas-1-to-3-years-130521005018?src=jobsearchDesk&sid=16216066870391631&xp=3&px=1',\n",
       " 'https://www.naukri.com/job-listings-specialist-i-data-scientist-philips-india-limited-bangalore-bengaluru-4-to-7-years-170521500993?src=jobsearchDesk&sid=16216066870391631&xp=4&px=1',\n",
       " 'https://www.naukri.com/job-listings-lead-data-scientist-intel-technology-india-pvt-ltd-bangalore-bengaluru-6-to-10-years-070521500578?src=jobsearchDesk&sid=16216066870391631&xp=5&px=1',\n",
       " 'https://www.naukri.com/job-listings-data-scientist-oracle-india-pvt-ltd-bangalore-bengaluru-6-to-10-years-190521008276?src=jobsearchDesk&sid=16216066870391631&xp=6&px=1',\n",
       " 'https://www.naukri.com/job-listings-sde-lead-data-scientist-l3-huawei-technologies-india-pvt-ltd-bangalore-bengaluru-5-to-8-years-120521901434?src=jobsearchDesk&sid=16216066870391631&xp=7&px=1',\n",
       " 'https://www.naukri.com/job-listings-computational-design-lead-data-scientist-l3-huawei-technologies-india-pvt-ltd-bangalore-bengaluru-5-to-8-years-120521901329?src=jobsearchDesk&sid=16216066870391631&xp=8&px=1',\n",
       " 'https://www.naukri.com/job-listings-hiring-for-data-scientist-on-contract-basis-3-6-months-globaledx-learning-and-technology-solution-pvt-ltd-hyderabad-secunderabad-bangalore-bengaluru-mumbai-all-areas-3-to-8-years-170521003581?src=jobsearchDesk&sid=16216066870391631&xp=9&px=1',\n",
       " 'https://www.naukri.com/job-listings-senior-data-scientist-go-jek-india-bangalore-bengaluru-4-to-11-years-190521500736?src=jobsearchDesk&sid=16216066870391631&xp=10&px=1',\n",
       " 'https://www.naukri.com/job-listings-senior-data-scientist-chatbot-nlp-gojek-tech-bangalore-bengaluru-3-to-7-years-060521500524?src=jobsearchDesk&sid=16216066870391631&xp=11&px=1',\n",
       " 'https://www.naukri.com/job-listings-senior-data-scientist-nanobi-data-and-analytics-private-limited-bangalore-bengaluru-7-to-9-years-190521501055?src=jobsearchDesk&sid=16216066870391631&xp=12&px=1',\n",
       " 'https://www.naukri.com/job-listings-sr-data-scientist-valiance-analytics-private-limited-bangalore-bengaluru-delhi-ncr-6-to-8-years-180521006944?src=jobsearchDesk&sid=16216066870391631&xp=13&px=1',\n",
       " 'https://www.naukri.com/job-listings-senior-data-scientist-bankbazaar-com-a-a-dukaan-financial-services-pvt-ltd-bangalore-bengaluru-5-to-7-years-040321006895?src=jobsearchDesk&sid=16216066870391631&xp=14&px=1',\n",
       " 'https://www.naukri.com/job-listings-senior-associate-team-lead-data-scientist-consulting-analytics-india-magazine-bangalore-bengaluru-3-to-5-years-200521900965?src=jobsearchDesk&sid=16216066870391631&xp=15&px=1',\n",
       " 'https://www.naukri.com/job-listings-senior-data-scientist-gojek-tech-bangalore-bengaluru-3-to-7-years-200521500197?src=jobsearchDesk&sid=16216066870391631&xp=16&px=1',\n",
       " 'https://www.naukri.com/job-listings-data-scientist-applied-materials-india-private-limited-bangalore-bengaluru-2-to-4-years-070521901521?src=jobsearchDesk&sid=16216066870391631&xp=17&px=1',\n",
       " 'https://www.naukri.com/job-listings-sr-data-scientist-payments-airbnb-global-capability-center-private-limited-bangalore-bengaluru-4-to-9-years-210521900292?src=jobsearchDesk&sid=16216066870391631&xp=18&px=1',\n",
       " 'https://www.naukri.com/job-listings-hiring-for-lead-data-scientist-for-bangalore-location-societe-generale-global-solution-centre-pvt-ltd-bangalore-bengaluru-5-to-9-years-130521000901?src=jobsearchDesk&sid=16216066870391631&xp=19&px=1',\n",
       " 'https://www.naukri.com/job-listings-principal-data-scientist-netapp-india-private-limited-bangalore-bengaluru-10-to-15-years-070521906988?src=jobsearchDesk&sid=16216066870391631&xp=20&px=1']"
      ]
     },
     "execution_count": 486,
     "metadata": {},
     "output_type": "execute_result"
    }
   ],
   "source": [
    "urls"
   ]
  },
  {
   "cell_type": "code",
   "execution_count": 487,
   "metadata": {},
   "outputs": [],
   "source": [
    "#defining variables\n",
    "job_description=[]"
   ]
  },
  {
   "cell_type": "code",
   "execution_count": 488,
   "metadata": {},
   "outputs": [],
   "source": [
    "for i in urls[:10]:\n",
    "    driver.get(i)\n",
    "    time.sleep(4)\n",
    "#fetching job description\n",
    "job_desc=driver.find_element_by_xpath(\"//section[@class='job-desc']\")\n",
    "job_description.append(job_desc.text)"
   ]
  },
  {
   "cell_type": "code",
   "execution_count": 490,
   "metadata": {},
   "outputs": [
    {
     "data": {
      "text/plain": [
       "['Job description\\nAbout the Role\\nFasten your helmet and climb on board if youre ready to be our Senior Data Scientist. In this role, youll be a key leader within the Customer Platform group, mining insights from the sea of data, building data products, and designing experiments with the ability to see the real-time impact of your contribution. A talented troop of business leads and fellow analysts will be your companions on this ride. In our humble opinion, the coolest part of this role is how your work will directly impact how the senior leaders at Gojek shape strategies around millions of customers across Southeast Asia.\\nWhat You Will Do\\nBuild machine learning models that generate or foster answers to some of the most complex technical issues presented\\nProductionize models that deliver a personalized experience via recommendation and customer behavioral modeling\\nOwn Data Science projects from inception to deployment, utilizing our own internal tools throughout every stage\\nBe a technical leader within the Consumer Platform team, supporting others and enabling them to perform at their best ability\\nAlong with Product Managers, own the business outcomes/metrics driven by the data science model/algorithm\\nWhat You Will Need\\nAt least 5 years of practical experience using Python, Shell scripting, and SQL, with a focus on driving key business metrics\\nPrior experience with Applied Statistics, Experimental Design, Machine Learning and Git version control\\nExperience with experimenting on different modeling techniques (supervised and unsupervised learning) and developing data visualization for data stories\\nExperience in bringing models to production and delivering models via API and CI/CD\\nStrong ability to recognize business needs, and collaborate with multiple stakeholders of all levels from the Business and Operations teams, as well as PMs\\nAbility to work equally well independently and within a group in an interdisciplinary team environment\\nRoleTeam Lead/Technical Lead\\nIndustry TypeIT Services & Consulting\\nFunctional AreaIT Software - eCommerce, Internet Technologies\\nEmployment TypeFull Time, Permanent\\nRole CategoryProgramming & Design\\nEducation\\nUG :Any Graduate in Any Specialization\\nPG :Post Graduation Not Required\\nKey Skills\\nMiningVersion controlGITdata scienceAnalyticalShell scriptingMachine learningdata visualizationSQLPython']"
      ]
     },
     "execution_count": 490,
     "metadata": {},
     "output_type": "execute_result"
    }
   ],
   "source": [
    "job_description"
   ]
  },
  {
   "cell_type": "markdown",
   "metadata": {},
   "source": [
    "# Q3"
   ]
  },
  {
   "cell_type": "code",
   "execution_count": 73,
   "metadata": {},
   "outputs": [],
   "source": [
    "#importing all the required libraries\n",
    "import selenium\n",
    "import pandas as pd\n",
    "from selenium import webdriver"
   ]
  },
  {
   "cell_type": "code",
   "execution_count": 74,
   "metadata": {},
   "outputs": [],
   "source": [
    "#connecting to the webdriver\n",
    "driver=webdriver.Chrome(\"chromedriver.exe\")"
   ]
  },
  {
   "cell_type": "code",
   "execution_count": 75,
   "metadata": {},
   "outputs": [],
   "source": [
    "#Here we have to use the location and salary filter\n",
    "#We have to scrape data for “Data Scientist” designation for first 10 job results\n",
    "#We have to scrape the job-title, job-location, company_name,experience_required\n",
    "#location filter to be used is “Delhi/NCR and salary filter to be used is “3-6” lakhs\n",
    "\n",
    "url='https://www.naukri.com/'\n",
    "driver.get(url)"
   ]
  },
  {
   "cell_type": "code",
   "execution_count": 76,
   "metadata": {},
   "outputs": [
    {
     "data": {
      "text/plain": [
       "<selenium.webdriver.remote.webelement.WebElement (session=\"a5b87c1fcdf8da956dc936e9d7cafaca\", element=\"4f5e3a6a-127a-47cd-8847-f4519512345a\")>"
      ]
     },
     "execution_count": 76,
     "metadata": {},
     "output_type": "execute_result"
    }
   ],
   "source": [
    "#find_element for job search bar\n",
    "search_job=driver.find_element_by_id('qsb-keyword-sugg')\n",
    "search_job"
   ]
  },
  {
   "cell_type": "code",
   "execution_count": 77,
   "metadata": {},
   "outputs": [],
   "source": [
    "#write on search bar\n",
    "search_job.send_keys(\"Data Scientist\")"
   ]
  },
  {
   "cell_type": "code",
   "execution_count": 78,
   "metadata": {},
   "outputs": [],
   "source": [
    "#do click using class_name function\n",
    "search_btn=driver.find_element_by_class_name('btn')\n",
    "search_btn.click()"
   ]
  },
  {
   "cell_type": "code",
   "execution_count": 85,
   "metadata": {},
   "outputs": [],
   "source": [
    "#Locating the location filter\n",
    "filter_button=driver.find_elements_by_xpath(\"//p[@class='grey-text lH20 fleft ml-8 txtLbl']/span\")\n",
    "for i in filter_button:\n",
    "    if i.text=='Delhi / NCR':\n",
    "        i.click()\n",
    "        break"
   ]
  },
  {
   "cell_type": "code",
   "execution_count": 86,
   "metadata": {},
   "outputs": [],
   "source": [
    "#Locating the salary filter\n",
    "filter_button=driver.find_elements_by_xpath(\"//p[@class='grey-text lH20 fleft ml-8 txtLbl']/span\")\n",
    "for i in filter_button:\n",
    "    if i.text=='3-6 Lakhs':\n",
    "        i.click()\n",
    "        break"
   ]
  },
  {
   "cell_type": "code",
   "execution_count": 87,
   "metadata": {},
   "outputs": [
    {
     "data": {
      "text/plain": [
       "[<selenium.webdriver.remote.webelement.WebElement (session=\"a5b87c1fcdf8da956dc936e9d7cafaca\", element=\"1130ac41-56da-48ac-b1fb-1cf22fbf0d9c\")>,\n",
       " <selenium.webdriver.remote.webelement.WebElement (session=\"a5b87c1fcdf8da956dc936e9d7cafaca\", element=\"dc93ee76-1b06-4011-9891-cb1025bd0c78\")>,\n",
       " <selenium.webdriver.remote.webelement.WebElement (session=\"a5b87c1fcdf8da956dc936e9d7cafaca\", element=\"515409b4-a210-48a6-8bea-9d98de47df6b\")>,\n",
       " <selenium.webdriver.remote.webelement.WebElement (session=\"a5b87c1fcdf8da956dc936e9d7cafaca\", element=\"039f43a9-92e7-4394-8099-c570e11bb517\")>,\n",
       " <selenium.webdriver.remote.webelement.WebElement (session=\"a5b87c1fcdf8da956dc936e9d7cafaca\", element=\"8f9cdb31-46c4-44bb-8f9f-5ee70507a8c5\")>,\n",
       " <selenium.webdriver.remote.webelement.WebElement (session=\"a5b87c1fcdf8da956dc936e9d7cafaca\", element=\"7f11ea10-1284-48e7-92ee-df96a9780c39\")>,\n",
       " <selenium.webdriver.remote.webelement.WebElement (session=\"a5b87c1fcdf8da956dc936e9d7cafaca\", element=\"5f170d2b-57fc-4dd3-b484-7ee466b6eac8\")>,\n",
       " <selenium.webdriver.remote.webelement.WebElement (session=\"a5b87c1fcdf8da956dc936e9d7cafaca\", element=\"8e86bce5-3231-4dbf-a6e4-8dc1277c0dd7\")>,\n",
       " <selenium.webdriver.remote.webelement.WebElement (session=\"a5b87c1fcdf8da956dc936e9d7cafaca\", element=\"e0366bf2-a276-47ab-95b1-8f59f3d45642\")>,\n",
       " <selenium.webdriver.remote.webelement.WebElement (session=\"a5b87c1fcdf8da956dc936e9d7cafaca\", element=\"590c389c-32af-4ea5-a455-2c6411fc1d36\")>,\n",
       " <selenium.webdriver.remote.webelement.WebElement (session=\"a5b87c1fcdf8da956dc936e9d7cafaca\", element=\"43178d0a-95b3-43ed-9165-e7bcc078a6b8\")>,\n",
       " <selenium.webdriver.remote.webelement.WebElement (session=\"a5b87c1fcdf8da956dc936e9d7cafaca\", element=\"d816ff1d-e59e-48c0-9a70-44eee055b2d0\")>,\n",
       " <selenium.webdriver.remote.webelement.WebElement (session=\"a5b87c1fcdf8da956dc936e9d7cafaca\", element=\"2abe1a3c-a71c-4e27-b759-8b31cf4a4ca2\")>,\n",
       " <selenium.webdriver.remote.webelement.WebElement (session=\"a5b87c1fcdf8da956dc936e9d7cafaca\", element=\"4ed97779-64db-4244-9208-cb694e3d81b2\")>,\n",
       " <selenium.webdriver.remote.webelement.WebElement (session=\"a5b87c1fcdf8da956dc936e9d7cafaca\", element=\"8ead7164-529b-4222-b4ef-10a9e4f7f386\")>,\n",
       " <selenium.webdriver.remote.webelement.WebElement (session=\"a5b87c1fcdf8da956dc936e9d7cafaca\", element=\"10aa8f40-81f4-4a3f-8139-3611129c421d\")>,\n",
       " <selenium.webdriver.remote.webelement.WebElement (session=\"a5b87c1fcdf8da956dc936e9d7cafaca\", element=\"0a268f1f-15f9-4513-b4e8-9562e60f2a81\")>,\n",
       " <selenium.webdriver.remote.webelement.WebElement (session=\"a5b87c1fcdf8da956dc936e9d7cafaca\", element=\"bd71aeee-9d43-43ff-8efb-465d6a912973\")>,\n",
       " <selenium.webdriver.remote.webelement.WebElement (session=\"a5b87c1fcdf8da956dc936e9d7cafaca\", element=\"4ea8dc64-c676-4ea5-8fc1-c769f3d9c3bb\")>,\n",
       " <selenium.webdriver.remote.webelement.WebElement (session=\"a5b87c1fcdf8da956dc936e9d7cafaca\", element=\"92a541d3-7099-48ec-b854-5b5b011c8402\")>]"
      ]
     },
     "execution_count": 87,
     "metadata": {},
     "output_type": "execute_result"
    }
   ],
   "source": [
    "#Lets extract all the tags having the job-titles\n",
    "titles_tags=driver.find_elements_by_xpath(\"//a[@class='title fw500 ellipsis']\")\n",
    "titles_tags"
   ]
  },
  {
   "cell_type": "code",
   "execution_count": 88,
   "metadata": {},
   "outputs": [
    {
     "data": {
      "text/plain": [
       "['Data Scientist / Data Analyst -Business Analyst',\n",
       " 'Business Analyst- Data Scientist',\n",
       " 'Data Scientist - High growth VC backed Influencer Marketplace',\n",
       " 'Excellent opportunity For Data Scientist',\n",
       " 'Data Scientist',\n",
       " 'DATA Scientist – Gurgaon (Exp 3-6 years)',\n",
       " 'DATA Scientist – Gurgaon (Exp 3-6 years)',\n",
       " 'Data Scientist - Noida',\n",
       " \"Data Scientist - Noida/ B'lore\",\n",
       " 'Data Scientist']"
      ]
     },
     "execution_count": 88,
     "metadata": {},
     "output_type": "execute_result"
    }
   ],
   "source": [
    "#Extracting the text from these tags one by one by looping over these tags\n",
    "job_titles=[]\n",
    "for i in titles_tags:\n",
    "    job_titles.append(i.text)\n",
    "job_titles[:10]"
   ]
  },
  {
   "cell_type": "code",
   "execution_count": 89,
   "metadata": {},
   "outputs": [
    {
     "data": {
      "text/plain": [
       "[<selenium.webdriver.remote.webelement.WebElement (session=\"a5b87c1fcdf8da956dc936e9d7cafaca\", element=\"406af322-c156-4afb-a1d4-4629b95d3378\")>,\n",
       " <selenium.webdriver.remote.webelement.WebElement (session=\"a5b87c1fcdf8da956dc936e9d7cafaca\", element=\"d3409a38-cd96-47c2-beb5-f47697dcc078\")>,\n",
       " <selenium.webdriver.remote.webelement.WebElement (session=\"a5b87c1fcdf8da956dc936e9d7cafaca\", element=\"ee0bde9a-fd8a-4cda-9a72-6a4c18470a67\")>,\n",
       " <selenium.webdriver.remote.webelement.WebElement (session=\"a5b87c1fcdf8da956dc936e9d7cafaca\", element=\"08a92767-911c-43b1-a06d-38bed900817c\")>,\n",
       " <selenium.webdriver.remote.webelement.WebElement (session=\"a5b87c1fcdf8da956dc936e9d7cafaca\", element=\"b4ed7b54-17b1-477d-a9f6-ac76f008cfad\")>,\n",
       " <selenium.webdriver.remote.webelement.WebElement (session=\"a5b87c1fcdf8da956dc936e9d7cafaca\", element=\"8c37b433-75b9-4028-baba-1ab3ab6f46b3\")>,\n",
       " <selenium.webdriver.remote.webelement.WebElement (session=\"a5b87c1fcdf8da956dc936e9d7cafaca\", element=\"4d221b09-4785-40a3-8af3-b302983ee307\")>,\n",
       " <selenium.webdriver.remote.webelement.WebElement (session=\"a5b87c1fcdf8da956dc936e9d7cafaca\", element=\"bba6271a-8e06-4f74-85ce-e8daea8951ce\")>,\n",
       " <selenium.webdriver.remote.webelement.WebElement (session=\"a5b87c1fcdf8da956dc936e9d7cafaca\", element=\"aa47cd98-58b8-4be8-9ba5-2be12cd772e7\")>,\n",
       " <selenium.webdriver.remote.webelement.WebElement (session=\"a5b87c1fcdf8da956dc936e9d7cafaca\", element=\"daf6d818-17ea-4192-a28a-14ec1df1e789\")>,\n",
       " <selenium.webdriver.remote.webelement.WebElement (session=\"a5b87c1fcdf8da956dc936e9d7cafaca\", element=\"746716f1-0a1b-47ee-9654-1d7f5245ae52\")>,\n",
       " <selenium.webdriver.remote.webelement.WebElement (session=\"a5b87c1fcdf8da956dc936e9d7cafaca\", element=\"ecd69b2e-cc87-491f-bdc8-6d5ce91267fb\")>,\n",
       " <selenium.webdriver.remote.webelement.WebElement (session=\"a5b87c1fcdf8da956dc936e9d7cafaca\", element=\"ed6f64ef-5da3-4e5a-bccd-04ccf5750f66\")>,\n",
       " <selenium.webdriver.remote.webelement.WebElement (session=\"a5b87c1fcdf8da956dc936e9d7cafaca\", element=\"b63f7a8c-eef2-487a-8c0d-0a37dc92fa34\")>,\n",
       " <selenium.webdriver.remote.webelement.WebElement (session=\"a5b87c1fcdf8da956dc936e9d7cafaca\", element=\"98c6b708-eb92-497f-b4e9-f43b66a74570\")>,\n",
       " <selenium.webdriver.remote.webelement.WebElement (session=\"a5b87c1fcdf8da956dc936e9d7cafaca\", element=\"b7384dd0-cb14-41ed-a141-c893d7b221bb\")>,\n",
       " <selenium.webdriver.remote.webelement.WebElement (session=\"a5b87c1fcdf8da956dc936e9d7cafaca\", element=\"ebee15c4-4772-4ec7-a3a5-e18cbda9997e\")>,\n",
       " <selenium.webdriver.remote.webelement.WebElement (session=\"a5b87c1fcdf8da956dc936e9d7cafaca\", element=\"b0d0aeae-8931-4fe1-8fed-47de59704cb3\")>,\n",
       " <selenium.webdriver.remote.webelement.WebElement (session=\"a5b87c1fcdf8da956dc936e9d7cafaca\", element=\"34cab75a-3d0f-42a4-98b8-d34b6566743c\")>,\n",
       " <selenium.webdriver.remote.webelement.WebElement (session=\"a5b87c1fcdf8da956dc936e9d7cafaca\", element=\"f4c40d93-72d4-4e3b-9135-d1a85479fff6\")>]"
      ]
     },
     "execution_count": 89,
     "metadata": {},
     "output_type": "execute_result"
    }
   ],
   "source": [
    "#lets extract all the tags having the location of the job\n",
    "locations_tags=driver.find_elements_by_xpath(\"//li[@class='fleft grey-text br2 placeHolderLi location']\")\n",
    "locations_tags"
   ]
  },
  {
   "cell_type": "code",
   "execution_count": 90,
   "metadata": {},
   "outputs": [
    {
     "data": {
      "text/plain": [
       "['Mumbai, Hyderabad/Secunderabad, Pune, Gurgaon/Gurugram, Chennai, Bangalore/Bengaluru',\n",
       " 'Noida, Gurgaon/Gurugram',\n",
       " 'Bangalore/Bengaluru, Delhi / NCR, Mumbai (All Areas)',\n",
       " 'Noida, Bangalore/Bengaluru',\n",
       " 'New Delhi, Gurgaon/Gurugram, Delhi / NCR',\n",
       " 'Gurgaon/Gurugram, Delhi / NCR',\n",
       " 'Gurgaon/Gurugram, Delhi / NCR',\n",
       " 'Noida',\n",
       " 'Noida, Bangalore/Bengaluru',\n",
       " 'Noida, Hyderabad/Secunderabad, Bangalore/Bengaluru']"
      ]
     },
     "execution_count": 90,
     "metadata": {},
     "output_type": "execute_result"
    }
   ],
   "source": [
    "#Extracting the text from these tags one by one by looping over these tags\n",
    "locations_list=[]\n",
    "for i in locations_tags:\n",
    "    locations_list.append(i.text)\n",
    "locations_list[:10]"
   ]
  },
  {
   "cell_type": "code",
   "execution_count": 91,
   "metadata": {},
   "outputs": [
    {
     "data": {
      "text/plain": [
       "[<selenium.webdriver.remote.webelement.WebElement (session=\"a5b87c1fcdf8da956dc936e9d7cafaca\", element=\"e1e63348-b868-4fb4-a3e6-c79e95c42316\")>,\n",
       " <selenium.webdriver.remote.webelement.WebElement (session=\"a5b87c1fcdf8da956dc936e9d7cafaca\", element=\"6de1584b-b5fa-47e9-9977-6cacbc15ba38\")>,\n",
       " <selenium.webdriver.remote.webelement.WebElement (session=\"a5b87c1fcdf8da956dc936e9d7cafaca\", element=\"a543994a-b0e7-4805-8f24-d7c4dcf0a01a\")>,\n",
       " <selenium.webdriver.remote.webelement.WebElement (session=\"a5b87c1fcdf8da956dc936e9d7cafaca\", element=\"4de9c220-64ce-4ed0-a024-bbc5ab412424\")>,\n",
       " <selenium.webdriver.remote.webelement.WebElement (session=\"a5b87c1fcdf8da956dc936e9d7cafaca\", element=\"a1a1137a-f286-43a2-910d-1d46357836fb\")>,\n",
       " <selenium.webdriver.remote.webelement.WebElement (session=\"a5b87c1fcdf8da956dc936e9d7cafaca\", element=\"15f9547c-0027-43d4-af09-ba21bd3811cd\")>,\n",
       " <selenium.webdriver.remote.webelement.WebElement (session=\"a5b87c1fcdf8da956dc936e9d7cafaca\", element=\"1d12fcac-f032-4970-81ae-87ea5393679f\")>,\n",
       " <selenium.webdriver.remote.webelement.WebElement (session=\"a5b87c1fcdf8da956dc936e9d7cafaca\", element=\"e0e47097-f3f5-4f68-a513-98df95bdaf10\")>,\n",
       " <selenium.webdriver.remote.webelement.WebElement (session=\"a5b87c1fcdf8da956dc936e9d7cafaca\", element=\"2f4f4782-7a91-488d-94dc-47e16827584f\")>,\n",
       " <selenium.webdriver.remote.webelement.WebElement (session=\"a5b87c1fcdf8da956dc936e9d7cafaca\", element=\"1a081a8c-47d1-43b5-bb92-5e52adec85d1\")>,\n",
       " <selenium.webdriver.remote.webelement.WebElement (session=\"a5b87c1fcdf8da956dc936e9d7cafaca\", element=\"a1ec9fad-1e66-4e35-b02a-040f1a3fbc73\")>,\n",
       " <selenium.webdriver.remote.webelement.WebElement (session=\"a5b87c1fcdf8da956dc936e9d7cafaca\", element=\"0ab11b39-0b1c-4535-a374-cf203521280b\")>,\n",
       " <selenium.webdriver.remote.webelement.WebElement (session=\"a5b87c1fcdf8da956dc936e9d7cafaca\", element=\"8b38e3dc-2702-4af2-95c6-87bc5106fa6c\")>,\n",
       " <selenium.webdriver.remote.webelement.WebElement (session=\"a5b87c1fcdf8da956dc936e9d7cafaca\", element=\"ac9d3759-25dc-4def-b50c-25ddacd13bc7\")>,\n",
       " <selenium.webdriver.remote.webelement.WebElement (session=\"a5b87c1fcdf8da956dc936e9d7cafaca\", element=\"dac45027-bf0d-4ec3-ab68-b63404fc1cc0\")>,\n",
       " <selenium.webdriver.remote.webelement.WebElement (session=\"a5b87c1fcdf8da956dc936e9d7cafaca\", element=\"fe800218-c8b9-42f2-a874-ddd2ad806e15\")>,\n",
       " <selenium.webdriver.remote.webelement.WebElement (session=\"a5b87c1fcdf8da956dc936e9d7cafaca\", element=\"287d0ffe-4acb-4a59-9eea-9580b3f702cb\")>,\n",
       " <selenium.webdriver.remote.webelement.WebElement (session=\"a5b87c1fcdf8da956dc936e9d7cafaca\", element=\"ab025c46-e943-4ee1-b291-0b0b0e73e0a4\")>,\n",
       " <selenium.webdriver.remote.webelement.WebElement (session=\"a5b87c1fcdf8da956dc936e9d7cafaca\", element=\"11c5a236-83a3-4d64-bccb-5e393c6fb7ff\")>,\n",
       " <selenium.webdriver.remote.webelement.WebElement (session=\"a5b87c1fcdf8da956dc936e9d7cafaca\", element=\"4824a612-9539-4be1-8a6b-f2f8b40b80c8\")>]"
      ]
     },
     "execution_count": 91,
     "metadata": {},
     "output_type": "execute_result"
    }
   ],
   "source": [
    "#lets extract all the tags having the company names\n",
    "companies_tags=driver.find_elements_by_xpath(\"//a[@class='subTitle ellipsis fleft']\")\n",
    "companies_tags"
   ]
  },
  {
   "cell_type": "code",
   "execution_count": 92,
   "metadata": {},
   "outputs": [
    {
     "data": {
      "text/plain": [
       "['Inflexion Analytix Private Limited',\n",
       " 'Wipro',\n",
       " 'Ravgins International Pvt. Ltd.',\n",
       " 'NEC CORPORATION INDIA PRIVATE LIMITED',\n",
       " 'Mobikwik',\n",
       " 'CRESCENDO GLOBAL LEADERSHIP HIRING INDIA PRIVATE L IMITED',\n",
       " 'CRESCENDO GLOBAL LEADERSHIP HIRING INDIA PRIVATE L IMITED',\n",
       " 'Optum Global Solutions (India) Private Limited',\n",
       " 'NEC CORPORATION INDIA PRIVATE LIMITED',\n",
       " 'IBM India Pvt. Limited']"
      ]
     },
     "execution_count": 92,
     "metadata": {},
     "output_type": "execute_result"
    }
   ],
   "source": [
    "#Extracting the text from these tags one by one by looping over these tags\n",
    "company_names=[]\n",
    "for i in companies_tags:\n",
    "    company_names.append(i.text)\n",
    "company_names[:10]"
   ]
  },
  {
   "cell_type": "code",
   "execution_count": 93,
   "metadata": {},
   "outputs": [
    {
     "data": {
      "text/plain": [
       "[<selenium.webdriver.remote.webelement.WebElement (session=\"a5b87c1fcdf8da956dc936e9d7cafaca\", element=\"7be19842-b1a8-4c36-878b-9cb4cc3cdd24\")>,\n",
       " <selenium.webdriver.remote.webelement.WebElement (session=\"a5b87c1fcdf8da956dc936e9d7cafaca\", element=\"1cfdebfd-d468-4892-bdcd-c1ec28b51c14\")>,\n",
       " <selenium.webdriver.remote.webelement.WebElement (session=\"a5b87c1fcdf8da956dc936e9d7cafaca\", element=\"a114c8b7-757f-498b-930e-5b59d8d8e3f2\")>,\n",
       " <selenium.webdriver.remote.webelement.WebElement (session=\"a5b87c1fcdf8da956dc936e9d7cafaca\", element=\"032ba525-099a-4797-b04c-dcb2831548d8\")>,\n",
       " <selenium.webdriver.remote.webelement.WebElement (session=\"a5b87c1fcdf8da956dc936e9d7cafaca\", element=\"261c8cd4-a7f9-4304-bdc5-b8d285bf6d28\")>,\n",
       " <selenium.webdriver.remote.webelement.WebElement (session=\"a5b87c1fcdf8da956dc936e9d7cafaca\", element=\"4cb2e698-8ccd-4402-a1a2-d2416a35b999\")>,\n",
       " <selenium.webdriver.remote.webelement.WebElement (session=\"a5b87c1fcdf8da956dc936e9d7cafaca\", element=\"ab1dba58-9855-4c17-a84b-6a25202c73e5\")>,\n",
       " <selenium.webdriver.remote.webelement.WebElement (session=\"a5b87c1fcdf8da956dc936e9d7cafaca\", element=\"12b49be9-1bb9-4131-a071-49a1f7d302af\")>,\n",
       " <selenium.webdriver.remote.webelement.WebElement (session=\"a5b87c1fcdf8da956dc936e9d7cafaca\", element=\"35b69d35-6819-43f8-9cc7-c31e357faeda\")>,\n",
       " <selenium.webdriver.remote.webelement.WebElement (session=\"a5b87c1fcdf8da956dc936e9d7cafaca\", element=\"448af7cf-d6f6-4333-81d5-ea175f0bbe58\")>,\n",
       " <selenium.webdriver.remote.webelement.WebElement (session=\"a5b87c1fcdf8da956dc936e9d7cafaca\", element=\"285b22ea-64ec-4a76-9f10-93e3d82df6ec\")>,\n",
       " <selenium.webdriver.remote.webelement.WebElement (session=\"a5b87c1fcdf8da956dc936e9d7cafaca\", element=\"f993e029-0458-4c4f-bf9d-735cb844f315\")>,\n",
       " <selenium.webdriver.remote.webelement.WebElement (session=\"a5b87c1fcdf8da956dc936e9d7cafaca\", element=\"8d38efcb-2c79-454f-b428-1ded2f2f655c\")>,\n",
       " <selenium.webdriver.remote.webelement.WebElement (session=\"a5b87c1fcdf8da956dc936e9d7cafaca\", element=\"a3a07b2a-07cc-4bc8-ad21-de9111c88769\")>,\n",
       " <selenium.webdriver.remote.webelement.WebElement (session=\"a5b87c1fcdf8da956dc936e9d7cafaca\", element=\"0b977663-2878-4852-9fd9-ecec1256d05d\")>,\n",
       " <selenium.webdriver.remote.webelement.WebElement (session=\"a5b87c1fcdf8da956dc936e9d7cafaca\", element=\"aefe8c0d-753d-4e70-be4e-ad75671905df\")>,\n",
       " <selenium.webdriver.remote.webelement.WebElement (session=\"a5b87c1fcdf8da956dc936e9d7cafaca\", element=\"32c4272b-dce6-488b-b1c1-6f6fb2e80d6c\")>,\n",
       " <selenium.webdriver.remote.webelement.WebElement (session=\"a5b87c1fcdf8da956dc936e9d7cafaca\", element=\"e1030756-21de-4f82-b15c-f68370c0d1c6\")>,\n",
       " <selenium.webdriver.remote.webelement.WebElement (session=\"a5b87c1fcdf8da956dc936e9d7cafaca\", element=\"bd8c7016-dbb4-4c83-8261-9bad44dc4fb6\")>,\n",
       " <selenium.webdriver.remote.webelement.WebElement (session=\"a5b87c1fcdf8da956dc936e9d7cafaca\", element=\"cc2e8e3b-f974-4028-9890-4c11e0929fa7\")>]"
      ]
     },
     "execution_count": 93,
     "metadata": {},
     "output_type": "execute_result"
    }
   ],
   "source": [
    "#lets extract all the tags having the experience required data\n",
    "experience_tags=driver.find_elements_by_xpath(\"//li[@class='fleft grey-text br2 placeHolderLi experience']\")\n",
    "experience_tags"
   ]
  },
  {
   "cell_type": "code",
   "execution_count": 94,
   "metadata": {},
   "outputs": [
    {
     "data": {
      "text/plain": [
       "['0-3 Yrs',\n",
       " '2-5 Yrs',\n",
       " '3-5 Yrs',\n",
       " '3-7 Yrs',\n",
       " '3-5 Yrs',\n",
       " '3-6 Yrs',\n",
       " '3-6 Yrs',\n",
       " '3-5 Yrs',\n",
       " '3-8 Yrs',\n",
       " '4-9 Yrs']"
      ]
     },
     "execution_count": 94,
     "metadata": {},
     "output_type": "execute_result"
    }
   ],
   "source": [
    "#Extracting the text from these tags one by one by looping over these tags\n",
    "experience_list=[]\n",
    "for i in experience_tags:\n",
    "    experience_list.append(i.text)\n",
    "experience_list[:10]"
   ]
  },
  {
   "cell_type": "code",
   "execution_count": 95,
   "metadata": {},
   "outputs": [
    {
     "name": "stdout",
     "output_type": "stream",
     "text": [
      "20 20 20 20\n"
     ]
    }
   ],
   "source": [
    "#Now we will create a dataframe,so we will check the length of each of the list\n",
    "print(len(job_titles),len(company_names),len(experience_list),len(locations_list))"
   ]
  },
  {
   "cell_type": "code",
   "execution_count": 96,
   "metadata": {},
   "outputs": [],
   "source": [
    "jobs=pd.DataFrame({})\n",
    "jobs['title']=job_titles\n",
    "jobs['company']=company_names\n",
    "jobs['experience_required']=experience_list\n",
    "jobs['location']=locations_list"
   ]
  },
  {
   "cell_type": "code",
   "execution_count": 97,
   "metadata": {},
   "outputs": [
    {
     "data": {
      "text/html": [
       "<div>\n",
       "<style scoped>\n",
       "    .dataframe tbody tr th:only-of-type {\n",
       "        vertical-align: middle;\n",
       "    }\n",
       "\n",
       "    .dataframe tbody tr th {\n",
       "        vertical-align: top;\n",
       "    }\n",
       "\n",
       "    .dataframe thead th {\n",
       "        text-align: right;\n",
       "    }\n",
       "</style>\n",
       "<table border=\"1\" class=\"dataframe\">\n",
       "  <thead>\n",
       "    <tr style=\"text-align: right;\">\n",
       "      <th></th>\n",
       "      <th>title</th>\n",
       "      <th>company</th>\n",
       "      <th>experience_required</th>\n",
       "      <th>location</th>\n",
       "    </tr>\n",
       "  </thead>\n",
       "  <tbody>\n",
       "    <tr>\n",
       "      <th>0</th>\n",
       "      <td>Data Scientist / Data Analyst -Business Analyst</td>\n",
       "      <td>Inflexion Analytix Private Limited</td>\n",
       "      <td>0-3 Yrs</td>\n",
       "      <td>Mumbai, Hyderabad/Secunderabad, Pune, Gurgaon/...</td>\n",
       "    </tr>\n",
       "    <tr>\n",
       "      <th>1</th>\n",
       "      <td>Business Analyst- Data Scientist</td>\n",
       "      <td>Wipro</td>\n",
       "      <td>2-5 Yrs</td>\n",
       "      <td>Noida, Gurgaon/Gurugram</td>\n",
       "    </tr>\n",
       "    <tr>\n",
       "      <th>2</th>\n",
       "      <td>Data Scientist - High growth VC backed Influen...</td>\n",
       "      <td>Ravgins International Pvt. Ltd.</td>\n",
       "      <td>3-5 Yrs</td>\n",
       "      <td>Bangalore/Bengaluru, Delhi / NCR, Mumbai (All ...</td>\n",
       "    </tr>\n",
       "    <tr>\n",
       "      <th>3</th>\n",
       "      <td>Excellent opportunity For Data Scientist</td>\n",
       "      <td>NEC CORPORATION INDIA PRIVATE LIMITED</td>\n",
       "      <td>3-7 Yrs</td>\n",
       "      <td>Noida, Bangalore/Bengaluru</td>\n",
       "    </tr>\n",
       "    <tr>\n",
       "      <th>4</th>\n",
       "      <td>Data Scientist</td>\n",
       "      <td>Mobikwik</td>\n",
       "      <td>3-5 Yrs</td>\n",
       "      <td>New Delhi, Gurgaon/Gurugram, Delhi / NCR</td>\n",
       "    </tr>\n",
       "    <tr>\n",
       "      <th>5</th>\n",
       "      <td>DATA Scientist – Gurgaon (Exp 3-6 years)</td>\n",
       "      <td>CRESCENDO GLOBAL LEADERSHIP HIRING INDIA PRIVA...</td>\n",
       "      <td>3-6 Yrs</td>\n",
       "      <td>Gurgaon/Gurugram, Delhi / NCR</td>\n",
       "    </tr>\n",
       "    <tr>\n",
       "      <th>6</th>\n",
       "      <td>DATA Scientist – Gurgaon (Exp 3-6 years)</td>\n",
       "      <td>CRESCENDO GLOBAL LEADERSHIP HIRING INDIA PRIVA...</td>\n",
       "      <td>3-6 Yrs</td>\n",
       "      <td>Gurgaon/Gurugram, Delhi / NCR</td>\n",
       "    </tr>\n",
       "    <tr>\n",
       "      <th>7</th>\n",
       "      <td>Data Scientist - Noida</td>\n",
       "      <td>Optum Global Solutions (India) Private Limited</td>\n",
       "      <td>3-5 Yrs</td>\n",
       "      <td>Noida</td>\n",
       "    </tr>\n",
       "    <tr>\n",
       "      <th>8</th>\n",
       "      <td>Data Scientist - Noida/ B'lore</td>\n",
       "      <td>NEC CORPORATION INDIA PRIVATE LIMITED</td>\n",
       "      <td>3-8 Yrs</td>\n",
       "      <td>Noida, Bangalore/Bengaluru</td>\n",
       "    </tr>\n",
       "    <tr>\n",
       "      <th>9</th>\n",
       "      <td>Data Scientist</td>\n",
       "      <td>IBM India Pvt. Limited</td>\n",
       "      <td>4-9 Yrs</td>\n",
       "      <td>Noida, Hyderabad/Secunderabad, Bangalore/Benga...</td>\n",
       "    </tr>\n",
       "  </tbody>\n",
       "</table>\n",
       "</div>"
      ],
      "text/plain": [
       "                                               title  \\\n",
       "0    Data Scientist / Data Analyst -Business Analyst   \n",
       "1                   Business Analyst- Data Scientist   \n",
       "2  Data Scientist - High growth VC backed Influen...   \n",
       "3           Excellent opportunity For Data Scientist   \n",
       "4                                     Data Scientist   \n",
       "5           DATA Scientist – Gurgaon (Exp 3-6 years)   \n",
       "6           DATA Scientist – Gurgaon (Exp 3-6 years)   \n",
       "7                             Data Scientist - Noida   \n",
       "8                     Data Scientist - Noida/ B'lore   \n",
       "9                                     Data Scientist   \n",
       "\n",
       "                                             company experience_required  \\\n",
       "0                 Inflexion Analytix Private Limited             0-3 Yrs   \n",
       "1                                              Wipro             2-5 Yrs   \n",
       "2                    Ravgins International Pvt. Ltd.             3-5 Yrs   \n",
       "3              NEC CORPORATION INDIA PRIVATE LIMITED             3-7 Yrs   \n",
       "4                                           Mobikwik             3-5 Yrs   \n",
       "5  CRESCENDO GLOBAL LEADERSHIP HIRING INDIA PRIVA...             3-6 Yrs   \n",
       "6  CRESCENDO GLOBAL LEADERSHIP HIRING INDIA PRIVA...             3-6 Yrs   \n",
       "7     Optum Global Solutions (India) Private Limited             3-5 Yrs   \n",
       "8              NEC CORPORATION INDIA PRIVATE LIMITED             3-8 Yrs   \n",
       "9                             IBM India Pvt. Limited             4-9 Yrs   \n",
       "\n",
       "                                            location  \n",
       "0  Mumbai, Hyderabad/Secunderabad, Pune, Gurgaon/...  \n",
       "1                            Noida, Gurgaon/Gurugram  \n",
       "2  Bangalore/Bengaluru, Delhi / NCR, Mumbai (All ...  \n",
       "3                         Noida, Bangalore/Bengaluru  \n",
       "4           New Delhi, Gurgaon/Gurugram, Delhi / NCR  \n",
       "5                      Gurgaon/Gurugram, Delhi / NCR  \n",
       "6                      Gurgaon/Gurugram, Delhi / NCR  \n",
       "7                                              Noida  \n",
       "8                         Noida, Bangalore/Bengaluru  \n",
       "9  Noida, Hyderabad/Secunderabad, Bangalore/Benga...  "
      ]
     },
     "execution_count": 97,
     "metadata": {},
     "output_type": "execute_result"
    }
   ],
   "source": [
    "jobs[:10]"
   ]
  },
  {
   "cell_type": "markdown",
   "metadata": {},
   "source": []
  },
  {
   "cell_type": "markdown",
   "metadata": {},
   "source": [
    "# Q4"
   ]
  },
  {
   "cell_type": "code",
   "execution_count": 125,
   "metadata": {},
   "outputs": [],
   "source": [
    "#importing all the required libraries\n",
    "import selenium\n",
    "import pandas as pd\n",
    "from selenium import webdriver"
   ]
  },
  {
   "cell_type": "code",
   "execution_count": 126,
   "metadata": {},
   "outputs": [],
   "source": [
    "#connecting to the webdriver\n",
    "driver=webdriver.Chrome(\"chromedriver.exe\")"
   ]
  },
  {
   "cell_type": "code",
   "execution_count": 127,
   "metadata": {},
   "outputs": [],
   "source": [
    "#We will scrape data for first 10 job results for Data scientist Designation in Noida location \n",
    "#We have to scrape company_name,no.of days ago when job was posted and rating of the company\n",
    "\n",
    "url='https://www.glassdoor.co.in/index.htm'\n",
    "driver.get(url)"
   ]
  },
  {
   "cell_type": "code",
   "execution_count": 139,
   "metadata": {},
   "outputs": [
    {
     "data": {
      "text/plain": [
       "<selenium.webdriver.remote.webelement.WebElement (session=\"ed08de4a62f2378e54849dc78937410e\", element=\"4d9caa04-0b42-402e-90e7-5d665e4e11b4\")>"
      ]
     },
     "execution_count": 139,
     "metadata": {},
     "output_type": "execute_result"
    }
   ],
   "source": [
    "#find_element for job search bar\n",
    "search_job=driver.find_element_by_class_name('css-1etjok6')\n",
    "search_job"
   ]
  },
  {
   "cell_type": "code",
   "execution_count": 140,
   "metadata": {},
   "outputs": [],
   "source": [
    "#write on search bar\n",
    "search_job.send_keys(\"Data Scientist\")"
   ]
  },
  {
   "cell_type": "code",
   "execution_count": 141,
   "metadata": {},
   "outputs": [],
   "source": [
    "#finding element for the job location bar\n",
    "search_loc=driver.find_element_by_id(\"scLocation\")\n",
    "search_loc.send_keys(\"Noida\")"
   ]
  },
  {
   "cell_type": "code",
   "execution_count": 142,
   "metadata": {},
   "outputs": [],
   "source": [
    "#do click using class_name function\n",
    "search_btn=driver.find_element_by_class_name('gd-ui-button')\n",
    "search_btn.click()"
   ]
  },
  {
   "cell_type": "code",
   "execution_count": 143,
   "metadata": {},
   "outputs": [
    {
     "data": {
      "text/plain": [
       "[<selenium.webdriver.remote.webelement.WebElement (session=\"ed08de4a62f2378e54849dc78937410e\", element=\"145d9ca7-3912-4096-be3d-419ea693d770\")>,\n",
       " <selenium.webdriver.remote.webelement.WebElement (session=\"ed08de4a62f2378e54849dc78937410e\", element=\"c08edb74-f467-4d6d-a7e4-26d9131dd85e\")>,\n",
       " <selenium.webdriver.remote.webelement.WebElement (session=\"ed08de4a62f2378e54849dc78937410e\", element=\"333aeed2-f0b9-4502-8b0f-30f6b0c441d6\")>,\n",
       " <selenium.webdriver.remote.webelement.WebElement (session=\"ed08de4a62f2378e54849dc78937410e\", element=\"cc9008a7-e06d-4051-b222-7bb418072935\")>,\n",
       " <selenium.webdriver.remote.webelement.WebElement (session=\"ed08de4a62f2378e54849dc78937410e\", element=\"58fdfe1c-c817-45fe-8e0a-ca1782b9ce5d\")>,\n",
       " <selenium.webdriver.remote.webelement.WebElement (session=\"ed08de4a62f2378e54849dc78937410e\", element=\"2cfc3c72-6f07-48dc-90c9-9b78c3e1c78a\")>,\n",
       " <selenium.webdriver.remote.webelement.WebElement (session=\"ed08de4a62f2378e54849dc78937410e\", element=\"c6aca826-c787-494f-b6a7-0aefa90823d6\")>,\n",
       " <selenium.webdriver.remote.webelement.WebElement (session=\"ed08de4a62f2378e54849dc78937410e\", element=\"0e5b58bd-8c1a-4ea2-ad5d-21bfee5b1c25\")>,\n",
       " <selenium.webdriver.remote.webelement.WebElement (session=\"ed08de4a62f2378e54849dc78937410e\", element=\"4d20cbf3-b31a-4bcb-bff7-6f2fd6fa7651\")>,\n",
       " <selenium.webdriver.remote.webelement.WebElement (session=\"ed08de4a62f2378e54849dc78937410e\", element=\"2707ed98-cfc2-4450-8d78-2c14bf39f4ab\")>,\n",
       " <selenium.webdriver.remote.webelement.WebElement (session=\"ed08de4a62f2378e54849dc78937410e\", element=\"0730b692-2deb-4fd0-9703-b7a1edc204ac\")>,\n",
       " <selenium.webdriver.remote.webelement.WebElement (session=\"ed08de4a62f2378e54849dc78937410e\", element=\"c3453ce5-ec6a-4cf3-9e30-231fba424d86\")>,\n",
       " <selenium.webdriver.remote.webelement.WebElement (session=\"ed08de4a62f2378e54849dc78937410e\", element=\"fce6cee1-ed41-43ce-a94e-c31e1bd4d43d\")>,\n",
       " <selenium.webdriver.remote.webelement.WebElement (session=\"ed08de4a62f2378e54849dc78937410e\", element=\"374c3ef6-fb85-48d8-b7d6-c211d0f389cc\")>,\n",
       " <selenium.webdriver.remote.webelement.WebElement (session=\"ed08de4a62f2378e54849dc78937410e\", element=\"e0332270-7330-45c3-af7f-c3684c95e54f\")>,\n",
       " <selenium.webdriver.remote.webelement.WebElement (session=\"ed08de4a62f2378e54849dc78937410e\", element=\"253daef6-9772-4ad0-90fb-91c007975679\")>,\n",
       " <selenium.webdriver.remote.webelement.WebElement (session=\"ed08de4a62f2378e54849dc78937410e\", element=\"f7a3d61a-0ba0-45bd-9db9-d2b33286d00e\")>,\n",
       " <selenium.webdriver.remote.webelement.WebElement (session=\"ed08de4a62f2378e54849dc78937410e\", element=\"93af2c82-1f06-438f-a655-f68f876ca13e\")>,\n",
       " <selenium.webdriver.remote.webelement.WebElement (session=\"ed08de4a62f2378e54849dc78937410e\", element=\"8c83221d-6391-4bcd-828d-e07d9324cb57\")>,\n",
       " <selenium.webdriver.remote.webelement.WebElement (session=\"ed08de4a62f2378e54849dc78937410e\", element=\"03d4b47f-daac-4d68-b7bc-cada17dfd5fe\")>,\n",
       " <selenium.webdriver.remote.webelement.WebElement (session=\"ed08de4a62f2378e54849dc78937410e\", element=\"5b25e273-0c8d-4bc6-b006-cd61ef1b9c5f\")>,\n",
       " <selenium.webdriver.remote.webelement.WebElement (session=\"ed08de4a62f2378e54849dc78937410e\", element=\"bedc9827-db20-4fb4-b4ba-457ed7a9dd76\")>,\n",
       " <selenium.webdriver.remote.webelement.WebElement (session=\"ed08de4a62f2378e54849dc78937410e\", element=\"c1e8bf39-a015-4ee0-9548-13fcdb89fbc3\")>,\n",
       " <selenium.webdriver.remote.webelement.WebElement (session=\"ed08de4a62f2378e54849dc78937410e\", element=\"6d1bd8b9-ba57-47bb-9c43-29d0c8984368\")>,\n",
       " <selenium.webdriver.remote.webelement.WebElement (session=\"ed08de4a62f2378e54849dc78937410e\", element=\"87344dc3-f170-449a-ae5a-58b6ab3971ca\")>,\n",
       " <selenium.webdriver.remote.webelement.WebElement (session=\"ed08de4a62f2378e54849dc78937410e\", element=\"e55cc01c-b753-45aa-a85c-976e50760470\")>,\n",
       " <selenium.webdriver.remote.webelement.WebElement (session=\"ed08de4a62f2378e54849dc78937410e\", element=\"b367292d-80d1-408e-bfb6-cfd862be9a5e\")>,\n",
       " <selenium.webdriver.remote.webelement.WebElement (session=\"ed08de4a62f2378e54849dc78937410e\", element=\"5b9d5791-5c72-49b2-880d-1508dd1af9e1\")>,\n",
       " <selenium.webdriver.remote.webelement.WebElement (session=\"ed08de4a62f2378e54849dc78937410e\", element=\"6ebcadfa-6ba6-4a81-a78b-9391a700cf8d\")>,\n",
       " <selenium.webdriver.remote.webelement.WebElement (session=\"ed08de4a62f2378e54849dc78937410e\", element=\"b6bee202-d8f9-4f36-8997-da969b289658\")>]"
      ]
     },
     "execution_count": 143,
     "metadata": {},
     "output_type": "execute_result"
    }
   ],
   "source": [
    "#lets extract all the tags having the company names\n",
    "companies_tags=driver.find_elements_by_xpath('//div[@class=\"d-flex justify-content-between align-items-start\"]')\n",
    "companies_tags"
   ]
  },
  {
   "cell_type": "code",
   "execution_count": 145,
   "metadata": {},
   "outputs": [
    {
     "data": {
      "text/plain": [
       "['Adobe',\n",
       " 'Ericsson',\n",
       " 'Biz2Credit Inc',\n",
       " 'Jubilant Biosys',\n",
       " 'Techlive',\n",
       " 'Salasar New Age Technologies',\n",
       " 'Adobe',\n",
       " 'Bureau Veritas',\n",
       " 'Adobe',\n",
       " 'Adobe']"
      ]
     },
     "execution_count": 145,
     "metadata": {},
     "output_type": "execute_result"
    }
   ],
   "source": [
    "#Extracting the text from these tags one by one by looping over these tags\n",
    "company_names=[]\n",
    "for i in companies_tags:\n",
    "    company_names.append(i.text)\n",
    "company_names[:10]"
   ]
  },
  {
   "cell_type": "code",
   "execution_count": 146,
   "metadata": {},
   "outputs": [
    {
     "data": {
      "text/plain": [
       "[<selenium.webdriver.remote.webelement.WebElement (session=\"ed08de4a62f2378e54849dc78937410e\", element=\"05b6e8fe-908c-4da8-a6b5-a0c9ee3745ad\")>,\n",
       " <selenium.webdriver.remote.webelement.WebElement (session=\"ed08de4a62f2378e54849dc78937410e\", element=\"a745f8ec-ca26-4008-9cd4-5b2ae37c67d0\")>,\n",
       " <selenium.webdriver.remote.webelement.WebElement (session=\"ed08de4a62f2378e54849dc78937410e\", element=\"1b84225e-235f-4d09-880a-9666e1d5a9a4\")>,\n",
       " <selenium.webdriver.remote.webelement.WebElement (session=\"ed08de4a62f2378e54849dc78937410e\", element=\"a6a5e0fa-4a26-4a68-92b3-fce47b7f68ff\")>,\n",
       " <selenium.webdriver.remote.webelement.WebElement (session=\"ed08de4a62f2378e54849dc78937410e\", element=\"d369aae0-a4c9-4509-b2d1-11262e45bc5a\")>,\n",
       " <selenium.webdriver.remote.webelement.WebElement (session=\"ed08de4a62f2378e54849dc78937410e\", element=\"7f63a13d-701c-41df-bb43-4f049be1cc47\")>,\n",
       " <selenium.webdriver.remote.webelement.WebElement (session=\"ed08de4a62f2378e54849dc78937410e\", element=\"cf1a2933-4562-40c5-af27-c67c2d62ec04\")>,\n",
       " <selenium.webdriver.remote.webelement.WebElement (session=\"ed08de4a62f2378e54849dc78937410e\", element=\"6b7f0b4e-6ed3-4b23-aca6-48bd56c09cdc\")>,\n",
       " <selenium.webdriver.remote.webelement.WebElement (session=\"ed08de4a62f2378e54849dc78937410e\", element=\"ee3a2038-a9e5-4ae1-b1d5-cf2168d9c24d\")>,\n",
       " <selenium.webdriver.remote.webelement.WebElement (session=\"ed08de4a62f2378e54849dc78937410e\", element=\"4d3d9eb8-8177-4f05-8815-ab44b5ef861e\")>,\n",
       " <selenium.webdriver.remote.webelement.WebElement (session=\"ed08de4a62f2378e54849dc78937410e\", element=\"f568f070-9e66-4aa9-9d5f-ed3c94e3758d\")>,\n",
       " <selenium.webdriver.remote.webelement.WebElement (session=\"ed08de4a62f2378e54849dc78937410e\", element=\"3e5a7b53-c1d8-4776-903e-c3eba3eb048d\")>,\n",
       " <selenium.webdriver.remote.webelement.WebElement (session=\"ed08de4a62f2378e54849dc78937410e\", element=\"22a782b4-18ba-496c-ba4c-bfafd54caeee\")>,\n",
       " <selenium.webdriver.remote.webelement.WebElement (session=\"ed08de4a62f2378e54849dc78937410e\", element=\"e8403fef-ef87-4a5f-a2bc-585564a018fd\")>,\n",
       " <selenium.webdriver.remote.webelement.WebElement (session=\"ed08de4a62f2378e54849dc78937410e\", element=\"996e6dd3-adb5-41d2-9e78-677a3f60ce8e\")>,\n",
       " <selenium.webdriver.remote.webelement.WebElement (session=\"ed08de4a62f2378e54849dc78937410e\", element=\"93097dd2-d2c4-42ec-8df7-8f1a53a6ab6f\")>,\n",
       " <selenium.webdriver.remote.webelement.WebElement (session=\"ed08de4a62f2378e54849dc78937410e\", element=\"00f0154a-0099-4268-8b6e-2e4d51748737\")>,\n",
       " <selenium.webdriver.remote.webelement.WebElement (session=\"ed08de4a62f2378e54849dc78937410e\", element=\"cabc490c-a154-49cb-b342-959347d956be\")>,\n",
       " <selenium.webdriver.remote.webelement.WebElement (session=\"ed08de4a62f2378e54849dc78937410e\", element=\"02e93186-402b-4ccc-baec-5de27a48a0f0\")>,\n",
       " <selenium.webdriver.remote.webelement.WebElement (session=\"ed08de4a62f2378e54849dc78937410e\", element=\"5bdb2ec0-ff2b-408a-a152-18adbeca90f9\")>,\n",
       " <selenium.webdriver.remote.webelement.WebElement (session=\"ed08de4a62f2378e54849dc78937410e\", element=\"20c74b7a-22f6-4f52-a07c-1e28c7daa462\")>,\n",
       " <selenium.webdriver.remote.webelement.WebElement (session=\"ed08de4a62f2378e54849dc78937410e\", element=\"97d5f291-bc0e-4b01-8c45-aa55854a8c3e\")>,\n",
       " <selenium.webdriver.remote.webelement.WebElement (session=\"ed08de4a62f2378e54849dc78937410e\", element=\"70628543-bf05-41e3-9187-fdb0bb32ec98\")>,\n",
       " <selenium.webdriver.remote.webelement.WebElement (session=\"ed08de4a62f2378e54849dc78937410e\", element=\"6a93087c-cba0-4c83-95f9-596b526767aa\")>,\n",
       " <selenium.webdriver.remote.webelement.WebElement (session=\"ed08de4a62f2378e54849dc78937410e\", element=\"bb5657a9-32ac-4225-ab62-e0eb6d81c92b\")>,\n",
       " <selenium.webdriver.remote.webelement.WebElement (session=\"ed08de4a62f2378e54849dc78937410e\", element=\"38a77b32-ed04-4326-ad01-91104d8443e2\")>,\n",
       " <selenium.webdriver.remote.webelement.WebElement (session=\"ed08de4a62f2378e54849dc78937410e\", element=\"11cae2cb-640e-4955-bdc2-5c40c42a241b\")>,\n",
       " <selenium.webdriver.remote.webelement.WebElement (session=\"ed08de4a62f2378e54849dc78937410e\", element=\"e5e9907c-b8db-4969-b065-912de4b1e0ac\")>,\n",
       " <selenium.webdriver.remote.webelement.WebElement (session=\"ed08de4a62f2378e54849dc78937410e\", element=\"0866a74a-1c53-49bb-8a92-bc27024b253e\")>,\n",
       " <selenium.webdriver.remote.webelement.WebElement (session=\"ed08de4a62f2378e54849dc78937410e\", element=\"7a89c895-44d4-44c0-bb1c-da661e8a545b\")>]"
      ]
     },
     "execution_count": 146,
     "metadata": {},
     "output_type": "execute_result"
    }
   ],
   "source": [
    "#lets extract all the tags having no of days ago when job was posted\n",
    "Days_tags=driver.find_elements_by_xpath('//div[@class=\"d-flex align-items-end pl-std css-mi55ob\"]')\n",
    "Days_tags"
   ]
  },
  {
   "cell_type": "code",
   "execution_count": 147,
   "metadata": {},
   "outputs": [
    {
     "data": {
      "text/plain": [
       "['2d', '24h', '30d+', '30d+', '30d+', '30d+', '7d', '5d', '25d', '30d+']"
      ]
     },
     "execution_count": 147,
     "metadata": {},
     "output_type": "execute_result"
    }
   ],
   "source": [
    "#Extracting the text from these tags one by one by looping over these tags\n",
    "Days_list=[]\n",
    "for i in Days_tags:\n",
    "    Days_list.append(i.text)\n",
    "Days_list[:10]"
   ]
  },
  {
   "cell_type": "code",
   "execution_count": 154,
   "metadata": {},
   "outputs": [
    {
     "data": {
      "text/plain": [
       "[<selenium.webdriver.remote.webelement.WebElement (session=\"ed08de4a62f2378e54849dc78937410e\", element=\"b76cca4f-46df-4a49-b826-281f855c95d3\")>,\n",
       " <selenium.webdriver.remote.webelement.WebElement (session=\"ed08de4a62f2378e54849dc78937410e\", element=\"2d3932e6-950c-44f0-ae34-b13bf61ef7e1\")>,\n",
       " <selenium.webdriver.remote.webelement.WebElement (session=\"ed08de4a62f2378e54849dc78937410e\", element=\"a2a55a2d-a7da-47a7-9b9e-724f64ac6ffe\")>,\n",
       " <selenium.webdriver.remote.webelement.WebElement (session=\"ed08de4a62f2378e54849dc78937410e\", element=\"c89aab2c-33b2-4b51-ac50-bb6d027484d7\")>,\n",
       " <selenium.webdriver.remote.webelement.WebElement (session=\"ed08de4a62f2378e54849dc78937410e\", element=\"48e31b30-fd7d-4b4b-a5e0-4748dd7e2275\")>,\n",
       " <selenium.webdriver.remote.webelement.WebElement (session=\"ed08de4a62f2378e54849dc78937410e\", element=\"97e9eb40-c3dd-46ab-a9e8-9c3bc47dee83\")>,\n",
       " <selenium.webdriver.remote.webelement.WebElement (session=\"ed08de4a62f2378e54849dc78937410e\", element=\"8c17b0db-b845-4f97-adc0-fb9e28843c3e\")>,\n",
       " <selenium.webdriver.remote.webelement.WebElement (session=\"ed08de4a62f2378e54849dc78937410e\", element=\"6e070490-b436-4d39-9578-db730ce27d0c\")>,\n",
       " <selenium.webdriver.remote.webelement.WebElement (session=\"ed08de4a62f2378e54849dc78937410e\", element=\"af217390-d3df-419b-bf23-5eed50bb51b6\")>,\n",
       " <selenium.webdriver.remote.webelement.WebElement (session=\"ed08de4a62f2378e54849dc78937410e\", element=\"0c7f3147-f208-4dbc-9406-d3a0527131cf\")>,\n",
       " <selenium.webdriver.remote.webelement.WebElement (session=\"ed08de4a62f2378e54849dc78937410e\", element=\"39d5be86-020e-45e7-ab53-5ad4371480b0\")>,\n",
       " <selenium.webdriver.remote.webelement.WebElement (session=\"ed08de4a62f2378e54849dc78937410e\", element=\"6c4aea41-0995-4c31-af38-f769d7168eb4\")>,\n",
       " <selenium.webdriver.remote.webelement.WebElement (session=\"ed08de4a62f2378e54849dc78937410e\", element=\"4fd7a3dc-da1a-4937-98f6-e825ba121bd6\")>,\n",
       " <selenium.webdriver.remote.webelement.WebElement (session=\"ed08de4a62f2378e54849dc78937410e\", element=\"4513eb1b-9b67-4b64-89de-065649003b70\")>,\n",
       " <selenium.webdriver.remote.webelement.WebElement (session=\"ed08de4a62f2378e54849dc78937410e\", element=\"927f495b-cc48-4336-a85a-a4359a6fc8bb\")>,\n",
       " <selenium.webdriver.remote.webelement.WebElement (session=\"ed08de4a62f2378e54849dc78937410e\", element=\"dba02b67-e9ce-43d6-bf36-fc13c96f89c9\")>,\n",
       " <selenium.webdriver.remote.webelement.WebElement (session=\"ed08de4a62f2378e54849dc78937410e\", element=\"8a43504d-3af3-4a47-b4c3-c8fe115510ab\")>,\n",
       " <selenium.webdriver.remote.webelement.WebElement (session=\"ed08de4a62f2378e54849dc78937410e\", element=\"af1c8262-71b6-448f-82d6-8ecb33cd0e7a\")>,\n",
       " <selenium.webdriver.remote.webelement.WebElement (session=\"ed08de4a62f2378e54849dc78937410e\", element=\"b72e77c8-a56d-4a74-813e-6ae9f3ea2da5\")>,\n",
       " <selenium.webdriver.remote.webelement.WebElement (session=\"ed08de4a62f2378e54849dc78937410e\", element=\"21496311-e7cf-40d3-b864-dd441e8b767c\")>,\n",
       " <selenium.webdriver.remote.webelement.WebElement (session=\"ed08de4a62f2378e54849dc78937410e\", element=\"edf30f8a-1f72-4d53-9e7b-4757329edc36\")>,\n",
       " <selenium.webdriver.remote.webelement.WebElement (session=\"ed08de4a62f2378e54849dc78937410e\", element=\"ed7fe126-dc05-4dd8-b21b-3d29a5c07a2d\")>]"
      ]
     },
     "execution_count": 154,
     "metadata": {},
     "output_type": "execute_result"
    }
   ],
   "source": [
    "#lets extract all the tags having ratings\n",
    "ratings_tags=driver.find_elements_by_xpath('//span[@class=\"css-19pjha7 e1cjmv6j1\"]')\n",
    "ratings_tags"
   ]
  },
  {
   "cell_type": "code",
   "execution_count": 155,
   "metadata": {},
   "outputs": [
    {
     "data": {
      "text/plain": [
       "['4.4', '4.1', '3.8', '3.7', '5.0', '4.4', '3.3', '4.4', '4.4', '3.6']"
      ]
     },
     "execution_count": 155,
     "metadata": {},
     "output_type": "execute_result"
    }
   ],
   "source": [
    "#Extracting the text from these tags one by one by looping over these tags\n",
    "ratings_list=[]\n",
    "for i in ratings_tags:\n",
    "    ratings_list.append(i.text)\n",
    "ratings_list[:10]"
   ]
  },
  {
   "cell_type": "code",
   "execution_count": 156,
   "metadata": {},
   "outputs": [
    {
     "name": "stdout",
     "output_type": "stream",
     "text": [
      "30 30 22\n"
     ]
    }
   ],
   "source": [
    "#Now we will create a dataframe,so we will check the length of each of the list\n",
    "print(len(company_names),len(Days_list),len(ratings_list))"
   ]
  },
  {
   "cell_type": "code",
   "execution_count": 158,
   "metadata": {},
   "outputs": [],
   "source": [
    "jobs=pd.DataFrame({})\n",
    "jobs['company']=company_names\n",
    "jobs['days_ago_posted']=Days_list"
   ]
  },
  {
   "cell_type": "code",
   "execution_count": 160,
   "metadata": {},
   "outputs": [
    {
     "data": {
      "text/html": [
       "<div>\n",
       "<style scoped>\n",
       "    .dataframe tbody tr th:only-of-type {\n",
       "        vertical-align: middle;\n",
       "    }\n",
       "\n",
       "    .dataframe tbody tr th {\n",
       "        vertical-align: top;\n",
       "    }\n",
       "\n",
       "    .dataframe thead th {\n",
       "        text-align: right;\n",
       "    }\n",
       "</style>\n",
       "<table border=\"1\" class=\"dataframe\">\n",
       "  <thead>\n",
       "    <tr style=\"text-align: right;\">\n",
       "      <th></th>\n",
       "      <th>company</th>\n",
       "      <th>days_ago_posted</th>\n",
       "    </tr>\n",
       "  </thead>\n",
       "  <tbody>\n",
       "    <tr>\n",
       "      <th>0</th>\n",
       "      <td>Adobe</td>\n",
       "      <td>2d</td>\n",
       "    </tr>\n",
       "    <tr>\n",
       "      <th>1</th>\n",
       "      <td>Ericsson</td>\n",
       "      <td>24h</td>\n",
       "    </tr>\n",
       "    <tr>\n",
       "      <th>2</th>\n",
       "      <td>Biz2Credit Inc</td>\n",
       "      <td>30d+</td>\n",
       "    </tr>\n",
       "    <tr>\n",
       "      <th>3</th>\n",
       "      <td>Jubilant Biosys</td>\n",
       "      <td>30d+</td>\n",
       "    </tr>\n",
       "    <tr>\n",
       "      <th>4</th>\n",
       "      <td>Techlive</td>\n",
       "      <td>30d+</td>\n",
       "    </tr>\n",
       "    <tr>\n",
       "      <th>5</th>\n",
       "      <td>Salasar New Age Technologies</td>\n",
       "      <td>30d+</td>\n",
       "    </tr>\n",
       "    <tr>\n",
       "      <th>6</th>\n",
       "      <td>Adobe</td>\n",
       "      <td>7d</td>\n",
       "    </tr>\n",
       "    <tr>\n",
       "      <th>7</th>\n",
       "      <td>Bureau Veritas</td>\n",
       "      <td>5d</td>\n",
       "    </tr>\n",
       "    <tr>\n",
       "      <th>8</th>\n",
       "      <td>Adobe</td>\n",
       "      <td>25d</td>\n",
       "    </tr>\n",
       "    <tr>\n",
       "      <th>9</th>\n",
       "      <td>Adobe</td>\n",
       "      <td>30d+</td>\n",
       "    </tr>\n",
       "  </tbody>\n",
       "</table>\n",
       "</div>"
      ],
      "text/plain": [
       "                        company days_ago_posted\n",
       "0                         Adobe              2d\n",
       "1                      Ericsson             24h\n",
       "2                Biz2Credit Inc            30d+\n",
       "3               Jubilant Biosys            30d+\n",
       "4                      Techlive            30d+\n",
       "5  Salasar New Age Technologies            30d+\n",
       "6                         Adobe              7d\n",
       "7                Bureau Veritas              5d\n",
       "8                         Adobe             25d\n",
       "9                         Adobe            30d+"
      ]
     },
     "execution_count": 160,
     "metadata": {},
     "output_type": "execute_result"
    }
   ],
   "source": [
    "jobs[:10]"
   ]
  },
  {
   "cell_type": "code",
   "execution_count": 161,
   "metadata": {},
   "outputs": [],
   "source": [
    "job_ratings=pd.DataFrame({})\n",
    "job_ratings['ratings']=ratings_list"
   ]
  },
  {
   "cell_type": "code",
   "execution_count": 162,
   "metadata": {},
   "outputs": [
    {
     "data": {
      "text/html": [
       "<div>\n",
       "<style scoped>\n",
       "    .dataframe tbody tr th:only-of-type {\n",
       "        vertical-align: middle;\n",
       "    }\n",
       "\n",
       "    .dataframe tbody tr th {\n",
       "        vertical-align: top;\n",
       "    }\n",
       "\n",
       "    .dataframe thead th {\n",
       "        text-align: right;\n",
       "    }\n",
       "</style>\n",
       "<table border=\"1\" class=\"dataframe\">\n",
       "  <thead>\n",
       "    <tr style=\"text-align: right;\">\n",
       "      <th></th>\n",
       "      <th>ratings</th>\n",
       "    </tr>\n",
       "  </thead>\n",
       "  <tbody>\n",
       "    <tr>\n",
       "      <th>0</th>\n",
       "      <td>4.4</td>\n",
       "    </tr>\n",
       "    <tr>\n",
       "      <th>1</th>\n",
       "      <td>4.1</td>\n",
       "    </tr>\n",
       "    <tr>\n",
       "      <th>2</th>\n",
       "      <td>3.8</td>\n",
       "    </tr>\n",
       "    <tr>\n",
       "      <th>3</th>\n",
       "      <td>3.7</td>\n",
       "    </tr>\n",
       "    <tr>\n",
       "      <th>4</th>\n",
       "      <td>5.0</td>\n",
       "    </tr>\n",
       "    <tr>\n",
       "      <th>5</th>\n",
       "      <td>4.4</td>\n",
       "    </tr>\n",
       "    <tr>\n",
       "      <th>6</th>\n",
       "      <td>3.3</td>\n",
       "    </tr>\n",
       "    <tr>\n",
       "      <th>7</th>\n",
       "      <td>4.4</td>\n",
       "    </tr>\n",
       "    <tr>\n",
       "      <th>8</th>\n",
       "      <td>4.4</td>\n",
       "    </tr>\n",
       "    <tr>\n",
       "      <th>9</th>\n",
       "      <td>3.6</td>\n",
       "    </tr>\n",
       "  </tbody>\n",
       "</table>\n",
       "</div>"
      ],
      "text/plain": [
       "  ratings\n",
       "0     4.4\n",
       "1     4.1\n",
       "2     3.8\n",
       "3     3.7\n",
       "4     5.0\n",
       "5     4.4\n",
       "6     3.3\n",
       "7     4.4\n",
       "8     4.4\n",
       "9     3.6"
      ]
     },
     "execution_count": 162,
     "metadata": {},
     "output_type": "execute_result"
    }
   ],
   "source": [
    "job_ratings[:10]"
   ]
  },
  {
   "cell_type": "code",
   "execution_count": 166,
   "metadata": {},
   "outputs": [
    {
     "data": {
      "text/html": [
       "<div>\n",
       "<style scoped>\n",
       "    .dataframe tbody tr th:only-of-type {\n",
       "        vertical-align: middle;\n",
       "    }\n",
       "\n",
       "    .dataframe tbody tr th {\n",
       "        vertical-align: top;\n",
       "    }\n",
       "\n",
       "    .dataframe thead th {\n",
       "        text-align: right;\n",
       "    }\n",
       "</style>\n",
       "<table border=\"1\" class=\"dataframe\">\n",
       "  <thead>\n",
       "    <tr style=\"text-align: right;\">\n",
       "      <th></th>\n",
       "      <th>company</th>\n",
       "      <th>days_ago_posted</th>\n",
       "      <th>ratings</th>\n",
       "    </tr>\n",
       "  </thead>\n",
       "  <tbody>\n",
       "    <tr>\n",
       "      <th>0</th>\n",
       "      <td>Adobe</td>\n",
       "      <td>2d</td>\n",
       "      <td>4.4</td>\n",
       "    </tr>\n",
       "    <tr>\n",
       "      <th>1</th>\n",
       "      <td>Ericsson</td>\n",
       "      <td>24h</td>\n",
       "      <td>4.1</td>\n",
       "    </tr>\n",
       "    <tr>\n",
       "      <th>2</th>\n",
       "      <td>Biz2Credit Inc</td>\n",
       "      <td>30d+</td>\n",
       "      <td>3.8</td>\n",
       "    </tr>\n",
       "    <tr>\n",
       "      <th>3</th>\n",
       "      <td>Jubilant Biosys</td>\n",
       "      <td>30d+</td>\n",
       "      <td>3.7</td>\n",
       "    </tr>\n",
       "    <tr>\n",
       "      <th>4</th>\n",
       "      <td>Techlive</td>\n",
       "      <td>30d+</td>\n",
       "      <td>5.0</td>\n",
       "    </tr>\n",
       "    <tr>\n",
       "      <th>5</th>\n",
       "      <td>Salasar New Age Technologies</td>\n",
       "      <td>30d+</td>\n",
       "      <td>4.4</td>\n",
       "    </tr>\n",
       "    <tr>\n",
       "      <th>6</th>\n",
       "      <td>Adobe</td>\n",
       "      <td>7d</td>\n",
       "      <td>3.3</td>\n",
       "    </tr>\n",
       "    <tr>\n",
       "      <th>7</th>\n",
       "      <td>Bureau Veritas</td>\n",
       "      <td>5d</td>\n",
       "      <td>4.4</td>\n",
       "    </tr>\n",
       "    <tr>\n",
       "      <th>8</th>\n",
       "      <td>Adobe</td>\n",
       "      <td>25d</td>\n",
       "      <td>4.4</td>\n",
       "    </tr>\n",
       "    <tr>\n",
       "      <th>9</th>\n",
       "      <td>Adobe</td>\n",
       "      <td>30d+</td>\n",
       "      <td>3.6</td>\n",
       "    </tr>\n",
       "  </tbody>\n",
       "</table>\n",
       "</div>"
      ],
      "text/plain": [
       "                        company days_ago_posted ratings\n",
       "0                         Adobe              2d     4.4\n",
       "1                      Ericsson             24h     4.1\n",
       "2                Biz2Credit Inc            30d+     3.8\n",
       "3               Jubilant Biosys            30d+     3.7\n",
       "4                      Techlive            30d+     5.0\n",
       "5  Salasar New Age Technologies            30d+     4.4\n",
       "6                         Adobe              7d     3.3\n",
       "7                Bureau Veritas              5d     4.4\n",
       "8                         Adobe             25d     4.4\n",
       "9                         Adobe            30d+     3.6"
      ]
     },
     "execution_count": 166,
     "metadata": {},
     "output_type": "execute_result"
    }
   ],
   "source": [
    "df=pd.concat([jobs[:10],job_ratings[:10]],axis=1)\n",
    "df"
   ]
  },
  {
   "cell_type": "markdown",
   "metadata": {},
   "source": []
  },
  {
   "cell_type": "markdown",
   "metadata": {},
   "source": [
    "# Q5"
   ]
  },
  {
   "cell_type": "code",
   "execution_count": 197,
   "metadata": {},
   "outputs": [],
   "source": [
    "#importing all the required libraries\n",
    "import selenium\n",
    "import pandas as pd\n",
    "from selenium import webdriver"
   ]
  },
  {
   "cell_type": "code",
   "execution_count": 198,
   "metadata": {},
   "outputs": [],
   "source": [
    "#connecting to the webdriver\n",
    "driver=webdriver.Chrome(\"chromedriver.exe\")"
   ]
  },
  {
   "cell_type": "code",
   "execution_count": 199,
   "metadata": {},
   "outputs": [],
   "source": [
    "#We have to scrape the salary data for Data Scientist designation in Noida location\n",
    "#Then scrape the min salary, max salary, company name, Average salary and number of salaries\n",
    "\n",
    "url='https://www.glassdoor.co.in/Salaries/index.htm'\n",
    "driver.get(url)"
   ]
  },
  {
   "cell_type": "code",
   "execution_count": 200,
   "metadata": {},
   "outputs": [
    {
     "data": {
      "text/plain": [
       "<selenium.webdriver.remote.webelement.WebElement (session=\"1ec957c06fe61be1166578676f3d708e\", element=\"9079bf7d-a16a-4fbe-ba0c-a4074407fc97\")>"
      ]
     },
     "execution_count": 200,
     "metadata": {},
     "output_type": "execute_result"
    }
   ],
   "source": [
    "#find_element for job search bar\n",
    "search_job=driver.find_element_by_id('KeywordSearch')\n",
    "search_job"
   ]
  },
  {
   "cell_type": "code",
   "execution_count": 201,
   "metadata": {},
   "outputs": [],
   "source": [
    "#write on search bar\n",
    "search_job.send_keys(\"Data Scientist\")"
   ]
  },
  {
   "cell_type": "code",
   "execution_count": 202,
   "metadata": {},
   "outputs": [],
   "source": [
    "#finding element for the job location bar\n",
    "search_loc=driver.find_element_by_id(\"LocationSearch\")\n",
    "search_loc.send_keys(\"Noida\")"
   ]
  },
  {
   "cell_type": "code",
   "execution_count": 203,
   "metadata": {},
   "outputs": [],
   "source": [
    "#do click using class_name function\n",
    "search_btn=driver.find_element_by_class_name('gd-btn-mkt')\n",
    "search_btn.click()"
   ]
  },
  {
   "cell_type": "code",
   "execution_count": 204,
   "metadata": {},
   "outputs": [
    {
     "data": {
      "text/plain": [
       "[<selenium.webdriver.remote.webelement.WebElement (session=\"1ec957c06fe61be1166578676f3d708e\", element=\"912b8527-8234-4804-a1a0-d2251774605a\")>,\n",
       " <selenium.webdriver.remote.webelement.WebElement (session=\"1ec957c06fe61be1166578676f3d708e\", element=\"2132d615-4015-4a03-9c56-5527cbaa0202\")>,\n",
       " <selenium.webdriver.remote.webelement.WebElement (session=\"1ec957c06fe61be1166578676f3d708e\", element=\"5c11883a-0403-45fa-a74c-23e77347bbcb\")>,\n",
       " <selenium.webdriver.remote.webelement.WebElement (session=\"1ec957c06fe61be1166578676f3d708e\", element=\"12e06b05-5467-4f96-9ee3-ae5ffef925b6\")>,\n",
       " <selenium.webdriver.remote.webelement.WebElement (session=\"1ec957c06fe61be1166578676f3d708e\", element=\"dcfd5f70-3eba-43cd-851b-6d5629602202\")>,\n",
       " <selenium.webdriver.remote.webelement.WebElement (session=\"1ec957c06fe61be1166578676f3d708e\", element=\"347c109a-257a-4177-ab21-0054c2157acc\")>,\n",
       " <selenium.webdriver.remote.webelement.WebElement (session=\"1ec957c06fe61be1166578676f3d708e\", element=\"36f53abc-3c86-406d-a569-88dd8c093907\")>,\n",
       " <selenium.webdriver.remote.webelement.WebElement (session=\"1ec957c06fe61be1166578676f3d708e\", element=\"8db1f3a8-1783-4674-9b66-844c401be7e2\")>,\n",
       " <selenium.webdriver.remote.webelement.WebElement (session=\"1ec957c06fe61be1166578676f3d708e\", element=\"85da81e6-783f-49e7-aa01-0f7b60734ca7\")>,\n",
       " <selenium.webdriver.remote.webelement.WebElement (session=\"1ec957c06fe61be1166578676f3d708e\", element=\"9e4b7931-0fbb-4da3-ac42-e0e682407b90\")>,\n",
       " <selenium.webdriver.remote.webelement.WebElement (session=\"1ec957c06fe61be1166578676f3d708e\", element=\"e0ca79c4-fec3-4757-b841-2f17383c4565\")>,\n",
       " <selenium.webdriver.remote.webelement.WebElement (session=\"1ec957c06fe61be1166578676f3d708e\", element=\"527d0fb2-997c-44a0-8752-0d3efc1e99fe\")>,\n",
       " <selenium.webdriver.remote.webelement.WebElement (session=\"1ec957c06fe61be1166578676f3d708e\", element=\"79bde38c-58e9-466c-9f18-678b9f0ab598\")>,\n",
       " <selenium.webdriver.remote.webelement.WebElement (session=\"1ec957c06fe61be1166578676f3d708e\", element=\"5e7520f2-28f0-44c1-b255-49a4e7068e0f\")>,\n",
       " <selenium.webdriver.remote.webelement.WebElement (session=\"1ec957c06fe61be1166578676f3d708e\", element=\"b7e07433-0450-4269-a17c-37384cd45085\")>,\n",
       " <selenium.webdriver.remote.webelement.WebElement (session=\"1ec957c06fe61be1166578676f3d708e\", element=\"128cd944-bfb9-4987-b688-0b81c04360c8\")>,\n",
       " <selenium.webdriver.remote.webelement.WebElement (session=\"1ec957c06fe61be1166578676f3d708e\", element=\"05ba01be-3269-43b4-bc5e-6bcd2ccc09b7\")>,\n",
       " <selenium.webdriver.remote.webelement.WebElement (session=\"1ec957c06fe61be1166578676f3d708e\", element=\"72c6f5a6-cc72-4827-a156-5e9a9e91f6ae\")>,\n",
       " <selenium.webdriver.remote.webelement.WebElement (session=\"1ec957c06fe61be1166578676f3d708e\", element=\"8fa98b24-ddf1-421d-a76b-6a0efbfcf994\")>,\n",
       " <selenium.webdriver.remote.webelement.WebElement (session=\"1ec957c06fe61be1166578676f3d708e\", element=\"6cf7195d-2374-4a8c-8528-b2340d61a34c\")>]"
      ]
     },
     "execution_count": 204,
     "metadata": {},
     "output_type": "execute_result"
    }
   ],
   "source": [
    "#lets extract all the tags having the company names\n",
    "companies_tags=driver.find_elements_by_xpath('//p[@class=\"m-0 \"]')\n",
    "companies_tags"
   ]
  },
  {
   "cell_type": "code",
   "execution_count": 205,
   "metadata": {},
   "outputs": [
    {
     "data": {
      "text/plain": [
       "['Tata Consultancy Services',\n",
       " 'Accenture',\n",
       " 'IBM',\n",
       " 'Ericsson-Worldwide',\n",
       " 'Delhivery',\n",
       " 'UnitedHealth Group',\n",
       " 'Valiance Solutions',\n",
       " 'ZS Associates',\n",
       " 'EXL Service',\n",
       " 'Optum Global Solutions']"
      ]
     },
     "execution_count": 205,
     "metadata": {},
     "output_type": "execute_result"
    }
   ],
   "source": [
    "#Extracting the text from these tags one by one by looping over these tags\n",
    "company_names=[]\n",
    "for i in companies_tags:\n",
    "    company_names.append(i.text)\n",
    "company_names[:10]"
   ]
  },
  {
   "cell_type": "code",
   "execution_count": 206,
   "metadata": {},
   "outputs": [
    {
     "data": {
      "text/plain": [
       "[<selenium.webdriver.remote.webelement.WebElement (session=\"1ec957c06fe61be1166578676f3d708e\", element=\"1f918513-f980-471f-a3da-c6933b3cbe93\")>,\n",
       " <selenium.webdriver.remote.webelement.WebElement (session=\"1ec957c06fe61be1166578676f3d708e\", element=\"314d2b54-f6eb-4a8e-9119-11cbff51de46\")>,\n",
       " <selenium.webdriver.remote.webelement.WebElement (session=\"1ec957c06fe61be1166578676f3d708e\", element=\"42b66469-9e64-4060-bd49-8eb1544b26b1\")>,\n",
       " <selenium.webdriver.remote.webelement.WebElement (session=\"1ec957c06fe61be1166578676f3d708e\", element=\"97c29d3f-3bad-47d3-b3d2-439127ce6bd8\")>,\n",
       " <selenium.webdriver.remote.webelement.WebElement (session=\"1ec957c06fe61be1166578676f3d708e\", element=\"95468b07-5fea-4c09-84a9-a09fe97975bf\")>,\n",
       " <selenium.webdriver.remote.webelement.WebElement (session=\"1ec957c06fe61be1166578676f3d708e\", element=\"84a7f200-699b-4932-bc51-f62b06fb6098\")>,\n",
       " <selenium.webdriver.remote.webelement.WebElement (session=\"1ec957c06fe61be1166578676f3d708e\", element=\"c375019b-6902-4a7c-9e40-2fe3ea3b927f\")>,\n",
       " <selenium.webdriver.remote.webelement.WebElement (session=\"1ec957c06fe61be1166578676f3d708e\", element=\"235fa47c-4fe5-4900-a437-dfd0fe2fe120\")>,\n",
       " <selenium.webdriver.remote.webelement.WebElement (session=\"1ec957c06fe61be1166578676f3d708e\", element=\"f8f931ed-c19b-4c00-a0ce-5cb9d0d7b2d4\")>,\n",
       " <selenium.webdriver.remote.webelement.WebElement (session=\"1ec957c06fe61be1166578676f3d708e\", element=\"10630fca-aae3-4ee5-83c0-3c3a99974d23\")>,\n",
       " <selenium.webdriver.remote.webelement.WebElement (session=\"1ec957c06fe61be1166578676f3d708e\", element=\"1e378a80-6b7b-41b3-8e7e-a1b7f0e01608\")>,\n",
       " <selenium.webdriver.remote.webelement.WebElement (session=\"1ec957c06fe61be1166578676f3d708e\", element=\"1167b29c-3576-4f1a-8ebe-e7b7d83be5d7\")>,\n",
       " <selenium.webdriver.remote.webelement.WebElement (session=\"1ec957c06fe61be1166578676f3d708e\", element=\"28d70f38-2d29-4420-9b00-e541007f3897\")>,\n",
       " <selenium.webdriver.remote.webelement.WebElement (session=\"1ec957c06fe61be1166578676f3d708e\", element=\"5adc001a-a8ef-45f0-84c3-25eafa10abe1\")>,\n",
       " <selenium.webdriver.remote.webelement.WebElement (session=\"1ec957c06fe61be1166578676f3d708e\", element=\"d16575c2-1c9e-4533-be73-c6e80470e46a\")>,\n",
       " <selenium.webdriver.remote.webelement.WebElement (session=\"1ec957c06fe61be1166578676f3d708e\", element=\"3d1aba5e-9ce1-46dc-b07a-377cb7402634\")>,\n",
       " <selenium.webdriver.remote.webelement.WebElement (session=\"1ec957c06fe61be1166578676f3d708e\", element=\"03ce0ecb-ab2f-48f8-8bda-582c06ab2812\")>,\n",
       " <selenium.webdriver.remote.webelement.WebElement (session=\"1ec957c06fe61be1166578676f3d708e\", element=\"e5b0701d-a92c-417f-9468-9c40ad6e9d16\")>,\n",
       " <selenium.webdriver.remote.webelement.WebElement (session=\"1ec957c06fe61be1166578676f3d708e\", element=\"ee435b53-56dd-41cf-bbc0-1057f01ca669\")>,\n",
       " <selenium.webdriver.remote.webelement.WebElement (session=\"1ec957c06fe61be1166578676f3d708e\", element=\"0a8c3108-38e6-4d6d-b0a2-5a9bf41a3a88\")>]"
      ]
     },
     "execution_count": 206,
     "metadata": {},
     "output_type": "execute_result"
    }
   ],
   "source": [
    "#lets extract all the tags having minimum and maximum salary\n",
    "minmaxsalary_tags=driver.find_elements_by_xpath('//div[@class=\"col-3 offset-1 d-none d-md-block\"]')\n",
    "minmaxsalary_tags"
   ]
  },
  {
   "cell_type": "code",
   "execution_count": 207,
   "metadata": {},
   "outputs": [
    {
     "data": {
      "text/plain": [
       "['₹343K\\n₹1,095K',\n",
       " '₹577K\\n₹2,213K',\n",
       " '₹586K\\n₹2,730K',\n",
       " '₹355K\\n₹1,613K',\n",
       " '₹450K\\n₹11,622K',\n",
       " '₹1,069K\\n₹1,520K',\n",
       " '₹502K\\n₹1,465K',\n",
       " '₹202K\\n₹1,809K',\n",
       " '₹575K\\n₹1,520K',\n",
       " '₹1,014K\\n₹2,149K']"
      ]
     },
     "execution_count": 207,
     "metadata": {},
     "output_type": "execute_result"
    }
   ],
   "source": [
    "#Extracting the text from these tags one by one by looping over these tags\n",
    "minmaxsalary_list=[]\n",
    "for i in minmaxsalary_tags:\n",
    "    minmaxsalary_list.append(i.text)\n",
    "minmaxsalary_list[:10]"
   ]
  },
  {
   "cell_type": "code",
   "execution_count": 208,
   "metadata": {},
   "outputs": [
    {
     "data": {
      "text/plain": [
       "[<selenium.webdriver.remote.webelement.WebElement (session=\"1ec957c06fe61be1166578676f3d708e\", element=\"5b43e3b8-bc88-4f70-85e1-4dbf145bdf95\")>,\n",
       " <selenium.webdriver.remote.webelement.WebElement (session=\"1ec957c06fe61be1166578676f3d708e\", element=\"67b688ed-2627-4e1c-98fd-f62e589c1355\")>,\n",
       " <selenium.webdriver.remote.webelement.WebElement (session=\"1ec957c06fe61be1166578676f3d708e\", element=\"78e5d4bf-31d0-493a-a221-22c1e19fbabd\")>,\n",
       " <selenium.webdriver.remote.webelement.WebElement (session=\"1ec957c06fe61be1166578676f3d708e\", element=\"eb2036da-fb24-4d07-b8ef-26e2968d9693\")>,\n",
       " <selenium.webdriver.remote.webelement.WebElement (session=\"1ec957c06fe61be1166578676f3d708e\", element=\"f6c7e01a-cd7f-4268-8566-d58eb61e0dc1\")>,\n",
       " <selenium.webdriver.remote.webelement.WebElement (session=\"1ec957c06fe61be1166578676f3d708e\", element=\"7902d806-f84d-4c38-8d9e-81e65803c570\")>,\n",
       " <selenium.webdriver.remote.webelement.WebElement (session=\"1ec957c06fe61be1166578676f3d708e\", element=\"c8d1e512-c069-49d7-8221-b2fc93e0b384\")>,\n",
       " <selenium.webdriver.remote.webelement.WebElement (session=\"1ec957c06fe61be1166578676f3d708e\", element=\"ded27b9f-81e8-40ec-884e-8f94a72fda02\")>,\n",
       " <selenium.webdriver.remote.webelement.WebElement (session=\"1ec957c06fe61be1166578676f3d708e\", element=\"b0282a68-e6de-4977-90ab-6168f1d5debc\")>,\n",
       " <selenium.webdriver.remote.webelement.WebElement (session=\"1ec957c06fe61be1166578676f3d708e\", element=\"8d5efb2e-6335-4a27-87f5-337f53b74abe\")>,\n",
       " <selenium.webdriver.remote.webelement.WebElement (session=\"1ec957c06fe61be1166578676f3d708e\", element=\"0fcc6940-25b0-454e-940f-e14e2927733c\")>,\n",
       " <selenium.webdriver.remote.webelement.WebElement (session=\"1ec957c06fe61be1166578676f3d708e\", element=\"268ce703-5e53-4378-82b1-c852e0f71951\")>,\n",
       " <selenium.webdriver.remote.webelement.WebElement (session=\"1ec957c06fe61be1166578676f3d708e\", element=\"1afc3465-e105-4e5e-a7e3-3388770e77f4\")>,\n",
       " <selenium.webdriver.remote.webelement.WebElement (session=\"1ec957c06fe61be1166578676f3d708e\", element=\"17d221e0-00a1-416a-82e2-8dfcccaade47\")>,\n",
       " <selenium.webdriver.remote.webelement.WebElement (session=\"1ec957c06fe61be1166578676f3d708e\", element=\"bcffda0e-9bb8-40ae-8971-c766c7a1cf82\")>,\n",
       " <selenium.webdriver.remote.webelement.WebElement (session=\"1ec957c06fe61be1166578676f3d708e\", element=\"70701aa6-239c-46c0-841a-0cb693afd574\")>,\n",
       " <selenium.webdriver.remote.webelement.WebElement (session=\"1ec957c06fe61be1166578676f3d708e\", element=\"bfcbdbea-fabb-472e-b558-4703f20895cf\")>,\n",
       " <selenium.webdriver.remote.webelement.WebElement (session=\"1ec957c06fe61be1166578676f3d708e\", element=\"b5ca3172-0338-4dee-8774-0b59111fee9e\")>,\n",
       " <selenium.webdriver.remote.webelement.WebElement (session=\"1ec957c06fe61be1166578676f3d708e\", element=\"2a38a9f6-8bed-4700-aeb2-fa2dc378bf2a\")>,\n",
       " <selenium.webdriver.remote.webelement.WebElement (session=\"1ec957c06fe61be1166578676f3d708e\", element=\"b6f7297d-af48-4e00-a056-8049ebd3ee94\")>]"
      ]
     },
     "execution_count": 208,
     "metadata": {},
     "output_type": "execute_result"
    }
   ],
   "source": [
    "#lets extract all the tags having average salary\n",
    "averagesalary_tags=driver.find_elements_by_xpath('//div[@class=\"col-2 d-none d-md-flex flex-row justify-content-end\"]')\n",
    "averagesalary_tags"
   ]
  },
  {
   "cell_type": "code",
   "execution_count": 209,
   "metadata": {},
   "outputs": [
    {
     "data": {
      "text/plain": [
       "['₹ 6,11,228\\n/yr',\n",
       " '₹ 11,46,533\\n/yr',\n",
       " '₹ 8,97,795\\n/yr',\n",
       " '₹ 7,38,057\\n/yr',\n",
       " '₹ 12,39,781\\n/yr',\n",
       " '₹ 13,36,142\\n/yr',\n",
       " '₹ 8,15,192\\n/yr',\n",
       " '₹ 11,35,221\\n/yr',\n",
       " '₹ 11,44,243\\n/yr',\n",
       " '₹ 14,13,288\\n/yr']"
      ]
     },
     "execution_count": 209,
     "metadata": {},
     "output_type": "execute_result"
    }
   ],
   "source": [
    "#Extracting the text from these tags one by one by looping over these tags\n",
    "averagesalary_list=[]\n",
    "for i in averagesalary_tags:\n",
    "    averagesalary_list.append(i.text)\n",
    "averagesalary_list[:10]"
   ]
  },
  {
   "cell_type": "code",
   "execution_count": 216,
   "metadata": {},
   "outputs": [
    {
     "data": {
      "text/plain": [
       "[<selenium.webdriver.remote.webelement.WebElement (session=\"1ec957c06fe61be1166578676f3d708e\", element=\"a5e20e41-07e2-4490-9122-9209f25723a7\")>,\n",
       " <selenium.webdriver.remote.webelement.WebElement (session=\"1ec957c06fe61be1166578676f3d708e\", element=\"fe891b61-7c52-4f1c-ad2d-343e551c28e7\")>,\n",
       " <selenium.webdriver.remote.webelement.WebElement (session=\"1ec957c06fe61be1166578676f3d708e\", element=\"e229cc6e-6fe5-4494-b442-c7723102c050\")>,\n",
       " <selenium.webdriver.remote.webelement.WebElement (session=\"1ec957c06fe61be1166578676f3d708e\", element=\"3c2d43e9-67c0-486c-9054-019bc716a323\")>,\n",
       " <selenium.webdriver.remote.webelement.WebElement (session=\"1ec957c06fe61be1166578676f3d708e\", element=\"07f2838e-6091-4d2c-8faf-5490c762a1e5\")>,\n",
       " <selenium.webdriver.remote.webelement.WebElement (session=\"1ec957c06fe61be1166578676f3d708e\", element=\"e6bfd5a5-6182-4b15-8745-8dc408112793\")>,\n",
       " <selenium.webdriver.remote.webelement.WebElement (session=\"1ec957c06fe61be1166578676f3d708e\", element=\"bc5e8104-4a4f-492d-885f-f1a572076b2b\")>,\n",
       " <selenium.webdriver.remote.webelement.WebElement (session=\"1ec957c06fe61be1166578676f3d708e\", element=\"8d5e79b8-f978-42eb-a303-dccf0a6c0559\")>,\n",
       " <selenium.webdriver.remote.webelement.WebElement (session=\"1ec957c06fe61be1166578676f3d708e\", element=\"1c3e1a89-3d67-44a8-ba1d-a1c330417077\")>,\n",
       " <selenium.webdriver.remote.webelement.WebElement (session=\"1ec957c06fe61be1166578676f3d708e\", element=\"84610849-cede-45d8-9a2b-fb4f67dc66ee\")>,\n",
       " <selenium.webdriver.remote.webelement.WebElement (session=\"1ec957c06fe61be1166578676f3d708e\", element=\"0027b0e5-33d5-4509-9c1c-1c71b13e6c41\")>,\n",
       " <selenium.webdriver.remote.webelement.WebElement (session=\"1ec957c06fe61be1166578676f3d708e\", element=\"916f1921-64dc-41b1-a122-eddff5d1cb88\")>,\n",
       " <selenium.webdriver.remote.webelement.WebElement (session=\"1ec957c06fe61be1166578676f3d708e\", element=\"973b6378-71c0-479a-889e-61a29a7a6774\")>,\n",
       " <selenium.webdriver.remote.webelement.WebElement (session=\"1ec957c06fe61be1166578676f3d708e\", element=\"ad94fc4f-aea5-4a26-b5f8-ba88d95a1e79\")>,\n",
       " <selenium.webdriver.remote.webelement.WebElement (session=\"1ec957c06fe61be1166578676f3d708e\", element=\"c2c83364-ffcb-4767-a93b-3381549f38c2\")>,\n",
       " <selenium.webdriver.remote.webelement.WebElement (session=\"1ec957c06fe61be1166578676f3d708e\", element=\"a86ff1cc-934a-40df-882d-27688ba61cff\")>,\n",
       " <selenium.webdriver.remote.webelement.WebElement (session=\"1ec957c06fe61be1166578676f3d708e\", element=\"8b7172bc-b7ea-48b9-9032-478a74192ca6\")>,\n",
       " <selenium.webdriver.remote.webelement.WebElement (session=\"1ec957c06fe61be1166578676f3d708e\", element=\"ae577131-10a3-42b2-bf2a-55367ba237f5\")>,\n",
       " <selenium.webdriver.remote.webelement.WebElement (session=\"1ec957c06fe61be1166578676f3d708e\", element=\"9ae6402a-86f5-4556-8fe5-5f17f544ee5b\")>,\n",
       " <selenium.webdriver.remote.webelement.WebElement (session=\"1ec957c06fe61be1166578676f3d708e\", element=\"ac381bdb-6c70-4792-a679-5bc797b2f2d5\")>]"
      ]
     },
     "execution_count": 216,
     "metadata": {},
     "output_type": "execute_result"
    }
   ],
   "source": [
    "#lets extract all the tags having no of salaries\n",
    "Salaries_tags=driver.find_elements_by_xpath('//p[@class=\"css-1uyte9r css-1kuy7z7 m-0 \"]')\n",
    "Salaries_tags"
   ]
  },
  {
   "cell_type": "code",
   "execution_count": 215,
   "metadata": {},
   "outputs": [
    {
     "data": {
      "text/plain": [
       "['16 salaries',\n",
       " '14 salaries',\n",
       " '14 salaries',\n",
       " '14 salaries',\n",
       " '14 salaries',\n",
       " '11 salaries',\n",
       " '9 salaries',\n",
       " '8 salaries',\n",
       " '8 salaries',\n",
       " '8 salaries']"
      ]
     },
     "execution_count": 215,
     "metadata": {},
     "output_type": "execute_result"
    }
   ],
   "source": [
    "#Extracting the text from these tags one by one by looping over these tags\n",
    "salaries_list=[]\n",
    "for i in Salaries_tags:\n",
    "    salaries_list.append(i.text)\n",
    "salaries_list[:10]"
   ]
  },
  {
   "cell_type": "code",
   "execution_count": 217,
   "metadata": {},
   "outputs": [
    {
     "name": "stdout",
     "output_type": "stream",
     "text": [
      "20 20 20 20\n"
     ]
    }
   ],
   "source": [
    "#Now we will create a dataframe,so we will check the length of each of the list\n",
    "print(len(company_names),len(minmaxsalary_list),len(averagesalary_list),len(salaries_list))"
   ]
  },
  {
   "cell_type": "code",
   "execution_count": 218,
   "metadata": {},
   "outputs": [],
   "source": [
    "jobs=pd.DataFrame({})\n",
    "jobs['company']=company_names\n",
    "jobs['min_max_salary']=minmaxsalary_list\n",
    "jobs['average_salary']=averagesalary_list\n",
    "jobs['no_of_salaries']=salaries_list"
   ]
  },
  {
   "cell_type": "code",
   "execution_count": 219,
   "metadata": {},
   "outputs": [
    {
     "data": {
      "text/html": [
       "<div>\n",
       "<style scoped>\n",
       "    .dataframe tbody tr th:only-of-type {\n",
       "        vertical-align: middle;\n",
       "    }\n",
       "\n",
       "    .dataframe tbody tr th {\n",
       "        vertical-align: top;\n",
       "    }\n",
       "\n",
       "    .dataframe thead th {\n",
       "        text-align: right;\n",
       "    }\n",
       "</style>\n",
       "<table border=\"1\" class=\"dataframe\">\n",
       "  <thead>\n",
       "    <tr style=\"text-align: right;\">\n",
       "      <th></th>\n",
       "      <th>company</th>\n",
       "      <th>min_max_salary</th>\n",
       "      <th>average_salary</th>\n",
       "      <th>no_of_salaries</th>\n",
       "    </tr>\n",
       "  </thead>\n",
       "  <tbody>\n",
       "    <tr>\n",
       "      <th>0</th>\n",
       "      <td>Tata Consultancy Services</td>\n",
       "      <td>₹343K\\n₹1,095K</td>\n",
       "      <td>₹ 6,11,228\\n/yr</td>\n",
       "      <td>16 salaries</td>\n",
       "    </tr>\n",
       "    <tr>\n",
       "      <th>1</th>\n",
       "      <td>Accenture</td>\n",
       "      <td>₹577K\\n₹2,213K</td>\n",
       "      <td>₹ 11,46,533\\n/yr</td>\n",
       "      <td>14 salaries</td>\n",
       "    </tr>\n",
       "    <tr>\n",
       "      <th>2</th>\n",
       "      <td>IBM</td>\n",
       "      <td>₹586K\\n₹2,730K</td>\n",
       "      <td>₹ 8,97,795\\n/yr</td>\n",
       "      <td>14 salaries</td>\n",
       "    </tr>\n",
       "    <tr>\n",
       "      <th>3</th>\n",
       "      <td>Ericsson-Worldwide</td>\n",
       "      <td>₹355K\\n₹1,613K</td>\n",
       "      <td>₹ 7,38,057\\n/yr</td>\n",
       "      <td>14 salaries</td>\n",
       "    </tr>\n",
       "    <tr>\n",
       "      <th>4</th>\n",
       "      <td>Delhivery</td>\n",
       "      <td>₹450K\\n₹11,622K</td>\n",
       "      <td>₹ 12,39,781\\n/yr</td>\n",
       "      <td>14 salaries</td>\n",
       "    </tr>\n",
       "    <tr>\n",
       "      <th>5</th>\n",
       "      <td>UnitedHealth Group</td>\n",
       "      <td>₹1,069K\\n₹1,520K</td>\n",
       "      <td>₹ 13,36,142\\n/yr</td>\n",
       "      <td>11 salaries</td>\n",
       "    </tr>\n",
       "    <tr>\n",
       "      <th>6</th>\n",
       "      <td>Valiance Solutions</td>\n",
       "      <td>₹502K\\n₹1,465K</td>\n",
       "      <td>₹ 8,15,192\\n/yr</td>\n",
       "      <td>9 salaries</td>\n",
       "    </tr>\n",
       "    <tr>\n",
       "      <th>7</th>\n",
       "      <td>ZS Associates</td>\n",
       "      <td>₹202K\\n₹1,809K</td>\n",
       "      <td>₹ 11,35,221\\n/yr</td>\n",
       "      <td>8 salaries</td>\n",
       "    </tr>\n",
       "    <tr>\n",
       "      <th>8</th>\n",
       "      <td>EXL Service</td>\n",
       "      <td>₹575K\\n₹1,520K</td>\n",
       "      <td>₹ 11,44,243\\n/yr</td>\n",
       "      <td>8 salaries</td>\n",
       "    </tr>\n",
       "    <tr>\n",
       "      <th>9</th>\n",
       "      <td>Optum Global Solutions</td>\n",
       "      <td>₹1,014K\\n₹2,149K</td>\n",
       "      <td>₹ 14,13,288\\n/yr</td>\n",
       "      <td>8 salaries</td>\n",
       "    </tr>\n",
       "  </tbody>\n",
       "</table>\n",
       "</div>"
      ],
      "text/plain": [
       "                     company    min_max_salary    average_salary  \\\n",
       "0  Tata Consultancy Services    ₹343K\\n₹1,095K   ₹ 6,11,228\\n/yr   \n",
       "1                  Accenture    ₹577K\\n₹2,213K  ₹ 11,46,533\\n/yr   \n",
       "2                        IBM    ₹586K\\n₹2,730K   ₹ 8,97,795\\n/yr   \n",
       "3         Ericsson-Worldwide    ₹355K\\n₹1,613K   ₹ 7,38,057\\n/yr   \n",
       "4                  Delhivery   ₹450K\\n₹11,622K  ₹ 12,39,781\\n/yr   \n",
       "5         UnitedHealth Group  ₹1,069K\\n₹1,520K  ₹ 13,36,142\\n/yr   \n",
       "6         Valiance Solutions    ₹502K\\n₹1,465K   ₹ 8,15,192\\n/yr   \n",
       "7              ZS Associates    ₹202K\\n₹1,809K  ₹ 11,35,221\\n/yr   \n",
       "8                EXL Service    ₹575K\\n₹1,520K  ₹ 11,44,243\\n/yr   \n",
       "9     Optum Global Solutions  ₹1,014K\\n₹2,149K  ₹ 14,13,288\\n/yr   \n",
       "\n",
       "  no_of_salaries  \n",
       "0    16 salaries  \n",
       "1    14 salaries  \n",
       "2    14 salaries  \n",
       "3    14 salaries  \n",
       "4    14 salaries  \n",
       "5    11 salaries  \n",
       "6     9 salaries  \n",
       "7     8 salaries  \n",
       "8     8 salaries  \n",
       "9     8 salaries  "
      ]
     },
     "execution_count": 219,
     "metadata": {},
     "output_type": "execute_result"
    }
   ],
   "source": [
    "jobs[:10]"
   ]
  },
  {
   "cell_type": "markdown",
   "metadata": {},
   "source": []
  },
  {
   "cell_type": "markdown",
   "metadata": {},
   "source": [
    "# Q6"
   ]
  },
  {
   "cell_type": "code",
   "execution_count": 319,
   "metadata": {},
   "outputs": [],
   "source": [
    "#importing all the required libraries\n",
    "import selenium\n",
    "import pandas as pd\n",
    "from selenium import webdriver"
   ]
  },
  {
   "cell_type": "code",
   "execution_count": 320,
   "metadata": {},
   "outputs": [],
   "source": [
    "#connecting to the webdriver\n",
    "driver=webdriver.Chrome(\"chromedriver.exe\")"
   ]
  },
  {
   "cell_type": "code",
   "execution_count": 321,
   "metadata": {},
   "outputs": [],
   "source": [
    "#We have to scrape data of first 100 sunglasses listings on flipkart.com \n",
    "#We have to scrape four attributes:\n",
    "#1. Brand\n",
    "#2. Product Description\n",
    "#3. Price\n",
    "#4. Discount %\n",
    "\n",
    "url='https://www.flipkart.com/'\n",
    "driver.get(url)"
   ]
  },
  {
   "cell_type": "code",
   "execution_count": 322,
   "metadata": {},
   "outputs": [
    {
     "data": {
      "text/plain": [
       "<selenium.webdriver.remote.webelement.WebElement (session=\"39e469c405306e119291277ccfe0d952\", element=\"13e126fe-bec9-4553-96d0-99af6387c579\")>"
      ]
     },
     "execution_count": 322,
     "metadata": {},
     "output_type": "execute_result"
    }
   ],
   "source": [
    "#find_element for item search bar\n",
    "search_item=driver.find_element_by_class_name(\"_3704LK\")\n",
    "search_item"
   ]
  },
  {
   "cell_type": "code",
   "execution_count": 323,
   "metadata": {},
   "outputs": [],
   "source": [
    "#write on search bar\n",
    "search_item.send_keys(\"sunglasses\")"
   ]
  },
  {
   "cell_type": "code",
   "execution_count": 324,
   "metadata": {},
   "outputs": [],
   "source": [
    "#do click using class_name function\n",
    "search_btn=driver.find_element_by_class_name('L0Z3Pu')\n",
    "search_btn.click()"
   ]
  },
  {
   "cell_type": "code",
   "execution_count": 325,
   "metadata": {},
   "outputs": [
    {
     "data": {
      "text/plain": [
       "[<selenium.webdriver.remote.webelement.WebElement (session=\"39e469c405306e119291277ccfe0d952\", element=\"8675a884-11f2-42f5-b3cf-6ef9a10da287\")>,\n",
       " <selenium.webdriver.remote.webelement.WebElement (session=\"39e469c405306e119291277ccfe0d952\", element=\"030d9721-a79c-4e26-b167-b9e3ed9dbb2e\")>,\n",
       " <selenium.webdriver.remote.webelement.WebElement (session=\"39e469c405306e119291277ccfe0d952\", element=\"989083b5-f798-4b4a-b2b0-59d5335a015b\")>,\n",
       " <selenium.webdriver.remote.webelement.WebElement (session=\"39e469c405306e119291277ccfe0d952\", element=\"39ab246f-9e0d-4f98-9c1e-cab6ad0a6ff4\")>,\n",
       " <selenium.webdriver.remote.webelement.WebElement (session=\"39e469c405306e119291277ccfe0d952\", element=\"0a34af57-7ac9-467e-868f-6b60e0559e21\")>,\n",
       " <selenium.webdriver.remote.webelement.WebElement (session=\"39e469c405306e119291277ccfe0d952\", element=\"13cb831d-67bd-4cd9-b706-40962a512376\")>,\n",
       " <selenium.webdriver.remote.webelement.WebElement (session=\"39e469c405306e119291277ccfe0d952\", element=\"1657e7ab-b34a-4c1d-9cbf-a84e5c00fce0\")>,\n",
       " <selenium.webdriver.remote.webelement.WebElement (session=\"39e469c405306e119291277ccfe0d952\", element=\"058dba32-b3bb-4595-b7a3-ce7f29dc286c\")>,\n",
       " <selenium.webdriver.remote.webelement.WebElement (session=\"39e469c405306e119291277ccfe0d952\", element=\"ce6e34bf-1522-4f5a-91b8-983fd0853bcf\")>,\n",
       " <selenium.webdriver.remote.webelement.WebElement (session=\"39e469c405306e119291277ccfe0d952\", element=\"c263cf62-3032-409b-beee-3427d9bc2f6e\")>,\n",
       " <selenium.webdriver.remote.webelement.WebElement (session=\"39e469c405306e119291277ccfe0d952\", element=\"8282104f-ef10-40dd-92d6-b7ab2fc5b3b0\")>,\n",
       " <selenium.webdriver.remote.webelement.WebElement (session=\"39e469c405306e119291277ccfe0d952\", element=\"12112487-e2de-4347-8eb0-7e618ae85926\")>,\n",
       " <selenium.webdriver.remote.webelement.WebElement (session=\"39e469c405306e119291277ccfe0d952\", element=\"a85a036f-2d40-4773-8193-84a35072a920\")>,\n",
       " <selenium.webdriver.remote.webelement.WebElement (session=\"39e469c405306e119291277ccfe0d952\", element=\"3ad314ba-c090-48bc-87bb-ab1ddcb2533f\")>,\n",
       " <selenium.webdriver.remote.webelement.WebElement (session=\"39e469c405306e119291277ccfe0d952\", element=\"aaefa293-e94e-413a-8778-664186d2f512\")>,\n",
       " <selenium.webdriver.remote.webelement.WebElement (session=\"39e469c405306e119291277ccfe0d952\", element=\"c186b6a3-3ad5-414a-867b-e3d902047f9b\")>,\n",
       " <selenium.webdriver.remote.webelement.WebElement (session=\"39e469c405306e119291277ccfe0d952\", element=\"9a45a21b-e243-422b-9060-b2ea480cc060\")>,\n",
       " <selenium.webdriver.remote.webelement.WebElement (session=\"39e469c405306e119291277ccfe0d952\", element=\"8c93ef6e-9885-47fe-b31c-d7cfaac4c6b2\")>,\n",
       " <selenium.webdriver.remote.webelement.WebElement (session=\"39e469c405306e119291277ccfe0d952\", element=\"27676e24-e16a-4fdb-a47c-3b84de8e8579\")>,\n",
       " <selenium.webdriver.remote.webelement.WebElement (session=\"39e469c405306e119291277ccfe0d952\", element=\"63a54988-89fa-45fd-86d4-6945cad305bc\")>,\n",
       " <selenium.webdriver.remote.webelement.WebElement (session=\"39e469c405306e119291277ccfe0d952\", element=\"2759b768-0612-4728-b6d7-99a6d5b0a229\")>,\n",
       " <selenium.webdriver.remote.webelement.WebElement (session=\"39e469c405306e119291277ccfe0d952\", element=\"1b02483e-589f-4e77-8c24-450088e1636d\")>,\n",
       " <selenium.webdriver.remote.webelement.WebElement (session=\"39e469c405306e119291277ccfe0d952\", element=\"ede496d7-0746-4db0-b47e-6ef9c92cedde\")>,\n",
       " <selenium.webdriver.remote.webelement.WebElement (session=\"39e469c405306e119291277ccfe0d952\", element=\"414c7f81-19c2-4322-ab0c-4e089f509a39\")>,\n",
       " <selenium.webdriver.remote.webelement.WebElement (session=\"39e469c405306e119291277ccfe0d952\", element=\"2dead0ac-5f90-432f-860c-3107d7f01b6c\")>,\n",
       " <selenium.webdriver.remote.webelement.WebElement (session=\"39e469c405306e119291277ccfe0d952\", element=\"1e11cb83-6a69-4a12-b005-abdebd0d8385\")>,\n",
       " <selenium.webdriver.remote.webelement.WebElement (session=\"39e469c405306e119291277ccfe0d952\", element=\"cacb98ec-753a-46cb-8b25-28c8a65baac7\")>,\n",
       " <selenium.webdriver.remote.webelement.WebElement (session=\"39e469c405306e119291277ccfe0d952\", element=\"7b249a7d-df49-4499-a30b-eebbc4751ecf\")>,\n",
       " <selenium.webdriver.remote.webelement.WebElement (session=\"39e469c405306e119291277ccfe0d952\", element=\"d5b1ed6e-1d00-459e-b59e-449db10cd424\")>,\n",
       " <selenium.webdriver.remote.webelement.WebElement (session=\"39e469c405306e119291277ccfe0d952\", element=\"414a803f-9867-45b7-ac00-5f32306f55cf\")>,\n",
       " <selenium.webdriver.remote.webelement.WebElement (session=\"39e469c405306e119291277ccfe0d952\", element=\"237988e0-0ccc-46a8-a866-d28b3546323b\")>,\n",
       " <selenium.webdriver.remote.webelement.WebElement (session=\"39e469c405306e119291277ccfe0d952\", element=\"21f961b0-97fe-487e-8edd-b75bd7984747\")>,\n",
       " <selenium.webdriver.remote.webelement.WebElement (session=\"39e469c405306e119291277ccfe0d952\", element=\"ffc25b9b-47b1-49b2-8656-310cd78e63c1\")>,\n",
       " <selenium.webdriver.remote.webelement.WebElement (session=\"39e469c405306e119291277ccfe0d952\", element=\"4e5cd3f5-92fe-4256-8f19-d1057e3cf603\")>,\n",
       " <selenium.webdriver.remote.webelement.WebElement (session=\"39e469c405306e119291277ccfe0d952\", element=\"28d665ff-f020-4e1c-b3dd-0fa5e7532f88\")>,\n",
       " <selenium.webdriver.remote.webelement.WebElement (session=\"39e469c405306e119291277ccfe0d952\", element=\"127e2dc1-d2d2-4543-9c32-86ff3b8f041e\")>,\n",
       " <selenium.webdriver.remote.webelement.WebElement (session=\"39e469c405306e119291277ccfe0d952\", element=\"0168315d-0d0b-4388-a7e3-3a3e1a5c4480\")>,\n",
       " <selenium.webdriver.remote.webelement.WebElement (session=\"39e469c405306e119291277ccfe0d952\", element=\"b8595828-48bc-4d5c-b24f-2dfc02a5a557\")>,\n",
       " <selenium.webdriver.remote.webelement.WebElement (session=\"39e469c405306e119291277ccfe0d952\", element=\"a50ba325-446a-4897-8192-2aec68230017\")>,\n",
       " <selenium.webdriver.remote.webelement.WebElement (session=\"39e469c405306e119291277ccfe0d952\", element=\"28e418c1-dcd7-4832-86d7-50c030cb6af9\")>]"
      ]
     },
     "execution_count": 325,
     "metadata": {},
     "output_type": "execute_result"
    }
   ],
   "source": [
    "#lets extract all the tags having brand name\n",
    "brand_tags=driver.find_elements_by_xpath('//div[@class=\"_2WkVRV\"]')\n",
    "brand_tags"
   ]
  },
  {
   "cell_type": "code",
   "execution_count": 326,
   "metadata": {},
   "outputs": [
    {
     "data": {
      "text/plain": [
       "['NuVew',\n",
       " 'KAYFA',\n",
       " 'Fastrack',\n",
       " 'ROZZETTA CRAFT',\n",
       " 'Fastrack',\n",
       " 'ROZZETTA CRAFT',\n",
       " 'PIRASO',\n",
       " 'PIRASO',\n",
       " 'Fastrack',\n",
       " 'Fastrack',\n",
       " 'PHENOMENAL',\n",
       " 'DEIXELS',\n",
       " 'Fastrack',\n",
       " 'EYEXACK',\n",
       " 'HIPPON',\n",
       " 'ROZZETTA CRAFT',\n",
       " 'PHENOMENAL',\n",
       " 'NuVew',\n",
       " 'DEIXELS',\n",
       " 'ROYAL SON',\n",
       " 'ROZZETTA CRAFT',\n",
       " 'Fastrack',\n",
       " 'Singco India',\n",
       " 'NuVew',\n",
       " 'elegante',\n",
       " 'Fastrack',\n",
       " 'Fastrack',\n",
       " 'Singco India',\n",
       " 'Fastrack',\n",
       " 'ROYAL SON',\n",
       " 'GANSTA',\n",
       " 'ROZZETTA CRAFT',\n",
       " 'PHENOMENAL',\n",
       " 'ROYAL SON',\n",
       " 'ROZZETTA CRAFT',\n",
       " 'hipe',\n",
       " 'ROZZETTA CRAFT',\n",
       " 'ROZZETTA CRAFT',\n",
       " 'Singco India',\n",
       " 'EYEXACK']"
      ]
     },
     "execution_count": 326,
     "metadata": {},
     "output_type": "execute_result"
    }
   ],
   "source": [
    "#Extracting the text from these tags one by one by looping over these tags\n",
    "brand_list=[]\n",
    "for i in brand_tags:\n",
    "    brand_list.append(i.text)\n",
    "brand_list[:40]"
   ]
  },
  {
   "cell_type": "code",
   "execution_count": 327,
   "metadata": {},
   "outputs": [
    {
     "data": {
      "text/plain": [
       "[<selenium.webdriver.remote.webelement.WebElement (session=\"39e469c405306e119291277ccfe0d952\", element=\"59ffc2f6-393c-497b-9dda-ad4bfbf729de\")>,\n",
       " <selenium.webdriver.remote.webelement.WebElement (session=\"39e469c405306e119291277ccfe0d952\", element=\"b4d72252-e30a-4be6-acf1-d8ea65e3272d\")>,\n",
       " <selenium.webdriver.remote.webelement.WebElement (session=\"39e469c405306e119291277ccfe0d952\", element=\"2a55fb2d-3722-4d8f-b7b7-005960dc3c18\")>,\n",
       " <selenium.webdriver.remote.webelement.WebElement (session=\"39e469c405306e119291277ccfe0d952\", element=\"3d6df7f9-3641-427b-af87-6b16de812daa\")>,\n",
       " <selenium.webdriver.remote.webelement.WebElement (session=\"39e469c405306e119291277ccfe0d952\", element=\"e60eb028-1473-4a9a-aea8-3a6d699a5ff9\")>,\n",
       " <selenium.webdriver.remote.webelement.WebElement (session=\"39e469c405306e119291277ccfe0d952\", element=\"74dde243-14cd-4983-a1c2-18f6abd5395d\")>,\n",
       " <selenium.webdriver.remote.webelement.WebElement (session=\"39e469c405306e119291277ccfe0d952\", element=\"446a0e3c-b019-4c0a-8114-4153d955fc7c\")>,\n",
       " <selenium.webdriver.remote.webelement.WebElement (session=\"39e469c405306e119291277ccfe0d952\", element=\"fc52cd05-df46-45fa-9be7-30a440e150e2\")>,\n",
       " <selenium.webdriver.remote.webelement.WebElement (session=\"39e469c405306e119291277ccfe0d952\", element=\"292d82ef-7aeb-4f03-bef5-857a399594c6\")>,\n",
       " <selenium.webdriver.remote.webelement.WebElement (session=\"39e469c405306e119291277ccfe0d952\", element=\"a0ca39c5-3f9f-4ea2-89fb-c4e918af66dd\")>,\n",
       " <selenium.webdriver.remote.webelement.WebElement (session=\"39e469c405306e119291277ccfe0d952\", element=\"30d3f5fb-7b08-4a77-9136-953d9c278a9c\")>,\n",
       " <selenium.webdriver.remote.webelement.WebElement (session=\"39e469c405306e119291277ccfe0d952\", element=\"0b4c90e7-1c14-44f0-92bf-2d735b32d826\")>,\n",
       " <selenium.webdriver.remote.webelement.WebElement (session=\"39e469c405306e119291277ccfe0d952\", element=\"3863e5dc-b404-4b8d-b072-fb1a045f0643\")>,\n",
       " <selenium.webdriver.remote.webelement.WebElement (session=\"39e469c405306e119291277ccfe0d952\", element=\"bf4c7f27-f42a-4d13-8bef-9ec71beba9c2\")>,\n",
       " <selenium.webdriver.remote.webelement.WebElement (session=\"39e469c405306e119291277ccfe0d952\", element=\"0d53d730-9b13-4c01-bd2b-16c8eee075c2\")>,\n",
       " <selenium.webdriver.remote.webelement.WebElement (session=\"39e469c405306e119291277ccfe0d952\", element=\"93cf4f21-c6bf-4f95-aedb-ba07fbca8f94\")>,\n",
       " <selenium.webdriver.remote.webelement.WebElement (session=\"39e469c405306e119291277ccfe0d952\", element=\"73e2ff41-d304-4010-b92c-832394bac46a\")>,\n",
       " <selenium.webdriver.remote.webelement.WebElement (session=\"39e469c405306e119291277ccfe0d952\", element=\"074a6210-17a0-429f-8fbf-22dda5ee72a9\")>,\n",
       " <selenium.webdriver.remote.webelement.WebElement (session=\"39e469c405306e119291277ccfe0d952\", element=\"d33fb954-1872-4976-b780-a0ec2411b669\")>,\n",
       " <selenium.webdriver.remote.webelement.WebElement (session=\"39e469c405306e119291277ccfe0d952\", element=\"7123a90d-ff50-4631-8f81-9efbc562b5e7\")>,\n",
       " <selenium.webdriver.remote.webelement.WebElement (session=\"39e469c405306e119291277ccfe0d952\", element=\"adc027f6-af4f-4cb2-bc60-7d373df53c18\")>,\n",
       " <selenium.webdriver.remote.webelement.WebElement (session=\"39e469c405306e119291277ccfe0d952\", element=\"df62aa54-ab4d-45b6-aa17-309c66b0deb4\")>,\n",
       " <selenium.webdriver.remote.webelement.WebElement (session=\"39e469c405306e119291277ccfe0d952\", element=\"59758ab8-be11-4aa9-9d6e-31a743c5b83e\")>,\n",
       " <selenium.webdriver.remote.webelement.WebElement (session=\"39e469c405306e119291277ccfe0d952\", element=\"9420e7fb-4844-461f-984e-71f68c72b576\")>,\n",
       " <selenium.webdriver.remote.webelement.WebElement (session=\"39e469c405306e119291277ccfe0d952\", element=\"cb6ea0c4-45ba-494d-b0aa-3e2b73cf8f4a\")>,\n",
       " <selenium.webdriver.remote.webelement.WebElement (session=\"39e469c405306e119291277ccfe0d952\", element=\"9321b973-5d5f-44b4-bc8e-965a045ca278\")>,\n",
       " <selenium.webdriver.remote.webelement.WebElement (session=\"39e469c405306e119291277ccfe0d952\", element=\"db077eb9-0b46-4c0c-be7c-30cb98a020d6\")>,\n",
       " <selenium.webdriver.remote.webelement.WebElement (session=\"39e469c405306e119291277ccfe0d952\", element=\"33ae3d8f-cdc4-4b27-82f5-0c6f9b5edca0\")>,\n",
       " <selenium.webdriver.remote.webelement.WebElement (session=\"39e469c405306e119291277ccfe0d952\", element=\"644564f1-105d-44b4-ac0b-b0f5030a96e4\")>,\n",
       " <selenium.webdriver.remote.webelement.WebElement (session=\"39e469c405306e119291277ccfe0d952\", element=\"facaea99-d326-43ec-b1e5-a22206465f35\")>,\n",
       " <selenium.webdriver.remote.webelement.WebElement (session=\"39e469c405306e119291277ccfe0d952\", element=\"4daa1a06-1169-49b3-9653-fd60786a7301\")>,\n",
       " <selenium.webdriver.remote.webelement.WebElement (session=\"39e469c405306e119291277ccfe0d952\", element=\"67aad960-6664-44de-9851-73abd612ad00\")>,\n",
       " <selenium.webdriver.remote.webelement.WebElement (session=\"39e469c405306e119291277ccfe0d952\", element=\"b5d56317-8f66-45ca-9b68-2e1bd4350adf\")>,\n",
       " <selenium.webdriver.remote.webelement.WebElement (session=\"39e469c405306e119291277ccfe0d952\", element=\"4d50ae3c-0fdc-4499-bc0e-91dc7eb6fe4c\")>,\n",
       " <selenium.webdriver.remote.webelement.WebElement (session=\"39e469c405306e119291277ccfe0d952\", element=\"5b4b9cf6-1251-4665-8e8b-f756b237a9e2\")>,\n",
       " <selenium.webdriver.remote.webelement.WebElement (session=\"39e469c405306e119291277ccfe0d952\", element=\"13a7c8e0-4077-4b45-ae14-993e1f7b8724\")>,\n",
       " <selenium.webdriver.remote.webelement.WebElement (session=\"39e469c405306e119291277ccfe0d952\", element=\"7597718f-8fa2-468d-9d1b-2595d02fb3ff\")>]"
      ]
     },
     "execution_count": 327,
     "metadata": {},
     "output_type": "execute_result"
    }
   ],
   "source": [
    "#lets extract all the tags having product description\n",
    "product_tags=driver.find_elements_by_xpath('//a[@class=\"IRpwTa\"]')\n",
    "product_tags"
   ]
  },
  {
   "cell_type": "code",
   "execution_count": 328,
   "metadata": {},
   "outputs": [
    {
     "data": {
      "text/plain": [
       "['UV Protection Aviator Sunglasses (57)',\n",
       " 'UV Protection Rectangular Sunglasses (Free Size)',\n",
       " 'UV Protection Retro Square Sunglasses (Free Size)',\n",
       " 'UV Protection Wayfarer Sunglasses (Free Size)',\n",
       " 'UV Protection, Gradient Rectangular Sunglasses (Free Si...',\n",
       " 'UV Protection Aviator Sunglasses (54)',\n",
       " 'UV Protection Aviator Sunglasses (Free Size)',\n",
       " 'UV Protection Wayfarer Sunglasses (Free Size)',\n",
       " 'UV Protection Aviator Sunglasses (Free Size)',\n",
       " 'UV Protection Retro Square Sunglasses (Free Size)',\n",
       " 'UV Protection Aviator, Wayfarer Sunglasses (Free Size)',\n",
       " 'Gradient, UV Protection Wayfarer Sunglasses (Free Size)',\n",
       " 'UV Protection, Mirrored, Gradient, Riding Glasses Retro...',\n",
       " 'UV Protection Wayfarer Sunglasses (55)',\n",
       " 'UV Protection Retro Square Sunglasses (Free Size)',\n",
       " 'UV Protection, Mirrored Retro Square Sunglasses (53)',\n",
       " 'UV Protection Aviator Sunglasses (58)',\n",
       " 'UV Protection Round Sunglasses (Free Size)',\n",
       " 'Polarized Rectangular Sunglasses (65)',\n",
       " 'UV Protection, Riding Glasses Rectangular Sunglasses (F...',\n",
       " 'UV Protection Aviator Sunglasses (58)',\n",
       " 'UV Protection Aviator Sunglasses (Free Size)',\n",
       " 'UV Protection, Gradient Cat-eye Sunglasses (63)',\n",
       " 'UV Protection Wrap-around Sunglasses (Free Size)',\n",
       " 'UV Protection Wayfarer Sunglasses (Free Size)',\n",
       " 'UV Protection Wayfarer Sunglasses (56)',\n",
       " 'Mirrored, Riding Glasses, Others Sports Sunglasses (50)',\n",
       " 'UV Protection Aviator Sunglasses (58)',\n",
       " 'UV Protection Aviator Sunglasses (57)',\n",
       " 'UV Protection Shield Sunglasses (54)',\n",
       " 'UV Protection, Mirrored Retro Square Sunglasses (Free S...',\n",
       " 'Polarized Rectangular Sunglasses (65)',\n",
       " 'Gradient, UV Protection Round Sunglasses (Free Size)',\n",
       " 'UV Protection, Mirrored Round Sunglasses (Free Size)',\n",
       " 'UV Protection, Gradient Rectangular Sunglasses (Free Si...',\n",
       " 'UV Protection, Gradient Retro Square Sunglasses (Free S...',\n",
       " 'UV Protection, Riding Glasses, Others Aviator, Wayfarer...']"
      ]
     },
     "execution_count": 328,
     "metadata": {},
     "output_type": "execute_result"
    }
   ],
   "source": [
    "#Extracting the text from these tags one by one by looping over these tags\n",
    "product_list=[]\n",
    "for i in product_tags:\n",
    "    product_list.append(i.text)\n",
    "product_list[:40]"
   ]
  },
  {
   "cell_type": "code",
   "execution_count": 329,
   "metadata": {},
   "outputs": [
    {
     "data": {
      "text/plain": [
       "[<selenium.webdriver.remote.webelement.WebElement (session=\"39e469c405306e119291277ccfe0d952\", element=\"628a76e3-69a5-4408-8b81-260f0b429891\")>,\n",
       " <selenium.webdriver.remote.webelement.WebElement (session=\"39e469c405306e119291277ccfe0d952\", element=\"9bdd053c-e44f-4f99-b390-5f90a6d70f2a\")>,\n",
       " <selenium.webdriver.remote.webelement.WebElement (session=\"39e469c405306e119291277ccfe0d952\", element=\"07873472-e3e7-4949-a4de-27224b0970f5\")>,\n",
       " <selenium.webdriver.remote.webelement.WebElement (session=\"39e469c405306e119291277ccfe0d952\", element=\"3f16d8d3-24f9-4df6-b331-1b122d69b3ee\")>,\n",
       " <selenium.webdriver.remote.webelement.WebElement (session=\"39e469c405306e119291277ccfe0d952\", element=\"60e6cd66-c918-44b4-8db2-f26c51e69e8e\")>,\n",
       " <selenium.webdriver.remote.webelement.WebElement (session=\"39e469c405306e119291277ccfe0d952\", element=\"452d0523-3ba4-4d09-a176-b84c468661b5\")>,\n",
       " <selenium.webdriver.remote.webelement.WebElement (session=\"39e469c405306e119291277ccfe0d952\", element=\"f5acf458-ff54-4485-ba08-5e85c159ff82\")>,\n",
       " <selenium.webdriver.remote.webelement.WebElement (session=\"39e469c405306e119291277ccfe0d952\", element=\"c46d9703-1516-4043-bd90-78c6b0d10f70\")>,\n",
       " <selenium.webdriver.remote.webelement.WebElement (session=\"39e469c405306e119291277ccfe0d952\", element=\"1a8c627a-0298-4c3c-b00a-9f55ac49dd14\")>,\n",
       " <selenium.webdriver.remote.webelement.WebElement (session=\"39e469c405306e119291277ccfe0d952\", element=\"b7151632-7813-4315-b5a5-90206b5ea198\")>,\n",
       " <selenium.webdriver.remote.webelement.WebElement (session=\"39e469c405306e119291277ccfe0d952\", element=\"b7618b25-f3ae-43ef-a649-fea9c6ba88a5\")>,\n",
       " <selenium.webdriver.remote.webelement.WebElement (session=\"39e469c405306e119291277ccfe0d952\", element=\"7fc860ed-c00c-43b2-9821-7d5443199d33\")>,\n",
       " <selenium.webdriver.remote.webelement.WebElement (session=\"39e469c405306e119291277ccfe0d952\", element=\"5b4e277e-5a1c-4525-bfdf-debee535a7a3\")>,\n",
       " <selenium.webdriver.remote.webelement.WebElement (session=\"39e469c405306e119291277ccfe0d952\", element=\"005ec27b-c94e-4c95-86e0-2e7a25220e90\")>,\n",
       " <selenium.webdriver.remote.webelement.WebElement (session=\"39e469c405306e119291277ccfe0d952\", element=\"c34ba617-9917-416d-8d95-a19f96fb7b15\")>,\n",
       " <selenium.webdriver.remote.webelement.WebElement (session=\"39e469c405306e119291277ccfe0d952\", element=\"d167abd8-9019-402f-abaf-41ac42b38da7\")>,\n",
       " <selenium.webdriver.remote.webelement.WebElement (session=\"39e469c405306e119291277ccfe0d952\", element=\"7dc8a6be-264b-4060-8dab-e489b7a3e832\")>,\n",
       " <selenium.webdriver.remote.webelement.WebElement (session=\"39e469c405306e119291277ccfe0d952\", element=\"108f7307-0b56-453f-9160-87ffd274595d\")>,\n",
       " <selenium.webdriver.remote.webelement.WebElement (session=\"39e469c405306e119291277ccfe0d952\", element=\"c7f51700-149c-4b43-bf34-06e9526ae207\")>,\n",
       " <selenium.webdriver.remote.webelement.WebElement (session=\"39e469c405306e119291277ccfe0d952\", element=\"0f104480-937e-4159-a844-d808f37b6858\")>,\n",
       " <selenium.webdriver.remote.webelement.WebElement (session=\"39e469c405306e119291277ccfe0d952\", element=\"681c83b2-12ce-458e-8518-e3a696a4b838\")>,\n",
       " <selenium.webdriver.remote.webelement.WebElement (session=\"39e469c405306e119291277ccfe0d952\", element=\"d3e30bc5-a869-4c25-9f94-8bf187399590\")>,\n",
       " <selenium.webdriver.remote.webelement.WebElement (session=\"39e469c405306e119291277ccfe0d952\", element=\"addef592-88de-40d8-9a92-55940a5840c9\")>,\n",
       " <selenium.webdriver.remote.webelement.WebElement (session=\"39e469c405306e119291277ccfe0d952\", element=\"a23aaaad-6fcb-4dbc-a974-a7d7a60c530a\")>,\n",
       " <selenium.webdriver.remote.webelement.WebElement (session=\"39e469c405306e119291277ccfe0d952\", element=\"dbceda98-a8a7-4ef8-8072-e616d149470e\")>,\n",
       " <selenium.webdriver.remote.webelement.WebElement (session=\"39e469c405306e119291277ccfe0d952\", element=\"104de24e-afde-4927-9af0-faee9af06848\")>,\n",
       " <selenium.webdriver.remote.webelement.WebElement (session=\"39e469c405306e119291277ccfe0d952\", element=\"53d2b09c-bb44-4103-98a3-748d5c8c3069\")>,\n",
       " <selenium.webdriver.remote.webelement.WebElement (session=\"39e469c405306e119291277ccfe0d952\", element=\"46fff867-1b7f-4146-83ef-c646660b4716\")>,\n",
       " <selenium.webdriver.remote.webelement.WebElement (session=\"39e469c405306e119291277ccfe0d952\", element=\"0f2c678e-fbed-4de0-a4e1-61176f336d3e\")>,\n",
       " <selenium.webdriver.remote.webelement.WebElement (session=\"39e469c405306e119291277ccfe0d952\", element=\"095e129a-85c9-471e-8425-28511ac293e1\")>,\n",
       " <selenium.webdriver.remote.webelement.WebElement (session=\"39e469c405306e119291277ccfe0d952\", element=\"2ef9be6f-736a-46d8-9a38-a88a41d505da\")>,\n",
       " <selenium.webdriver.remote.webelement.WebElement (session=\"39e469c405306e119291277ccfe0d952\", element=\"2539917f-a4fa-46f6-a1aa-0c1742879a3e\")>,\n",
       " <selenium.webdriver.remote.webelement.WebElement (session=\"39e469c405306e119291277ccfe0d952\", element=\"7566a07d-71d9-47fc-bf7d-90d9870b8124\")>,\n",
       " <selenium.webdriver.remote.webelement.WebElement (session=\"39e469c405306e119291277ccfe0d952\", element=\"833eda40-d98b-4608-9f8b-5e7b5e2d6799\")>,\n",
       " <selenium.webdriver.remote.webelement.WebElement (session=\"39e469c405306e119291277ccfe0d952\", element=\"2c7e1cd2-d2c3-496c-b2db-03b77ad10801\")>,\n",
       " <selenium.webdriver.remote.webelement.WebElement (session=\"39e469c405306e119291277ccfe0d952\", element=\"bc12d379-7889-4217-a744-407bd2c34b30\")>,\n",
       " <selenium.webdriver.remote.webelement.WebElement (session=\"39e469c405306e119291277ccfe0d952\", element=\"87e45bc8-cf9e-4fce-901a-3cdc7a26f785\")>,\n",
       " <selenium.webdriver.remote.webelement.WebElement (session=\"39e469c405306e119291277ccfe0d952\", element=\"76b16cf5-26c8-4740-b312-bf7633cb7e4e\")>,\n",
       " <selenium.webdriver.remote.webelement.WebElement (session=\"39e469c405306e119291277ccfe0d952\", element=\"d7edd8d8-5ef9-4258-9a8d-724cc563ae88\")>,\n",
       " <selenium.webdriver.remote.webelement.WebElement (session=\"39e469c405306e119291277ccfe0d952\", element=\"1eb0f631-8414-4630-b603-43ec04c0a1af\")>]"
      ]
     },
     "execution_count": 329,
     "metadata": {},
     "output_type": "execute_result"
    }
   ],
   "source": [
    "#lets extract all the tags having product price\n",
    "price_tags=driver.find_elements_by_xpath('//div[@class=\"_30jeq3\"]')\n",
    "price_tags"
   ]
  },
  {
   "cell_type": "code",
   "execution_count": 330,
   "metadata": {},
   "outputs": [
    {
     "data": {
      "text/plain": [
       "['₹195',\n",
       " '₹178',\n",
       " '₹630',\n",
       " '₹499',\n",
       " '₹758',\n",
       " '₹404',\n",
       " '₹250',\n",
       " '₹349',\n",
       " '₹733',\n",
       " '₹674',\n",
       " '₹399',\n",
       " '₹213',\n",
       " '₹621',\n",
       " '₹319',\n",
       " '₹251',\n",
       " '₹499',\n",
       " '₹399',\n",
       " '₹215',\n",
       " '₹209',\n",
       " '₹699',\n",
       " '₹449',\n",
       " '₹1,123',\n",
       " '₹339',\n",
       " '₹371',\n",
       " '₹499',\n",
       " '₹837',\n",
       " '₹759',\n",
       " '₹249',\n",
       " '₹1,085',\n",
       " '₹664',\n",
       " '₹281',\n",
       " '₹499',\n",
       " '₹399',\n",
       " '₹699',\n",
       " '₹449',\n",
       " '₹219',\n",
       " '₹499',\n",
       " '₹449',\n",
       " '₹209',\n",
       " '₹199']"
      ]
     },
     "execution_count": 330,
     "metadata": {},
     "output_type": "execute_result"
    }
   ],
   "source": [
    "#Extracting the text from these tags one by one by looping over these tags\n",
    "price_list=[]\n",
    "for i in price_tags:\n",
    "    price_list.append(i.text)\n",
    "price_list[:40]"
   ]
  },
  {
   "cell_type": "code",
   "execution_count": 331,
   "metadata": {},
   "outputs": [
    {
     "data": {
      "text/plain": [
       "[<selenium.webdriver.remote.webelement.WebElement (session=\"39e469c405306e119291277ccfe0d952\", element=\"61228de5-e2ab-43a2-8307-0efbe2a46a7c\")>,\n",
       " <selenium.webdriver.remote.webelement.WebElement (session=\"39e469c405306e119291277ccfe0d952\", element=\"9ea8b22d-51c8-4f50-8390-2edab615dc9d\")>,\n",
       " <selenium.webdriver.remote.webelement.WebElement (session=\"39e469c405306e119291277ccfe0d952\", element=\"923028a2-8184-4d0e-95da-39c7caf97c86\")>,\n",
       " <selenium.webdriver.remote.webelement.WebElement (session=\"39e469c405306e119291277ccfe0d952\", element=\"0dbdf828-b436-4a0f-bdb7-ce9d9229fbc5\")>,\n",
       " <selenium.webdriver.remote.webelement.WebElement (session=\"39e469c405306e119291277ccfe0d952\", element=\"30fb6729-d8b8-402c-9425-945140e95e1d\")>,\n",
       " <selenium.webdriver.remote.webelement.WebElement (session=\"39e469c405306e119291277ccfe0d952\", element=\"776c176c-c6ea-427f-afbd-8ab7d84ea232\")>,\n",
       " <selenium.webdriver.remote.webelement.WebElement (session=\"39e469c405306e119291277ccfe0d952\", element=\"399ca048-5eae-4270-be1c-4a03a3c26917\")>,\n",
       " <selenium.webdriver.remote.webelement.WebElement (session=\"39e469c405306e119291277ccfe0d952\", element=\"6eb656b6-eb36-41b1-8bef-82f2fc6c65ef\")>,\n",
       " <selenium.webdriver.remote.webelement.WebElement (session=\"39e469c405306e119291277ccfe0d952\", element=\"808b3766-5d83-477d-93cf-f478abbd0ad2\")>,\n",
       " <selenium.webdriver.remote.webelement.WebElement (session=\"39e469c405306e119291277ccfe0d952\", element=\"33325601-b62d-4e57-993f-d906dd6cc138\")>,\n",
       " <selenium.webdriver.remote.webelement.WebElement (session=\"39e469c405306e119291277ccfe0d952\", element=\"af71cf56-1f83-46a6-a2fa-ae20dcb107a3\")>,\n",
       " <selenium.webdriver.remote.webelement.WebElement (session=\"39e469c405306e119291277ccfe0d952\", element=\"bfa67871-916a-4022-b13f-9af413ff931a\")>,\n",
       " <selenium.webdriver.remote.webelement.WebElement (session=\"39e469c405306e119291277ccfe0d952\", element=\"17230386-b17c-4da8-8a74-c3f5035daece\")>,\n",
       " <selenium.webdriver.remote.webelement.WebElement (session=\"39e469c405306e119291277ccfe0d952\", element=\"7a443622-f81e-4503-8fd8-b62570416ee7\")>,\n",
       " <selenium.webdriver.remote.webelement.WebElement (session=\"39e469c405306e119291277ccfe0d952\", element=\"3a803660-10dd-416d-8d05-1f36e93b00a9\")>,\n",
       " <selenium.webdriver.remote.webelement.WebElement (session=\"39e469c405306e119291277ccfe0d952\", element=\"df0e2980-6c9b-4a8d-80f9-62a8cf770fd4\")>,\n",
       " <selenium.webdriver.remote.webelement.WebElement (session=\"39e469c405306e119291277ccfe0d952\", element=\"393965c2-ec20-4b04-86f5-3410c0ea2939\")>,\n",
       " <selenium.webdriver.remote.webelement.WebElement (session=\"39e469c405306e119291277ccfe0d952\", element=\"62b8682c-9dd6-4a08-b7ae-14918efea859\")>,\n",
       " <selenium.webdriver.remote.webelement.WebElement (session=\"39e469c405306e119291277ccfe0d952\", element=\"59afc202-6e3b-4fb8-b931-0e8dce033040\")>,\n",
       " <selenium.webdriver.remote.webelement.WebElement (session=\"39e469c405306e119291277ccfe0d952\", element=\"fab6cf1c-1355-4fbd-b271-b72b04b13779\")>,\n",
       " <selenium.webdriver.remote.webelement.WebElement (session=\"39e469c405306e119291277ccfe0d952\", element=\"32ea706b-e9c9-41a8-991c-ab056a21b21c\")>,\n",
       " <selenium.webdriver.remote.webelement.WebElement (session=\"39e469c405306e119291277ccfe0d952\", element=\"b1293d39-3be3-4068-94a9-680718859edc\")>,\n",
       " <selenium.webdriver.remote.webelement.WebElement (session=\"39e469c405306e119291277ccfe0d952\", element=\"2ff04a77-c8bc-4b8a-ad86-cdffab04ca21\")>,\n",
       " <selenium.webdriver.remote.webelement.WebElement (session=\"39e469c405306e119291277ccfe0d952\", element=\"bd6069e2-4a1b-468d-b218-d7ec613b59cd\")>,\n",
       " <selenium.webdriver.remote.webelement.WebElement (session=\"39e469c405306e119291277ccfe0d952\", element=\"0214ff35-a453-473e-bea6-cfdb4ebcfac9\")>,\n",
       " <selenium.webdriver.remote.webelement.WebElement (session=\"39e469c405306e119291277ccfe0d952\", element=\"5722a640-764f-4510-ab12-42901d6e6ceb\")>,\n",
       " <selenium.webdriver.remote.webelement.WebElement (session=\"39e469c405306e119291277ccfe0d952\", element=\"251cd4e5-29b6-4836-9efe-02c2753a6f95\")>,\n",
       " <selenium.webdriver.remote.webelement.WebElement (session=\"39e469c405306e119291277ccfe0d952\", element=\"c6eb35ea-8308-47eb-8956-c325058e08b6\")>,\n",
       " <selenium.webdriver.remote.webelement.WebElement (session=\"39e469c405306e119291277ccfe0d952\", element=\"a1c99505-11f2-416c-a386-0bc1ac4e2d92\")>,\n",
       " <selenium.webdriver.remote.webelement.WebElement (session=\"39e469c405306e119291277ccfe0d952\", element=\"5e15e4c2-e9a9-49a7-a27c-7d014cd51f70\")>,\n",
       " <selenium.webdriver.remote.webelement.WebElement (session=\"39e469c405306e119291277ccfe0d952\", element=\"cd5bd729-c7a9-4ca4-999a-a5dd924e2637\")>,\n",
       " <selenium.webdriver.remote.webelement.WebElement (session=\"39e469c405306e119291277ccfe0d952\", element=\"a7c8eee7-64bb-4196-aaa9-ccaf6dfc2506\")>,\n",
       " <selenium.webdriver.remote.webelement.WebElement (session=\"39e469c405306e119291277ccfe0d952\", element=\"0227ec39-e04d-4c07-b885-4af27ff1a25b\")>,\n",
       " <selenium.webdriver.remote.webelement.WebElement (session=\"39e469c405306e119291277ccfe0d952\", element=\"9d3a9a46-2bd2-4410-8755-cad8c7c2bec0\")>,\n",
       " <selenium.webdriver.remote.webelement.WebElement (session=\"39e469c405306e119291277ccfe0d952\", element=\"be4d68b8-f5c8-4b2e-960c-539963e01741\")>,\n",
       " <selenium.webdriver.remote.webelement.WebElement (session=\"39e469c405306e119291277ccfe0d952\", element=\"0db72d18-a27f-4043-9e4d-6ac329721eb3\")>,\n",
       " <selenium.webdriver.remote.webelement.WebElement (session=\"39e469c405306e119291277ccfe0d952\", element=\"705d2280-d597-4eb0-9bc9-cb040bacaf28\")>,\n",
       " <selenium.webdriver.remote.webelement.WebElement (session=\"39e469c405306e119291277ccfe0d952\", element=\"0874321f-c79c-4feb-acdb-d45d06ddccaf\")>,\n",
       " <selenium.webdriver.remote.webelement.WebElement (session=\"39e469c405306e119291277ccfe0d952\", element=\"efad9aba-f0fa-4d52-8d30-89580f58fa9e\")>,\n",
       " <selenium.webdriver.remote.webelement.WebElement (session=\"39e469c405306e119291277ccfe0d952\", element=\"9f366a3c-3ec1-41b2-9a66-c157c30f5c29\")>]"
      ]
     },
     "execution_count": 331,
     "metadata": {},
     "output_type": "execute_result"
    }
   ],
   "source": [
    "#lets extract all the tags having item discount\n",
    "discount_tags=driver.find_elements_by_xpath('//div[@class=\"_3Ay6Sb\"]')\n",
    "discount_tags"
   ]
  },
  {
   "cell_type": "code",
   "execution_count": 332,
   "metadata": {},
   "outputs": [
    {
     "data": {
      "text/plain": [
       "['75% off',\n",
       " '80% off',\n",
       " '21% off',\n",
       " '77% off',\n",
       " '15% off',\n",
       " '79% off',\n",
       " '84% off',\n",
       " '78% off',\n",
       " '18% off',\n",
       " '25% off',\n",
       " '80% off',\n",
       " '82% off',\n",
       " '22% off',\n",
       " '84% off',\n",
       " '79% off',\n",
       " '77% off',\n",
       " '80% off',\n",
       " '72% off',\n",
       " '73% off',\n",
       " '65% off',\n",
       " '79% off',\n",
       " '13% off',\n",
       " '71% off',\n",
       " '75% off',\n",
       " '66% off',\n",
       " '6% off',\n",
       " '15% off',\n",
       " '83% off',\n",
       " '16% off',\n",
       " '66% off',\n",
       " '85% off',\n",
       " '80% off',\n",
       " '80% off',\n",
       " '65% off',\n",
       " '77% off',\n",
       " '86% off',\n",
       " '77% off',\n",
       " '77% off',\n",
       " '70% off',\n",
       " '83% off']"
      ]
     },
     "execution_count": 332,
     "metadata": {},
     "output_type": "execute_result"
    }
   ],
   "source": [
    "#Extracting the text from these tags one by one by looping over these tags\n",
    "discount_list=[]\n",
    "for i in discount_tags:\n",
    "    discount_list.append(i.text)\n",
    "discount_list[:40]"
   ]
  },
  {
   "cell_type": "code",
   "execution_count": 333,
   "metadata": {},
   "outputs": [],
   "source": [
    "#do click next page using class_name function\n",
    "next_page=driver.find_element_by_class_name('_1LKTO3')\n",
    "next_page.click()"
   ]
  },
  {
   "cell_type": "code",
   "execution_count": 334,
   "metadata": {},
   "outputs": [
    {
     "data": {
      "text/plain": [
       "[<selenium.webdriver.remote.webelement.WebElement (session=\"39e469c405306e119291277ccfe0d952\", element=\"7e6872fe-5b11-4bf7-bf14-1236b0170a1c\")>,\n",
       " <selenium.webdriver.remote.webelement.WebElement (session=\"39e469c405306e119291277ccfe0d952\", element=\"b108c415-4c13-4355-8263-03e50ff2cf41\")>,\n",
       " <selenium.webdriver.remote.webelement.WebElement (session=\"39e469c405306e119291277ccfe0d952\", element=\"fe781f0b-c960-4aec-b47f-0d9e7b6a3b4d\")>,\n",
       " <selenium.webdriver.remote.webelement.WebElement (session=\"39e469c405306e119291277ccfe0d952\", element=\"9bcce325-e128-48e8-aa0b-900f820852e7\")>,\n",
       " <selenium.webdriver.remote.webelement.WebElement (session=\"39e469c405306e119291277ccfe0d952\", element=\"57e77fd6-b58a-4cb4-a02b-6158c8017347\")>,\n",
       " <selenium.webdriver.remote.webelement.WebElement (session=\"39e469c405306e119291277ccfe0d952\", element=\"422b2553-61af-466e-bfe6-a24a4b6330fa\")>,\n",
       " <selenium.webdriver.remote.webelement.WebElement (session=\"39e469c405306e119291277ccfe0d952\", element=\"f8cf0b9d-1118-413c-9671-438f93ad31d6\")>,\n",
       " <selenium.webdriver.remote.webelement.WebElement (session=\"39e469c405306e119291277ccfe0d952\", element=\"8f28190f-44e8-424a-9732-db762a978323\")>,\n",
       " <selenium.webdriver.remote.webelement.WebElement (session=\"39e469c405306e119291277ccfe0d952\", element=\"6022d567-6a97-4f51-9be3-ee0accd2b3fc\")>,\n",
       " <selenium.webdriver.remote.webelement.WebElement (session=\"39e469c405306e119291277ccfe0d952\", element=\"c2bc6a18-52a0-406c-a551-20e92bd4740a\")>,\n",
       " <selenium.webdriver.remote.webelement.WebElement (session=\"39e469c405306e119291277ccfe0d952\", element=\"b9b3f557-ba9f-488b-abf0-758efc8ee9b6\")>,\n",
       " <selenium.webdriver.remote.webelement.WebElement (session=\"39e469c405306e119291277ccfe0d952\", element=\"fdb1ef6b-7436-4e10-9289-34b238318c36\")>,\n",
       " <selenium.webdriver.remote.webelement.WebElement (session=\"39e469c405306e119291277ccfe0d952\", element=\"c892dd61-9daa-476f-bea7-cf43f919a4ff\")>,\n",
       " <selenium.webdriver.remote.webelement.WebElement (session=\"39e469c405306e119291277ccfe0d952\", element=\"a374eea6-c0d8-4771-8ee6-3e061ab9dfff\")>,\n",
       " <selenium.webdriver.remote.webelement.WebElement (session=\"39e469c405306e119291277ccfe0d952\", element=\"826ae3ac-9d3b-4f25-b64d-c4f0cf3f3b59\")>,\n",
       " <selenium.webdriver.remote.webelement.WebElement (session=\"39e469c405306e119291277ccfe0d952\", element=\"db4f9cba-76ea-485a-87f4-33d885afa2c7\")>,\n",
       " <selenium.webdriver.remote.webelement.WebElement (session=\"39e469c405306e119291277ccfe0d952\", element=\"ae37d2bd-4bc7-4839-9d13-3cc7a886525e\")>,\n",
       " <selenium.webdriver.remote.webelement.WebElement (session=\"39e469c405306e119291277ccfe0d952\", element=\"1cf5eb5f-2842-4d29-8abe-817af282cbb7\")>,\n",
       " <selenium.webdriver.remote.webelement.WebElement (session=\"39e469c405306e119291277ccfe0d952\", element=\"f494e1a6-38c5-4c5b-9603-caa09347e104\")>,\n",
       " <selenium.webdriver.remote.webelement.WebElement (session=\"39e469c405306e119291277ccfe0d952\", element=\"d4bf9192-354f-46e5-b69f-9107c50945f6\")>,\n",
       " <selenium.webdriver.remote.webelement.WebElement (session=\"39e469c405306e119291277ccfe0d952\", element=\"827b7817-203b-44cd-bee4-40d8ee365524\")>,\n",
       " <selenium.webdriver.remote.webelement.WebElement (session=\"39e469c405306e119291277ccfe0d952\", element=\"ba8cbf27-8004-4b62-8c4e-ae632ed20cb3\")>,\n",
       " <selenium.webdriver.remote.webelement.WebElement (session=\"39e469c405306e119291277ccfe0d952\", element=\"e794f3bb-54c2-47fc-a77b-5e55de99c0b5\")>,\n",
       " <selenium.webdriver.remote.webelement.WebElement (session=\"39e469c405306e119291277ccfe0d952\", element=\"df8e8c16-80e7-41b7-afad-d1b75c7a0b9b\")>,\n",
       " <selenium.webdriver.remote.webelement.WebElement (session=\"39e469c405306e119291277ccfe0d952\", element=\"d5dc1321-31c6-475a-996d-064b5c59c641\")>,\n",
       " <selenium.webdriver.remote.webelement.WebElement (session=\"39e469c405306e119291277ccfe0d952\", element=\"045291fb-3194-4a29-aa5d-8026360db0e3\")>,\n",
       " <selenium.webdriver.remote.webelement.WebElement (session=\"39e469c405306e119291277ccfe0d952\", element=\"b0cf7741-3c5c-4394-af0e-0771d46a8cd8\")>,\n",
       " <selenium.webdriver.remote.webelement.WebElement (session=\"39e469c405306e119291277ccfe0d952\", element=\"dcf40554-a0ff-4d3c-82c8-c19f3b0c5f0f\")>,\n",
       " <selenium.webdriver.remote.webelement.WebElement (session=\"39e469c405306e119291277ccfe0d952\", element=\"dacb870f-8593-43ab-bd0f-188637721e4c\")>,\n",
       " <selenium.webdriver.remote.webelement.WebElement (session=\"39e469c405306e119291277ccfe0d952\", element=\"9cae6be6-cd78-43b8-b24b-08452da72c46\")>,\n",
       " <selenium.webdriver.remote.webelement.WebElement (session=\"39e469c405306e119291277ccfe0d952\", element=\"e1fe9df6-76ba-448a-b93a-560aaee31260\")>,\n",
       " <selenium.webdriver.remote.webelement.WebElement (session=\"39e469c405306e119291277ccfe0d952\", element=\"4df6c53e-da8f-442b-8ba4-e4c7074091a7\")>,\n",
       " <selenium.webdriver.remote.webelement.WebElement (session=\"39e469c405306e119291277ccfe0d952\", element=\"dbc646e1-963b-42a6-a369-8a15ef313925\")>,\n",
       " <selenium.webdriver.remote.webelement.WebElement (session=\"39e469c405306e119291277ccfe0d952\", element=\"6869f076-192f-46da-8788-a0d348c1744b\")>,\n",
       " <selenium.webdriver.remote.webelement.WebElement (session=\"39e469c405306e119291277ccfe0d952\", element=\"07f85c9c-3122-47e7-85f6-47d83f0af516\")>,\n",
       " <selenium.webdriver.remote.webelement.WebElement (session=\"39e469c405306e119291277ccfe0d952\", element=\"1673f85d-5aa9-4819-8719-b4ab34384ad7\")>,\n",
       " <selenium.webdriver.remote.webelement.WebElement (session=\"39e469c405306e119291277ccfe0d952\", element=\"277f130b-1636-4019-beeb-a6a2aa0946cb\")>,\n",
       " <selenium.webdriver.remote.webelement.WebElement (session=\"39e469c405306e119291277ccfe0d952\", element=\"7f2557f6-0dbb-42e7-87dd-9712e247ac36\")>,\n",
       " <selenium.webdriver.remote.webelement.WebElement (session=\"39e469c405306e119291277ccfe0d952\", element=\"b8b7ab52-1f25-4afc-8732-3d51f8bf71a3\")>,\n",
       " <selenium.webdriver.remote.webelement.WebElement (session=\"39e469c405306e119291277ccfe0d952\", element=\"90a4cf5b-735f-4e47-84dc-e300362b9761\")>]"
      ]
     },
     "execution_count": 334,
     "metadata": {},
     "output_type": "execute_result"
    }
   ],
   "source": [
    "#lets extract all the tags having brand name\n",
    "brand_tags=driver.find_elements_by_xpath('//div[@class=\"_2WkVRV\"]')\n",
    "brand_tags"
   ]
  },
  {
   "cell_type": "code",
   "execution_count": 335,
   "metadata": {},
   "outputs": [
    {
     "data": {
      "text/plain": [
       "['ROYAL SON',\n",
       " 'Silver Kartz',\n",
       " 'hipe',\n",
       " 'NuVew',\n",
       " 'ROYAL SON',\n",
       " 'hipe',\n",
       " 'hipe',\n",
       " 'ROYAL SON',\n",
       " 'PHENOMENAL',\n",
       " 'NuVew',\n",
       " 'ROYAL SON',\n",
       " 'DEIXELS',\n",
       " 'PIRASO',\n",
       " 'Royaltail',\n",
       " 'Fastrack',\n",
       " 'ROYAL SON',\n",
       " 'Fastrack',\n",
       " 'PHENOMENAL',\n",
       " 'ROZZETTA CRAFT',\n",
       " 'ROYAL SON',\n",
       " 'Villain',\n",
       " 'GANSTA',\n",
       " 'ROZZETTA CRAFT',\n",
       " 'GANSTA',\n",
       " 'DEIXELS',\n",
       " 'hipe',\n",
       " 'Flizz',\n",
       " 'AISLIN',\n",
       " 'Fastrack',\n",
       " 'NuVew',\n",
       " 'GANSTA',\n",
       " 'GANSTA',\n",
       " 'PHENOMENAL',\n",
       " 'NuVew',\n",
       " 'AISLIN',\n",
       " 'Fastrack',\n",
       " 'hipe',\n",
       " 'ROYAL SON',\n",
       " 'Fastrack',\n",
       " 'NuVew']"
      ]
     },
     "execution_count": 335,
     "metadata": {},
     "output_type": "execute_result"
    }
   ],
   "source": [
    "#Extracting the text from these tags one by one by looping over these tags\n",
    "brand_list=[]\n",
    "for i in brand_tags:\n",
    "    brand_list.append(i.text)\n",
    "brand_list[:40]"
   ]
  },
  {
   "cell_type": "code",
   "execution_count": 336,
   "metadata": {},
   "outputs": [
    {
     "data": {
      "text/plain": [
       "[<selenium.webdriver.remote.webelement.WebElement (session=\"39e469c405306e119291277ccfe0d952\", element=\"d326e5f1-1e2a-4978-a48f-95f577128e93\")>,\n",
       " <selenium.webdriver.remote.webelement.WebElement (session=\"39e469c405306e119291277ccfe0d952\", element=\"60fa6256-cde6-4e8a-9d6a-38fc492d416c\")>,\n",
       " <selenium.webdriver.remote.webelement.WebElement (session=\"39e469c405306e119291277ccfe0d952\", element=\"7a734a04-6e6d-450d-ab07-ec67e8c8679b\")>,\n",
       " <selenium.webdriver.remote.webelement.WebElement (session=\"39e469c405306e119291277ccfe0d952\", element=\"2ea37b33-3f45-4c2d-9ae8-5770804cd67a\")>,\n",
       " <selenium.webdriver.remote.webelement.WebElement (session=\"39e469c405306e119291277ccfe0d952\", element=\"a565a7bf-b9a9-4028-a7ae-ef8f5569c7e8\")>,\n",
       " <selenium.webdriver.remote.webelement.WebElement (session=\"39e469c405306e119291277ccfe0d952\", element=\"d4d25ea1-364b-4393-861f-5cd5053feb3f\")>,\n",
       " <selenium.webdriver.remote.webelement.WebElement (session=\"39e469c405306e119291277ccfe0d952\", element=\"acab978a-67fc-4eee-a077-350582b95ab6\")>,\n",
       " <selenium.webdriver.remote.webelement.WebElement (session=\"39e469c405306e119291277ccfe0d952\", element=\"670d7e86-f132-4cac-aedf-1b7a59259fb9\")>,\n",
       " <selenium.webdriver.remote.webelement.WebElement (session=\"39e469c405306e119291277ccfe0d952\", element=\"ea34f51f-035e-4802-bd44-c941ab032a22\")>,\n",
       " <selenium.webdriver.remote.webelement.WebElement (session=\"39e469c405306e119291277ccfe0d952\", element=\"1d64b6d6-5d94-4d28-8fce-948b43761857\")>,\n",
       " <selenium.webdriver.remote.webelement.WebElement (session=\"39e469c405306e119291277ccfe0d952\", element=\"09908366-20c6-40f5-99f5-96dc21b6907a\")>,\n",
       " <selenium.webdriver.remote.webelement.WebElement (session=\"39e469c405306e119291277ccfe0d952\", element=\"5f31e72e-3627-418e-a154-a15024c6458f\")>,\n",
       " <selenium.webdriver.remote.webelement.WebElement (session=\"39e469c405306e119291277ccfe0d952\", element=\"e8cee868-eade-455c-8bc1-f7badb1ccabc\")>,\n",
       " <selenium.webdriver.remote.webelement.WebElement (session=\"39e469c405306e119291277ccfe0d952\", element=\"750f2bb2-d8c6-4bab-9964-62cd21feb6b1\")>,\n",
       " <selenium.webdriver.remote.webelement.WebElement (session=\"39e469c405306e119291277ccfe0d952\", element=\"96d9a77b-61eb-45b6-8b02-5f519478e3d5\")>,\n",
       " <selenium.webdriver.remote.webelement.WebElement (session=\"39e469c405306e119291277ccfe0d952\", element=\"293a0e16-ca55-4d43-9005-be23dd9ea58d\")>,\n",
       " <selenium.webdriver.remote.webelement.WebElement (session=\"39e469c405306e119291277ccfe0d952\", element=\"c6fc4e0a-83c6-4a30-b1f1-70763775bc6f\")>,\n",
       " <selenium.webdriver.remote.webelement.WebElement (session=\"39e469c405306e119291277ccfe0d952\", element=\"cc47f5de-3f0c-4546-b5f8-8d52e471ec20\")>,\n",
       " <selenium.webdriver.remote.webelement.WebElement (session=\"39e469c405306e119291277ccfe0d952\", element=\"c4c1e7c1-a68f-44e8-abcf-f2e575b3575e\")>,\n",
       " <selenium.webdriver.remote.webelement.WebElement (session=\"39e469c405306e119291277ccfe0d952\", element=\"e995231a-0dce-46ed-8653-7617eaa27fe0\")>,\n",
       " <selenium.webdriver.remote.webelement.WebElement (session=\"39e469c405306e119291277ccfe0d952\", element=\"3b822552-8c29-445b-9913-fc8056a63e4b\")>,\n",
       " <selenium.webdriver.remote.webelement.WebElement (session=\"39e469c405306e119291277ccfe0d952\", element=\"66031bd3-0839-4e16-878a-a9d014528e9b\")>,\n",
       " <selenium.webdriver.remote.webelement.WebElement (session=\"39e469c405306e119291277ccfe0d952\", element=\"9849e208-ac20-444f-8d64-03418239cb9c\")>,\n",
       " <selenium.webdriver.remote.webelement.WebElement (session=\"39e469c405306e119291277ccfe0d952\", element=\"1518a554-f299-46dd-bc60-c9e39f6b7dc8\")>,\n",
       " <selenium.webdriver.remote.webelement.WebElement (session=\"39e469c405306e119291277ccfe0d952\", element=\"8e5539f9-8fda-4143-8273-8f0513c4610c\")>,\n",
       " <selenium.webdriver.remote.webelement.WebElement (session=\"39e469c405306e119291277ccfe0d952\", element=\"8d4ce9fa-14ff-4e85-b229-0266b2b07563\")>,\n",
       " <selenium.webdriver.remote.webelement.WebElement (session=\"39e469c405306e119291277ccfe0d952\", element=\"49c75a36-4419-4909-8f00-86d6dfbff132\")>,\n",
       " <selenium.webdriver.remote.webelement.WebElement (session=\"39e469c405306e119291277ccfe0d952\", element=\"a6b6c771-6628-470b-8fbb-23bf7ba650ee\")>,\n",
       " <selenium.webdriver.remote.webelement.WebElement (session=\"39e469c405306e119291277ccfe0d952\", element=\"f3bf8589-2355-4f45-83b2-c6886baf75de\")>,\n",
       " <selenium.webdriver.remote.webelement.WebElement (session=\"39e469c405306e119291277ccfe0d952\", element=\"20ace0cf-8f0f-4aa1-b863-bbb3d8bc90e0\")>,\n",
       " <selenium.webdriver.remote.webelement.WebElement (session=\"39e469c405306e119291277ccfe0d952\", element=\"2866b41f-6dae-4aee-baa2-6d5ffaf450d2\")>,\n",
       " <selenium.webdriver.remote.webelement.WebElement (session=\"39e469c405306e119291277ccfe0d952\", element=\"3d04cf83-fdaa-47bd-aaa6-da1730c00ead\")>,\n",
       " <selenium.webdriver.remote.webelement.WebElement (session=\"39e469c405306e119291277ccfe0d952\", element=\"3c5ec303-336f-4fb5-8381-9570c0ed5e99\")>,\n",
       " <selenium.webdriver.remote.webelement.WebElement (session=\"39e469c405306e119291277ccfe0d952\", element=\"0842b628-6923-48f0-978a-832c7cafff80\")>,\n",
       " <selenium.webdriver.remote.webelement.WebElement (session=\"39e469c405306e119291277ccfe0d952\", element=\"e4d15318-e21d-4fa2-bd3e-3200c5eae6e8\")>,\n",
       " <selenium.webdriver.remote.webelement.WebElement (session=\"39e469c405306e119291277ccfe0d952\", element=\"cfd4342e-bb2a-45c4-9610-40677d23ce36\")>,\n",
       " <selenium.webdriver.remote.webelement.WebElement (session=\"39e469c405306e119291277ccfe0d952\", element=\"65bfad74-ea43-4e65-9ffa-e81222783b34\")>,\n",
       " <selenium.webdriver.remote.webelement.WebElement (session=\"39e469c405306e119291277ccfe0d952\", element=\"e17ec7cb-f828-4f43-9e43-8448a896f9be\")>,\n",
       " <selenium.webdriver.remote.webelement.WebElement (session=\"39e469c405306e119291277ccfe0d952\", element=\"6be1296c-4ccb-4332-9426-034526e30590\")>,\n",
       " <selenium.webdriver.remote.webelement.WebElement (session=\"39e469c405306e119291277ccfe0d952\", element=\"9cb8ab71-3432-40ec-8671-0b5f09f7720b\")>]"
      ]
     },
     "execution_count": 336,
     "metadata": {},
     "output_type": "execute_result"
    }
   ],
   "source": [
    "#lets extract all the tags having product description\n",
    "product_tags=driver.find_elements_by_xpath('//a[@class=\"IRpwTa\"]')\n",
    "product_tags"
   ]
  },
  {
   "cell_type": "code",
   "execution_count": 337,
   "metadata": {},
   "outputs": [
    {
     "data": {
      "text/plain": [
       "['UV Protection Wayfarer Sunglasses (55)',\n",
       " 'UV Protection Oval Sunglasses (56)',\n",
       " 'UV Protection, Mirrored Aviator Sunglasses (Free Size)',\n",
       " 'UV Protection, Night Vision, Riding Glasses, Polarized ...',\n",
       " 'UV Protection, Gradient Wayfarer Sunglasses (55)',\n",
       " 'Mirrored Wayfarer Sunglasses (55)',\n",
       " 'UV Protection, Night Vision, Gradient, Mirrored Round, ...',\n",
       " 'Mirrored Aviator Sunglasses (55)',\n",
       " 'UV Protection, Mirrored Clubmaster Sunglasses (Free Siz...',\n",
       " 'UV Protection, Mirrored, Night Vision, Riding Glasses S...',\n",
       " 'UV Protection Rectangular Sunglasses (58)',\n",
       " 'UV Protection Wayfarer Sunglasses (Free Size)',\n",
       " 'UV Protection Aviator Sunglasses (54)',\n",
       " 'UV Protection Aviator Sunglasses (Free Size)',\n",
       " 'UV Protection Shield Sunglasses (Free Size)',\n",
       " 'Polarized, UV Protection Aviator Sunglasses (58)',\n",
       " 'Gradient, UV Protection Wayfarer Sunglasses (Free Size)',\n",
       " 'UV Protection, Mirrored Retro Square Sunglasses (53)',\n",
       " 'UV Protection, Gradient Round Sunglasses (Free Size)',\n",
       " 'UV Protection, Polarized Aviator Sunglasses (60)',\n",
       " 'Others Retro Square Sunglasses (Free Size)',\n",
       " 'UV Protection, Riding Glasses Wayfarer Sunglasses (53)',\n",
       " 'Polarized, UV Protection Aviator Sunglasses (Free Size)',\n",
       " 'UV Protection Aviator Sunglasses (57)',\n",
       " 'Polarized, UV Protection, Riding Glasses Wayfarer Sungl...',\n",
       " 'Mirrored, UV Protection, Gradient Round Sunglasses (55)',\n",
       " 'UV Protection Retro Square Sunglasses (Free Size)',\n",
       " 'UV Protection, Gradient Oval Sunglasses (58)',\n",
       " 'UV Protection Rectangular Sunglasses (59)',\n",
       " 'UV Protection, Gradient, Night Vision, Mirrored Aviator...',\n",
       " 'UV Protection, Mirrored Wayfarer Sunglasses (53)',\n",
       " 'Night Vision, Riding Glasses Wayfarer Sunglasses (53)',\n",
       " 'UV Protection Clubmaster Sunglasses (Free Size)',\n",
       " 'UV Protection, Mirrored Cat-eye Sunglasses (68)',\n",
       " 'UV Protection, Gradient Cat-eye Sunglasses (58)',\n",
       " 'UV Protection Aviator Sunglasses (58)',\n",
       " 'UV Protection Sports Sunglasses (Free Size)',\n",
       " 'Polarized Sports Sunglasses (68)',\n",
       " 'UV Protection Wayfarer Sunglasses (Free Size)',\n",
       " 'UV Protection, Mirrored, Night Vision, Riding Glasses S...']"
      ]
     },
     "execution_count": 337,
     "metadata": {},
     "output_type": "execute_result"
    }
   ],
   "source": [
    "#Extracting the text from these tags one by one by looping over these tags\n",
    "product_list=[]\n",
    "for i in product_tags:\n",
    "    product_list.append(i.text)\n",
    "product_list[:40]"
   ]
  },
  {
   "cell_type": "code",
   "execution_count": 338,
   "metadata": {},
   "outputs": [
    {
     "data": {
      "text/plain": [
       "[<selenium.webdriver.remote.webelement.WebElement (session=\"39e469c405306e119291277ccfe0d952\", element=\"921a1c13-f949-4c78-b0ab-2866ad69135a\")>,\n",
       " <selenium.webdriver.remote.webelement.WebElement (session=\"39e469c405306e119291277ccfe0d952\", element=\"4193fbe8-82f0-4dda-a038-39d9fd941b55\")>,\n",
       " <selenium.webdriver.remote.webelement.WebElement (session=\"39e469c405306e119291277ccfe0d952\", element=\"4b7ee4a4-165f-44aa-960a-fa0c12d35dd8\")>,\n",
       " <selenium.webdriver.remote.webelement.WebElement (session=\"39e469c405306e119291277ccfe0d952\", element=\"a7ec3e9c-61c8-4094-a7c7-0953691d5f31\")>,\n",
       " <selenium.webdriver.remote.webelement.WebElement (session=\"39e469c405306e119291277ccfe0d952\", element=\"673744ad-6300-4af0-b45c-766ccb924bda\")>,\n",
       " <selenium.webdriver.remote.webelement.WebElement (session=\"39e469c405306e119291277ccfe0d952\", element=\"74993c40-523b-42dc-922a-7dc6554e4786\")>,\n",
       " <selenium.webdriver.remote.webelement.WebElement (session=\"39e469c405306e119291277ccfe0d952\", element=\"da376912-e8bc-4fc9-89db-1583f40dd458\")>,\n",
       " <selenium.webdriver.remote.webelement.WebElement (session=\"39e469c405306e119291277ccfe0d952\", element=\"fdcde595-1d58-414f-9dfc-68f928d6ca21\")>,\n",
       " <selenium.webdriver.remote.webelement.WebElement (session=\"39e469c405306e119291277ccfe0d952\", element=\"5a537b34-15ea-446b-972f-609bf53d544b\")>,\n",
       " <selenium.webdriver.remote.webelement.WebElement (session=\"39e469c405306e119291277ccfe0d952\", element=\"b1d31b8d-e582-47c6-ae86-38f6145e8f2c\")>,\n",
       " <selenium.webdriver.remote.webelement.WebElement (session=\"39e469c405306e119291277ccfe0d952\", element=\"2621ece0-8dd6-4a18-ad2b-04285f7399bb\")>,\n",
       " <selenium.webdriver.remote.webelement.WebElement (session=\"39e469c405306e119291277ccfe0d952\", element=\"19747626-7d5c-4342-9c79-e3d3db6ac793\")>,\n",
       " <selenium.webdriver.remote.webelement.WebElement (session=\"39e469c405306e119291277ccfe0d952\", element=\"5f8ba642-b38a-45c1-b675-09e945828009\")>,\n",
       " <selenium.webdriver.remote.webelement.WebElement (session=\"39e469c405306e119291277ccfe0d952\", element=\"e7727d23-fd61-4c43-9d0f-2bc6c04d468a\")>,\n",
       " <selenium.webdriver.remote.webelement.WebElement (session=\"39e469c405306e119291277ccfe0d952\", element=\"80e7f84e-e014-4f98-9033-11d7d3dad1f2\")>,\n",
       " <selenium.webdriver.remote.webelement.WebElement (session=\"39e469c405306e119291277ccfe0d952\", element=\"2f2d1154-8c8c-4164-a82a-0abf5701465d\")>,\n",
       " <selenium.webdriver.remote.webelement.WebElement (session=\"39e469c405306e119291277ccfe0d952\", element=\"3ecc2c93-b002-4a05-b9d8-e8a55af24ae1\")>,\n",
       " <selenium.webdriver.remote.webelement.WebElement (session=\"39e469c405306e119291277ccfe0d952\", element=\"e4aa5b87-d1b9-4c59-9594-63335f9f51e0\")>,\n",
       " <selenium.webdriver.remote.webelement.WebElement (session=\"39e469c405306e119291277ccfe0d952\", element=\"acf022b6-c20a-4533-8b57-61f250473926\")>,\n",
       " <selenium.webdriver.remote.webelement.WebElement (session=\"39e469c405306e119291277ccfe0d952\", element=\"ef9c5413-4ca0-4d1a-ade5-9cc67e0e7c3c\")>,\n",
       " <selenium.webdriver.remote.webelement.WebElement (session=\"39e469c405306e119291277ccfe0d952\", element=\"57c8cb16-5af4-43a5-b09f-03f182395450\")>,\n",
       " <selenium.webdriver.remote.webelement.WebElement (session=\"39e469c405306e119291277ccfe0d952\", element=\"53a6b0f1-a770-4a44-9ecc-2a8c74859051\")>,\n",
       " <selenium.webdriver.remote.webelement.WebElement (session=\"39e469c405306e119291277ccfe0d952\", element=\"a4669b20-a685-4384-bc3e-3ec76d9b1f2b\")>,\n",
       " <selenium.webdriver.remote.webelement.WebElement (session=\"39e469c405306e119291277ccfe0d952\", element=\"abb55d7c-28d5-4a06-ad2d-75d46ff5d1c3\")>,\n",
       " <selenium.webdriver.remote.webelement.WebElement (session=\"39e469c405306e119291277ccfe0d952\", element=\"63d3efb3-11a5-4689-92f2-e9f68dad78e2\")>,\n",
       " <selenium.webdriver.remote.webelement.WebElement (session=\"39e469c405306e119291277ccfe0d952\", element=\"66a2d080-72f7-449f-83e8-b41f295019da\")>,\n",
       " <selenium.webdriver.remote.webelement.WebElement (session=\"39e469c405306e119291277ccfe0d952\", element=\"3761f45a-4865-481d-8c50-f6479bfe70c5\")>,\n",
       " <selenium.webdriver.remote.webelement.WebElement (session=\"39e469c405306e119291277ccfe0d952\", element=\"50f3d798-d148-43e1-a379-2fc37c2184d6\")>,\n",
       " <selenium.webdriver.remote.webelement.WebElement (session=\"39e469c405306e119291277ccfe0d952\", element=\"34dca932-dbfc-4963-90cb-ed9dc16727c9\")>,\n",
       " <selenium.webdriver.remote.webelement.WebElement (session=\"39e469c405306e119291277ccfe0d952\", element=\"5037580e-cfe4-4007-b647-8433e523472c\")>,\n",
       " <selenium.webdriver.remote.webelement.WebElement (session=\"39e469c405306e119291277ccfe0d952\", element=\"453bbb71-031d-4077-b003-1ee6a3be7d53\")>,\n",
       " <selenium.webdriver.remote.webelement.WebElement (session=\"39e469c405306e119291277ccfe0d952\", element=\"a2b86c61-b3f2-432a-8833-4e6afc0ecfbb\")>,\n",
       " <selenium.webdriver.remote.webelement.WebElement (session=\"39e469c405306e119291277ccfe0d952\", element=\"98cf518b-8c6d-4cdd-8f98-ab2a25e5c72e\")>,\n",
       " <selenium.webdriver.remote.webelement.WebElement (session=\"39e469c405306e119291277ccfe0d952\", element=\"4a9f05df-263b-43ff-9d1b-150009974176\")>,\n",
       " <selenium.webdriver.remote.webelement.WebElement (session=\"39e469c405306e119291277ccfe0d952\", element=\"11d0c94c-aabb-4efa-a07f-f6eb1226b7d1\")>,\n",
       " <selenium.webdriver.remote.webelement.WebElement (session=\"39e469c405306e119291277ccfe0d952\", element=\"e67adfa3-2f5c-4bd5-bf42-f30acd71bdb5\")>,\n",
       " <selenium.webdriver.remote.webelement.WebElement (session=\"39e469c405306e119291277ccfe0d952\", element=\"a0b5b7a5-da3a-451a-a3e8-cf7f239369d3\")>,\n",
       " <selenium.webdriver.remote.webelement.WebElement (session=\"39e469c405306e119291277ccfe0d952\", element=\"a6514f08-826f-401d-a96a-ef8d966c73fe\")>,\n",
       " <selenium.webdriver.remote.webelement.WebElement (session=\"39e469c405306e119291277ccfe0d952\", element=\"7022bd3c-d301-4e0c-8d57-809e2f5091a6\")>,\n",
       " <selenium.webdriver.remote.webelement.WebElement (session=\"39e469c405306e119291277ccfe0d952\", element=\"d16e2efe-34a2-4296-85df-f618ee0eb7cf\")>]"
      ]
     },
     "execution_count": 338,
     "metadata": {},
     "output_type": "execute_result"
    }
   ],
   "source": [
    "#lets extract all the tags having product price\n",
    "price_tags=driver.find_elements_by_xpath('//div[@class=\"_30jeq3\"]')\n",
    "price_tags"
   ]
  },
  {
   "cell_type": "code",
   "execution_count": 339,
   "metadata": {},
   "outputs": [
    {
     "data": {
      "text/plain": [
       "['₹265',\n",
       " '₹284',\n",
       " '₹199',\n",
       " '₹371',\n",
       " '₹217',\n",
       " '₹219',\n",
       " '₹189',\n",
       " '₹379',\n",
       " '₹319',\n",
       " '₹391',\n",
       " '₹474',\n",
       " '₹198',\n",
       " '₹250',\n",
       " '₹699',\n",
       " '₹759',\n",
       " '₹711',\n",
       " '₹638',\n",
       " '₹399',\n",
       " '₹449',\n",
       " '₹711',\n",
       " '₹599',\n",
       " '₹260',\n",
       " '₹449',\n",
       " '₹281',\n",
       " '₹234',\n",
       " '₹210',\n",
       " '₹399',\n",
       " '₹470',\n",
       " '₹1,097',\n",
       " '₹365',\n",
       " '₹199',\n",
       " '₹207',\n",
       " '₹319',\n",
       " '₹342',\n",
       " '₹480',\n",
       " '₹1,148',\n",
       " '₹319',\n",
       " '₹1,234',\n",
       " '₹576',\n",
       " '₹358']"
      ]
     },
     "execution_count": 339,
     "metadata": {},
     "output_type": "execute_result"
    }
   ],
   "source": [
    "#Extracting the text from these tags one by one by looping over these tags\n",
    "price_list=[]\n",
    "for i in price_tags:\n",
    "    price_list.append(i.text)\n",
    "price_list[:40]"
   ]
  },
  {
   "cell_type": "code",
   "execution_count": 340,
   "metadata": {},
   "outputs": [
    {
     "data": {
      "text/plain": [
       "[<selenium.webdriver.remote.webelement.WebElement (session=\"39e469c405306e119291277ccfe0d952\", element=\"c1e24b01-9e86-44e2-a726-390782931d16\")>,\n",
       " <selenium.webdriver.remote.webelement.WebElement (session=\"39e469c405306e119291277ccfe0d952\", element=\"fc933799-6de3-41c1-bcb3-d8f4fbcb11a0\")>,\n",
       " <selenium.webdriver.remote.webelement.WebElement (session=\"39e469c405306e119291277ccfe0d952\", element=\"98afdc9d-c64a-4e2f-8cb9-7ac87ca14a1c\")>,\n",
       " <selenium.webdriver.remote.webelement.WebElement (session=\"39e469c405306e119291277ccfe0d952\", element=\"e0d9cb25-18f6-4692-abbc-f888884cd9e4\")>,\n",
       " <selenium.webdriver.remote.webelement.WebElement (session=\"39e469c405306e119291277ccfe0d952\", element=\"f67e465d-a6a9-4a5f-80b8-6058f4fd0a1c\")>,\n",
       " <selenium.webdriver.remote.webelement.WebElement (session=\"39e469c405306e119291277ccfe0d952\", element=\"91f31eb3-f012-44d2-a6a2-ab2461316381\")>,\n",
       " <selenium.webdriver.remote.webelement.WebElement (session=\"39e469c405306e119291277ccfe0d952\", element=\"de687ba5-6e13-45f6-a920-3c281e55f24c\")>,\n",
       " <selenium.webdriver.remote.webelement.WebElement (session=\"39e469c405306e119291277ccfe0d952\", element=\"7e7b965e-e933-414e-8e56-83ebf99b1668\")>,\n",
       " <selenium.webdriver.remote.webelement.WebElement (session=\"39e469c405306e119291277ccfe0d952\", element=\"74aa230a-12a2-494c-8391-74b0db375b4e\")>,\n",
       " <selenium.webdriver.remote.webelement.WebElement (session=\"39e469c405306e119291277ccfe0d952\", element=\"d8ee244d-e3c7-4009-a221-7b281473040b\")>,\n",
       " <selenium.webdriver.remote.webelement.WebElement (session=\"39e469c405306e119291277ccfe0d952\", element=\"947e19ee-09c5-4f4a-9bbb-7b42fb255376\")>,\n",
       " <selenium.webdriver.remote.webelement.WebElement (session=\"39e469c405306e119291277ccfe0d952\", element=\"0042aaf9-77a2-4dc8-804c-3a7cc81e7f26\")>,\n",
       " <selenium.webdriver.remote.webelement.WebElement (session=\"39e469c405306e119291277ccfe0d952\", element=\"dffb35c4-eecc-449d-8ace-71c53763e65d\")>,\n",
       " <selenium.webdriver.remote.webelement.WebElement (session=\"39e469c405306e119291277ccfe0d952\", element=\"fda12303-ac5b-414d-975a-13c0d826e48e\")>,\n",
       " <selenium.webdriver.remote.webelement.WebElement (session=\"39e469c405306e119291277ccfe0d952\", element=\"97cc838e-87bc-4ea0-9754-afe6cec98b74\")>,\n",
       " <selenium.webdriver.remote.webelement.WebElement (session=\"39e469c405306e119291277ccfe0d952\", element=\"3217c2ee-0760-449e-9a9a-f99102f86edb\")>,\n",
       " <selenium.webdriver.remote.webelement.WebElement (session=\"39e469c405306e119291277ccfe0d952\", element=\"de65ba29-d587-4d04-9934-65a42a793c6f\")>,\n",
       " <selenium.webdriver.remote.webelement.WebElement (session=\"39e469c405306e119291277ccfe0d952\", element=\"4680e4f5-e540-48d8-86a6-b879e274f298\")>,\n",
       " <selenium.webdriver.remote.webelement.WebElement (session=\"39e469c405306e119291277ccfe0d952\", element=\"ecb54a83-c981-4c78-9419-34315406c46e\")>,\n",
       " <selenium.webdriver.remote.webelement.WebElement (session=\"39e469c405306e119291277ccfe0d952\", element=\"f955bb36-2310-4684-8827-b0d1b8aa71ae\")>,\n",
       " <selenium.webdriver.remote.webelement.WebElement (session=\"39e469c405306e119291277ccfe0d952\", element=\"ce6bce15-4148-4784-aba3-ecc5639694a5\")>,\n",
       " <selenium.webdriver.remote.webelement.WebElement (session=\"39e469c405306e119291277ccfe0d952\", element=\"642b21c3-635d-4848-9396-1ff8336492db\")>,\n",
       " <selenium.webdriver.remote.webelement.WebElement (session=\"39e469c405306e119291277ccfe0d952\", element=\"6959b6a3-3b74-4736-9703-dd0c9575106b\")>,\n",
       " <selenium.webdriver.remote.webelement.WebElement (session=\"39e469c405306e119291277ccfe0d952\", element=\"1f09c6cc-7f2e-44b1-9447-a8c0a7bc4dd7\")>,\n",
       " <selenium.webdriver.remote.webelement.WebElement (session=\"39e469c405306e119291277ccfe0d952\", element=\"e899417b-9b51-43b8-8214-5b236d658396\")>,\n",
       " <selenium.webdriver.remote.webelement.WebElement (session=\"39e469c405306e119291277ccfe0d952\", element=\"a185805e-9884-485d-b95d-53b6ec1cb2ef\")>,\n",
       " <selenium.webdriver.remote.webelement.WebElement (session=\"39e469c405306e119291277ccfe0d952\", element=\"b27ea604-7b6a-46e7-a5b8-d003b78cc3f1\")>,\n",
       " <selenium.webdriver.remote.webelement.WebElement (session=\"39e469c405306e119291277ccfe0d952\", element=\"5618344c-ae4b-4dc0-886d-feef692efb4e\")>,\n",
       " <selenium.webdriver.remote.webelement.WebElement (session=\"39e469c405306e119291277ccfe0d952\", element=\"dbba01e0-0f46-45f8-9d1b-44612a21f948\")>,\n",
       " <selenium.webdriver.remote.webelement.WebElement (session=\"39e469c405306e119291277ccfe0d952\", element=\"232dca85-6b88-4aee-9815-30e6237858ab\")>,\n",
       " <selenium.webdriver.remote.webelement.WebElement (session=\"39e469c405306e119291277ccfe0d952\", element=\"bca97790-f62e-4af7-bcb3-c9ae8c649927\")>,\n",
       " <selenium.webdriver.remote.webelement.WebElement (session=\"39e469c405306e119291277ccfe0d952\", element=\"86b043ec-bbbd-48a0-9d24-4d8e3a019c9e\")>,\n",
       " <selenium.webdriver.remote.webelement.WebElement (session=\"39e469c405306e119291277ccfe0d952\", element=\"ce3b0e16-73fd-483f-90a3-214c90eaabe7\")>,\n",
       " <selenium.webdriver.remote.webelement.WebElement (session=\"39e469c405306e119291277ccfe0d952\", element=\"f544e8b5-149b-46f4-bef9-544b05ec5397\")>,\n",
       " <selenium.webdriver.remote.webelement.WebElement (session=\"39e469c405306e119291277ccfe0d952\", element=\"8ebec62c-0b85-41b0-b9fc-453bde201dd3\")>,\n",
       " <selenium.webdriver.remote.webelement.WebElement (session=\"39e469c405306e119291277ccfe0d952\", element=\"70a12dba-4c18-4608-b7bb-0608543ad3d5\")>,\n",
       " <selenium.webdriver.remote.webelement.WebElement (session=\"39e469c405306e119291277ccfe0d952\", element=\"a52fab72-07c7-4cad-8e21-bc85b3cbadf8\")>,\n",
       " <selenium.webdriver.remote.webelement.WebElement (session=\"39e469c405306e119291277ccfe0d952\", element=\"fdcaca68-2b57-462a-aa1d-9b69a6f58543\")>,\n",
       " <selenium.webdriver.remote.webelement.WebElement (session=\"39e469c405306e119291277ccfe0d952\", element=\"2964e51b-4d5b-40c6-ae89-dc7bd28678c2\")>,\n",
       " <selenium.webdriver.remote.webelement.WebElement (session=\"39e469c405306e119291277ccfe0d952\", element=\"2dd98e54-be2c-4893-ad74-30b12a8fd7d6\")>]"
      ]
     },
     "execution_count": 340,
     "metadata": {},
     "output_type": "execute_result"
    }
   ],
   "source": [
    "#lets extract all the tags having item discount\n",
    "discount_tags=driver.find_elements_by_xpath('//div[@class=\"_3Ay6Sb\"]')\n",
    "discount_tags"
   ]
  },
  {
   "cell_type": "code",
   "execution_count": 341,
   "metadata": {},
   "outputs": [
    {
     "data": {
      "text/plain": [
       "['79% off',\n",
       " '76% off',\n",
       " '80% off',\n",
       " '77% off',\n",
       " '78% off',\n",
       " '78% off',\n",
       " '81% off',\n",
       " '74% off',\n",
       " '84% off',\n",
       " '68% off',\n",
       " '68% off',\n",
       " '60% off',\n",
       " '84% off',\n",
       " '56% off',\n",
       " '15% off',\n",
       " '64% off',\n",
       " '20% off',\n",
       " '80% off',\n",
       " '77% off',\n",
       " '64% off',\n",
       " '20% off',\n",
       " '86% off',\n",
       " '77% off',\n",
       " '85% off',\n",
       " '60% off',\n",
       " '85% off',\n",
       " '81% off',\n",
       " '69% off',\n",
       " '15% off',\n",
       " '70% off',\n",
       " '80% off',\n",
       " '88% off',\n",
       " '84% off',\n",
       " '77% off',\n",
       " '68% off',\n",
       " '11% off',\n",
       " '83% off',\n",
       " '50% off',\n",
       " '27% off',\n",
       " '65% off']"
      ]
     },
     "execution_count": 341,
     "metadata": {},
     "output_type": "execute_result"
    }
   ],
   "source": [
    "#Extracting the text from these tags one by one by looping over these tags\n",
    "discount_list=[]\n",
    "for i in discount_tags:\n",
    "    discount_list.append(i.text)\n",
    "discount_list[:40]"
   ]
  },
  {
   "cell_type": "code",
   "execution_count": 346,
   "metadata": {},
   "outputs": [],
   "source": [
    "#do click next page using class_name function\n",
    "next_page=driver.find_element_by_xpath('//a[@class=\"_1LKTO3\"][2]')\n",
    "next_page.click()"
   ]
  },
  {
   "cell_type": "code",
   "execution_count": 347,
   "metadata": {},
   "outputs": [
    {
     "data": {
      "text/plain": [
       "['GANSTA',\n",
       " 'GANSTA',\n",
       " 'AISLIN',\n",
       " 'NuVew',\n",
       " 'Fravy',\n",
       " 'Fastrack',\n",
       " 'Fastrack',\n",
       " 'Fastrack',\n",
       " 'Fastrack',\n",
       " 'KAYFA',\n",
       " 'Fastrack',\n",
       " 'Fastrack',\n",
       " 'GANSTA',\n",
       " 'ROYAL SON',\n",
       " 'Crackers',\n",
       " 'Fastrack',\n",
       " 'ROZZETTA CRAFT',\n",
       " 'PHENOMENAL',\n",
       " 'Badfella',\n",
       " 'NuVew']"
      ]
     },
     "execution_count": 347,
     "metadata": {},
     "output_type": "execute_result"
    }
   ],
   "source": [
    "#lets extract all the tags having brand name and extracting the text from these tags one by one by looping over these tags\n",
    "brand_tags=driver.find_elements_by_xpath('//div[@class=\"_2WkVRV\"]')\n",
    "brand_list=[]\n",
    "for i in brand_tags:\n",
    "    brand_list.append(i.text)\n",
    "brand_list[:20]"
   ]
  },
  {
   "cell_type": "code",
   "execution_count": 348,
   "metadata": {},
   "outputs": [
    {
     "data": {
      "text/plain": [
       "['UV Protection Aviator Sunglasses (57)',\n",
       " 'UV Protection, Night Vision, Riding Glasses Aviator Sun...',\n",
       " 'UV Protection, Gradient Oval Sunglasses (58)',\n",
       " 'UV Protection Aviator Sunglasses (57)',\n",
       " 'UV Protection Retro Square Sunglasses (Free Size)',\n",
       " 'UV Protection, Polarized Wayfarer Sunglasses (56)',\n",
       " 'UV Protection Aviator Sunglasses (58)',\n",
       " 'UV Protection Wayfarer Sunglasses (Free Size)',\n",
       " 'UV Protection Wayfarer Sunglasses (57)',\n",
       " 'Gradient, UV Protection Wayfarer Sunglasses (Free Size)',\n",
       " 'Gradient, UV Protection Wayfarer Sunglasses (Free Size)',\n",
       " 'UV Protection, Gradient Wayfarer Sunglasses (53)',\n",
       " 'Polarized Rectangular Sunglasses (65)',\n",
       " 'UV Protection Aviator Sunglasses (55)',\n",
       " 'UV Protection Wayfarer Sunglasses (Free Size)',\n",
       " 'UV Protection, Gradient Round Sunglasses (Free Size)',\n",
       " 'UV Protection, Mirrored, Gradient Retro Square Sunglass...',\n",
       " 'Polarized, UV Protection Retro Square Sunglasses (53)',\n",
       " 'UV Protection, Gradient Cat-eye Sunglasses (63)',\n",
       " 'Gradient, UV Protection Round, Oval, Cat-eye Sunglasses...']"
      ]
     },
     "execution_count": 348,
     "metadata": {},
     "output_type": "execute_result"
    }
   ],
   "source": [
    "#lets extract all the tags having product description and extracting the text from these tags one by one by looping over these tags\n",
    "product_tags=driver.find_elements_by_xpath('//a[@class=\"IRpwTa\"]')\n",
    "product_list=[]\n",
    "for i in product_tags:\n",
    "    product_list.append(i.text)\n",
    "product_list[:20]"
   ]
  },
  {
   "cell_type": "code",
   "execution_count": 349,
   "metadata": {},
   "outputs": [
    {
     "data": {
      "text/plain": [
       "['₹337',\n",
       " '₹292',\n",
       " '₹493',\n",
       " '₹195',\n",
       " '₹289',\n",
       " '₹759',\n",
       " '₹1,115',\n",
       " '₹758',\n",
       " '₹559',\n",
       " '₹178',\n",
       " '₹777',\n",
       " '₹629',\n",
       " '₹328',\n",
       " '₹699',\n",
       " '₹170',\n",
       " '₹627',\n",
       " '₹449',\n",
       " '₹259',\n",
       " '₹269',\n",
       " '₹371']"
      ]
     },
     "execution_count": 349,
     "metadata": {},
     "output_type": "execute_result"
    }
   ],
   "source": [
    "#lets extract all the tags having product price and create a loop to extract text\n",
    "price_tags=driver.find_elements_by_xpath('//div[@class=\"_30jeq3\"]')\n",
    "price_list=[]\n",
    "for i in price_tags:\n",
    "    price_list.append(i.text)\n",
    "price_list[:20]"
   ]
  },
  {
   "cell_type": "code",
   "execution_count": 350,
   "metadata": {},
   "outputs": [
    {
     "data": {
      "text/plain": [
       "['83% off',\n",
       " '85% off',\n",
       " '67% off',\n",
       " '75% off',\n",
       " '80% off',\n",
       " '15% off',\n",
       " '14% off',\n",
       " '15% off',\n",
       " '30% off',\n",
       " '80% off',\n",
       " '22% off',\n",
       " '21% off',\n",
       " '83% off',\n",
       " '65% off',\n",
       " '82% off',\n",
       " '21% off',\n",
       " '83% off',\n",
       " '87% off',\n",
       " '73% off',\n",
       " '75% off']"
      ]
     },
     "execution_count": 350,
     "metadata": {},
     "output_type": "execute_result"
    }
   ],
   "source": [
    "#lets extract all the tags having item discount and create a loop to extract text\n",
    "discount_tags=driver.find_elements_by_xpath('//div[@class=\"_3Ay6Sb\"]')\n",
    "discount_list=[]\n",
    "for i in discount_tags:\n",
    "    discount_list.append(i.text)\n",
    "discount_list[:20]"
   ]
  },
  {
   "cell_type": "markdown",
   "metadata": {},
   "source": []
  },
  {
   "cell_type": "markdown",
   "metadata": {},
   "source": [
    "# Q7"
   ]
  },
  {
   "cell_type": "code",
   "execution_count": 401,
   "metadata": {},
   "outputs": [],
   "source": [
    "#importing all the required libraries\n",
    "import selenium\n",
    "import pandas as pd\n",
    "from selenium import webdriver\n",
    "import time"
   ]
  },
  {
   "cell_type": "code",
   "execution_count": 402,
   "metadata": {},
   "outputs": [],
   "source": [
    "#connecting to the webdriver\n",
    "driver=webdriver.Chrome(\"chromedriver.exe\")"
   ]
  },
  {
   "cell_type": "code",
   "execution_count": 403,
   "metadata": {},
   "outputs": [],
   "source": [
    "#we have to scrape 100 reviews data from flipkart.com for iphone11 phone\n",
    "#We have to scrape these attributes\n",
    "#1. Rating\n",
    "#2. Review_summary\n",
    "#3. Full review\n",
    "\n",
    "url='https://www.flipkart.com/apple-iphone-11 -black-64-gb-includesearpods-poweradapter/p/itm0f37c2240b217?pid=MOBFKCTSVZAXUHGR&lid=LSTMOBFKCTSVZAXUHGREPBFGI&marketplace.'\n",
    "driver.get(url)"
   ]
  },
  {
   "cell_type": "code",
   "execution_count": 404,
   "metadata": {},
   "outputs": [],
   "source": [
    "rating=[]\n",
    "review_summary=[]\n",
    "full_review=[]"
   ]
  },
  {
   "cell_type": "code",
   "execution_count": 408,
   "metadata": {},
   "outputs": [],
   "source": [
    "#extract all the tags and then extracting the text from these tags one by one by looping over these tags\n",
    "for i in driver.find_elements_by_xpath('//div[@class=\"_3LWZlK _1BLPMq\"]'):\n",
    "    rating.append(i.text)\n",
    "for j in driver.find_elements_by_xpath('//p[@class=\"_2-N8zT\"]'):\n",
    "    review_summary.append(j.text)\n",
    "for k in driver.find_elements_by_xpath('//div[@class=\"t-ZTKy\"]'):\n",
    "    full_review.append(k.text)"
   ]
  },
  {
   "cell_type": "code",
   "execution_count": 409,
   "metadata": {},
   "outputs": [
    {
     "data": {
      "text/plain": [
       "['5', '5', '5', '5', '4', '5', '5', '5', '5', '5']"
      ]
     },
     "execution_count": 409,
     "metadata": {},
     "output_type": "execute_result"
    }
   ],
   "source": [
    "rating[:10]"
   ]
  },
  {
   "cell_type": "code",
   "execution_count": 410,
   "metadata": {},
   "outputs": [
    {
     "data": {
      "text/plain": [
       "['Brilliant',\n",
       " 'Perfect product!',\n",
       " 'Great product',\n",
       " 'Worth every penny',\n",
       " 'Good choice',\n",
       " 'Highly recommended',\n",
       " 'Perfect product!',\n",
       " 'Fabulous!',\n",
       " 'Perfect product!',\n",
       " 'Wonderful']"
      ]
     },
     "execution_count": 410,
     "metadata": {},
     "output_type": "execute_result"
    }
   ],
   "source": [
    "review_summary[:10]"
   ]
  },
  {
   "cell_type": "code",
   "execution_count": 411,
   "metadata": {},
   "outputs": [
    {
     "data": {
      "text/plain": [
       "['The Best Phone for the Money\\n\\nThe iPhone 11 offers superb cameras, a more durable design and excellent battery life for an affordable price.\\n\\nCompelling ultra-wide camera\\nNew Night mode is excellent\\nLong battery life',\n",
       " 'Amazing phone with great cameras and better battery which gives you the best performance. I just love the camera .',\n",
       " 'Amazing Powerful and Durable Gadget.\\n\\nI’m am very happy with the camera picture quality, Amazing face id unlocked in dark room, Strong battery with perfect screen size as you can carry easily in pocket. This is my third iPhone.\\n\\nI shifted from android Samsung Note series to iPhone because of the strong build quality and peace of mind for next 3-4 years.\\n\\nDon’t think to much just go for it and I suggest you to go for minimum 128gb variant or more 256gb.\\n\\nI’ve attached my puppy pics and no fi...\\nREAD MORE',\n",
       " 'Previously I was using one plus 3t it was a great phone\\nAnd then I decided to upgrade I am stuck between Samsung s10 plus or iPhone 11\\nI have seen the specs and everything were good except the display it’s somewhere between 720-1080 and it’s not even an amoled it’s an LCD display\\nBut I decided to go with iPhone because I have never used an IOS device I have Been an android user from the past 9 years I ordered IPhone 11 (128gb) product red\\nMy experience after using 3 weeks\\n1. The delivery ...\\nREAD MORE',\n",
       " 'So far it’s been an AMAZING experience coming back to iOS after nearly a decade but it’s not as versatile as android though phone is sturdy dropped it accidentally a couple of times and nothing happened fortunately camera is awesome',\n",
       " 'iphone 11 is a very good phone to buy only if you can compromise for the display. The display on this is device is pretty good but you can get other options with better displays in this price segment.\\nIf you can survive with an HD+ LCD panel with thicker bezels and a notch up top then this is a very good phone for you.\\nCameras are awesome, battery backup excellent, great performance and a decent premium look. Good job Apple !',\n",
       " 'It’s a must buy who is looking for an upgrade from previous generation of iPhones. If you are using XR then still you can hold on for sometime and upgrade to 2020 model else this phone is a must buy . Camera quality is amazing and wide angle is something to count upon. Performance wise it’s amazing and feels premium while holding in hand. So a big YES for this device. Go for 128 GB variant as the 4K videos will occupy lots of space and the storage can get over very quickly. Try to buy it with...\\nREAD MORE',\n",
       " 'This is my first iOS phone. I am very happy with this product. Very much satisfied with this. I love this phone.',\n",
       " 'Value for money❤️❤️\\nIts awesome mobile phone in the world ...\\nDisplay was very good and bright ..\\nTrust me freinds you r never regret after Buying..\\nJust go for it....\\nI love this phone and i switch to iphone x to 11',\n",
       " '*Review after 10 months of usage*\\nDoesn\\'t seem bulky with decent touch and camera. The \"standard maintained\" quality of IPhone. Go for it, if your budget is not more enough for pro models. It\\'s a value for money among the 11 series Stereo speakers are so good, you will love the stereo sound. Battery backup is not decent but still better than Iphone 7 and 8.Processor is fast, the phone doesn\\'t lag at all even with heavy games, waterproof, faster face id and with no fingerprint scanners. The ca...\\nREAD MORE']"
      ]
     },
     "execution_count": 411,
     "metadata": {},
     "output_type": "execute_result"
    }
   ],
   "source": [
    "full_review[:10]"
   ]
  },
  {
   "cell_type": "code",
   "execution_count": 412,
   "metadata": {},
   "outputs": [],
   "source": [
    "#do click next page using class_name function\n",
    "next_page=driver.find_element_by_class_name('_1LKTO3')\n",
    "next_page.click()"
   ]
  },
  {
   "cell_type": "code",
   "execution_count": 416,
   "metadata": {},
   "outputs": [],
   "source": [
    "rating=[]\n",
    "review_summary=[]\n",
    "full_review=[]"
   ]
  },
  {
   "cell_type": "code",
   "execution_count": 417,
   "metadata": {},
   "outputs": [],
   "source": [
    "#extract all the tags and then extracting the text from these tags one by one by looping over these tags\n",
    "for i in driver.find_elements_by_xpath('//div[@class=\"_3LWZlK _1BLPMq\"]'):\n",
    "    rating.append(i.text)\n",
    "for j in driver.find_elements_by_xpath('//p[@class=\"_2-N8zT\"]'):\n",
    "    review_summary.append(j.text)\n",
    "for k in driver.find_elements_by_xpath('//div[@class=\"t-ZTKy\"]'):\n",
    "    full_review.append(k.text)"
   ]
  },
  {
   "cell_type": "code",
   "execution_count": 418,
   "metadata": {},
   "outputs": [
    {
     "data": {
      "text/plain": [
       "['5', '5', '5', '4', '5', '5', '5', '5', '5', '5']"
      ]
     },
     "execution_count": 418,
     "metadata": {},
     "output_type": "execute_result"
    }
   ],
   "source": [
    "rating[:10]"
   ]
  },
  {
   "cell_type": "code",
   "execution_count": 419,
   "metadata": {},
   "outputs": [
    {
     "data": {
      "text/plain": [
       "['Worth every penny',\n",
       " 'Perfect product!',\n",
       " 'Worth every penny',\n",
       " 'Nice product',\n",
       " 'Simply awesome',\n",
       " 'Terrific',\n",
       " 'Highly recommended',\n",
       " 'Classy product',\n",
       " 'Wonderful',\n",
       " 'Brilliant']"
      ]
     },
     "execution_count": 419,
     "metadata": {},
     "output_type": "execute_result"
    }
   ],
   "source": [
    "review_summary[:10]"
   ]
  },
  {
   "cell_type": "code",
   "execution_count": 420,
   "metadata": {},
   "outputs": [],
   "source": [
    "#do click next page using xpath\n",
    "next_page=driver.find_element_by_xpath('//a[@class=\"_1LKTO3\"][2]')\n",
    "next_page.click()"
   ]
  },
  {
   "cell_type": "code",
   "execution_count": 421,
   "metadata": {},
   "outputs": [],
   "source": [
    "rating=[]\n",
    "review_summary=[]\n",
    "full_review=[]"
   ]
  },
  {
   "cell_type": "code",
   "execution_count": 422,
   "metadata": {},
   "outputs": [],
   "source": [
    "#extract all the tags and then extracting the text from these tags one by one by looping over these tags\n",
    "for i in driver.find_elements_by_xpath('//div[@class=\"_3LWZlK _1BLPMq\"]'):\n",
    "    rating.append(i.text)\n",
    "for j in driver.find_elements_by_xpath('//p[@class=\"_2-N8zT\"]'):\n",
    "    review_summary.append(j.text)\n",
    "for k in driver.find_elements_by_xpath('//div[@class=\"t-ZTKy\"]'):\n",
    "    full_review.append(k.text)"
   ]
  },
  {
   "cell_type": "code",
   "execution_count": 423,
   "metadata": {},
   "outputs": [
    {
     "data": {
      "text/plain": [
       "['5', '5', '5', '5', '5', '5', '4', '5', '5']"
      ]
     },
     "execution_count": 423,
     "metadata": {},
     "output_type": "execute_result"
    }
   ],
   "source": [
    "rating[:10]"
   ]
  },
  {
   "cell_type": "code",
   "execution_count": 424,
   "metadata": {},
   "outputs": [
    {
     "data": {
      "text/plain": [
       "['Must buy!',\n",
       " 'Terrific purchase',\n",
       " 'Mind-blowing purchase',\n",
       " 'Great product',\n",
       " 'Terrific purchase',\n",
       " 'Simply awesome',\n",
       " 'Good quality product',\n",
       " 'Very poor',\n",
       " 'Best in the market!',\n",
       " 'Must buy!']"
      ]
     },
     "execution_count": 424,
     "metadata": {},
     "output_type": "execute_result"
    }
   ],
   "source": [
    "review_summary[:10]"
   ]
  },
  {
   "cell_type": "code",
   "execution_count": 425,
   "metadata": {},
   "outputs": [
    {
     "data": {
      "text/plain": [
       "['It’s an amazing product from apple and the camera is simply superb. Phone is faster.Night shot is simply superb and detailing and colour differentiation from camera is an added advantage\\n\\nThis review I have written from iPhone 11 only and I am glad to say outside.\\n\\nCons wise if we see HD+ display only, no battery percentage indicator as in older iPhone 8.\\nNo assistive touch control button in it\\nNo oleophobic coating on back panel glass and finger prints are visible but since I bought mint gr...\\nREAD MORE',\n",
       " 'Upgraded from iphone 6 to 11 best phone for iphone users battery is much better than other iphones camera is awesome love to use it.camera is so clear in night.',\n",
       " 'This will help you more. See if you are planning to buy iPhone 11. I will say. Yes. But there are some plans I just want to disclose before you buy. 1) If you are an existing iPhone X/XS/XS Max/ XR user, better you guys do not think it to buy. You guys have more or less better gadget. 2) If you are an android user and planning to buy premium phone. I will suggest them to please buy iPhone instead of buying an Android. I bet you will never go back to android after using IOS. Now I want to shar...\\nREAD MORE',\n",
       " 'Well you all know the specifications . One of a kind. Best iPhone till date. Many enhancements to the camera app with many options. Love the glass body with matte finish in the lens area on the back. Lovely colours to choose from. Best battery in an iPhone till date, enough to last more than a day in normal usage. I tested my iPhone 11 battery and lasted for than 24 hours after full charge still with 30% battery charge left. Watched movies for some time. Normal usage on calls, browsing, musi...\\nREAD MORE',\n",
       " 'The built quality is not very premium.\\nThe battery back is great .\\nThe LCD panel is not so sharp but the brightness level is very High .\\nCamera is super duper awesome.\\nThe red colour which people think is bright is actually very soothing and excellent colour to choose from .\\nThe A13 Bionic chip is really a flagship processor and can beat any phone which even has 12 gb ram .\\nCamera module is very great and looks very stylish.',\n",
       " 'Really good actually this is my first apple product am using its really awesome performance wise excellent. Am really happy with this iphone11',\n",
       " 'it is very good at performance. Camera is best like before and very smooth response even in water. Don’t buy 12 mini buy iPhone 11 , it is far better than 12 mini believe me ! Have a nice day \\uf8ff ☺️',\n",
       " 'Reviewing again after 5 months. At the beginning the battery and performance was good but it degraded soon. Also I was facing heating issues. The mobile will heat up like a stove sometimes. You cannot even play Pubg even in low settings properly, performance is not a problem but heating is. Also if you play that game for 10 mins the brightness will be automatically down due to over heating even when the auto brightness is set to off. This will not be solved even if u manually increase the bri...\\nREAD MORE',\n",
       " 'Great iPhone very snappy experience as apple kind. Upgraded from iPhone 7.\\nPros\\n-Camera top class\\n- Battery top performed\\n-Chipset no need to say as apple kind\\n-Security as you expect from apple\\n- Display super bright industry leading colour\\naccuracy and super responsive\\n-Build quality as expect from apple sturdy\\npremium durable beautiful stylish.\\n-Os most stable os in smartphone industry\\n\\nCons\\n-No 5G\\n-Display is not based on OLED technology\\n-Charger headphones and 1 apple stic...\\nREAD MORE',\n",
       " 'Best Apple iPhone that i have bought at a very reasonable price, camera quality is next level just awesome n of superior quality android phones not even close(RIP) to that and also battery is really good but packaging by Flipkart of iPhone was very poor of such a expensive product, firstly im bit worried about the quality of product if i purchased it through online how was the product but i think now this was mine best decision to bought it through Flipkart online because i got genuine Apple...\\nREAD MORE']"
      ]
     },
     "execution_count": 425,
     "metadata": {},
     "output_type": "execute_result"
    }
   ],
   "source": [
    "full_review[:10]"
   ]
  },
  {
   "cell_type": "code",
   "execution_count": 427,
   "metadata": {},
   "outputs": [],
   "source": [
    "#do click next page using xpath\n",
    "next_page=driver.find_element_by_xpath('//a[@class=\"_1LKTO3\"][2]')\n",
    "next_page.click()"
   ]
  },
  {
   "cell_type": "code",
   "execution_count": 428,
   "metadata": {},
   "outputs": [],
   "source": [
    "rating=[]\n",
    "review_summary=[]\n",
    "full_review=[]"
   ]
  },
  {
   "cell_type": "code",
   "execution_count": 429,
   "metadata": {},
   "outputs": [],
   "source": [
    "#extract all the tags and then extracting the text from these tags one by one by looping over these tags\n",
    "for i in driver.find_elements_by_xpath('//div[@class=\"_3LWZlK _1BLPMq\"]'):\n",
    "    rating.append(i.text)\n",
    "for j in driver.find_elements_by_xpath('//p[@class=\"_2-N8zT\"]'):\n",
    "    review_summary.append(j.text)\n",
    "for k in driver.find_elements_by_xpath('//div[@class=\"t-ZTKy\"]'):\n",
    "    full_review.append(k.text)"
   ]
  },
  {
   "cell_type": "code",
   "execution_count": 430,
   "metadata": {},
   "outputs": [
    {
     "data": {
      "text/plain": [
       "['5', '5', '5', '5', '5', '5', '4', '4', '5', '5']"
      ]
     },
     "execution_count": 430,
     "metadata": {},
     "output_type": "execute_result"
    }
   ],
   "source": [
    "rating[:10]"
   ]
  },
  {
   "cell_type": "code",
   "execution_count": 431,
   "metadata": {},
   "outputs": [
    {
     "data": {
      "text/plain": [
       "['Fabulous!',\n",
       " 'Mind-blowing purchase',\n",
       " 'Mind-blowing purchase',\n",
       " 'Wonderful',\n",
       " 'Worth every penny',\n",
       " 'Wonderful',\n",
       " 'Good choice',\n",
       " 'Very Good',\n",
       " 'Perfect product!',\n",
       " 'Classy product']"
      ]
     },
     "execution_count": 431,
     "metadata": {},
     "output_type": "execute_result"
    }
   ],
   "source": [
    "review_summary[:10]"
   ]
  },
  {
   "cell_type": "code",
   "execution_count": 432,
   "metadata": {},
   "outputs": [
    {
     "data": {
      "text/plain": [
       "[\"I can say I'm damn impressed with iPhone 11. As they says iPhone 11 have the toughest glass ever in the smartphone which you'll find on the front and back and it's totally smooth. The fit and finish is full apple quality - there's no sense that any cheaping out has happened in the construction. Without saying it's camera features this review won't complete. The iPhone 11 has a dual camera system, consisting of a wide angle len's that's pretty much same as found on the iPhone XR last year, but...\\nREAD MORE\",\n",
       " 'Best Quality Product OF iPhone Series , Sound Quality & Camera quality is very awesome, Battery Life is very Sufficient for 24 hr Backup With Full Internet Access , I love this this Product too much , It is very fast & making me Very fast in all my daily Routine\\nHighlights;\\n1.Camera: 5 STAR\\n2.Video Recording: 5 star\\n3.Night mODE sHOOTING & Camera:4 star\\n4. Audio Quality: Awesome\\n5. Battery : 5 Star\\n6. Touch:5 Star\\n7. Processor: Very Fast\\nThe M...\\nREAD MORE',\n",
       " 'First thanks to Flipkart for this amazing deal and phone is outstanding. I upgraded from iPhone 7 and this is like very big upgrade. But the packaging was very basic I expected a good packaging as they only wrapped one layer of bubble wrap which I don’t think is enough to protect this expensive phone. And I recommend this phone and seller as well.\\n\\nAnd I’m posting this review after using it for 4 days.',\n",
       " 'Superfast delivery by Flipkart. Thanks.\\n\\n1. iPhone 11 is a pretty solid phone for the money you are paying.\\n2. All the bad reviews about the display is confusing. It’s not that bad.\\n3. I switched from a Oneplus 7t. I have no complaints about the display quality of iPhone. Yes, it’s not OLED, so, we are missing on the deep blacks. But that’s it. It is a very colour accurate display. Gets adequately bright and I could not find any pixelation.\\n4. Performance is one of the best, if not best, in ...\\nREAD MORE',\n",
       " 'Smooth like butter, camera like fantabulous, sound is crystal clear & its red color is damn attractive, i am just loving it. Must buy if you love photography.\\n\\nLucky to get it in sale, thank you Flipkart.',\n",
       " 'I just directly switch from iphone 6s to iphone 11 .The best premium smartphone I recommend to everyone. Excellent quality and colors the iphone have in 11 series.\\nCamera quality is just awesome and the major feel when we hold in our hands. The sound quality and volume is also higher then the previous models.\\nI will recommend to buy iphone 11 instead of pro models , there is nothing much difference as this model contains everything which fulfill our needs.\\n\\nOnly one thing that I dislike abo...\\nREAD MORE',\n",
       " 'Looking so good 👍 😍 super 👌 stylish 😎 phone\\nClean box 📦 good 👍 delivery 👌 fast delivery\\nOriginal box Original iphone 📱 👌 😍😍😍',\n",
       " 'impressive super phone and best in class camera ,sound and face unlock is super fast just see and phone is unlock and fast in daily apps use',\n",
       " 'Battery backup is extraordinary, camera is decent & performance offered by A13 bionic is awsome. The display is good in practical usage like the visibility of display is very good in direct sun light compare to pro models. Iam extremely satisfied for the money I spent.',\n",
       " 'Well while switching from android to iOS the first thing you need to be careful about is that you will loose all your whatsapp chat backups as both are different operating systems. Camera clarity is awesome and though being an lcd screen clarity and resolution is good. Battery backup is also good unlike previous gen iPhone. So far the experience is good will Padre after a few months of usage.\\n\\nP.S the black is more of a dark grey shade and not jet black']"
      ]
     },
     "execution_count": 432,
     "metadata": {},
     "output_type": "execute_result"
    }
   ],
   "source": [
    "full_review[:10]"
   ]
  },
  {
   "cell_type": "code",
   "execution_count": 433,
   "metadata": {},
   "outputs": [],
   "source": [
    "#do click next page using xpath\n",
    "next_page=driver.find_element_by_xpath('//a[@class=\"_1LKTO3\"][2]')\n",
    "next_page.click()"
   ]
  },
  {
   "cell_type": "code",
   "execution_count": 434,
   "metadata": {},
   "outputs": [],
   "source": [
    "rating=[]\n",
    "review_summary=[]\n",
    "full_review=[]"
   ]
  },
  {
   "cell_type": "code",
   "execution_count": 435,
   "metadata": {},
   "outputs": [],
   "source": [
    "#extract all the tags and then extracting the text from these tags one by one by looping over these tags\n",
    "for i in driver.find_elements_by_xpath('//div[@class=\"_3LWZlK _1BLPMq\"]'):\n",
    "    rating.append(i.text)\n",
    "for j in driver.find_elements_by_xpath('//p[@class=\"_2-N8zT\"]'):\n",
    "    review_summary.append(j.text)\n",
    "for k in driver.find_elements_by_xpath('//div[@class=\"t-ZTKy\"]'):\n",
    "    full_review.append(k.text)"
   ]
  },
  {
   "cell_type": "code",
   "execution_count": 436,
   "metadata": {},
   "outputs": [
    {
     "data": {
      "text/plain": [
       "['5', '5', '5', '5', '5', '5', '5', '5', '5', '5']"
      ]
     },
     "execution_count": 436,
     "metadata": {},
     "output_type": "execute_result"
    }
   ],
   "source": [
    "rating[:10]"
   ]
  },
  {
   "cell_type": "code",
   "execution_count": 437,
   "metadata": {},
   "outputs": [
    {
     "data": {
      "text/plain": [
       "['Perfect product!',\n",
       " 'Just wow!',\n",
       " 'Awesome',\n",
       " 'Terrific purchase',\n",
       " 'Brilliant',\n",
       " 'Perfect product!',\n",
       " 'Highly recommended',\n",
       " 'Perfect product!',\n",
       " 'Excellent',\n",
       " 'Fabulous!']"
      ]
     },
     "execution_count": 437,
     "metadata": {},
     "output_type": "execute_result"
    }
   ],
   "source": [
    "review_summary[:10]"
   ]
  },
  {
   "cell_type": "code",
   "execution_count": 438,
   "metadata": {},
   "outputs": [
    {
     "data": {
      "text/plain": [
       "['In love with this iphone great performance,camera ,battery everything. Go for it have a uncompareble battery backup, no doubts in iPhone camera here You can see the picture which is shot on my iPhone In love with this iphone great performance,camera ,battery everything. Go for it have a uncompareble battery backup, no doubts in iPhone camera here You can see the picture which is shot on my iPhone In love with this iphone great performance,camera ,battery everything. Go for it have a uncompare...\\nREAD MORE',\n",
       " 'Best in class. Battery backup is good especially when you play games like Pubg COD. But it is sort of heavy when you hold in hands. Portrait mode is best to click pictures. Stage light effect is awesome. Try to click photos outside in nature because photos inside home or room will not give you the quality in any phone even in DSLR.',\n",
       " 'Very excited to have this phone. This phone has the real power unlike the android phones having SD 855 . The battery life is very good and the camera quality is excellent as comapred to redmi and other phones except google pixel. I M enjoying every single bit of it. Would recommed only if you have the budget.',\n",
       " 'Its Very awesome product working and good camera quality and all about best product and also flipkart is very great deal and offer nice price',\n",
       " 'Excellent camera and display touching very nice and smooth very improvement against iPhone XR and new processor is very fast',\n",
       " 'After 1 month use I found camera quality best compared to my previous Samsung note 10+.Display not good as note 10 also charging too slow.Apple should add fast charger like 11 plus and pro.Best phone for daily use',\n",
       " 'What a camera .....just awesome ..you can feel this iPhone just awesome . Good for gaming also ...try pubg in hd it’s just wow',\n",
       " 'Awesome purchase. Amazing phone with good battery backup. It’s a top notch device. White colour looks amazing. Phone has a few extra feature than iPhone XR. Overall, this is value for money',\n",
       " 'Amazing camera and feel super machine I am not describe my feeling but this is amazing Phone I am so lucky I have this',\n",
       " 'awesome phone to have. it has got many smart features apart from mind blowing looks, camera, display, battery and sound. have fallen in love with this phone. must buy phone if you have got enough money. thanks to flipkart and apple of course..']"
      ]
     },
     "execution_count": 438,
     "metadata": {},
     "output_type": "execute_result"
    }
   ],
   "source": [
    "full_review[:10]"
   ]
  },
  {
   "cell_type": "code",
   "execution_count": 440,
   "metadata": {},
   "outputs": [],
   "source": [
    "#do click next page using xpath\n",
    "next_page=driver.find_element_by_xpath('//a[@class=\"_1LKTO3\"][2]')\n",
    "next_page.click()"
   ]
  },
  {
   "cell_type": "code",
   "execution_count": 441,
   "metadata": {},
   "outputs": [],
   "source": [
    "rating=[]\n",
    "review_summary=[]\n",
    "full_review=[]"
   ]
  },
  {
   "cell_type": "code",
   "execution_count": 442,
   "metadata": {},
   "outputs": [],
   "source": [
    "#extract all the tags and then extracting the text from these tags one by one by looping over these tags\n",
    "for i in driver.find_elements_by_xpath('//div[@class=\"_3LWZlK _1BLPMq\"]'):\n",
    "    rating.append(i.text)\n",
    "for j in driver.find_elements_by_xpath('//p[@class=\"_2-N8zT\"]'):\n",
    "    review_summary.append(j.text)\n",
    "for k in driver.find_elements_by_xpath('//div[@class=\"t-ZTKy\"]'):\n",
    "    full_review.append(k.text)"
   ]
  },
  {
   "cell_type": "code",
   "execution_count": 443,
   "metadata": {},
   "outputs": [
    {
     "data": {
      "text/plain": [
       "['5', '5', '5', '5', '5', '5', '5', '5', '4', '5']"
      ]
     },
     "execution_count": 443,
     "metadata": {},
     "output_type": "execute_result"
    }
   ],
   "source": [
    "rating[:10]"
   ]
  },
  {
   "cell_type": "code",
   "execution_count": 444,
   "metadata": {},
   "outputs": [
    {
     "data": {
      "text/plain": [
       "['Excellent',\n",
       " 'Must buy!',\n",
       " 'Simply awesome',\n",
       " 'Brilliant',\n",
       " 'Terrific purchase',\n",
       " 'Simply awesome',\n",
       " 'Perfect product!',\n",
       " 'Worth every penny',\n",
       " 'Value-for-money',\n",
       " 'Just wow!']"
      ]
     },
     "execution_count": 444,
     "metadata": {},
     "output_type": "execute_result"
    }
   ],
   "source": [
    "review_summary[:10]"
   ]
  },
  {
   "cell_type": "code",
   "execution_count": 445,
   "metadata": {},
   "outputs": [
    {
     "data": {
      "text/plain": [
       "['Its a fabulous mobile look awesome performance unbeaten camera like dslr battery good i think this is a beast of mobile',\n",
       " 'Dear friends... I want to share my experience with you about this amazing I phone 11....this is my first iPhone and special things about this mobile is it has great camera, battery backup and awesome display.... I mean everything is perfect.loved it 👍👍👍',\n",
       " \"It's very high performances devise i am like the service of flipkart delevary very fast and packing very nice perfect phone\",\n",
       " 'Amazing phone and on great deal I received with super fast delivery by Flipkart...',\n",
       " 'finally an iPhone with very nice battery backup. update from iPhone 7 and happy to have it. camera is not up to the mark in low light but overall a recommended phone if your budget allows 😀',\n",
       " 'Really satisfied with the Product I received... It’s totally genuine and the packaging was also really good so if ur planning to buy just go for it.',\n",
       " 'Worth the money’ starting first from its performance it beats out all phones , second the smoothness of camera is awesome, contrast ratio is much than expected. Price will not matter if u r a quality person, if not other phones are available with better discount',\n",
       " 'i11 is worthy to buy, too much happy with the product. Thank u flipkart I received the item on time..loved it..',\n",
       " \"I'm Really happy with the product\\nDelivery was fast as well\\n..it was a gift for my sister and she loved it so much.\",\n",
       " 'Great iphone.\\nI am writing this review after 2 months of usage.\\nCamera is excellent, especially the nightmode\\nDisplay perfect\\nBattery backup awesome\\nSound quality very good\\nOverall Apple gives you a perfect iphone in this range.\\nReally in love with iPhone 11']"
      ]
     },
     "execution_count": 445,
     "metadata": {},
     "output_type": "execute_result"
    }
   ],
   "source": [
    "full_review[:10]"
   ]
  },
  {
   "cell_type": "code",
   "execution_count": 446,
   "metadata": {},
   "outputs": [],
   "source": [
    "#do click next page using xpath\n",
    "next_page=driver.find_element_by_xpath('//a[@class=\"_1LKTO3\"][2]')\n",
    "next_page.click()"
   ]
  },
  {
   "cell_type": "code",
   "execution_count": 447,
   "metadata": {},
   "outputs": [],
   "source": [
    "rating=[]\n",
    "review_summary=[]\n",
    "full_review=[]"
   ]
  },
  {
   "cell_type": "code",
   "execution_count": 448,
   "metadata": {},
   "outputs": [],
   "source": [
    "#extract all the tags and then extracting the text from these tags one by one by looping over these tags\n",
    "for i in driver.find_elements_by_xpath('//div[@class=\"_3LWZlK _1BLPMq\"]'):\n",
    "    rating.append(i.text)\n",
    "for j in driver.find_elements_by_xpath('//p[@class=\"_2-N8zT\"]'):\n",
    "    review_summary.append(j.text)\n",
    "for k in driver.find_elements_by_xpath('//div[@class=\"t-ZTKy\"]'):\n",
    "    full_review.append(k.text)"
   ]
  },
  {
   "cell_type": "code",
   "execution_count": 449,
   "metadata": {},
   "outputs": [
    {
     "data": {
      "text/plain": [
       "['5', '5', '5', '5', '5', '5', '5', '5', '5', '5']"
      ]
     },
     "execution_count": 449,
     "metadata": {},
     "output_type": "execute_result"
    }
   ],
   "source": [
    "rating[:10]"
   ]
  },
  {
   "cell_type": "code",
   "execution_count": 450,
   "metadata": {},
   "outputs": [
    {
     "data": {
      "text/plain": [
       "['Super!',\n",
       " 'Perfect product!',\n",
       " 'Must buy!',\n",
       " 'Great product',\n",
       " 'Awesome',\n",
       " 'Mind-blowing purchase',\n",
       " 'Perfect product!',\n",
       " 'Fabulous!',\n",
       " 'Perfect product!',\n",
       " 'Excellent']"
      ]
     },
     "execution_count": 450,
     "metadata": {},
     "output_type": "execute_result"
    }
   ],
   "source": [
    "review_summary[:10]"
   ]
  },
  {
   "cell_type": "code",
   "execution_count": 451,
   "metadata": {},
   "outputs": [
    {
     "data": {
      "text/plain": [
       "['Did an upgrade from 6s plus to iphone 11.\\nAo far the experience is well and good. Felt smoother than 6s plus. The camera quality is superb. Battery backup is descent. Not a heavy user, and gets power more than a day. Go for it if you need an alrounder iphone in a competitve price.',\n",
       " 'Value for money\\n5 star rating\\nExcellent camera\\nBattery backup full day in single charge.\\n\\nTougher and water resistant design, glossy back.\\nThe screen has excellent brightness and contrast.\\nApple A13 Bionic is the fastest smartphone chip on the planet.\\nExcellent battery life, fast charging support.\\nStereo speakers with great quality.',\n",
       " 'Damn this phone is a blast . Upgraded from android to ios and is a duperb experience. Battery backup is top notch and display also pretty good',\n",
       " \"Again back to apple iphone after a gap of 2-3 years. It's pleasure to use iOS and the quality product by Apple. Iphone 11 still works like a beast in 2021 also. It really capable of doing day to day usage as well as hard core gaming. Battery is awesome. I'm really too much satisfied with it. Apart fto the very gorgious IPS LCD (AMOLED will be better) everything is mind boggling. Iphone💕.\",\n",
       " 'Always love the apple products, upgraded from old iPhone 6S plus to this after having my first baby. I just love to click baby’s photos with it. Overall I just love this phone. Battery back up is okay, sound quality is good. Haven’t tested yet waterproof yet. Only one thing I hate is apple could have given charger & headphones in box.',\n",
       " 'awesome Phone Smooth Touch Too good Sexyy looks one word Awesome',\n",
       " 'Best and amazing product.....phone looks so premium.... battary is also good as expected .... Wide angle camera is so addictive ...if you are a IOS lover....then this phone will be the best choice for you all!!💯🔥',\n",
       " 'I purchased the iPhone 11 a month back. I must say Apple has impressed me yet again . I have been an Apple user for past 5 years . The phone is power packed with amazing features . What impressed me the most was the battery backup the phone offers . Battery can easily run upto 1.5 days in single charge with moderate to\\nHeavy usage . If you’re looking for a value for money device , I don’t see any other phone in the price range which can match the iPhone 11 .\\nOne thing I didn’t like was that ...\\nREAD MORE',\n",
       " 'It is just awesome mobile for this price from Apple,\\n\\nAfter 10 days review\\n\\nBattery enough for 1 day even 24*7 Internet will be on and mostly internet usage\\n\\nCamera is just awesome cool , android 64 MP is equal to this just 12 MP\\n\\nA13 Bionic chip will give more high performance without hanging\\n\\nAudio stereo speakers will give Dolby atoms sound with crystal clear\\n\\nVideo recording is like cinematic shots of every sec can be a 4K 60fps. Just awesome this phone\\niPhone 11 loved one',\n",
       " \"Just go for it.\\nThis phone is really amazing. I ordered it for my wife and we click photos on this thing which are better than dslr. I own OnePlus 6t but it's camera sucks. iPhone is really amazing when it comes to camera. It's worth spending 50k on this. Cons- only display is lcd. While using u don't feel it but if u compare with other phone then u can see difference quite easily.\\nChanging from Android to iphone is bit difficult coz most of things u don't know but I liked it. Some of the a...\\nREAD MORE\"]"
      ]
     },
     "execution_count": 451,
     "metadata": {},
     "output_type": "execute_result"
    }
   ],
   "source": [
    "full_review[:10]"
   ]
  },
  {
   "cell_type": "code",
   "execution_count": 452,
   "metadata": {},
   "outputs": [],
   "source": [
    "#do click next page using xpath\n",
    "next_page=driver.find_element_by_xpath('//a[@class=\"_1LKTO3\"][2]')\n",
    "next_page.click()"
   ]
  },
  {
   "cell_type": "code",
   "execution_count": 453,
   "metadata": {},
   "outputs": [],
   "source": [
    "rating=[]\n",
    "review_summary=[]\n",
    "full_review=[]"
   ]
  },
  {
   "cell_type": "code",
   "execution_count": 454,
   "metadata": {},
   "outputs": [],
   "source": [
    "#extract all the tags and then extracting the text from these tags one by one by looping over these tags\n",
    "for i in driver.find_elements_by_xpath('//div[@class=\"_3LWZlK _1BLPMq\"]'):\n",
    "    rating.append(i.text)\n",
    "for j in driver.find_elements_by_xpath('//p[@class=\"_2-N8zT\"]'):\n",
    "    review_summary.append(j.text)\n",
    "for k in driver.find_elements_by_xpath('//div[@class=\"t-ZTKy\"]'):\n",
    "    full_review.append(k.text)"
   ]
  },
  {
   "cell_type": "code",
   "execution_count": 455,
   "metadata": {},
   "outputs": [
    {
     "data": {
      "text/plain": [
       "['5', '4', '5', '5', '3', '4', '5', '5', '5', '5']"
      ]
     },
     "execution_count": 455,
     "metadata": {},
     "output_type": "execute_result"
    }
   ],
   "source": [
    "rating[:10]"
   ]
  },
  {
   "cell_type": "code",
   "execution_count": 456,
   "metadata": {},
   "outputs": [
    {
     "data": {
      "text/plain": [
       "['Mind-blowing purchase',\n",
       " 'Good quality product',\n",
       " 'Terrific purchase',\n",
       " 'Awesome',\n",
       " 'Decent product',\n",
       " 'Good quality product',\n",
       " 'Just wow!',\n",
       " 'Excellent',\n",
       " 'Awesome',\n",
       " 'Super!']"
      ]
     },
     "execution_count": 456,
     "metadata": {},
     "output_type": "execute_result"
    }
   ],
   "source": [
    "review_summary[:10]"
   ]
  },
  {
   "cell_type": "code",
   "execution_count": 457,
   "metadata": {},
   "outputs": [
    {
     "data": {
      "text/plain": [
       "['Absolutely powerful gadget. Loved it’s look! Soo glassy and classy. I would definitely recommend this model of Apple. Only disappointed with the 5W charger, one should purchase an 18W adapter for fast charging. Though battery backup is great. Bought it in September 2020, reviewing after so long so I’m gonna put the genuine review here.✅',\n",
       " 'I was torn between the oneplus 8 pro and the iphone 11. I had to shell out extra money for this, but I say if you can afford it, this truely is the best package.\\nMind blowing camera, battery and overall performance. Face Id works like magic even in complete darkness without firing up the screen brightness. The phones with in display fingerprint scanners do this at night time and it really burns your eyes.\\nI wanted the oneplus for its display but tbh the OLEDs on oneplus is really bad. Flick...\\nREAD MORE',\n",
       " 'I use a Note10+ and have been using both iOS and Android devices.\\n\\nCamera has really good features and portraits are super good, better than Samsung flagship. Overall camera setup can still be enhanced and hopeful for better upgrades on software in next release\\n\\nOperating system is quite a breeze and user experience of daily usage is very high as compared to Android. I moved to iOS very swiftly in 2 days for all my office work from Note10+\\n\\nBattery holds up quite well with 4 hrs of call and ...\\nREAD MORE',\n",
       " 'The phone is completely good\\nAs far as camera Apple is king of it\\nAnd its a beast in performance\\nAnd the battery is pretty good too',\n",
       " 'Everything u ll like it when u use this iPhone. Simple changes only not many to lower models but it’s nice to use. Little heavy compared to previous models like 7,8',\n",
       " \"I'm switching this phone to oppo reno 10x zoom\\nIt's really impressive\\nRarely I'm missing smooth display touch response like oppo reno but\\nI really loved it.\\nCamera really impressive\",\n",
       " 'The ultimate performance\\nCamera is superb\\nThe battery backup also very good i never saw iphone gives this much of battery backup\\nIf any one wana buy iphone 11 definitely i will recommend this mobile\\nIt has the better battery and powerfull processer peak performance glorious camera and the display also 100% high quality lcd display if u had money for for 12 if u dont wana invest much money on that then go for iphone 11 it has maximum same specs only main difference between the 12 and 11 is...\\nREAD MORE',\n",
       " 'Seller - SuperComNet ( my trust in you has grown deeper. Thanks for the genuine product )\\nThe package came packed perfectly. The box was sealed which gave me a big relief.\\n\\nApple needs no introduction since its the dominant market player. I just love the way how IPhone 11 stands out so boldly. The moment I took it out from the box, I could feel the premium intensity. The body is remarkable and crafted for giving you a elite vibe.\\n\\nCamera is to die for. There is no other phone that can beat...\\nREAD MORE',\n",
       " 'Can’t beat the software and hardware integration of apple.\\nPerforms like a beast. Great quality camera\\n6-7 hours screen on time which is good. Nothing much to complaint about the screen. Good connectivity speeds.\\nGreat buy and Flipkart’s delivery top notch as usual',\n",
       " \"It's a great phone. From camera to display everything is best for the price.\\nBest camera , best performance. I think everyone should buy it . This phone has best battery life so far in iphone series which I had used earlier. Happy to have it. Thanks Flipkart\"]"
      ]
     },
     "execution_count": 457,
     "metadata": {},
     "output_type": "execute_result"
    }
   ],
   "source": [
    "full_review[:10]"
   ]
  },
  {
   "cell_type": "code",
   "execution_count": 458,
   "metadata": {},
   "outputs": [],
   "source": [
    "#do click next page using xpath\n",
    "next_page=driver.find_element_by_xpath('//a[@class=\"_1LKTO3\"][2]')\n",
    "next_page.click()"
   ]
  },
  {
   "cell_type": "code",
   "execution_count": 459,
   "metadata": {},
   "outputs": [],
   "source": [
    "rating=[]\n",
    "review_summary=[]\n",
    "full_review=[]"
   ]
  },
  {
   "cell_type": "code",
   "execution_count": 460,
   "metadata": {},
   "outputs": [],
   "source": [
    "#extract all the tags and then extracting the text from these tags one by one by looping over these tags\n",
    "for i in driver.find_elements_by_xpath('//div[@class=\"_3LWZlK _1BLPMq\"]'):\n",
    "    rating.append(i.text)\n",
    "for j in driver.find_elements_by_xpath('//p[@class=\"_2-N8zT\"]'):\n",
    "    review_summary.append(j.text)\n",
    "for k in driver.find_elements_by_xpath('//div[@class=\"t-ZTKy\"]'):\n",
    "    full_review.append(k.text)"
   ]
  },
  {
   "cell_type": "code",
   "execution_count": 461,
   "metadata": {},
   "outputs": [
    {
     "data": {
      "text/plain": [
       "['5', '5', '3', '4', '4', '5', '5', '5', '5']"
      ]
     },
     "execution_count": 461,
     "metadata": {},
     "output_type": "execute_result"
    }
   ],
   "source": [
    "rating[:10]"
   ]
  },
  {
   "cell_type": "code",
   "execution_count": 462,
   "metadata": {},
   "outputs": [
    {
     "data": {
      "text/plain": [
       "['Excellent',\n",
       " 'Terrific',\n",
       " 'Does the job',\n",
       " 'Wonderful',\n",
       " 'Good quality product',\n",
       " 'Must buy!',\n",
       " 'Not recommended at all',\n",
       " 'Classy product',\n",
       " 'Excellent',\n",
       " 'Fabulous!']"
      ]
     },
     "execution_count": 462,
     "metadata": {},
     "output_type": "execute_result"
    }
   ],
   "source": [
    "review_summary[:10]"
   ]
  },
  {
   "cell_type": "code",
   "execution_count": 463,
   "metadata": {},
   "outputs": [
    {
     "data": {
      "text/plain": [
       "['Value for money product. This iphone 11 is really amazing. Again nice release by apple. Great camera, battery backup is excellent. I just love this phone',\n",
       " 'Awesome phone in budget... If you are going for an Android phone for say above 40 k then add more 5 to 7k and go for IPHONE 11 you will get awesome phone with CLASS.\\n\\nMy first IPhone and it is great to have iPhone 11\\n\\nThanks to Flipkart for one day delivery, got the phone delivered in 24hrs.....\\n\\nBattery 10\\nLooks 10\\nPerformance 10\\nCamera 10\\nBattery 9',\n",
       " \"phone is good but in display is 720p lcd in this price range we can get full hd OLED displays with higher refresh rate processor is very good camera is nice but looks kind of oldish in front of todays phone also there's no charging in box had to buy it seperately\",\n",
       " \"I genuinely liked it. One of the best mobile phones I have used. It's sho smooth and it's security is very astonishing. Plus it has a very good camera quality. so overall it's a win win.\",\n",
       " 'Awesome camera, smooth and fast UI, display is great (though not LED) but the black area at the top could have been reduced. Battery remains a day even if used heavily. Charger in the box is ok, but 12 or 18W could have been nothing like anything. Overall an excellent product and comfortable to use. I have got it almost a month back and so far so good.',\n",
       " 'I rate this product 5* as it has got amazing user experience with the best performing A13 bionic processor. The screen responds and graphics rendering is top notch. With casual gaming and internet browsing, the battery lasts for approx. 1 day. Camera is very good. You will fall in love with the portrait mode. You can call me a loyal Apple customer or whatever but I won’t stop praising the products and overall experience. That user experience matters and is worth every penny you pay.\\n\\nBelow ar...\\nREAD MORE',\n",
       " 'They are selling cheep quality items. There is a black line on the edge of the display. Waiting for the replacement..\\n\\nUpdate:today I got the replacement from flipkart.. The second one is nice and the display and camera quality is much better than the previous one.. Thanks for the support',\n",
       " \"I write this review after using a week this iPhone 11.\\nI'm 6 Years Old Android User and this is my first iPhone. Basically I searched for a phone with a Great Camera and Video Quality for Making YouTube Videos My Budget was around 40-50k then I search a lot on the Internet. Then I finally decide to buy this phone. I've been using this phone for about a week and I purchased this phone at 45K and I'm really happy with that. Its Software Integration with Processor is Just Awesome! This phone can...\\nREAD MORE\",\n",
       " 'A perfect phone and a good battery super camera and the sound is dynamic overall the phone is perfect for upgrading from lower iPhone model to iPhone 11',\n",
       " 'Everything is perfect pictures come out so clearly and at first I wasn’t sure when I got it then when I started to use it and get the hang of it it was amazing!! I can’t wait to see what the next future phones will be like. The screen display on this bad boy are unbelievable they are so clear and never fail me. The performance is super cool there is a lot of cool features as well I like this phone because I feel that it is easy to use and one of my favorite things about this phone is the Face...\\nREAD MORE']"
      ]
     },
     "execution_count": 463,
     "metadata": {},
     "output_type": "execute_result"
    }
   ],
   "source": [
    "full_review[:10]"
   ]
  },
  {
   "cell_type": "code",
   "execution_count": 464,
   "metadata": {},
   "outputs": [],
   "source": [
    "#do click next page using xpath\n",
    "next_page=driver.find_element_by_xpath('//a[@class=\"_1LKTO3\"][2]')\n",
    "next_page.click()"
   ]
  },
  {
   "cell_type": "code",
   "execution_count": 465,
   "metadata": {},
   "outputs": [],
   "source": [
    "rating=[]\n",
    "review_summary=[]\n",
    "full_review=[]"
   ]
  },
  {
   "cell_type": "code",
   "execution_count": 466,
   "metadata": {},
   "outputs": [],
   "source": [
    "#extract all the tags and then extracting the text from these tags one by one by looping over these tags\n",
    "for i in driver.find_elements_by_xpath('//div[@class=\"_3LWZlK _1BLPMq\"]'):\n",
    "    rating.append(i.text)\n",
    "for j in driver.find_elements_by_xpath('//p[@class=\"_2-N8zT\"]'):\n",
    "    review_summary.append(j.text)\n",
    "for k in driver.find_elements_by_xpath('//div[@class=\"t-ZTKy\"]'):\n",
    "    full_review.append(k.text)"
   ]
  },
  {
   "cell_type": "code",
   "execution_count": 467,
   "metadata": {},
   "outputs": [
    {
     "data": {
      "text/plain": [
       "['5', '5', '5', '4', '5', '5', '5', '5', '5', '5']"
      ]
     },
     "execution_count": 467,
     "metadata": {},
     "output_type": "execute_result"
    }
   ],
   "source": [
    "rating[:10]"
   ]
  },
  {
   "cell_type": "code",
   "execution_count": 468,
   "metadata": {},
   "outputs": [
    {
     "data": {
      "text/plain": [
       "['Classy product',\n",
       " 'Mind-blowing purchase',\n",
       " 'Super!',\n",
       " 'Value-for-money',\n",
       " 'Brilliant',\n",
       " 'Most Price worthy Iphone',\n",
       " 'Best in the market!',\n",
       " 'Terrific purchase',\n",
       " 'Wonderful',\n",
       " 'Fabulous!']"
      ]
     },
     "execution_count": 468,
     "metadata": {},
     "output_type": "execute_result"
    }
   ],
   "source": [
    "review_summary[:10]"
   ]
  },
  {
   "cell_type": "code",
   "execution_count": 469,
   "metadata": {},
   "outputs": [
    {
     "data": {
      "text/plain": [
       "['We are on apple ecosystem for almost eight years now with couple of iPads and iPhones, including Xr.\\n\\nBought iPhone 11 as a gift to my daughter who loves it. We chose for a purple coloured one. Believe me it is gorgeous and towards the lighter shade. Dazzling and brilliant!\\n\\nThe phone is great and does excellent RAM management like any other Apple device.\\n\\nThe screen, though a LCD and lesser ppi as compared to other flagship phones of competitor brands, is a delight to watch with perfect re...\\nREAD MORE',\n",
       " \"i was confused between 11 and 11 pro. i was going towards 11 pro, but the screen size was not enough for me.\\nAnd i saw 11 in the showroom. i didn't find much difference in screen quality.And cameras seems to be ok with me. And i saw offer's in flipkart and made the purchase.\\nthe device is fabulous. The hardware and software quality is excellent. The new iOS is something you need to experience yourself. The drawback i found was absence of fast charger, but the pricing can compensate that. Am...\\nREAD MORE\",\n",
       " 'This is my first ever iPhone.\\nAnd I truly don’t regret switching to IOS from my Android.\\n\\nIt is easily an alternative to a DSLR camera.\\nIf you’re obsessed with photos and videos, just don’t think twice or don’t compare to other androids(Samsung S10 lite or OnePlus 8/8T), as it’s far better from them in every field.\\nComparing will only make you confused.\\n\\nI am getting an average Screen on Time of around 10 hours with 30 percent left. I haven’t let my device discharged below 30 % as it aff...\\nREAD MORE',\n",
       " \"Just got this iphone 11\\nAnd it is most powerful mobile phone I have used ever\\n\\nSo,go for it if you want a phone with best specification like camera,battery backup,display, A13 bionic chip\\n\\nThat's my review about this phone but yours can be differ from me....\",\n",
       " 'Wow wow and wow, in 48k you will not get anything better than this, processor is awsome, camera is a beast, display is superb, this is my first iphone, and I am already in love with these',\n",
       " 'Reviewing within 1st Month\\n\\n\\n1st Month Review\\nThis is my first Iphone. So been new to the Ios Environment i faced some basic issues. Whatever issues i am facing is because of change in environment.\\nVideo Output is amazing.\\nBattery - Typical One Day Battery. 20 W fast charger is amazing which charges the iphone within 40-60 Mins ( purchased separately)\\nCamera - Good and Natural Colours. ( I have Samsung S21+ and not at par with its camera) but the output is same all the time which is good.\\n...\\nREAD MORE',\n",
       " \"The best all rounder iphone. Flipkart is doing a great job. They're delivery services are blazing fast. I got delivery on the same day. Genuine Apple Product. Working great. Talking about review There's no need of review for iphones. They're simply the best.\",\n",
       " 'Well , as we all know if its not an Iphone , its not an iphone . The iphones are always beast . The camera game has been level up . The A13 Bionic is just fabulous . The update this year are certainly the camera which is damn good with d addition of wide angle lens as well as ultra wide . If anyones purchasing an iphone for the first time , do opt for the black color . Its just feels more than premium . Battery life is damn good with lasting fully a day . Overall a nice package . Well managed...\\nREAD MORE',\n",
       " 'Nice value for money good and best price I phone mind blowing camera processor very fast other android mobile I am happy India top selling phone 2020',\n",
       " \"Just an awesome phone...upgraded from 6s to 11 and trust me guys it's super cool with amazing features..loved it ♥️ and a big thank you to Flipkart for delivering it in just 2 days ?\"]"
      ]
     },
     "execution_count": 469,
     "metadata": {},
     "output_type": "execute_result"
    }
   ],
   "source": [
    "full_review[:10]"
   ]
  },
  {
   "cell_type": "markdown",
   "metadata": {},
   "source": []
  },
  {
   "cell_type": "markdown",
   "metadata": {},
   "source": [
    "# Q8"
   ]
  },
  {
   "cell_type": "code",
   "execution_count": 491,
   "metadata": {},
   "outputs": [],
   "source": [
    "#connecting to the webdriver\n",
    "driver=webdriver.Chrome(\"chromedriver.exe\")"
   ]
  },
  {
   "cell_type": "code",
   "execution_count": 492,
   "metadata": {},
   "outputs": [],
   "source": [
    "#We scrape data for first 100 sneakers \n",
    "#we have to scrape 4 attributes of each sneaker :\n",
    "#1. Brand\n",
    "#2. Product Description\n",
    "#3. Price\n",
    "#4. discount %\n",
    "\n",
    "url='https://www.flipkart.com/'\n",
    "driver.get(url)"
   ]
  },
  {
   "cell_type": "code",
   "execution_count": 493,
   "metadata": {},
   "outputs": [],
   "source": [
    "#find_element for item search bar\n",
    "search_item=driver.find_element_by_class_name(\"_3704LK\")\n",
    "search_item.send_keys('sneakers')"
   ]
  },
  {
   "cell_type": "code",
   "execution_count": 494,
   "metadata": {},
   "outputs": [],
   "source": [
    "#do click using class_name function\n",
    "search_btn=driver.find_element_by_class_name(\"L0Z3Pu\")\n",
    "search_btn.click()"
   ]
  },
  {
   "cell_type": "code",
   "execution_count": 496,
   "metadata": {},
   "outputs": [],
   "source": [
    "#defining variables\n",
    "brand=[]\n",
    "product_description=[]\n",
    "price=[]"
   ]
  },
  {
   "cell_type": "code",
   "execution_count": 513,
   "metadata": {},
   "outputs": [],
   "source": [
    "#extract all the tags and then extracting the text from these tags one by one by looping over these tags\n",
    "for i in driver.find_elements_by_xpath('//div[@class=\"_2WkVRV\"]'):\n",
    "    brand.append(i.text)\n",
    "for j in driver.find_elements_by_xpath('//a[@class=\"IRpwTa\"]'):\n",
    "    product_description.append(j.text)\n",
    "for k in driver.find_elements_by_xpath('//div[@class=\"_30jeq3\"]'):\n",
    "    price.append(k.text)"
   ]
  },
  {
   "cell_type": "code",
   "execution_count": 514,
   "metadata": {},
   "outputs": [
    {
     "data": {
      "text/plain": [
       "['player world',\n",
       " 'SHURAB',\n",
       " 'Robbie jones',\n",
       " 'Numenzo',\n",
       " 'ORICUM',\n",
       " 'Robbie jones',\n",
       " 'Stefano Rads',\n",
       " 'HOTSTYLE',\n",
       " 'Shoes Bank',\n",
       " 'Echor',\n",
       " 'VIPSJAZZY',\n",
       " '\"trend\"',\n",
       " 'Birde',\n",
       " 'JUBENTA',\n",
       " 'aadi',\n",
       " 'PUMA',\n",
       " 'BRUTON',\n",
       " 'Robbie jones',\n",
       " 'VORII',\n",
       " 'bluemaker',\n",
       " 'bluemaker',\n",
       " 'SCATCHITE',\n",
       " 'Numenzo',\n",
       " 'PEHANOSA',\n",
       " '3SIX5',\n",
       " 'restinfoot',\n",
       " 'Magnolia',\n",
       " 'SPARX',\n",
       " 'World Wear Footwear',\n",
       " 'oxpeo',\n",
       " 'Zsyto',\n",
       " 'Kraasa',\n",
       " 'T-ROCK',\n",
       " 'ARMADO',\n",
       " 'World Wear Footwear',\n",
       " 'Echor',\n",
       " 'believe',\n",
       " 'World Wear Footwear',\n",
       " 'SPARX',\n",
       " 'Clymb']"
      ]
     },
     "execution_count": 514,
     "metadata": {},
     "output_type": "execute_result"
    }
   ],
   "source": [
    "brand[:40]"
   ]
  },
  {
   "cell_type": "code",
   "execution_count": 515,
   "metadata": {},
   "outputs": [
    {
     "data": {
      "text/plain": [
       "['SNEAKERS TYPE CASUEL SHOES Sneakers For Men',\n",
       " 'Casual Sneakers Shoes For Men Sneakers For Men',\n",
       " 'Sneakers For Men',\n",
       " 'Combo pack of 2 casual sneaker shoes for men Sneakers F...',\n",
       " 'Sneakers For Men',\n",
       " 'Sneakers Sneakers For Men',\n",
       " \"White Sneaker For Men's/Boy's Sneakers For Men\",\n",
       " 'Fashionable casual sneakers shoes for men Sneakers For ...',\n",
       " 'Combo Pack of 4 Casual Shoes Sneakers For Men',\n",
       " 'Sneakers For Men',\n",
       " 'Anzarun Lite Sneakers For Men',\n",
       " 'Combo Pack Of 4 Canvas Sneakers For Men',\n",
       " 'Casual Sneakers Black Shoes For Men Sneakers For Men',\n",
       " 'Latest Stylish Casual sneakers for men | Lace up lightw...',\n",
       " 'Sneakers For Men',\n",
       " 'casual for men (blue 06) Sneakers For Men',\n",
       " 'Sneakers Sneakers For Men',\n",
       " 'Casual Sneaker Sneakers For Men',\n",
       " 'ORIFWSH(OR)-1077 Sneakers For Men',\n",
       " 'Casual shoes Sneakers For Men',\n",
       " 'White Sneakers Sneakers For Men',\n",
       " 'SM-482 Sneakers For Men',\n",
       " 'Sneakers For Men',\n",
       " 'Colourblocked Trending Multicolor Ultralight canvas Spo...',\n",
       " 'Series 7 Sneakers For Men',\n",
       " 'Synthetic Leather Casual Partywear Wedding Sneakers Sho...',\n",
       " 'casual shoes For Mens Combo(AR)-1658-1619 ( Multicolor-...',\n",
       " 'Men 5014 Latest Collection Stylish Casual Sports Loafer...',\n",
       " 'Sneakers for men(black_6) Sneakers For Men',\n",
       " '5011-Latest Collection Stylish Casual Loafer Sneakers S...',\n",
       " 'SM-322 Sneakers For Men',\n",
       " 'Sneakers For Men',\n",
       " 'SNEAKERS TYPE CASUEL SHOES Sneakers For Men',\n",
       " 'Casual Sneakers Shoes For Men Sneakers For Men',\n",
       " 'Sneakers For Men',\n",
       " 'Combo pack of 2 casual sneaker shoes for men Sneakers F...',\n",
       " 'Sneakers For Men',\n",
       " 'Sneakers Sneakers For Men',\n",
       " \"White Sneaker For Men's/Boy's Sneakers For Men\",\n",
       " 'Fashionable casual sneakers shoes for men Sneakers For ...']"
      ]
     },
     "execution_count": 515,
     "metadata": {},
     "output_type": "execute_result"
    }
   ],
   "source": [
    "product_description[:40]"
   ]
  },
  {
   "cell_type": "code",
   "execution_count": 516,
   "metadata": {},
   "outputs": [
    {
     "data": {
      "text/plain": [
       "['₹447',\n",
       " '₹399',\n",
       " '₹379',\n",
       " '₹398',\n",
       " '₹377',\n",
       " '₹474',\n",
       " '₹242',\n",
       " '₹283',\n",
       " '₹331',\n",
       " '₹569',\n",
       " '₹419',\n",
       " '₹426',\n",
       " '₹842',\n",
       " '₹549',\n",
       " '₹298',\n",
       " '₹1,975',\n",
       " '₹499',\n",
       " '₹428',\n",
       " '₹379',\n",
       " '₹449',\n",
       " '₹449',\n",
       " '₹398',\n",
       " '₹539',\n",
       " '₹499',\n",
       " '₹214',\n",
       " '₹379',\n",
       " '₹305',\n",
       " '₹965',\n",
       " '₹240',\n",
       " '₹419',\n",
       " '₹328',\n",
       " '₹416',\n",
       " '₹378',\n",
       " '₹498',\n",
       " '₹240',\n",
       " '₹569',\n",
       " '₹446',\n",
       " '₹240',\n",
       " '₹769',\n",
       " '₹309']"
      ]
     },
     "execution_count": 516,
     "metadata": {},
     "output_type": "execute_result"
    }
   ],
   "source": [
    "price[:40]"
   ]
  },
  {
   "cell_type": "code",
   "execution_count": 517,
   "metadata": {},
   "outputs": [
    {
     "data": {
      "text/plain": [
       "['59% off',\n",
       " '60% off',\n",
       " '62% off',\n",
       " '60% off',\n",
       " '62% off',\n",
       " '52% off',\n",
       " '65% off',\n",
       " '43% off',\n",
       " '66% off',\n",
       " '43% off',\n",
       " '58% off',\n",
       " '78% off',\n",
       " '57% off',\n",
       " '45% off',\n",
       " '70% off',\n",
       " '34% off',\n",
       " '85% off',\n",
       " '57% off',\n",
       " '62% off',\n",
       " '55% off',\n",
       " '55% off',\n",
       " '60% off',\n",
       " '46% off',\n",
       " '50% off',\n",
       " '57% off',\n",
       " '62% off',\n",
       " '69% off',\n",
       " '28% off',\n",
       " '51% off',\n",
       " '58% off',\n",
       " '74% off',\n",
       " '58% off',\n",
       " '62% off',\n",
       " '50% off',\n",
       " '51% off',\n",
       " '43% off',\n",
       " '55% off',\n",
       " '51% off',\n",
       " '23% off',\n",
       " '69% off']"
      ]
     },
     "execution_count": 517,
     "metadata": {},
     "output_type": "execute_result"
    }
   ],
   "source": [
    "#lets extract all the tags having item discount and create a loop to extract text\n",
    "discount_tags=driver.find_elements_by_xpath('//div[@class=\"_3Ay6Sb\"]')\n",
    "discount_list=[]\n",
    "for i in discount_tags:\n",
    "    discount_list.append(i.text)\n",
    "discount_list[:40]"
   ]
  },
  {
   "cell_type": "code",
   "execution_count": 518,
   "metadata": {},
   "outputs": [],
   "source": [
    "#do click next page using xpath\n",
    "next_page=driver.find_element_by_xpath('//a[@class=\"_1LKTO3\"]')\n",
    "next_page.click()"
   ]
  },
  {
   "cell_type": "code",
   "execution_count": 519,
   "metadata": {},
   "outputs": [],
   "source": [
    "#defining variables\n",
    "brand=[]\n",
    "product_description=[]\n",
    "price=[]"
   ]
  },
  {
   "cell_type": "code",
   "execution_count": 520,
   "metadata": {},
   "outputs": [],
   "source": [
    "#extract all the tags and then extracting the text from these tags one by one by looping over these tags\n",
    "for i in driver.find_elements_by_xpath('//div[@class=\"_2WkVRV\"]'):\n",
    "    brand.append(i.text)\n",
    "for j in driver.find_elements_by_xpath('//a[@class=\"IRpwTa\"]'):\n",
    "    product_description.append(j.text)\n",
    "for k in driver.find_elements_by_xpath('//div[@class=\"_30jeq3\"]'):\n",
    "    price.append(k.text)"
   ]
  },
  {
   "cell_type": "code",
   "execution_count": 521,
   "metadata": {},
   "outputs": [
    {
     "data": {
      "text/plain": [
       "['believe',\n",
       " 'Svpanther',\n",
       " 'World Wear Footwear',\n",
       " 'player world',\n",
       " 'HOTSTYLE',\n",
       " 'Jokatoo',\n",
       " 'SPARX',\n",
       " 'ROCKFIELD',\n",
       " 'Birde',\n",
       " 'JUBENTA',\n",
       " 'Zorth',\n",
       " 'SWIGGY',\n",
       " 'Ktiz',\n",
       " 'STRANGER BROTHERS',\n",
       " 'Walkstyle',\n",
       " 'Axter',\n",
       " 'India hub',\n",
       " 'Baogi',\n",
       " 'D-SNEAKERZ',\n",
       " 'Robbie jones',\n",
       " 'Numenzo',\n",
       " 'ESSENCE',\n",
       " 'Raftar',\n",
       " 'PEHANOSA',\n",
       " 'Magnolia',\n",
       " 'World Wear Footwear',\n",
       " 'SPARX',\n",
       " 'bluemaker',\n",
       " 'Robbie jones',\n",
       " 'oxpeo',\n",
       " 'SPARX',\n",
       " 'Englewood',\n",
       " 'ESSENCE',\n",
       " 'ARMADO',\n",
       " 'Birde',\n",
       " 'LEATHERKRAFT',\n",
       " 'bluemaker',\n",
       " 'SPARX',\n",
       " 'GUSTO',\n",
       " 'Mr ShoesWala']"
      ]
     },
     "execution_count": 521,
     "metadata": {},
     "output_type": "execute_result"
    }
   ],
   "source": [
    "brand[:40]"
   ]
  },
  {
   "cell_type": "code",
   "execution_count": 522,
   "metadata": {},
   "outputs": [
    {
     "data": {
      "text/plain": [
       "['Sneakers for men(black_6) Sneakers For Men',\n",
       " 'Combo Pack of 4 Latest Collection Stylish Casual Loafer...',\n",
       " 'SNEAKERS TYPE CASUEL SHOES Sneakers For Men',\n",
       " 'Sneakers Sneakers For Men',\n",
       " 'Sneakers For Men',\n",
       " 'SD-323 Sneakers For Men',\n",
       " 'Sneakers For Men',\n",
       " 'Combo Pack of 4 Casual Shoes Sneakers For Men',\n",
       " 'Casual Loafers, Sneakers Shoes for Men Pack of 5 Combo(...',\n",
       " 'Sneakers For Men',\n",
       " 'Combo Pack of 2 Latest Collection Stylish Casual Loafer...',\n",
       " 'Fashionable casual sneakers shoes Sneakers For Men',\n",
       " \"Casual , Partywear Sneakers Shoes For Men's And Boys Wh...\",\n",
       " 'Casual Sneakers Black Shoes For Men Sneakers For Men',\n",
       " 'Sneakers For Men',\n",
       " 'Sneakers For Men',\n",
       " 'Sneakers For Men',\n",
       " 'Sneakers For Men',\n",
       " 'Latest Collection-1227 Stylish Casual Sports Sneakers F...',\n",
       " 'casual for men (black 08) Sneakers For Men',\n",
       " 'Casual Sneakers Shoes For Men Sneakers For Men',\n",
       " 'Colourblocked Trending Multicolor Ultralight canvas Spo...',\n",
       " 'SM-322 Sneakers For Men',\n",
       " 'Sneakers For Men',\n",
       " 'casual shoes For Mens Combo(AR)-1658-1619 ( Multicolor-...',\n",
       " \"Men's Stylish Casual Shoes Sneakers For Men\",\n",
       " 'Sneakers For Men',\n",
       " 'casual shoe for men Sneakers For Men',\n",
       " 'SM-162 Sneakers For Men']"
      ]
     },
     "execution_count": 522,
     "metadata": {},
     "output_type": "execute_result"
    }
   ],
   "source": [
    "product_description[:40]"
   ]
  },
  {
   "cell_type": "code",
   "execution_count": 523,
   "metadata": {},
   "outputs": [
    {
     "data": {
      "text/plain": [
       "['₹446',\n",
       " '₹515',\n",
       " '₹499',\n",
       " '₹447',\n",
       " '₹299',\n",
       " '₹455',\n",
       " '₹631',\n",
       " '₹499',\n",
       " '₹661',\n",
       " '₹549',\n",
       " '₹599',\n",
       " '₹719',\n",
       " '₹474',\n",
       " '₹456',\n",
       " '₹509',\n",
       " '₹299',\n",
       " '₹383',\n",
       " '₹399',\n",
       " '₹367',\n",
       " '₹428',\n",
       " '₹429',\n",
       " '₹442',\n",
       " '₹368',\n",
       " '₹499',\n",
       " '₹424',\n",
       " '₹240',\n",
       " '₹599',\n",
       " '₹449',\n",
       " '₹474',\n",
       " '₹419',\n",
       " '₹769',\n",
       " '₹499',\n",
       " '₹442',\n",
       " '₹498',\n",
       " '₹283',\n",
       " '₹299',\n",
       " '₹449',\n",
       " '₹730',\n",
       " '₹699',\n",
       " '₹450']"
      ]
     },
     "execution_count": 523,
     "metadata": {},
     "output_type": "execute_result"
    }
   ],
   "source": [
    "price[:40]"
   ]
  },
  {
   "cell_type": "code",
   "execution_count": 524,
   "metadata": {},
   "outputs": [],
   "source": [
    "#lets extract all the tags having item discount and create a loop to extract text\n",
    "discount_tags=driver.find_elements_by_xpath('//div[@class=\"_3Ay6Sb\"]')\n",
    "discount_list=[]\n",
    "for i in discount_tags:\n",
    "    discount_list.append(i.text)"
   ]
  },
  {
   "cell_type": "code",
   "execution_count": 525,
   "metadata": {},
   "outputs": [
    {
     "data": {
      "text/plain": [
       "['55% off',\n",
       " '48% off',\n",
       " '81% off',\n",
       " '59% off',\n",
       " '40% off',\n",
       " '69% off',\n",
       " '15% off',\n",
       " '50% off',\n",
       " '66% off',\n",
       " '45% off',\n",
       " '40% off',\n",
       " '71% off',\n",
       " '63% off',\n",
       " '54% off',\n",
       " '66% off',\n",
       " '78% off',\n",
       " '80% off',\n",
       " '60% off',\n",
       " '44% off',\n",
       " '57% off',\n",
       " '57% off',\n",
       " '55% off',\n",
       " '63% off',\n",
       " '50% off',\n",
       " '57% off',\n",
       " '51% off',\n",
       " '14% off',\n",
       " '55% off',\n",
       " '52% off',\n",
       " '58% off',\n",
       " '23% off',\n",
       " '66% off',\n",
       " '55% off',\n",
       " '50% off',\n",
       " '43% off',\n",
       " '70% off',\n",
       " '55% off',\n",
       " '23% off',\n",
       " '46% off',\n",
       " '54% off']"
      ]
     },
     "execution_count": 525,
     "metadata": {},
     "output_type": "execute_result"
    }
   ],
   "source": [
    "discount_list[:40]"
   ]
  },
  {
   "cell_type": "code",
   "execution_count": 526,
   "metadata": {},
   "outputs": [],
   "source": [
    "#do click next page using xpath\n",
    "next_page=driver.find_element_by_xpath('//a[@class=\"_1LKTO3\"][2]')\n",
    "next_page.click()"
   ]
  },
  {
   "cell_type": "code",
   "execution_count": 527,
   "metadata": {},
   "outputs": [],
   "source": [
    "#defining variables\n",
    "brand=[]\n",
    "product_description=[]\n",
    "price=[]"
   ]
  },
  {
   "cell_type": "code",
   "execution_count": 528,
   "metadata": {},
   "outputs": [],
   "source": [
    "#extract all the tags and then extracting the text from these tags one by one by looping over these tags\n",
    "for i in driver.find_elements_by_xpath('//div[@class=\"_2WkVRV\"]'):\n",
    "    brand.append(i.text)\n",
    "for j in driver.find_elements_by_xpath('//a[@class=\"IRpwTa\"]'):\n",
    "    product_description.append(j.text)\n",
    "for k in driver.find_elements_by_xpath('//div[@class=\"_30jeq3\"]'):\n",
    "    price.append(k.text)"
   ]
  },
  {
   "cell_type": "code",
   "execution_count": 529,
   "metadata": {},
   "outputs": [
    {
     "data": {
      "text/plain": [
       "['Nilatin',\n",
       " 'PUMA',\n",
       " 'bluemaker',\n",
       " 'Robbie jones',\n",
       " 'M K FOOTWEAR',\n",
       " 'Numenzo',\n",
       " 'Englewood',\n",
       " 'Airland',\n",
       " 'Deals4you',\n",
       " 'PEHANOSA',\n",
       " 'Imcolus',\n",
       " 'oxpeo',\n",
       " '3SIX5',\n",
       " 'oxpeo',\n",
       " 'BLACK BOTTOM',\n",
       " 'ESSENCE',\n",
       " 'Jack Diamond',\n",
       " 'Xtoon',\n",
       " 'SPARX',\n",
       " 'Mr ShoesWala']"
      ]
     },
     "execution_count": 529,
     "metadata": {},
     "output_type": "execute_result"
    }
   ],
   "source": [
    "brand[:20]"
   ]
  },
  {
   "cell_type": "code",
   "execution_count": 530,
   "metadata": {},
   "outputs": [
    {
     "data": {
      "text/plain": [
       "['Icon IDP Sneakers For Men',\n",
       " 'casual shoe for men Sneakers For Men',\n",
       " 'Casual Sneakers Black Shoes For Men Sneakers For Men',\n",
       " 'Casual Sneaker Sneakers For Men',\n",
       " 'shoe Sneakers For Men',\n",
       " \"White Sneaker For Men's/Boy's Sneakers For Men Sneakers...\",\n",
       " 'Sneakers For Men',\n",
       " 'Colourblocked Trending Multicolor Ultralight canvas Spo...',\n",
       " 'shoes For Mens Combo(MR)-1658-3199 ( Multicolor-Pack of...',\n",
       " 'Colourblocked Trending Multicolor Ultralight canvas Spo...',\n",
       " 'Fashion Outdoor Canvas Casual Light Weight Partywear Sn...',\n",
       " 'Sneakers For Men',\n",
       " 'Casual shoes Sneakers For Men',\n",
       " 'Synthetic Leather Casual Sneakers Shoes For Men Sneaker...',\n",
       " 'Sneakers Sneakers For Men',\n",
       " 'casual shoes For Mens Combo(AR)-1658-1619 ( Multicolor-...',\n",
       " 'Combo Pack of 5 Top Rated, Best Rates Training Shoes Sn...',\n",
       " 'Sneakers For Men',\n",
       " 'Mens Ultraforce Mid-top Athletic-Inspired Retro Fashion...',\n",
       " 'casual shoe for men Sneakers For Men']"
      ]
     },
     "execution_count": 530,
     "metadata": {},
     "output_type": "execute_result"
    }
   ],
   "source": [
    "product_description[:20]"
   ]
  },
  {
   "cell_type": "code",
   "execution_count": 531,
   "metadata": {},
   "outputs": [
    {
     "data": {
      "text/plain": [
       "['₹407',\n",
       " '₹1,228',\n",
       " '₹449',\n",
       " '₹428',\n",
       " '₹389',\n",
       " '₹599',\n",
       " '₹499',\n",
       " '₹265',\n",
       " '₹359',\n",
       " '₹499',\n",
       " '₹464',\n",
       " '₹398',\n",
       " '₹398',\n",
       " '₹419',\n",
       " '₹449',\n",
       " '₹442',\n",
       " '₹630',\n",
       " '₹359',\n",
       " '₹999',\n",
       " '₹450']"
      ]
     },
     "execution_count": 531,
     "metadata": {},
     "output_type": "execute_result"
    }
   ],
   "source": [
    "price[:20]"
   ]
  },
  {
   "cell_type": "code",
   "execution_count": 532,
   "metadata": {},
   "outputs": [
    {
     "data": {
      "text/plain": [
       "['68% off',\n",
       " '62% off',\n",
       " '55% off',\n",
       " '57% off',\n",
       " '61% off',\n",
       " '40% off',\n",
       " '66% off',\n",
       " '46% off',\n",
       " '64% off',\n",
       " '50% off',\n",
       " '53% off',\n",
       " '60% off',\n",
       " '60% off',\n",
       " '58% off',\n",
       " '55% off',\n",
       " '55% off',\n",
       " '36% off',\n",
       " '64% off',\n",
       " '23% off',\n",
       " '54% off']"
      ]
     },
     "execution_count": 532,
     "metadata": {},
     "output_type": "execute_result"
    }
   ],
   "source": [
    "#lets extract all the tags having item discount and create a loop to extract text\n",
    "discount_tags=driver.find_elements_by_xpath('//div[@class=\"_3Ay6Sb\"]')\n",
    "discount_list=[]\n",
    "for i in discount_tags:\n",
    "    discount_list.append(i.text)\n",
    "discount_list[:20]"
   ]
  },
  {
   "cell_type": "markdown",
   "metadata": {},
   "source": []
  },
  {
   "cell_type": "markdown",
   "metadata": {},
   "source": [
    "# Q9 "
   ]
  },
  {
   "cell_type": "code",
   "execution_count": 551,
   "metadata": {},
   "outputs": [],
   "source": [
    "#Lets first connect to the webdriver\n",
    "driver=webdriver.Chrome(\"chromedriver.exe\")"
   ]
  },
  {
   "cell_type": "code",
   "execution_count": 552,
   "metadata": {},
   "outputs": [],
   "source": [
    "#Go to the link - https://www.myntra.com/shoes\n",
    "#Set Price filter to “Rs. 6649 to Rs. 13099” , Color filter to “Black”\n",
    "#scrape First 100 shoes data and the data should include “Brand” of the shoes , Short Shoe description, price of the shoe\n",
    "\n",
    "url='https://www.myntra.com/shoes'\n",
    "driver.get(url)"
   ]
  },
  {
   "cell_type": "code",
   "execution_count": 553,
   "metadata": {},
   "outputs": [],
   "source": [
    "#Locating the price filter\n",
    "filter_button=driver.find_elements_by_xpath(\"//div[@class='common-checkboxIndicator']/label/li\")\n",
    "for i in filter_button:\n",
    "    if i.text=='Rs. 6649 to Rs. 13099':\n",
    "        i.click()\n",
    "        break"
   ]
  },
  {
   "cell_type": "code",
   "execution_count": 554,
   "metadata": {},
   "outputs": [],
   "source": [
    "#Locating the colour filter\n",
    "filter_button=driver.find_elements_by_xpath(\"//div[@class='common-checkboxIndicator']/label/li\")\n",
    "for i in filter_button:\n",
    "    if i.text=='Black ':\n",
    "        i.click()\n",
    "        break"
   ]
  },
  {
   "cell_type": "code",
   "execution_count": 555,
   "metadata": {},
   "outputs": [],
   "source": [
    "#defining variables\n",
    "brand=[]\n",
    "shoe_description=[]\n",
    "price=[]"
   ]
  },
  {
   "cell_type": "code",
   "execution_count": 558,
   "metadata": {},
   "outputs": [],
   "source": [
    "#extract all the tags and then extracting the text from these tags one by one by looping over these tags\n",
    "for i in driver.find_elements_by_xpath('//h3[@class=\"product-brand\"]'):\n",
    "    brand.append(i.text)\n",
    "for j in driver.find_elements_by_xpath('//h4[@class=\"product-product\"]'):\n",
    "    shoe_description.append(j.text)\n",
    "for k in driver.find_elements_by_xpath('//span[@class=\"product-discountedPrice\"]'):\n",
    "    price.append(k.text)"
   ]
  },
  {
   "cell_type": "code",
   "execution_count": 559,
   "metadata": {},
   "outputs": [
    {
     "data": {
      "text/plain": [
       "['Nike',\n",
       " 'Nike',\n",
       " 'Nike',\n",
       " 'ALDO',\n",
       " 'PUMA Motorsport',\n",
       " 'Nike',\n",
       " 'Puma',\n",
       " 'ALDO',\n",
       " 'Nike',\n",
       " 'Hush Puppies',\n",
       " 'Nike',\n",
       " 'Nike',\n",
       " 'Nike',\n",
       " 'Puma',\n",
       " 'UNDER ARMOUR',\n",
       " 'Puma',\n",
       " 'Puma',\n",
       " 'UNDER ARMOUR',\n",
       " 'UNDER ARMOUR',\n",
       " 'UNDER ARMOUR',\n",
       " 'Puma',\n",
       " 'Puma',\n",
       " 'ADIDAS Originals',\n",
       " 'UNDER ARMOUR',\n",
       " 'FILA',\n",
       " 'Puma',\n",
       " 'Puma',\n",
       " 'UNDER ARMOUR',\n",
       " 'Skechers',\n",
       " 'Hush Puppies',\n",
       " 'ALDO',\n",
       " 'Ruosh',\n",
       " 'Saint G',\n",
       " 'Heel & Buckle London',\n",
       " 'UNDER ARMOUR',\n",
       " 'UNDER ARMOUR',\n",
       " 'UNDER ARMOUR',\n",
       " 'Geox',\n",
       " 'UNDER ARMOUR',\n",
       " 'UNDER ARMOUR',\n",
       " 'Reebok',\n",
       " 'UNDER ARMOUR',\n",
       " 'Saint G',\n",
       " 'Cole Haan',\n",
       " 'Cole Haan',\n",
       " 'Puma',\n",
       " 'Nike',\n",
       " 'Cole Haan',\n",
       " 'Cole Haan',\n",
       " 'one8 x PUMA']"
      ]
     },
     "execution_count": 559,
     "metadata": {},
     "output_type": "execute_result"
    }
   ],
   "source": [
    "brand[:50]"
   ]
  },
  {
   "cell_type": "code",
   "execution_count": 560,
   "metadata": {},
   "outputs": [
    {
     "data": {
      "text/plain": [
       "['AIR ZOOM PEGASUS Running Shoes',\n",
       " 'Unisex LEBRON XVIII Shoes',\n",
       " 'Men KD13 EP Basketball Shoes',\n",
       " 'Leather Solid Loafers',\n",
       " 'Unisex Mercedes Running Shoes',\n",
       " 'Men React Infinity Running',\n",
       " 'Unisex RS-FAST TECH Sneakers',\n",
       " 'Men Sneakers',\n",
       " 'Men JORDAN DELTA Basketball',\n",
       " 'Men Solid Leather Formal Slip-Ons',\n",
       " 'Men AIR ZOOM Running Shoes',\n",
       " 'Men JOYRIDE Running Shoes',\n",
       " 'Women REACT Running Shoes',\n",
       " 'Women Liberate Nitro Running',\n",
       " 'Men Liquify Running Shoes',\n",
       " 'Women Provoke XT Training',\n",
       " 'Men Velocity Nitro Running',\n",
       " 'HOVR Sonic 3 Running Shoes',\n",
       " 'Charged Rogue 2 Wide 2E Shoes',\n",
       " 'Charged Impulse Running Shoes',\n",
       " 'Men Deviate Nitro Running Shoe',\n",
       " 'Women Eternity Nitro Running',\n",
       " 'Men Nite Jogger Fluid Sneakers',\n",
       " 'HOVR Sonic 3 Running Shoes',\n",
       " 'Men Running Shoes',\n",
       " 'Men UltraRide Running Shoes',\n",
       " 'Unisex RS-X Pop Sneakers',\n",
       " 'Women Charged Breathe TR 2',\n",
       " 'Women UNO Sneakers',\n",
       " 'Men Formal Derbys',\n",
       " 'Women Open Toe Flats',\n",
       " 'Men Solid Leather Formal Derbys',\n",
       " 'Men Leather Chelsea Boots',\n",
       " 'Men Leather Formal Oxfords',\n",
       " 'Women Liquify Rebel Running',\n",
       " 'Women HOVR Rise 2 Training',\n",
       " 'Women TriBase Reign 2 Training',\n",
       " 'Men Leather Formal Oxfords',\n",
       " 'Women Charged Breathe OIL SLK',\n",
       " 'HOVR Infinite 2 Running Shoes',\n",
       " 'Forever Floatride Energy 2',\n",
       " 'Unisex SC 3ZER0 IV Basketball',\n",
       " 'Men Textured Leather Formal Loafers',\n",
       " 'Men Wingtip Oxford Sneakers',\n",
       " 'Men GENERATION ZEROGRAND STITCHLITE',\n",
       " 'Men Liberate Nitro Running',\n",
       " 'Women AIR MAX VIVA Sneakers',\n",
       " 'Leather Sneakers',\n",
       " 'Men Traveller Leather Penny Loafers',\n",
       " 'Men Fuse One8 Training Shoes']"
      ]
     },
     "execution_count": 560,
     "metadata": {},
     "output_type": "execute_result"
    }
   ],
   "source": [
    "shoe_description[:50]"
   ]
  },
  {
   "cell_type": "code",
   "execution_count": 561,
   "metadata": {},
   "outputs": [
    {
     "data": {
      "text/plain": [
       "['Rs. 14955',\n",
       " 'Rs. 11621',\n",
       " 'Rs. 7721',\n",
       " 'Rs. 11246',\n",
       " 'Rs. 8996',\n",
       " 'Rs. 7999',\n",
       " 'Rs. 8449',\n",
       " 'Rs. 7649',\n",
       " 'Rs. 8499',\n",
       " 'Rs. 11305',\n",
       " 'Rs. 7693',\n",
       " 'Rs. 9367',\n",
       " 'Rs. 9975',\n",
       " 'Rs. 9999',\n",
       " 'Rs. 14955',\n",
       " 'Rs. 11621',\n",
       " 'Rs. 7721',\n",
       " 'Rs. 11246',\n",
       " 'Rs. 8996',\n",
       " 'Rs. 7999',\n",
       " 'Rs. 8449',\n",
       " 'Rs. 7649',\n",
       " 'Rs. 8499',\n",
       " 'Rs. 11305',\n",
       " 'Rs. 7693',\n",
       " 'Rs. 9367',\n",
       " 'Rs. 9975',\n",
       " 'Rs. 9999']"
      ]
     },
     "execution_count": 561,
     "metadata": {},
     "output_type": "execute_result"
    }
   ],
   "source": [
    "price[:50]"
   ]
  },
  {
   "cell_type": "code",
   "execution_count": 562,
   "metadata": {},
   "outputs": [],
   "source": [
    "#do click next page using xpath\n",
    "next_page=driver.find_element_by_xpath('//li[@class=\"pagination-next\"]')\n",
    "next_page.click()"
   ]
  },
  {
   "cell_type": "code",
   "execution_count": 563,
   "metadata": {},
   "outputs": [],
   "source": [
    "#defining variables\n",
    "brand=[]\n",
    "shoe_description=[]\n",
    "price=[]"
   ]
  },
  {
   "cell_type": "code",
   "execution_count": 566,
   "metadata": {},
   "outputs": [],
   "source": [
    "#extract all the tags and then extracting the text from these tags one by one by looping over these tags\n",
    "for i in driver.find_elements_by_xpath('//h3[@class=\"product-brand\"]'):\n",
    "    brand.append(i.text)\n",
    "for j in driver.find_elements_by_xpath('//h4[@class=\"product-product\"]'):\n",
    "    shoe_description.append(j.text)\n",
    "for k in driver.find_elements_by_xpath('//span[@class=\"product-discountedPrice\"]'):\n",
    "    price.append(k.text)"
   ]
  },
  {
   "cell_type": "code",
   "execution_count": 567,
   "metadata": {},
   "outputs": [
    {
     "data": {
      "text/plain": [
       "['Cole Haan',\n",
       " 'one8 x PUMA',\n",
       " 'Cole Haan',\n",
       " 'Nike',\n",
       " 'Geox',\n",
       " 'Reebok',\n",
       " 'Cole Haan',\n",
       " 'ALDO',\n",
       " 'ADIDAS',\n",
       " 'Nike',\n",
       " 'ALDO',\n",
       " 'Saint G',\n",
       " 'UNDER ARMOUR',\n",
       " 'ADIDAS',\n",
       " 'Cole Haan',\n",
       " 'Geox',\n",
       " 'UNDER ARMOUR',\n",
       " 'ALDO',\n",
       " 'Geox',\n",
       " 'Geox',\n",
       " 'Ruosh',\n",
       " 'Nike',\n",
       " 'Geox',\n",
       " 'Nike',\n",
       " 'Ruosh',\n",
       " 'Puma',\n",
       " 'UNDER ARMOUR',\n",
       " 'Cole Haan',\n",
       " 'ADIDAS',\n",
       " 'Kenneth Cole',\n",
       " 'Saint G',\n",
       " 'Nike',\n",
       " 'ALDO',\n",
       " 'Bugatti',\n",
       " 'Heel & Buckle London',\n",
       " 'UNDER ARMOUR',\n",
       " 'UNDER ARMOUR',\n",
       " 'Cole Haan',\n",
       " 'Nike',\n",
       " 'Nike',\n",
       " 'Puma',\n",
       " 'ALDO',\n",
       " 'ADIDAS',\n",
       " 'ASICS',\n",
       " 'ROSSO BRUNELLO',\n",
       " 'PUMA Motorsport',\n",
       " 'Puma',\n",
       " 'UNDER ARMOUR',\n",
       " 'ALDO',\n",
       " 'ADIDAS']"
      ]
     },
     "execution_count": 567,
     "metadata": {},
     "output_type": "execute_result"
    }
   ],
   "source": [
    "brand[:50]"
   ]
  },
  {
   "cell_type": "code",
   "execution_count": 568,
   "metadata": {},
   "outputs": [
    {
     "data": {
      "text/plain": [
       "['Men Traveller Leather Penny Loafers',\n",
       " 'Men Fuse One8 Training Shoes',\n",
       " 'Men ZEROGRAND GLOBAL SLIP ON',\n",
       " 'Men AIR ZOOM PEGASUS 38 Run',\n",
       " 'Women Leather Solid Pumps',\n",
       " 'Unisex Zig Kinetica II Running',\n",
       " 'Women Open Toe Flats',\n",
       " 'Men Leather Pointed Toe Derby Formal Shoes',\n",
       " 'Men Adizero Ubersonic 4 Tennis',\n",
       " 'Men AIR ZOOM PEGASUS 38 Run',\n",
       " 'Women Sneakers',\n",
       " 'Women Leather Heeled Boots',\n",
       " 'Men Charged Bandit 6 Running',\n",
       " 'Men Supernova Running Shoes',\n",
       " 'Women Solid Leather Ballerinas',\n",
       " 'Women Leather Boat Shoes',\n",
       " 'Charged RC Sportstyle Sneakers',\n",
       " 'Women Open Toe Flats',\n",
       " 'Men Leather Formal Derbys',\n",
       " 'Men Leather Formal Slip-Ons',\n",
       " 'Men Solid Leather Formal Oxfords',\n",
       " 'Men REACT INFINITY RUN Shoes',\n",
       " 'Men Leather Formal Oxfords',\n",
       " 'Men REACT MILER 2 Running',\n",
       " 'Men Textured Derbys',\n",
       " 'Men Football Shoes',\n",
       " 'Charged Rogue 2 Running Shoes',\n",
       " 'Women Woven Design Sneakers',\n",
       " 'Men Ultraboost DNA CC_1 Shoes',\n",
       " 'Women Solid Flat Boots',\n",
       " 'Leather Heeled Boots',\n",
       " 'Men REACT MILER 2 Running',\n",
       " 'Women Black Sneakers',\n",
       " 'Women Black Sneakers',\n",
       " 'Men Solid Leather Formal Penny Loafers',\n",
       " 'Men Charged Impulse Running',\n",
       " 'Men HOVR Rise 2 Training Shoes',\n",
       " 'Women Leather Sneakers',\n",
       " 'Men REACT MILER PRM Running',\n",
       " 'Men PG 5 EP Basketball Shoes',\n",
       " 'Calibrate Restored Sneakers',\n",
       " 'Men Solid Loafers',\n",
       " 'Men Supernova Running Shoes',\n",
       " 'Men EvoRide TOKYO Shoes',\n",
       " 'Men Solid Leather Formal Slip-Ons',\n",
       " 'Men Ferrari Race Sneakers',\n",
       " 'Unisex RS-Fast Sneakers',\n",
       " 'Charged Intake 4 Running Shoes',\n",
       " 'Men Solid Driving Shoes',\n",
       " 'Men X9000L3 Heat.RDY Running']"
      ]
     },
     "execution_count": 568,
     "metadata": {},
     "output_type": "execute_result"
    }
   ],
   "source": [
    "shoe_description[:50]"
   ]
  },
  {
   "cell_type": "code",
   "execution_count": 569,
   "metadata": {},
   "outputs": [
    {
     "data": {
      "text/plain": [
       "['Rs. 9999',\n",
       " 'Rs. 14999',\n",
       " 'Rs. 8995',\n",
       " 'Rs. 8992',\n",
       " 'Rs. 8999',\n",
       " 'Rs. 7799',\n",
       " 'Rs. 11199',\n",
       " 'Rs. 8995',\n",
       " 'Rs. 7649',\n",
       " 'Rs. 7999',\n",
       " 'Rs. 10499',\n",
       " 'Rs. 11242',\n",
       " 'Rs. 12320',\n",
       " 'Rs. 7867',\n",
       " 'Rs. 9770',\n",
       " 'Rs. 13599',\n",
       " 'Rs. 13599',\n",
       " 'Rs. 9513',\n",
       " 'Rs. 9770',\n",
       " 'Rs. 8792',\n",
       " 'Rs. 9996',\n",
       " 'Rs. 7900',\n",
       " 'Rs. 11199',\n",
       " 'Rs. 7999',\n",
       " 'Rs. 7999',\n",
       " 'Rs. 10799',\n",
       " 'Rs. 9599']"
      ]
     },
     "execution_count": 569,
     "metadata": {},
     "output_type": "execute_result"
    }
   ],
   "source": [
    "price[:50]"
   ]
  },
  {
   "cell_type": "markdown",
   "metadata": {},
   "source": []
  },
  {
   "cell_type": "markdown",
   "metadata": {},
   "source": [
    "# Q10"
   ]
  },
  {
   "cell_type": "code",
   "execution_count": 617,
   "metadata": {},
   "outputs": [],
   "source": [
    "#Lets first connect to the webdriver\n",
    "driver=webdriver.Chrome(\"chromedriver.exe\")"
   ]
  },
  {
   "cell_type": "code",
   "execution_count": 618,
   "metadata": {},
   "outputs": [],
   "source": [
    "#webpage https://www.amazon.in/\n",
    "#set CPU Type filter to “Intel Core i7” and “Intel Core i9”\n",
    "#scrape first 10 laptops data.we have to scrape 3 attributes for each laptop:\n",
    "#1. title\n",
    "#2. Ratings\n",
    "#3. Price\n",
    "\n",
    "url='https://www.amazon.in/'\n",
    "driver.get(url)"
   ]
  },
  {
   "cell_type": "code",
   "execution_count": 619,
   "metadata": {},
   "outputs": [],
   "source": [
    "#find_element for job search bar\n",
    "search_job=driver.find_element_by_id('twotabsearchtextbox')\n",
    "search_job.send_keys('Laptop')"
   ]
  },
  {
   "cell_type": "code",
   "execution_count": 620,
   "metadata": {},
   "outputs": [],
   "source": [
    "#do click using id function\n",
    "search_btn=driver.find_element_by_id('nav-search-submit-button')\n",
    "search_btn.click()"
   ]
  },
  {
   "cell_type": "code",
   "execution_count": 621,
   "metadata": {},
   "outputs": [],
   "source": [
    "#Locating the \"Intel Core i7” filter\n",
    "filter_button=driver.find_elements_by_xpath(\"//a[@class='a-link-normal s-navigation-item']\")\n",
    "for i in filter_button:\n",
    "    if i.text=='Intel Core i7':\n",
    "        i.click()\n",
    "        break"
   ]
  },
  {
   "cell_type": "code",
   "execution_count": 622,
   "metadata": {},
   "outputs": [],
   "source": [
    "#defining variables\n",
    "title=[]\n",
    "ratings_list=[]\n",
    "price=[]"
   ]
  },
  {
   "cell_type": "code",
   "execution_count": 623,
   "metadata": {},
   "outputs": [],
   "source": [
    "#extract all the tags and then extracting the text from these tags one by one by looping over these tags\n",
    "for i in driver.find_elements_by_xpath('//h2[@class=\"a-size-mini a-spacing-none a-color-base s-line-clamp-2\"]'):\n",
    "    title.append(i.text)\n",
    "for j in driver.find_elements_by_xpath('//i[@class=\"a-icon a-icon-star-small a-star-small-4-5 aok-align-bottom\"]'):\n",
    "    ratings_list.append(j.text)\n",
    "for k in driver.find_elements_by_xpath('//span[@class=\"a-price\"]'):\n",
    "    price.append(k.text)"
   ]
  },
  {
   "cell_type": "code",
   "execution_count": 624,
   "metadata": {},
   "outputs": [
    {
     "data": {
      "text/plain": [
       "['Lenovo IdeaPad Flex 5 11th Gen Intel Core i7 14-inch FHD IPS 2-in-1 Touchscreen Laptop (16GB/512GB SSD/Win 10/Office 2019/Lenovo Digital Pen Stylus/Fingerprint Reader/Graphite Grey/1.5Kg), 82HS0092IN',\n",
       " 'Lenovo Yoga Slim 7 10th Gen Intel Core i7 14 inch Full HD IPS Thin and Light Laptop (8GB/512GB SSD/Windows 10/MS Office 2019/NVIDIA MX350 2GB GDDR5 Graphics/Slate Grey/1.55Kg), 82A1009KIN',\n",
       " 'Mi Notebook Horizon Edition 14 Intel Core i5-10210U 10th Gen 14-inch (35.56 cms) Thin and Light Laptop(8GB/512GB SSD/Windows 10/Nvidia MX350 2GB Graphics/Grey/1.35Kg), XMA1904-AR+Webcam',\n",
       " 'Lenovo Legion 5Pi 10th Gen Intel Core i7 15.6\" FHD Gaming Laptop (16GB/1TB SSD/Windows 10/MS Office 2019/144 Hz/NVIDIA RTX 2060 6GB GDDR6/with M300 RGB Gaming Mouse/Iron Grey/2.3Kg), 82AW005SIN',\n",
       " \"(Renewed) HP EliteBook 840 G3 Laptop (Core i7 6th Gen/8GB/500GB/WEBCAM/14'' Touch/DOS)\",\n",
       " 'Asus ROG Zephyrus S Ultra Slim Gaming Laptop, 15.6\" 144Hz IPS Type FHD, GeForce RTX 2070, Intel Core i7-8750H, 16GB DDR4, 512GB PCIe NVMe SSD, Aura Sync RGB, Windows 10, GX531GW-AS76',\n",
       " '(Renewed) Dell Intel 4th Gen Core i7 4600U 14-Inch (35.56 cms) 1366x768 Laptop (4 GB/256 GB SSD/Windows 10/MS Office Pro 2019 /Intel HD Graphics 4600/Silver/1.80 kg), Dell Lattitude E7440',\n",
       " 'CUK VivoBook K571 by ASUS 15 Inch Gaming Laptop (Intel Core i7, 16GB RAM, 256GB NVMe SSD + 1TB HDD, NVIDIA GeForce GTX 1650 Ti 4GB, 15.6\" FHD, Windows 10 Home) Thin Notebook Computer',\n",
       " 'Acer Nitro 5 Intel Core i7-9th Gen 17.3-inch Display 1920 x 1080 Gaming Laptop (8GB Ram/1 TB HDD/256 GB SSD/Window 10 Home/4GB NVIDIA GeForce GTX 1650 Graphics/Black), AN517-51',\n",
       " 'HP Pavilion (2021) Thin & Light 11th Gen Core i7 Laptop, 16 GB RAM, 1TB SSD, Iris Xe Graphics, 14\" (35.56cms) FHD Screen, Windows 10, MS Office, Backlit Keyboard (14-dv0058TU)']"
      ]
     },
     "execution_count": 624,
     "metadata": {},
     "output_type": "execute_result"
    }
   ],
   "source": [
    "title[:10]"
   ]
  },
  {
   "cell_type": "code",
   "execution_count": 625,
   "metadata": {},
   "outputs": [
    {
     "data": {
      "text/plain": [
       "['', '', '', '', '', '', '', '', '']"
      ]
     },
     "execution_count": 625,
     "metadata": {},
     "output_type": "execute_result"
    }
   ],
   "source": [
    "ratings_list[:10]"
   ]
  },
  {
   "cell_type": "code",
   "execution_count": 626,
   "metadata": {},
   "outputs": [
    {
     "data": {
      "text/plain": [
       "['₹83,990',\n",
       " '₹83,990',\n",
       " '₹49,999',\n",
       " '₹1,35,490',\n",
       " '₹49,999',\n",
       " '₹3,43,099',\n",
       " '₹39,999',\n",
       " '₹1,44,643',\n",
       " '₹69,990',\n",
       " '₹84,999']"
      ]
     },
     "execution_count": 626,
     "metadata": {},
     "output_type": "execute_result"
    }
   ],
   "source": [
    "price[:10]"
   ]
  },
  {
   "cell_type": "code",
   "execution_count": 632,
   "metadata": {},
   "outputs": [],
   "source": [
    "#do click using xpath\n",
    "clear_btn=driver.find_element_by_xpath('//a[@class=\"a-link-normal s-navigation-item s-navigation-clear-link\"]')\n",
    "clear_btn.click()"
   ]
  },
  {
   "cell_type": "code",
   "execution_count": 633,
   "metadata": {},
   "outputs": [],
   "source": [
    "#Locating the \"Intel Core i9” filter\n",
    "filter_button=driver.find_elements_by_xpath(\"//a[@class='a-link-normal s-navigation-item']\")\n",
    "for i in filter_button:\n",
    "    if i.text=='Intel Core i9':\n",
    "        i.click()\n",
    "        break"
   ]
  },
  {
   "cell_type": "code",
   "execution_count": 634,
   "metadata": {},
   "outputs": [],
   "source": [
    "#defining variables\n",
    "title=[]\n",
    "ratings_list=[]\n",
    "price=[]"
   ]
  },
  {
   "cell_type": "code",
   "execution_count": 648,
   "metadata": {},
   "outputs": [],
   "source": [
    "#extract all the tags and then extracting the text from these tags one by one by looping over these tags\n",
    "for i in driver.find_elements_by_xpath('//h2[@class=\"a-size-mini a-spacing-none a-color-base s-line-clamp-2\"]'):\n",
    "    title.append(i.text)\n",
    "for j in driver.find_elements_by_xpath('//i[@class=\"a-icon a-icon-star-small a-star-small-4-5 aok-align-bottom\"]'):\n",
    "    ratings_list.append(j.text)\n",
    "for k in driver.find_elements_by_xpath('//span[@class=\"a-price\"]'):\n",
    "    price.append(k.text)"
   ]
  },
  {
   "cell_type": "code",
   "execution_count": 636,
   "metadata": {},
   "outputs": [
    {
     "data": {
      "text/plain": [
       "['ASUS ZenBook Pro Duo Intel Core i9-10980HK 10th Gen 15.6\" 4K UHD OLED Touchscreen Laptop (32GB RAM/1TB NVMe SSD/Windows 10/6GB NVIDIA GeForce RTX 2060 Graphics/Celestial Blue/2.5 Kg), UX581LV-H2035T',\n",
       " 'Dell XPS 9570 15.6\" (39.62cms) UHD Laptop (8th Gen i9-8950HK/32GB/1TB SSD/Win 10 + MS Office/Integrated Graphics), Silver',\n",
       " 'Lenovo Legion 7 10th Gen Intel Core i9 15.6 inch Full HD Gaming Laptop (16GB/1TB SSD/Windows 10/MS Office 2019/144 Hz/NVIDIA RTX 2080 8GB GDDR6 Graphics/Slate Grey/2.25Kg), 81YU006HIN',\n",
       " 'ASUS ROG Zephyrus Duo 15, 15.6\" FHD 300Hz/3ms, Intel Core i9-10980HK 10th Gen, RTX 2080 SUPER Max-Q 8GB Graphic, Gaming Laptop (32GB/2TB RAID 0 SSD/Office 2019/Windows 10/Gray/2.4 Kg) GX550LXS-HF168TS',\n",
       " 'ASUS ROG Strix Scar 17 (2020), 17.3\" FHD 300Hz/3ms, Intel Core i9-10980HK 10th Gen, RTX 2080 Super GDDR6 8GB Graphics, Gaming Laptop (32GB/2TB RAID 0 SSD/Windows 10/Black/2.99 Kg), G732LXS-HG059T',\n",
       " 'ASUS ROG Strix Scar 15 (2020), 15.6\" FHD 300Hz/3ms, Intel Core i9-10980HK 10th Gen, RTX 2070 Super 8GB Graphics, Gaming Laptop (32GB RAM/1TB NVMe SSD/Windows 10/Black/2.35 Kg), G532LWS-HF079T',\n",
       " '(Renewed) Dell XPS 9570 Laptop|i9-8950HK|32GB DDR4|1TB SSD|15.6\" 4K Touch|NVIDIA GTX 1050Ti 4GB|Win 10 HSL|Backlit',\n",
       " 'Dell G7 7500 15.6inch FHD 300 Hz Display Gaming Laptop (10th Gen i9-10885H / 16 GB / 1TB SSD / NVIDIA RTX 2070 8GB Graphics / 1Yr Premium Warranty / Win 10 + MS Office H&S 2019) D560233WIN9B, Black',\n",
       " 'Apple MacBook Pro (16-inch, 16GB RAM, 1TB Storage, 2.3GHz 9th Gen Intel Core i9) - Silver',\n",
       " 'HP Z4 Workstation, Intel Core i9-7900X, RAM 32GB (4x8GB), 2TB Hard Disk, GFX NVIDIA Quadro P2000 5GB (4) DP, Windows 10 Pro, DVDRW, 3 Yrs Onsite Warranty by HP']"
      ]
     },
     "execution_count": 636,
     "metadata": {},
     "output_type": "execute_result"
    }
   ],
   "source": [
    "title[:10]"
   ]
  },
  {
   "cell_type": "code",
   "execution_count": 649,
   "metadata": {},
   "outputs": [
    {
     "data": {
      "text/plain": [
       "[]"
      ]
     },
     "execution_count": 649,
     "metadata": {},
     "output_type": "execute_result"
    }
   ],
   "source": [
    "ratings_list[:10]"
   ]
  },
  {
   "cell_type": "code",
   "execution_count": 640,
   "metadata": {},
   "outputs": [
    {
     "data": {
      "text/plain": [
       "['₹3,04,999',\n",
       " '₹2,48,790',\n",
       " '₹2,62,990',\n",
       " '₹2,66,990',\n",
       " '₹2,77,490',\n",
       " '₹2,15,990',\n",
       " '₹1,89,900',\n",
       " '₹2,00,690',\n",
       " '₹2,24,990',\n",
       " '₹2,69,900']"
      ]
     },
     "execution_count": 640,
     "metadata": {},
     "output_type": "execute_result"
    }
   ],
   "source": [
    "price[:10]"
   ]
  },
  {
   "cell_type": "code",
   "execution_count": null,
   "metadata": {},
   "outputs": [],
   "source": []
  }
 ],
 "metadata": {
  "kernelspec": {
   "display_name": "Python 3",
   "language": "python",
   "name": "python3"
  },
  "language_info": {
   "codemirror_mode": {
    "name": "ipython",
    "version": 3
   },
   "file_extension": ".py",
   "mimetype": "text/x-python",
   "name": "python",
   "nbconvert_exporter": "python",
   "pygments_lexer": "ipython3",
   "version": "3.8.3"
  }
 },
 "nbformat": 4,
 "nbformat_minor": 4
}
